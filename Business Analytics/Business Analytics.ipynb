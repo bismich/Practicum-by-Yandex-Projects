{
 "cells": [
  {
   "cell_type": "markdown",
   "metadata": {},
   "source": [
    "---"
   ]
  },
  {
   "cell_type": "markdown",
   "metadata": {},
   "source": [
    "<b>Project description </b>\n",
    "\n",
    "You've done beautifully in the Practicum course, and you've been offered an internship in the analytical department at Yandex.Afisha. Your first task is to help optimize marketing expenses.\n",
    "You have:\n",
    "•\tServer logs with data on Yandex.Afisha visits from June 2017 through May 2018\n",
    "\n",
    "•\tDump file with all orders for the period\n",
    "\n",
    "•\tMarketing expenses statistics\n",
    "\n",
    "You are going to study:\n",
    "\n",
    "•\tHow people use the product\n",
    "\n",
    "•\tWhen they start to buy\n",
    "\n",
    "•\tHow much money each customer brings\n",
    "\n",
    "•\tWhen they pay off\n"
   ]
  },
  {
   "cell_type": "markdown",
   "metadata": {},
   "source": [
    "#  1. Downloading and preparing the data for analysis"
   ]
  },
  {
   "cell_type": "code",
   "execution_count": 1,
   "metadata": {},
   "outputs": [],
   "source": [
    "#importing necessary libraries and reading data from csv files\n",
    "import pandas as pd\n",
    "import matplotlib.pyplot as plt\n",
    "import seaborn as sns\n",
    "import numpy as np\n",
    "plt.style.use(\"fivethirtyeight\")\n",
    "visits = pd.read_csv('/datasets/visits_log_us.csv' )\n",
    "orders = pd.read_csv('/datasets/orders_log_us.csv')\n",
    "costs = pd.read_csv('/datasets/costs_us.csv')\n",
    "\n",
    "import warnings\n",
    "warnings.filterwarnings('ignore')\n"
   ]
  },
  {
   "cell_type": "code",
   "execution_count": 2,
   "metadata": {},
   "outputs": [
    {
     "name": "stdout",
     "output_type": "stream",
     "text": [
      "<class 'pandas.core.frame.DataFrame'>\n",
      "RangeIndex: 359400 entries, 0 to 359399\n",
      "Data columns (total 5 columns):\n",
      "Device       359400 non-null object\n",
      "End Ts       359400 non-null object\n",
      "Source Id    359400 non-null int64\n",
      "Start Ts     359400 non-null object\n",
      "Uid          359400 non-null uint64\n",
      "dtypes: int64(1), object(3), uint64(1)\n",
      "memory usage: 13.7+ MB\n"
     ]
    }
   ],
   "source": [
    "visits.info()"
   ]
  },
  {
   "cell_type": "code",
   "execution_count": 3,
   "metadata": {},
   "outputs": [
    {
     "name": "stdout",
     "output_type": "stream",
     "text": [
      "<class 'pandas.core.frame.DataFrame'>\n",
      "RangeIndex: 50415 entries, 0 to 50414\n",
      "Data columns (total 3 columns):\n",
      "Buy Ts     50415 non-null object\n",
      "Revenue    50415 non-null float64\n",
      "Uid        50415 non-null uint64\n",
      "dtypes: float64(1), object(1), uint64(1)\n",
      "memory usage: 1.2+ MB\n"
     ]
    }
   ],
   "source": [
    "orders.info()"
   ]
  },
  {
   "cell_type": "code",
   "execution_count": 4,
   "metadata": {},
   "outputs": [
    {
     "name": "stdout",
     "output_type": "stream",
     "text": [
      "<class 'pandas.core.frame.DataFrame'>\n",
      "RangeIndex: 2542 entries, 0 to 2541\n",
      "Data columns (total 3 columns):\n",
      "source_id    2542 non-null int64\n",
      "dt           2542 non-null object\n",
      "costs        2542 non-null float64\n",
      "dtypes: float64(1), int64(1), object(1)\n",
      "memory usage: 59.7+ KB\n"
     ]
    }
   ],
   "source": [
    "costs.info()"
   ]
  },
  {
   "cell_type": "code",
   "execution_count": 5,
   "metadata": {},
   "outputs": [
    {
     "data": {
      "text/plain": [
       "Device       0\n",
       "End Ts       0\n",
       "Source Id    0\n",
       "Start Ts     0\n",
       "Uid          0\n",
       "dtype: int64"
      ]
     },
     "execution_count": 5,
     "metadata": {},
     "output_type": "execute_result"
    }
   ],
   "source": [
    "# checking for missing values\n",
    "visits.isnull().sum()\n",
    "#costs.isnull().sum()\n",
    "#orders.isnull().sum()"
   ]
  },
  {
   "cell_type": "code",
   "execution_count": 6,
   "metadata": {},
   "outputs": [
    {
     "data": {
      "text/plain": [
       "0"
      ]
     },
     "execution_count": 6,
     "metadata": {},
     "output_type": "execute_result"
    }
   ],
   "source": [
    "#visits.duplicated()\n",
    "costs.duplicated().sum()\n",
    "#orders.duplicated()"
   ]
  },
  {
   "cell_type": "markdown",
   "metadata": {},
   "source": [
    "<b>After pulling out the information from each dataframe, we can deternime that the date columns are not in correct DataFrame. Each data frame has between 3-5 columns. There are no duplicates and no null values (fairly easy to work with)</b>"
   ]
  },
  {
   "cell_type": "code",
   "execution_count": 7,
   "metadata": {},
   "outputs": [
    {
     "data": {
      "text/html": [
       "<div>\n",
       "<style scoped>\n",
       "    .dataframe tbody tr th:only-of-type {\n",
       "        vertical-align: middle;\n",
       "    }\n",
       "\n",
       "    .dataframe tbody tr th {\n",
       "        vertical-align: top;\n",
       "    }\n",
       "\n",
       "    .dataframe thead th {\n",
       "        text-align: right;\n",
       "    }\n",
       "</style>\n",
       "<table border=\"1\" class=\"dataframe\">\n",
       "  <thead>\n",
       "    <tr style=\"text-align: right;\">\n",
       "      <th></th>\n",
       "      <th>Device</th>\n",
       "      <th>End Ts</th>\n",
       "      <th>Source Id</th>\n",
       "      <th>Start Ts</th>\n",
       "      <th>Uid</th>\n",
       "    </tr>\n",
       "  </thead>\n",
       "  <tbody>\n",
       "    <tr>\n",
       "      <td>0</td>\n",
       "      <td>touch</td>\n",
       "      <td>2017-12-20 17:38:00</td>\n",
       "      <td>4</td>\n",
       "      <td>2017-12-20 17:20:00</td>\n",
       "      <td>16879256277535980062</td>\n",
       "    </tr>\n",
       "    <tr>\n",
       "      <td>1</td>\n",
       "      <td>desktop</td>\n",
       "      <td>2018-02-19 17:21:00</td>\n",
       "      <td>2</td>\n",
       "      <td>2018-02-19 16:53:00</td>\n",
       "      <td>104060357244891740</td>\n",
       "    </tr>\n",
       "    <tr>\n",
       "      <td>2</td>\n",
       "      <td>touch</td>\n",
       "      <td>2017-07-01 01:54:00</td>\n",
       "      <td>5</td>\n",
       "      <td>2017-07-01 01:54:00</td>\n",
       "      <td>7459035603376831527</td>\n",
       "    </tr>\n",
       "    <tr>\n",
       "      <td>3</td>\n",
       "      <td>desktop</td>\n",
       "      <td>2018-05-20 11:23:00</td>\n",
       "      <td>9</td>\n",
       "      <td>2018-05-20 10:59:00</td>\n",
       "      <td>16174680259334210214</td>\n",
       "    </tr>\n",
       "    <tr>\n",
       "      <td>4</td>\n",
       "      <td>desktop</td>\n",
       "      <td>2017-12-27 14:06:00</td>\n",
       "      <td>3</td>\n",
       "      <td>2017-12-27 14:06:00</td>\n",
       "      <td>9969694820036681168</td>\n",
       "    </tr>\n",
       "  </tbody>\n",
       "</table>\n",
       "</div>"
      ],
      "text/plain": [
       "    Device               End Ts  Source Id             Start Ts  \\\n",
       "0    touch  2017-12-20 17:38:00          4  2017-12-20 17:20:00   \n",
       "1  desktop  2018-02-19 17:21:00          2  2018-02-19 16:53:00   \n",
       "2    touch  2017-07-01 01:54:00          5  2017-07-01 01:54:00   \n",
       "3  desktop  2018-05-20 11:23:00          9  2018-05-20 10:59:00   \n",
       "4  desktop  2017-12-27 14:06:00          3  2017-12-27 14:06:00   \n",
       "\n",
       "                    Uid  \n",
       "0  16879256277535980062  \n",
       "1    104060357244891740  \n",
       "2   7459035603376831527  \n",
       "3  16174680259334210214  \n",
       "4   9969694820036681168  "
      ]
     },
     "execution_count": 7,
     "metadata": {},
     "output_type": "execute_result"
    }
   ],
   "source": [
    "#printing first few rows of visits dataframe\n",
    "visits.head()"
   ]
  },
  {
   "cell_type": "code",
   "execution_count": 8,
   "metadata": {},
   "outputs": [
    {
     "data": {
      "text/html": [
       "<div>\n",
       "<style scoped>\n",
       "    .dataframe tbody tr th:only-of-type {\n",
       "        vertical-align: middle;\n",
       "    }\n",
       "\n",
       "    .dataframe tbody tr th {\n",
       "        vertical-align: top;\n",
       "    }\n",
       "\n",
       "    .dataframe thead th {\n",
       "        text-align: right;\n",
       "    }\n",
       "</style>\n",
       "<table border=\"1\" class=\"dataframe\">\n",
       "  <thead>\n",
       "    <tr style=\"text-align: right;\">\n",
       "      <th></th>\n",
       "      <th>Buy Ts</th>\n",
       "      <th>Revenue</th>\n",
       "      <th>Uid</th>\n",
       "    </tr>\n",
       "  </thead>\n",
       "  <tbody>\n",
       "    <tr>\n",
       "      <td>0</td>\n",
       "      <td>2017-06-01 00:10:00</td>\n",
       "      <td>17.00</td>\n",
       "      <td>10329302124590727494</td>\n",
       "    </tr>\n",
       "    <tr>\n",
       "      <td>1</td>\n",
       "      <td>2017-06-01 00:25:00</td>\n",
       "      <td>0.55</td>\n",
       "      <td>11627257723692907447</td>\n",
       "    </tr>\n",
       "    <tr>\n",
       "      <td>2</td>\n",
       "      <td>2017-06-01 00:27:00</td>\n",
       "      <td>0.37</td>\n",
       "      <td>17903680561304213844</td>\n",
       "    </tr>\n",
       "    <tr>\n",
       "      <td>3</td>\n",
       "      <td>2017-06-01 00:29:00</td>\n",
       "      <td>0.55</td>\n",
       "      <td>16109239769442553005</td>\n",
       "    </tr>\n",
       "    <tr>\n",
       "      <td>4</td>\n",
       "      <td>2017-06-01 07:58:00</td>\n",
       "      <td>0.37</td>\n",
       "      <td>14200605875248379450</td>\n",
       "    </tr>\n",
       "  </tbody>\n",
       "</table>\n",
       "</div>"
      ],
      "text/plain": [
       "                Buy Ts  Revenue                   Uid\n",
       "0  2017-06-01 00:10:00    17.00  10329302124590727494\n",
       "1  2017-06-01 00:25:00     0.55  11627257723692907447\n",
       "2  2017-06-01 00:27:00     0.37  17903680561304213844\n",
       "3  2017-06-01 00:29:00     0.55  16109239769442553005\n",
       "4  2017-06-01 07:58:00     0.37  14200605875248379450"
      ]
     },
     "execution_count": 8,
     "metadata": {},
     "output_type": "execute_result"
    }
   ],
   "source": [
    "#printing first few rows of orders dataframe\n",
    "orders.head()"
   ]
  },
  {
   "cell_type": "code",
   "execution_count": 9,
   "metadata": {},
   "outputs": [
    {
     "data": {
      "text/html": [
       "<div>\n",
       "<style scoped>\n",
       "    .dataframe tbody tr th:only-of-type {\n",
       "        vertical-align: middle;\n",
       "    }\n",
       "\n",
       "    .dataframe tbody tr th {\n",
       "        vertical-align: top;\n",
       "    }\n",
       "\n",
       "    .dataframe thead th {\n",
       "        text-align: right;\n",
       "    }\n",
       "</style>\n",
       "<table border=\"1\" class=\"dataframe\">\n",
       "  <thead>\n",
       "    <tr style=\"text-align: right;\">\n",
       "      <th></th>\n",
       "      <th>source_id</th>\n",
       "      <th>dt</th>\n",
       "      <th>costs</th>\n",
       "    </tr>\n",
       "  </thead>\n",
       "  <tbody>\n",
       "    <tr>\n",
       "      <td>0</td>\n",
       "      <td>1</td>\n",
       "      <td>2017-06-01</td>\n",
       "      <td>75.20</td>\n",
       "    </tr>\n",
       "    <tr>\n",
       "      <td>1</td>\n",
       "      <td>1</td>\n",
       "      <td>2017-06-02</td>\n",
       "      <td>62.25</td>\n",
       "    </tr>\n",
       "    <tr>\n",
       "      <td>2</td>\n",
       "      <td>1</td>\n",
       "      <td>2017-06-03</td>\n",
       "      <td>36.53</td>\n",
       "    </tr>\n",
       "    <tr>\n",
       "      <td>3</td>\n",
       "      <td>1</td>\n",
       "      <td>2017-06-04</td>\n",
       "      <td>55.00</td>\n",
       "    </tr>\n",
       "    <tr>\n",
       "      <td>4</td>\n",
       "      <td>1</td>\n",
       "      <td>2017-06-05</td>\n",
       "      <td>57.08</td>\n",
       "    </tr>\n",
       "  </tbody>\n",
       "</table>\n",
       "</div>"
      ],
      "text/plain": [
       "   source_id          dt  costs\n",
       "0          1  2017-06-01  75.20\n",
       "1          1  2017-06-02  62.25\n",
       "2          1  2017-06-03  36.53\n",
       "3          1  2017-06-04  55.00\n",
       "4          1  2017-06-05  57.08"
      ]
     },
     "execution_count": 9,
     "metadata": {},
     "output_type": "execute_result"
    }
   ],
   "source": [
    "##printing first few rows of orders dataframe\n",
    "costs.head()"
   ]
  },
  {
   "cell_type": "markdown",
   "metadata": {},
   "source": [
    "<b>The information we can extract from the skeleton of these tables is that Visists and orders can be join by Uid but costs seams a bit isolated</b>"
   ]
  },
  {
   "cell_type": "code",
   "execution_count": 10,
   "metadata": {},
   "outputs": [],
   "source": [
    "# making columns lowercase\n",
    "visits.columns = visits.columns.str.lower()\n",
    "orders.columns = orders.columns.str.lower()\n",
    "costs.columns = costs.columns.str.lower()"
   ]
  },
  {
   "cell_type": "code",
   "execution_count": 11,
   "metadata": {},
   "outputs": [],
   "source": [
    "#changing data types of columns\n",
    "visits['start ts'] =  pd.to_datetime(visits['start ts'], format=\"%Y.%m.%d %H:%M\")\n",
    "visits['end ts'] =  pd.to_datetime(visits['end ts'], format=\"%Y.%m.%d %H:%M\") \n",
    "orders['Buy ts'] =  pd.to_datetime(orders['buy ts'], format=\"%Y.%m.%d %H:%M\")\n",
    "costs['dt']=  pd.to_datetime(costs['dt'], format=\"%Y.%m.%d\")"
   ]
  },
  {
   "cell_type": "code",
   "execution_count": 12,
   "metadata": {},
   "outputs": [],
   "source": [
    "#Changing the data types and creating year, month and week columns\n",
    "visits['year']  = visits['start ts'].dt.year\n",
    "visits['month'] = visits['start ts'].dt.month\n",
    "visits['week'] = visits['start ts'].dt.week\n",
    "visits['day'] = visits['start ts'].dt.date"
   ]
  },
  {
   "cell_type": "code",
   "execution_count": 13,
   "metadata": {},
   "outputs": [],
   "source": [
    "visits['device'] = visits['device'].astype('category')"
   ]
  },
  {
   "cell_type": "markdown",
   "metadata": {},
   "source": [
    "# 2. Making reports and calculating metrics:"
   ]
  },
  {
   "cell_type": "markdown",
   "metadata": {},
   "source": [
    "## Product:\n",
    "<ul>\n",
    "<li>How many people use it every day, week, and month?</li>\n",
    "<li>How many sessions are there per day?</li>\n",
    "<li>What is the length of each session?</li>\n",
    "<li>How often do users come back?</li>\n"
   ]
  },
  {
   "cell_type": "markdown",
   "metadata": {},
   "source": [
    "### How many people use it every day, week, and month?"
   ]
  },
  {
   "cell_type": "markdown",
   "metadata": {},
   "source": [
    "<div> Determning User Activity<br>\n",
    "\n",
    "DAU — the number of daily active (unique) users<br>\n",
    "WAU — the number of weekly active users<br>\n",
    "MAU — the number of monthly active users</div>"
   ]
  },
  {
   "cell_type": "code",
   "execution_count": 14,
   "metadata": {},
   "outputs": [],
   "source": [
    "mau = visits.groupby(['year','month']).agg({'uid': 'nunique'}).reset_index()\n",
    "mau_total = mau.uid.mean()\n",
    "dau = visits.groupby('day').agg({'uid': 'nunique'}).reset_index()\n",
    "dau_total = dau.uid.mean()\n",
    "wau = visits.groupby(['year', 'week']).agg({'uid': 'nunique'}).reset_index()\n",
    "wau_total = wau.uid.mean()"
   ]
  },
  {
   "cell_type": "code",
   "execution_count": 15,
   "metadata": {},
   "outputs": [
    {
     "name": "stdout",
     "output_type": "stream",
     "text": [
      "Average visits per month: 23228\n",
      "Average visits per week: 5716\n",
      "Average visits per day: 908\n"
     ]
    }
   ],
   "source": [
    "print('Average visits per month: {}'.format(round(mau_total)))\n",
    "print('Average visits per week: {}'.format(round(wau_total)))\n",
    "print('Average visits per day: {}'.format(round(dau_total)))"
   ]
  },
  {
   "cell_type": "markdown",
   "metadata": {},
   "source": [
    "This is a very normal pace for any healthy business"
   ]
  },
  {
   "cell_type": "markdown",
   "metadata": {},
   "source": [
    "### How many sessions are there per day?"
   ]
  },
  {
   "cell_type": "code",
   "execution_count": 16,
   "metadata": {},
   "outputs": [
    {
     "name": "stdout",
     "output_type": "stream",
     "text": [
      "Average sessions per day: 987\n"
     ]
    }
   ],
   "source": [
    "# let's determine the sessions per day\n",
    "sessions_per_day = visits.groupby('day').agg({'uid': 'count'}).reset_index()\n",
    "avg_sessions_per_day = sessions_per_day.mean()\n",
    "print('Average sessions per day: {}'.format(int(avg_sessions_per_day)))"
   ]
  },
  {
   "cell_type": "code",
   "execution_count": 17,
   "metadata": {},
   "outputs": [
    {
     "name": "stdout",
     "output_type": "stream",
     "text": [
      "Average number of sessions per user: uid    1.087414\n",
      "dtype: float64\n"
     ]
    }
   ],
   "source": [
    "# Average number of sessions per user\n",
    "avg_session_per_user = avg_sessions_per_day/dau_total\n",
    "print('Average number of sessions per user: {}'.format(avg_session_per_user))"
   ]
  },
  {
   "cell_type": "code",
   "execution_count": 18,
   "metadata": {},
   "outputs": [
    {
     "name": "stdout",
     "output_type": "stream",
     "text": [
      "Average number of sessions per user from touch: 266\n"
     ]
    }
   ],
   "source": [
    "# Average number of sessions per user for the touch device\n",
    "avg_sessions_touch = visits[visits['device']=='touch'].groupby('day').agg({'uid': 'count'}).mean()\n",
    "print('Average number of sessions per user from touch: {}'.format(int(avg_sessions_touch)))"
   ]
  },
  {
   "cell_type": "code",
   "execution_count": 19,
   "metadata": {
    "scrolled": true
   },
   "outputs": [
    {
     "name": "stdout",
     "output_type": "stream",
     "text": [
      "Average number of sessions per user from desktop: 721\n"
     ]
    }
   ],
   "source": [
    "# Average number of sessions per user for the Desktop device\n",
    "avg_sessions_desktop = visits[visits['device']=='desktop'].groupby('day').agg({'uid': 'count'}).mean()\n",
    "print('Average number of sessions per user from desktop: {}'.format(int(avg_sessions_desktop)))\n"
   ]
  },
  {
   "cell_type": "markdown",
   "metadata": {},
   "source": [
    "<b>Brief Conclusion:<b><br>\n",
    "Users clearly prefer Desktop devices over the touch ones. Either it's a preference or a technical issue with the touch ( This needs to be investigated) \n"
   ]
  },
  {
   "cell_type": "markdown",
   "metadata": {},
   "source": [
    "---------------------------------------------------------------------------------------------------------------------------"
   ]
  },
  {
   "cell_type": "markdown",
   "metadata": {},
   "source": [
    "### What is the length of each session?"
   ]
  },
  {
   "cell_type": "code",
   "execution_count": 20,
   "metadata": {
    "scrolled": true
   },
   "outputs": [
    {
     "data": {
      "image/png": "[encoded data removed]",
      "text/plain": [
       "<Figure size 432x288 with 1 Axes>"
      ]
     },
     "metadata": {},
     "output_type": "display_data"
    },
    {
     "name": "stdout",
     "output_type": "stream",
     "text": [
      "the mean duration is 11 minutes\n"
     ]
    }
   ],
   "source": [
    "visits['session_duration_sec'] = (visits['end ts'] - visits['start ts']).dt.seconds\n",
    "visits = visits[visits['session_duration_sec']!= 0]\n",
    "visits['session_duration_sec'].hist(bins=25)\n",
    "plt.title('Duration in seconds')\n",
    "plt.xlabel('Visits')\n",
    "plt.ylabel('Seconds')\n",
    "asl = visits['session_duration_sec'].mode()\n",
    "plt.show()\n",
    "asl_mean = int(visits['session_duration_sec'].mean()/60)\n",
    "print('the mean duration is {} minutes'.format(asl_mean))"
   ]
  },
  {
   "cell_type": "code",
   "execution_count": 21,
   "metadata": {},
   "outputs": [
    {
     "name": "stdout",
     "output_type": "stream",
     "text": [
      "The Mode for the Session Length is: 0    60\n",
      "dtype: int64\n"
     ]
    }
   ],
   "source": [
    "print(\"The Mode for the Session Length is:\", visits['session_duration_sec'].mode())"
   ]
  },
  {
   "cell_type": "code",
   "execution_count": 22,
   "metadata": {},
   "outputs": [
    {
     "name": "stdout",
     "output_type": "stream",
     "text": [
      "The Median for the Session Length is: 360.0\n"
     ]
    }
   ],
   "source": [
    "print(\"The Median for the Session Length is:\", visits['session_duration_sec'].median())"
   ]
  },
  {
   "cell_type": "markdown",
   "metadata": {},
   "source": [
    "This is NOT a normal distribution therefore the mean is not the prefered metric"
   ]
  },
  {
   "cell_type": "code",
   "execution_count": 23,
   "metadata": {
    "scrolled": false
   },
   "outputs": [
    {
     "data": {
      "image/png": "[encoded data removed]",
      "text/plain": [
       "<Figure size 432x288 with 1 Axes>"
      ]
     },
     "metadata": {},
     "output_type": "display_data"
    }
   ],
   "source": [
    "# Let's determine the session duration per seconds\n",
    "\n",
    "visits = visits[visits['session_duration_sec']!= 0]\n",
    "visits['session_duration_sec'].hist( bins=50, range=(0, 1000))\n",
    "plt.title('Duration in seconds')\n",
    "plt.xlabel('Visits')\n",
    "plt.ylabel('Seconds')\n",
    "plt.show()\n"
   ]
  },
  {
   "cell_type": "code",
   "execution_count": 24,
   "metadata": {
    "scrolled": true
   },
   "outputs": [
    {
     "data": {
      "text/html": [
       "<div>\n",
       "<style scoped>\n",
       "    .dataframe tbody tr th:only-of-type {\n",
       "        vertical-align: middle;\n",
       "    }\n",
       "\n",
       "    .dataframe tbody tr th {\n",
       "        vertical-align: top;\n",
       "    }\n",
       "\n",
       "    .dataframe thead th {\n",
       "        text-align: right;\n",
       "    }\n",
       "</style>\n",
       "<table border=\"1\" class=\"dataframe\">\n",
       "  <thead>\n",
       "    <tr style=\"text-align: right;\">\n",
       "      <th></th>\n",
       "      <th>device</th>\n",
       "      <th>session_duration_sec</th>\n",
       "    </tr>\n",
       "  </thead>\n",
       "  <tbody>\n",
       "    <tr>\n",
       "      <td>0</td>\n",
       "      <td>desktop</td>\n",
       "      <td>420</td>\n",
       "    </tr>\n",
       "    <tr>\n",
       "      <td>1</td>\n",
       "      <td>touch</td>\n",
       "      <td>240</td>\n",
       "    </tr>\n",
       "  </tbody>\n",
       "</table>\n",
       "</div>"
      ],
      "text/plain": [
       "    device  session_duration_sec\n",
       "0  desktop                   420\n",
       "1    touch                   240"
      ]
     },
     "execution_count": 24,
     "metadata": {},
     "output_type": "execute_result"
    }
   ],
   "source": [
    "# let's determine the session duration per devices ( based on median)\n",
    "device_dis=visits.groupby('device')['session_duration_sec'].median().reset_index()\n",
    "device_dis"
   ]
  },
  {
   "cell_type": "markdown",
   "metadata": {},
   "source": [
    "<b>Brief Conclusion:<b><br>\n",
    "Users spend more time on Desktops than touch devices \n"
   ]
  },
  {
   "cell_type": "markdown",
   "metadata": {},
   "source": [
    "-------------------------------------------------------------------------------------------------------------------------------"
   ]
  },
  {
   "cell_type": "markdown",
   "metadata": {},
   "source": [
    "### How often do users come back?"
   ]
  },
  {
   "cell_type": "code",
   "execution_count": 25,
   "metadata": {},
   "outputs": [
    {
     "data": {
      "text/html": [
       "<div>\n",
       "<style scoped>\n",
       "    .dataframe tbody tr th:only-of-type {\n",
       "        vertical-align: middle;\n",
       "    }\n",
       "\n",
       "    .dataframe tbody tr th {\n",
       "        vertical-align: top;\n",
       "    }\n",
       "\n",
       "    .dataframe thead th {\n",
       "        text-align: right;\n",
       "    }\n",
       "</style>\n",
       "<table border=\"1\" class=\"dataframe\">\n",
       "  <thead>\n",
       "    <tr style=\"text-align: right;\">\n",
       "      <th></th>\n",
       "      <th>device</th>\n",
       "      <th>end ts</th>\n",
       "      <th>source id</th>\n",
       "      <th>start ts</th>\n",
       "      <th>uid</th>\n",
       "      <th>year</th>\n",
       "      <th>month</th>\n",
       "      <th>week</th>\n",
       "      <th>day</th>\n",
       "      <th>session_duration_sec</th>\n",
       "    </tr>\n",
       "  </thead>\n",
       "  <tbody>\n",
       "    <tr>\n",
       "      <td>0</td>\n",
       "      <td>touch</td>\n",
       "      <td>2017-12-20 17:38:00</td>\n",
       "      <td>4</td>\n",
       "      <td>2017-12-20 17:20:00</td>\n",
       "      <td>16879256277535980062</td>\n",
       "      <td>2017</td>\n",
       "      <td>12</td>\n",
       "      <td>51</td>\n",
       "      <td>2017-12-20</td>\n",
       "      <td>1080</td>\n",
       "    </tr>\n",
       "    <tr>\n",
       "      <td>1</td>\n",
       "      <td>desktop</td>\n",
       "      <td>2018-02-19 17:21:00</td>\n",
       "      <td>2</td>\n",
       "      <td>2018-02-19 16:53:00</td>\n",
       "      <td>104060357244891740</td>\n",
       "      <td>2018</td>\n",
       "      <td>2</td>\n",
       "      <td>8</td>\n",
       "      <td>2018-02-19</td>\n",
       "      <td>1680</td>\n",
       "    </tr>\n",
       "    <tr>\n",
       "      <td>3</td>\n",
       "      <td>desktop</td>\n",
       "      <td>2018-05-20 11:23:00</td>\n",
       "      <td>9</td>\n",
       "      <td>2018-05-20 10:59:00</td>\n",
       "      <td>16174680259334210214</td>\n",
       "      <td>2018</td>\n",
       "      <td>5</td>\n",
       "      <td>20</td>\n",
       "      <td>2018-05-20</td>\n",
       "      <td>1440</td>\n",
       "    </tr>\n",
       "  </tbody>\n",
       "</table>\n",
       "</div>"
      ],
      "text/plain": [
       "    device              end ts  source id            start ts  \\\n",
       "0    touch 2017-12-20 17:38:00          4 2017-12-20 17:20:00   \n",
       "1  desktop 2018-02-19 17:21:00          2 2018-02-19 16:53:00   \n",
       "3  desktop 2018-05-20 11:23:00          9 2018-05-20 10:59:00   \n",
       "\n",
       "                    uid  year  month  week         day  session_duration_sec  \n",
       "0  16879256277535980062  2017     12    51  2017-12-20                  1080  \n",
       "1    104060357244891740  2018      2     8  2018-02-19                  1680  \n",
       "3  16174680259334210214  2018      5    20  2018-05-20                  1440  "
      ]
     },
     "execution_count": 25,
     "metadata": {},
     "output_type": "execute_result"
    }
   ],
   "source": [
    "visit = visits[['day', 'uid']]\n",
    "visits.head(3)"
   ]
  },
  {
   "cell_type": "code",
   "execution_count": 26,
   "metadata": {
    "scrolled": true
   },
   "outputs": [
    {
     "data": {
      "text/html": [
       "<div>\n",
       "<style scoped>\n",
       "    .dataframe tbody tr th:only-of-type {\n",
       "        vertical-align: middle;\n",
       "    }\n",
       "\n",
       "    .dataframe tbody tr th {\n",
       "        vertical-align: top;\n",
       "    }\n",
       "\n",
       "    .dataframe thead th {\n",
       "        text-align: right;\n",
       "    }\n",
       "</style>\n",
       "<table border=\"1\" class=\"dataframe\">\n",
       "  <thead>\n",
       "    <tr style=\"text-align: right;\">\n",
       "      <th></th>\n",
       "      <th>uid</th>\n",
       "      <th>first_user_visit</th>\n",
       "    </tr>\n",
       "  </thead>\n",
       "  <tbody>\n",
       "    <tr>\n",
       "      <td>0</td>\n",
       "      <td>11863502262781</td>\n",
       "      <td>2018-03-01</td>\n",
       "    </tr>\n",
       "    <tr>\n",
       "      <td>1</td>\n",
       "      <td>49537067089222</td>\n",
       "      <td>2018-02-06</td>\n",
       "    </tr>\n",
       "    <tr>\n",
       "      <td>2</td>\n",
       "      <td>297729379853735</td>\n",
       "      <td>2017-06-07</td>\n",
       "    </tr>\n",
       "    <tr>\n",
       "      <td>3</td>\n",
       "      <td>313578113262317</td>\n",
       "      <td>2017-09-18</td>\n",
       "    </tr>\n",
       "    <tr>\n",
       "      <td>4</td>\n",
       "      <td>325320750514679</td>\n",
       "      <td>2017-09-30</td>\n",
       "    </tr>\n",
       "  </tbody>\n",
       "</table>\n",
       "</div>"
      ],
      "text/plain": [
       "               uid first_user_visit\n",
       "0   11863502262781       2018-03-01\n",
       "1   49537067089222       2018-02-06\n",
       "2  297729379853735       2017-06-07\n",
       "3  313578113262317       2017-09-18\n",
       "4  325320750514679       2017-09-30"
      ]
     },
     "execution_count": 26,
     "metadata": {},
     "output_type": "execute_result"
    }
   ],
   "source": [
    "# creating a first user visit table\n",
    "visits['day'] = pd.to_datetime(visits['day'])\n",
    "first_user_visit = visits.groupby(['uid'])['day'].min().reset_index()\n",
    "first_user_visit.columns = ['uid', 'first_user_visit']\n",
    "first_user_visit.head(5)"
   ]
  },
  {
   "cell_type": "code",
   "execution_count": 27,
   "metadata": {},
   "outputs": [],
   "source": [
    "# let's join the visits and first user visits tables and convert their data types \n",
    "visits_1st_visit = visits.join(first_user_visit.set_index('uid'), on= 'uid')\n",
    "visits_1st_visit['first_user_visit'] = visits_1st_visit['first_user_visit'].astype('datetime64[M]')\n",
    "visits_1st_visit['visit_month'] = visits_1st_visit['day'].astype('datetime64[M]') "
   ]
  },
  {
   "cell_type": "code",
   "execution_count": 28,
   "metadata": {},
   "outputs": [
    {
     "data": {
      "text/html": [
       "<div>\n",
       "<style scoped>\n",
       "    .dataframe tbody tr th:only-of-type {\n",
       "        vertical-align: middle;\n",
       "    }\n",
       "\n",
       "    .dataframe tbody tr th {\n",
       "        vertical-align: top;\n",
       "    }\n",
       "\n",
       "    .dataframe thead th {\n",
       "        text-align: right;\n",
       "    }\n",
       "</style>\n",
       "<table border=\"1\" class=\"dataframe\">\n",
       "  <thead>\n",
       "    <tr style=\"text-align: right;\">\n",
       "      <th></th>\n",
       "      <th>first_user_visit</th>\n",
       "      <th>visit_month</th>\n",
       "      <th>uid</th>\n",
       "      <th>cohort_lifetime</th>\n",
       "    </tr>\n",
       "  </thead>\n",
       "  <tbody>\n",
       "    <tr>\n",
       "      <td>0</td>\n",
       "      <td>2017-06-01</td>\n",
       "      <td>2017-06-01</td>\n",
       "      <td>11885</td>\n",
       "      <td>0 days</td>\n",
       "    </tr>\n",
       "    <tr>\n",
       "      <td>1</td>\n",
       "      <td>2017-06-01</td>\n",
       "      <td>2017-07-01</td>\n",
       "      <td>900</td>\n",
       "      <td>30 days</td>\n",
       "    </tr>\n",
       "    <tr>\n",
       "      <td>2</td>\n",
       "      <td>2017-06-01</td>\n",
       "      <td>2017-08-01</td>\n",
       "      <td>606</td>\n",
       "      <td>61 days</td>\n",
       "    </tr>\n",
       "    <tr>\n",
       "      <td>3</td>\n",
       "      <td>2017-06-01</td>\n",
       "      <td>2017-09-01</td>\n",
       "      <td>710</td>\n",
       "      <td>92 days</td>\n",
       "    </tr>\n",
       "    <tr>\n",
       "      <td>4</td>\n",
       "      <td>2017-06-01</td>\n",
       "      <td>2017-10-01</td>\n",
       "      <td>777</td>\n",
       "      <td>122 days</td>\n",
       "    </tr>\n",
       "    <tr>\n",
       "      <td>5</td>\n",
       "      <td>2017-06-01</td>\n",
       "      <td>2017-11-01</td>\n",
       "      <td>802</td>\n",
       "      <td>153 days</td>\n",
       "    </tr>\n",
       "    <tr>\n",
       "      <td>6</td>\n",
       "      <td>2017-06-01</td>\n",
       "      <td>2017-12-01</td>\n",
       "      <td>686</td>\n",
       "      <td>183 days</td>\n",
       "    </tr>\n",
       "  </tbody>\n",
       "</table>\n",
       "</div>"
      ],
      "text/plain": [
       "  first_user_visit visit_month    uid cohort_lifetime\n",
       "0       2017-06-01  2017-06-01  11885          0 days\n",
       "1       2017-06-01  2017-07-01    900         30 days\n",
       "2       2017-06-01  2017-08-01    606         61 days\n",
       "3       2017-06-01  2017-09-01    710         92 days\n",
       "4       2017-06-01  2017-10-01    777        122 days\n",
       "5       2017-06-01  2017-11-01    802        153 days\n",
       "6       2017-06-01  2017-12-01    686        183 days"
      ]
     },
     "execution_count": 28,
     "metadata": {},
     "output_type": "execute_result"
    }
   ],
   "source": [
    "# let's create on cohort_lifetime\n",
    "\n",
    "visits_cohorts = visits_1st_visit.groupby(['first_user_visit','visit_month']).agg({'uid':'nunique'}).reset_index()\n",
    "visits_cohorts['cohort_lifetime'] = visits_cohorts['visit_month'] - visits_cohorts['first_user_visit']\n",
    "visits_cohorts.head(7)"
   ]
  },
  {
   "cell_type": "code",
   "execution_count": 29,
   "metadata": {
    "scrolled": true
   },
   "outputs": [],
   "source": [
    "visits_cohorts['cohort_lifetime'] = visits_cohorts['cohort_lifetime'] / np.timedelta64(1,'M')\n",
    "visits_cohorts['cohort_lifetime'] =  visits_cohorts['cohort_lifetime'].round().astype('int')\n",
    "visits_cohorts['first_user_visit'] = visits_cohorts['first_user_visit'].dt.strftime('%Y-%m') \n",
    "\n",
    "\n"
   ]
  },
  {
   "cell_type": "code",
   "execution_count": 30,
   "metadata": {},
   "outputs": [],
   "source": [
    "cohorts = visits_cohorts"
   ]
  },
  {
   "cell_type": "code",
   "execution_count": 31,
   "metadata": {
    "scrolled": true
   },
   "outputs": [],
   "source": [
    "#sorting unique users \n",
    "first_users_count = cohorts[cohorts['cohort_lifetime'] == 0][['first_user_visit','uid']]\n",
    "first_users_count = first_users_count.rename(columns={'user_id':'cohort_customers'}) \n"
   ]
  },
  {
   "cell_type": "code",
   "execution_count": 32,
   "metadata": {},
   "outputs": [],
   "source": [
    "cohorts = cohorts.merge(first_users_count,on='first_user_visit')"
   ]
  },
  {
   "cell_type": "code",
   "execution_count": 33,
   "metadata": {},
   "outputs": [
    {
     "data": {
      "text/html": [
       "<div>\n",
       "<style scoped>\n",
       "    .dataframe tbody tr th:only-of-type {\n",
       "        vertical-align: middle;\n",
       "    }\n",
       "\n",
       "    .dataframe tbody tr th {\n",
       "        vertical-align: top;\n",
       "    }\n",
       "\n",
       "    .dataframe thead th {\n",
       "        text-align: right;\n",
       "    }\n",
       "</style>\n",
       "<table border=\"1\" class=\"dataframe\">\n",
       "  <thead>\n",
       "    <tr style=\"text-align: right;\">\n",
       "      <th></th>\n",
       "      <th>first_user_visit</th>\n",
       "      <th>visit_month</th>\n",
       "      <th>uid</th>\n",
       "      <th>cohort_lifetime</th>\n",
       "    </tr>\n",
       "  </thead>\n",
       "  <tbody>\n",
       "    <tr>\n",
       "      <td>0</td>\n",
       "      <td>2017-06</td>\n",
       "      <td>2017-06-01</td>\n",
       "      <td>11885</td>\n",
       "      <td>0</td>\n",
       "    </tr>\n",
       "    <tr>\n",
       "      <td>1</td>\n",
       "      <td>2017-06</td>\n",
       "      <td>2017-07-01</td>\n",
       "      <td>900</td>\n",
       "      <td>1</td>\n",
       "    </tr>\n",
       "    <tr>\n",
       "      <td>2</td>\n",
       "      <td>2017-06</td>\n",
       "      <td>2017-08-01</td>\n",
       "      <td>606</td>\n",
       "      <td>2</td>\n",
       "    </tr>\n",
       "  </tbody>\n",
       "</table>\n",
       "</div>"
      ],
      "text/plain": [
       "  first_user_visit visit_month    uid  cohort_lifetime\n",
       "0          2017-06  2017-06-01  11885                0\n",
       "1          2017-06  2017-07-01    900                1\n",
       "2          2017-06  2017-08-01    606                2"
      ]
     },
     "execution_count": 33,
     "metadata": {},
     "output_type": "execute_result"
    }
   ],
   "source": [
    "visits_cohorts.head(3)"
   ]
  },
  {
   "cell_type": "code",
   "execution_count": 34,
   "metadata": {},
   "outputs": [
    {
     "data": {
      "text/html": [
       "<div>\n",
       "<style scoped>\n",
       "    .dataframe tbody tr th:only-of-type {\n",
       "        vertical-align: middle;\n",
       "    }\n",
       "\n",
       "    .dataframe tbody tr th {\n",
       "        vertical-align: top;\n",
       "    }\n",
       "\n",
       "    .dataframe thead th {\n",
       "        text-align: right;\n",
       "    }\n",
       "</style>\n",
       "<table border=\"1\" class=\"dataframe\">\n",
       "  <thead>\n",
       "    <tr style=\"text-align: right;\">\n",
       "      <th></th>\n",
       "      <th>first_user_visit</th>\n",
       "      <th>visit_month</th>\n",
       "      <th>uid_month</th>\n",
       "      <th>cohort_lifetime</th>\n",
       "      <th>uid_init</th>\n",
       "    </tr>\n",
       "  </thead>\n",
       "  <tbody>\n",
       "    <tr>\n",
       "      <td>0</td>\n",
       "      <td>2017-06</td>\n",
       "      <td>2017-06-01</td>\n",
       "      <td>11885</td>\n",
       "      <td>0</td>\n",
       "      <td>11885</td>\n",
       "    </tr>\n",
       "    <tr>\n",
       "      <td>1</td>\n",
       "      <td>2017-06</td>\n",
       "      <td>2017-07-01</td>\n",
       "      <td>900</td>\n",
       "      <td>1</td>\n",
       "      <td>11885</td>\n",
       "    </tr>\n",
       "    <tr>\n",
       "      <td>2</td>\n",
       "      <td>2017-06</td>\n",
       "      <td>2017-08-01</td>\n",
       "      <td>606</td>\n",
       "      <td>2</td>\n",
       "      <td>11885</td>\n",
       "    </tr>\n",
       "    <tr>\n",
       "      <td>3</td>\n",
       "      <td>2017-06</td>\n",
       "      <td>2017-09-01</td>\n",
       "      <td>710</td>\n",
       "      <td>3</td>\n",
       "      <td>11885</td>\n",
       "    </tr>\n",
       "    <tr>\n",
       "      <td>4</td>\n",
       "      <td>2017-06</td>\n",
       "      <td>2017-10-01</td>\n",
       "      <td>777</td>\n",
       "      <td>4</td>\n",
       "      <td>11885</td>\n",
       "    </tr>\n",
       "  </tbody>\n",
       "</table>\n",
       "</div>"
      ],
      "text/plain": [
       "  first_user_visit visit_month  uid_month  cohort_lifetime  uid_init\n",
       "0          2017-06  2017-06-01      11885                0     11885\n",
       "1          2017-06  2017-07-01        900                1     11885\n",
       "2          2017-06  2017-08-01        606                2     11885\n",
       "3          2017-06  2017-09-01        710                3     11885\n",
       "4          2017-06  2017-10-01        777                4     11885"
      ]
     },
     "execution_count": 34,
     "metadata": {},
     "output_type": "execute_result"
    }
   ],
   "source": [
    "cohorts.columns = ['first_user_visit', 'visit_month', 'uid_month', 'cohort_lifetime', 'uid_init']\n",
    "cohorts.head() \n"
   ]
  },
  {
   "cell_type": "code",
   "execution_count": 35,
   "metadata": {},
   "outputs": [],
   "source": [
    "cohorts['retention'] = cohorts['uid_month']/cohorts['uid_init']\n",
    "retention_pivot = cohorts.pivot_table(index='first_user_visit',\n",
    "                                      columns='cohort_lifetime',\n",
    "                                      values='retention',\n",
    "                                      aggfunc='sum')"
   ]
  },
  {
   "cell_type": "code",
   "execution_count": 36,
   "metadata": {},
   "outputs": [
    {
     "data": {
      "image/png": "[encoded data removed]",
      "text/plain": [
       "<Figure size 1152x792 with 2 Axes>"
      ]
     },
     "metadata": {},
     "output_type": "display_data"
    }
   ],
   "source": [
    "sns.set(style='dark')\n",
    "plt.figure(figsize=(16, 11))\n",
    "plt.title('Cohorts: User Retention')\n",
    "sns.heatmap(retention_pivot, annot=True, fmt='.1%', vmax = .1, linewidths=1, linecolor='gray', cmap = 'summer'); "
   ]
  },
  {
   "cell_type": "markdown",
   "metadata": {},
   "source": [
    "It seems that a  small percentage users return even though each month we record a significant amount of new visitors. The highest retention happend in 09/2017"
   ]
  },
  {
   "cell_type": "markdown",
   "metadata": {},
   "source": [
    "*********************************************************************************************************************"
   ]
  },
  {
   "cell_type": "markdown",
   "metadata": {},
   "source": [
    "\n",
    "<b>Conclusion Product:<b><br>\n",
    "The business is getting steady traffic as the user metrics showed across all devices ( though led by Desktop devices).\n",
    "It it important to note that these sessions might have outliers. Sessions go from 00 secs to 4 hours - to get a more accurate number, an extended study maybe needed. \n",
    "The representation of the cohort analysis shows the average number of purchases per bueyr by lifetime mounth. We can see that visitors do not turn into buyers right away, it also shows which cohort is the most lucrative.The average number of purchases per customer grows overtime. The intersection between September and December 2017 has the highest number.\n",
    "It is now time to determine how many of those visitors who return often actually turn into customers and at which rate the start buying.\n"
   ]
  },
  {
   "cell_type": "markdown",
   "metadata": {},
   "source": [
    "## Sales\n",
    "<ul>\n",
    "<li>When do people start buying?</li>\n",
    "<li>How many orders do they make during a given period of time?</li>\n",
    "<li>What is the average purchase size?</li>\n",
    "<li>How much money do they bring? (LTV)</li>\n",
    "</ul>"
   ]
  },
  {
   "cell_type": "markdown",
   "metadata": {},
   "source": [
    "### When do people start buying?"
   ]
  },
  {
   "cell_type": "code",
   "execution_count": 37,
   "metadata": {
    "scrolled": true
   },
   "outputs": [
    {
     "data": {
      "text/html": [
       "<div>\n",
       "<style scoped>\n",
       "    .dataframe tbody tr th:only-of-type {\n",
       "        vertical-align: middle;\n",
       "    }\n",
       "\n",
       "    .dataframe tbody tr th {\n",
       "        vertical-align: top;\n",
       "    }\n",
       "\n",
       "    .dataframe thead th {\n",
       "        text-align: right;\n",
       "    }\n",
       "</style>\n",
       "<table border=\"1\" class=\"dataframe\">\n",
       "  <thead>\n",
       "    <tr style=\"text-align: right;\">\n",
       "      <th></th>\n",
       "      <th>uid</th>\n",
       "      <th>order_date</th>\n",
       "      <th>first_user_visit</th>\n",
       "    </tr>\n",
       "  </thead>\n",
       "  <tbody>\n",
       "    <tr>\n",
       "      <td>0</td>\n",
       "      <td>313578113262317</td>\n",
       "      <td>2018-01-01</td>\n",
       "      <td>2017-09-18</td>\n",
       "    </tr>\n",
       "    <tr>\n",
       "      <td>1</td>\n",
       "      <td>1575281904278712</td>\n",
       "      <td>2017-06-01</td>\n",
       "      <td>2017-06-03</td>\n",
       "    </tr>\n",
       "    <tr>\n",
       "      <td>2</td>\n",
       "      <td>2429014661409475</td>\n",
       "      <td>2017-10-01</td>\n",
       "      <td>2017-10-11</td>\n",
       "    </tr>\n",
       "    <tr>\n",
       "      <td>3</td>\n",
       "      <td>2464366381792757</td>\n",
       "      <td>2018-01-01</td>\n",
       "      <td>2018-01-27</td>\n",
       "    </tr>\n",
       "    <tr>\n",
       "      <td>4</td>\n",
       "      <td>2551852515556206</td>\n",
       "      <td>2017-11-01</td>\n",
       "      <td>2017-11-24</td>\n",
       "    </tr>\n",
       "    <tr>\n",
       "      <td>5</td>\n",
       "      <td>3077748354309989</td>\n",
       "      <td>2018-03-01</td>\n",
       "      <td>2018-03-03</td>\n",
       "    </tr>\n",
       "    <tr>\n",
       "      <td>6</td>\n",
       "      <td>3605148382144603</td>\n",
       "      <td>2017-09-01</td>\n",
       "      <td>2017-08-15</td>\n",
       "    </tr>\n",
       "    <tr>\n",
       "      <td>7</td>\n",
       "      <td>3753586865891862</td>\n",
       "      <td>2018-03-01</td>\n",
       "      <td>2018-03-03</td>\n",
       "    </tr>\n",
       "    <tr>\n",
       "      <td>8</td>\n",
       "      <td>4808417689019433</td>\n",
       "      <td>2018-01-01</td>\n",
       "      <td>2018-01-09</td>\n",
       "    </tr>\n",
       "    <tr>\n",
       "      <td>9</td>\n",
       "      <td>4992223027560440</td>\n",
       "      <td>2018-04-01</td>\n",
       "      <td>2018-04-04</td>\n",
       "    </tr>\n",
       "  </tbody>\n",
       "</table>\n",
       "</div>"
      ],
      "text/plain": [
       "                uid order_date first_user_visit\n",
       "0   313578113262317 2018-01-01       2017-09-18\n",
       "1  1575281904278712 2017-06-01       2017-06-03\n",
       "2  2429014661409475 2017-10-01       2017-10-11\n",
       "3  2464366381792757 2018-01-01       2018-01-27\n",
       "4  2551852515556206 2017-11-01       2017-11-24\n",
       "5  3077748354309989 2018-03-01       2018-03-03\n",
       "6  3605148382144603 2017-09-01       2017-08-15\n",
       "7  3753586865891862 2018-03-01       2018-03-03\n",
       "8  4808417689019433 2018-01-01       2018-01-09\n",
       "9  4992223027560440 2018-04-01       2018-04-04"
      ]
     },
     "execution_count": 37,
     "metadata": {},
     "output_type": "execute_result"
    }
   ],
   "source": [
    "# let's determine the orders based on visits \n",
    "orders['order_date'] = orders['buy ts'].astype('datetime64[M]')\n",
    "orders['order_date'] = pd.to_datetime(orders['order_date'])\n",
    "first_user_orders = orders.groupby(['uid'])['order_date'].min().reset_index()\n",
    "visit_orders = first_user_orders.merge(first_user_visit, on ='uid')\n",
    "#visit_orders['conversion'] = visit_orders['order_date'] - visit_orders['first_user_visit']\n",
    "#visit_orders['conversion'] = visit_orders['conversion'].dt.days.astype('int')\n",
    "visit_orders.head(10)"
   ]
  },
  {
   "cell_type": "markdown",
   "metadata": {},
   "source": [
    "Detefinetely not easy to tell - some days are more successfuly than others."
   ]
  },
  {
   "cell_type": "markdown",
   "metadata": {},
   "source": [
    "### How many orders do they make during a given period of time?"
   ]
  },
  {
   "cell_type": "code",
   "execution_count": 38,
   "metadata": {},
   "outputs": [
    {
     "data": {
      "text/html": [
       "<div>\n",
       "<style scoped>\n",
       "    .dataframe tbody tr th:only-of-type {\n",
       "        vertical-align: middle;\n",
       "    }\n",
       "\n",
       "    .dataframe tbody tr th {\n",
       "        vertical-align: top;\n",
       "    }\n",
       "\n",
       "    .dataframe thead th {\n",
       "        text-align: right;\n",
       "    }\n",
       "</style>\n",
       "<table border=\"1\" class=\"dataframe\">\n",
       "  <thead>\n",
       "    <tr style=\"text-align: right;\">\n",
       "      <th></th>\n",
       "      <th>order_month</th>\n",
       "      <th>order_date</th>\n",
       "    </tr>\n",
       "  </thead>\n",
       "  <tbody>\n",
       "    <tr>\n",
       "      <td>0</td>\n",
       "      <td>2017-06-01</td>\n",
       "      <td>2354</td>\n",
       "    </tr>\n",
       "    <tr>\n",
       "      <td>1</td>\n",
       "      <td>2017-07-01</td>\n",
       "      <td>2363</td>\n",
       "    </tr>\n",
       "    <tr>\n",
       "      <td>2</td>\n",
       "      <td>2017-08-01</td>\n",
       "      <td>1807</td>\n",
       "    </tr>\n",
       "    <tr>\n",
       "      <td>3</td>\n",
       "      <td>2017-09-01</td>\n",
       "      <td>3387</td>\n",
       "    </tr>\n",
       "    <tr>\n",
       "      <td>4</td>\n",
       "      <td>2017-10-01</td>\n",
       "      <td>5679</td>\n",
       "    </tr>\n",
       "    <tr>\n",
       "      <td>5</td>\n",
       "      <td>2017-11-01</td>\n",
       "      <td>5659</td>\n",
       "    </tr>\n",
       "    <tr>\n",
       "      <td>6</td>\n",
       "      <td>2017-12-01</td>\n",
       "      <td>6218</td>\n",
       "    </tr>\n",
       "    <tr>\n",
       "      <td>7</td>\n",
       "      <td>2018-01-01</td>\n",
       "      <td>4721</td>\n",
       "    </tr>\n",
       "    <tr>\n",
       "      <td>8</td>\n",
       "      <td>2018-02-01</td>\n",
       "      <td>5281</td>\n",
       "    </tr>\n",
       "    <tr>\n",
       "      <td>9</td>\n",
       "      <td>2018-03-01</td>\n",
       "      <td>5326</td>\n",
       "    </tr>\n",
       "  </tbody>\n",
       "</table>\n",
       "</div>"
      ],
      "text/plain": [
       "  order_month  order_date\n",
       "0  2017-06-01        2354\n",
       "1  2017-07-01        2363\n",
       "2  2017-08-01        1807\n",
       "3  2017-09-01        3387\n",
       "4  2017-10-01        5679\n",
       "5  2017-11-01        5659\n",
       "6  2017-12-01        6218\n",
       "7  2018-01-01        4721\n",
       "8  2018-02-01        5281\n",
       "9  2018-03-01        5326"
      ]
     },
     "execution_count": 38,
     "metadata": {},
     "output_type": "execute_result"
    }
   ],
   "source": [
    "orders['order_month'] = orders['order_date'].astype('datetime64[M]')\n",
    "\n",
    "orders['order_date'] = pd.to_datetime(orders['order_date'])\n",
    "orders_count = orders.groupby('order_month')['order_date'].count().reset_index()\n",
    "orders_count.head(10)"
   ]
  },
  {
   "cell_type": "markdown",
   "metadata": {},
   "source": [
    "### What is the average purchase size?"
   ]
  },
  {
   "cell_type": "code",
   "execution_count": 39,
   "metadata": {},
   "outputs": [
    {
     "data": {
      "text/plain": [
       "count    50415.000000\n",
       "mean         4.999647\n",
       "std         21.818359\n",
       "min          0.000000\n",
       "25%          1.220000\n",
       "50%          2.500000\n",
       "75%          4.890000\n",
       "max       2633.280000\n",
       "Name: revenue, dtype: float64"
      ]
     },
     "execution_count": 39,
     "metadata": {},
     "output_type": "execute_result"
    }
   ],
   "source": [
    "#let's describe the data in the order table\n",
    "orders.revenue.describe()"
   ]
  },
  {
   "cell_type": "code",
   "execution_count": 40,
   "metadata": {},
   "outputs": [
    {
     "data": {
      "text/plain": [
       "revenue    19389.015385\n",
       "dtype: float64"
      ]
     },
     "execution_count": 40,
     "metadata": {},
     "output_type": "execute_result"
    }
   ],
   "source": [
    "#let's determine the overall average order \n",
    "num_order_month = orders.groupby('order_month')['revenue'].sum().reset_index()\n",
    "num_order_month.mean()"
   ]
  },
  {
   "cell_type": "markdown",
   "metadata": {},
   "source": [
    "<b>Brief Conclusion:<b><br>\n",
    "Apperently the sites records 5 orders per day and 19389 orders per months - this is a bit off. It his important to note that the data might have outliers or some days are far more lucrative while the other days are at their absolute worst. "
   ]
  },
  {
   "cell_type": "markdown",
   "metadata": {},
   "source": [
    "### How much money do they bring? (LTV)"
   ]
  },
  {
   "cell_type": "code",
   "execution_count": 41,
   "metadata": {},
   "outputs": [
    {
     "data": {
      "text/html": [
       "<div>\n",
       "<style scoped>\n",
       "    .dataframe tbody tr th:only-of-type {\n",
       "        vertical-align: middle;\n",
       "    }\n",
       "\n",
       "    .dataframe tbody tr th {\n",
       "        vertical-align: top;\n",
       "    }\n",
       "\n",
       "    .dataframe thead th {\n",
       "        text-align: right;\n",
       "    }\n",
       "</style>\n",
       "<table border=\"1\" class=\"dataframe\">\n",
       "  <thead>\n",
       "    <tr style=\"text-align: right;\">\n",
       "      <th></th>\n",
       "      <th>uid</th>\n",
       "      <th>first_order_month</th>\n",
       "    </tr>\n",
       "  </thead>\n",
       "  <tbody>\n",
       "    <tr>\n",
       "      <td>0</td>\n",
       "      <td>313578113262317</td>\n",
       "      <td>2018-01-01</td>\n",
       "    </tr>\n",
       "    <tr>\n",
       "      <td>1</td>\n",
       "      <td>1575281904278712</td>\n",
       "      <td>2017-06-01</td>\n",
       "    </tr>\n",
       "    <tr>\n",
       "      <td>2</td>\n",
       "      <td>2429014661409475</td>\n",
       "      <td>2017-10-01</td>\n",
       "    </tr>\n",
       "    <tr>\n",
       "      <td>3</td>\n",
       "      <td>2464366381792757</td>\n",
       "      <td>2018-01-01</td>\n",
       "    </tr>\n",
       "    <tr>\n",
       "      <td>4</td>\n",
       "      <td>2551852515556206</td>\n",
       "      <td>2017-11-01</td>\n",
       "    </tr>\n",
       "  </tbody>\n",
       "</table>\n",
       "</div>"
      ],
      "text/plain": [
       "                uid first_order_month\n",
       "0   313578113262317        2018-01-01\n",
       "1  1575281904278712        2017-06-01\n",
       "2  2429014661409475        2017-10-01\n",
       "3  2464366381792757        2018-01-01\n",
       "4  2551852515556206        2017-11-01"
      ]
     },
     "execution_count": 41,
     "metadata": {},
     "output_type": "execute_result"
    }
   ],
   "source": [
    "# let's determine when the first purchase occur per user\n",
    "first_user_orders = orders.groupby('uid').agg({'buy ts': 'min'}).reset_index()\n",
    "first_user_orders.columns = ['uid', 'first_order_month']\n",
    "first_user_orders.first_order_month = first_user_orders['first_order_month'].astype('datetime64[M]')\n",
    "first_user_orders.head() "
   ]
  },
  {
   "cell_type": "code",
   "execution_count": 42,
   "metadata": {},
   "outputs": [
    {
     "data": {
      "text/html": [
       "<div>\n",
       "<style scoped>\n",
       "    .dataframe tbody tr th:only-of-type {\n",
       "        vertical-align: middle;\n",
       "    }\n",
       "\n",
       "    .dataframe tbody tr th {\n",
       "        vertical-align: top;\n",
       "    }\n",
       "\n",
       "    .dataframe thead th {\n",
       "        text-align: right;\n",
       "    }\n",
       "</style>\n",
       "<table border=\"1\" class=\"dataframe\">\n",
       "  <thead>\n",
       "    <tr style=\"text-align: right;\">\n",
       "      <th></th>\n",
       "      <th>uid</th>\n",
       "      <th>first_order_month</th>\n",
       "      <th>buy ts</th>\n",
       "      <th>revenue</th>\n",
       "      <th>Buy ts</th>\n",
       "      <th>order_date</th>\n",
       "      <th>order_month</th>\n",
       "    </tr>\n",
       "  </thead>\n",
       "  <tbody>\n",
       "    <tr>\n",
       "      <td>0</td>\n",
       "      <td>313578113262317</td>\n",
       "      <td>2018-01-01</td>\n",
       "      <td>2018-01-03 21:51:00</td>\n",
       "      <td>0.55</td>\n",
       "      <td>2018-01-03 21:51:00</td>\n",
       "      <td>2018-01-01</td>\n",
       "      <td>2018-01-01</td>\n",
       "    </tr>\n",
       "    <tr>\n",
       "      <td>1</td>\n",
       "      <td>1575281904278712</td>\n",
       "      <td>2017-06-01</td>\n",
       "      <td>2017-06-03 10:13:00</td>\n",
       "      <td>1.22</td>\n",
       "      <td>2017-06-03 10:13:00</td>\n",
       "      <td>2017-06-01</td>\n",
       "      <td>2017-06-01</td>\n",
       "    </tr>\n",
       "    <tr>\n",
       "      <td>2</td>\n",
       "      <td>1575281904278712</td>\n",
       "      <td>2017-06-01</td>\n",
       "      <td>2017-06-03 17:39:00</td>\n",
       "      <td>1.83</td>\n",
       "      <td>2017-06-03 17:39:00</td>\n",
       "      <td>2017-06-01</td>\n",
       "      <td>2017-06-01</td>\n",
       "    </tr>\n",
       "    <tr>\n",
       "      <td>3</td>\n",
       "      <td>2429014661409475</td>\n",
       "      <td>2017-10-01</td>\n",
       "      <td>2017-10-11 18:33:00</td>\n",
       "      <td>73.33</td>\n",
       "      <td>2017-10-11 18:33:00</td>\n",
       "      <td>2017-10-01</td>\n",
       "      <td>2017-10-01</td>\n",
       "    </tr>\n",
       "    <tr>\n",
       "      <td>4</td>\n",
       "      <td>2464366381792757</td>\n",
       "      <td>2018-01-01</td>\n",
       "      <td>2018-01-28 15:54:00</td>\n",
       "      <td>2.44</td>\n",
       "      <td>2018-01-28 15:54:00</td>\n",
       "      <td>2018-01-01</td>\n",
       "      <td>2018-01-01</td>\n",
       "    </tr>\n",
       "  </tbody>\n",
       "</table>\n",
       "</div>"
      ],
      "text/plain": [
       "                uid first_order_month               buy ts  revenue  \\\n",
       "0   313578113262317        2018-01-01  2018-01-03 21:51:00     0.55   \n",
       "1  1575281904278712        2017-06-01  2017-06-03 10:13:00     1.22   \n",
       "2  1575281904278712        2017-06-01  2017-06-03 17:39:00     1.83   \n",
       "3  2429014661409475        2017-10-01  2017-10-11 18:33:00    73.33   \n",
       "4  2464366381792757        2018-01-01  2018-01-28 15:54:00     2.44   \n",
       "\n",
       "               Buy ts order_date order_month  \n",
       "0 2018-01-03 21:51:00 2018-01-01  2018-01-01  \n",
       "1 2017-06-03 10:13:00 2017-06-01  2017-06-01  \n",
       "2 2017-06-03 17:39:00 2017-06-01  2017-06-01  \n",
       "3 2017-10-11 18:33:00 2017-10-01  2017-10-01  \n",
       "4 2018-01-28 15:54:00 2018-01-01  2018-01-01  "
      ]
     },
     "execution_count": 42,
     "metadata": {},
     "output_type": "execute_result"
    }
   ],
   "source": [
    "# Let's merger the first user order table with the orders table. \n",
    "orders_com = pd.merge(first_user_orders, orders, on='uid')\n",
    "orders_com.head()"
   ]
  },
  {
   "cell_type": "code",
   "execution_count": 43,
   "metadata": {
    "scrolled": true
   },
   "outputs": [
    {
     "data": {
      "text/html": [
       "<div>\n",
       "<style scoped>\n",
       "    .dataframe tbody tr th:only-of-type {\n",
       "        vertical-align: middle;\n",
       "    }\n",
       "\n",
       "    .dataframe tbody tr th {\n",
       "        vertical-align: top;\n",
       "    }\n",
       "\n",
       "    .dataframe thead th {\n",
       "        text-align: right;\n",
       "    }\n",
       "</style>\n",
       "<table border=\"1\" class=\"dataframe\">\n",
       "  <thead>\n",
       "    <tr style=\"text-align: right;\">\n",
       "      <th></th>\n",
       "      <th>first_order_month</th>\n",
       "      <th>revenue</th>\n",
       "      <th>n_customers</th>\n",
       "    </tr>\n",
       "  </thead>\n",
       "  <tbody>\n",
       "    <tr>\n",
       "      <td>0</td>\n",
       "      <td>2017-06-01</td>\n",
       "      <td>24031.69</td>\n",
       "      <td>2023</td>\n",
       "    </tr>\n",
       "    <tr>\n",
       "      <td>1</td>\n",
       "      <td>2017-07-01</td>\n",
       "      <td>16127.92</td>\n",
       "      <td>1923</td>\n",
       "    </tr>\n",
       "    <tr>\n",
       "      <td>2</td>\n",
       "      <td>2017-08-01</td>\n",
       "      <td>11606.26</td>\n",
       "      <td>1370</td>\n",
       "    </tr>\n",
       "    <tr>\n",
       "      <td>3</td>\n",
       "      <td>2017-09-01</td>\n",
       "      <td>34676.32</td>\n",
       "      <td>2581</td>\n",
       "    </tr>\n",
       "    <tr>\n",
       "      <td>4</td>\n",
       "      <td>2017-10-01</td>\n",
       "      <td>27603.45</td>\n",
       "      <td>4340</td>\n",
       "    </tr>\n",
       "    <tr>\n",
       "      <td>5</td>\n",
       "      <td>2017-11-01</td>\n",
       "      <td>26098.99</td>\n",
       "      <td>4081</td>\n",
       "    </tr>\n",
       "    <tr>\n",
       "      <td>6</td>\n",
       "      <td>2017-12-01</td>\n",
       "      <td>33485.74</td>\n",
       "      <td>4383</td>\n",
       "    </tr>\n",
       "    <tr>\n",
       "      <td>7</td>\n",
       "      <td>2018-01-01</td>\n",
       "      <td>16663.13</td>\n",
       "      <td>3373</td>\n",
       "    </tr>\n",
       "    <tr>\n",
       "      <td>8</td>\n",
       "      <td>2018-02-01</td>\n",
       "      <td>16750.50</td>\n",
       "      <td>3651</td>\n",
       "    </tr>\n",
       "    <tr>\n",
       "      <td>9</td>\n",
       "      <td>2018-03-01</td>\n",
       "      <td>19273.41</td>\n",
       "      <td>3533</td>\n",
       "    </tr>\n",
       "    <tr>\n",
       "      <td>10</td>\n",
       "      <td>2018-04-01</td>\n",
       "      <td>11810.61</td>\n",
       "      <td>2276</td>\n",
       "    </tr>\n",
       "    <tr>\n",
       "      <td>11</td>\n",
       "      <td>2018-05-01</td>\n",
       "      <td>13925.76</td>\n",
       "      <td>2988</td>\n",
       "    </tr>\n",
       "    <tr>\n",
       "      <td>12</td>\n",
       "      <td>2018-06-01</td>\n",
       "      <td>3.42</td>\n",
       "      <td>1</td>\n",
       "    </tr>\n",
       "  </tbody>\n",
       "</table>\n",
       "</div>"
      ],
      "text/plain": [
       "   first_order_month   revenue  n_customers\n",
       "0         2017-06-01  24031.69         2023\n",
       "1         2017-07-01  16127.92         1923\n",
       "2         2017-08-01  11606.26         1370\n",
       "3         2017-09-01  34676.32         2581\n",
       "4         2017-10-01  27603.45         4340\n",
       "5         2017-11-01  26098.99         4081\n",
       "6         2017-12-01  33485.74         4383\n",
       "7         2018-01-01  16663.13         3373\n",
       "8         2018-02-01  16750.50         3651\n",
       "9         2018-03-01  19273.41         3533\n",
       "10        2018-04-01  11810.61         2276\n",
       "11        2018-05-01  13925.76         2988\n",
       "12        2018-06-01      3.42            1"
      ]
     },
     "execution_count": 43,
     "metadata": {},
     "output_type": "execute_result"
    }
   ],
   "source": [
    "# Let's determine the LTV\n",
    "ltv = orders_com.groupby(['first_order_month']).agg({'revenue': 'sum', 'uid':'nunique'}).reset_index()\n",
    "ltv.rename(columns = {'uid':'n_customers'}, inplace=True)\n",
    "ltv"
   ]
  },
  {
   "cell_type": "markdown",
   "metadata": {},
   "source": [
    "This is the total revenue per cohort. The most revenue occurred in September 2017 "
   ]
  },
  {
   "cell_type": "code",
   "execution_count": 44,
   "metadata": {},
   "outputs": [
    {
     "data": {
      "text/html": [
       "<div>\n",
       "<style scoped>\n",
       "    .dataframe tbody tr th:only-of-type {\n",
       "        vertical-align: middle;\n",
       "    }\n",
       "\n",
       "    .dataframe tbody tr th {\n",
       "        vertical-align: top;\n",
       "    }\n",
       "\n",
       "    .dataframe thead th {\n",
       "        text-align: right;\n",
       "    }\n",
       "</style>\n",
       "<table border=\"1\" class=\"dataframe\">\n",
       "  <thead>\n",
       "    <tr style=\"text-align: right;\">\n",
       "      <th></th>\n",
       "      <th>first_order_month</th>\n",
       "      <th>revenue</th>\n",
       "      <th>n_customers</th>\n",
       "      <th>ltv</th>\n",
       "    </tr>\n",
       "  </thead>\n",
       "  <tbody>\n",
       "    <tr>\n",
       "      <td>0</td>\n",
       "      <td>2017-06-01</td>\n",
       "      <td>24031.69</td>\n",
       "      <td>2023</td>\n",
       "      <td>11.88</td>\n",
       "    </tr>\n",
       "    <tr>\n",
       "      <td>1</td>\n",
       "      <td>2017-07-01</td>\n",
       "      <td>16127.92</td>\n",
       "      <td>1923</td>\n",
       "      <td>8.39</td>\n",
       "    </tr>\n",
       "    <tr>\n",
       "      <td>2</td>\n",
       "      <td>2017-08-01</td>\n",
       "      <td>11606.26</td>\n",
       "      <td>1370</td>\n",
       "      <td>8.47</td>\n",
       "    </tr>\n",
       "    <tr>\n",
       "      <td>3</td>\n",
       "      <td>2017-09-01</td>\n",
       "      <td>34676.32</td>\n",
       "      <td>2581</td>\n",
       "      <td>13.44</td>\n",
       "    </tr>\n",
       "    <tr>\n",
       "      <td>4</td>\n",
       "      <td>2017-10-01</td>\n",
       "      <td>27603.45</td>\n",
       "      <td>4340</td>\n",
       "      <td>6.36</td>\n",
       "    </tr>\n",
       "    <tr>\n",
       "      <td>5</td>\n",
       "      <td>2017-11-01</td>\n",
       "      <td>26098.99</td>\n",
       "      <td>4081</td>\n",
       "      <td>6.40</td>\n",
       "    </tr>\n",
       "    <tr>\n",
       "      <td>6</td>\n",
       "      <td>2017-12-01</td>\n",
       "      <td>33485.74</td>\n",
       "      <td>4383</td>\n",
       "      <td>7.64</td>\n",
       "    </tr>\n",
       "    <tr>\n",
       "      <td>7</td>\n",
       "      <td>2018-01-01</td>\n",
       "      <td>16663.13</td>\n",
       "      <td>3373</td>\n",
       "      <td>4.94</td>\n",
       "    </tr>\n",
       "    <tr>\n",
       "      <td>8</td>\n",
       "      <td>2018-02-01</td>\n",
       "      <td>16750.50</td>\n",
       "      <td>3651</td>\n",
       "      <td>4.59</td>\n",
       "    </tr>\n",
       "    <tr>\n",
       "      <td>9</td>\n",
       "      <td>2018-03-01</td>\n",
       "      <td>19273.41</td>\n",
       "      <td>3533</td>\n",
       "      <td>5.46</td>\n",
       "    </tr>\n",
       "    <tr>\n",
       "      <td>10</td>\n",
       "      <td>2018-04-01</td>\n",
       "      <td>11810.61</td>\n",
       "      <td>2276</td>\n",
       "      <td>5.19</td>\n",
       "    </tr>\n",
       "    <tr>\n",
       "      <td>11</td>\n",
       "      <td>2018-05-01</td>\n",
       "      <td>13925.76</td>\n",
       "      <td>2988</td>\n",
       "      <td>4.66</td>\n",
       "    </tr>\n",
       "    <tr>\n",
       "      <td>12</td>\n",
       "      <td>2018-06-01</td>\n",
       "      <td>3.42</td>\n",
       "      <td>1</td>\n",
       "      <td>3.42</td>\n",
       "    </tr>\n",
       "  </tbody>\n",
       "</table>\n",
       "</div>"
      ],
      "text/plain": [
       "   first_order_month   revenue  n_customers    ltv\n",
       "0         2017-06-01  24031.69         2023  11.88\n",
       "1         2017-07-01  16127.92         1923   8.39\n",
       "2         2017-08-01  11606.26         1370   8.47\n",
       "3         2017-09-01  34676.32         2581  13.44\n",
       "4         2017-10-01  27603.45         4340   6.36\n",
       "5         2017-11-01  26098.99         4081   6.40\n",
       "6         2017-12-01  33485.74         4383   7.64\n",
       "7         2018-01-01  16663.13         3373   4.94\n",
       "8         2018-02-01  16750.50         3651   4.59\n",
       "9         2018-03-01  19273.41         3533   5.46\n",
       "10        2018-04-01  11810.61         2276   5.19\n",
       "11        2018-05-01  13925.76         2988   4.66\n",
       "12        2018-06-01      3.42            1   3.42"
      ]
     },
     "execution_count": 44,
     "metadata": {},
     "output_type": "execute_result"
    }
   ],
   "source": [
    "#let's set the cohorts to work with\n",
    "ltv['ltv'] = ltv['revenue'] / ltv['n_customers']\n",
    "ltv['ltv'] = ltv['ltv'].round(decimals=2)\n",
    "ltv"
   ]
  },
  {
   "cell_type": "markdown",
   "metadata": {},
   "source": [
    "The analysis is starting to show meaningful results, now let's link them to sources"
   ]
  },
  {
   "cell_type": "code",
   "execution_count": 45,
   "metadata": {},
   "outputs": [],
   "source": [
    "#let's combine the first \n",
    "ltv_ = orders_com.groupby(['first_order_month', 'order_month']).agg({'revenue': 'sum'}).reset_index()\n",
    "report = pd.merge(ltv, ltv_, on='first_order_month')\n",
    "report = report.drop('revenue_x', axis =1) \n",
    "report = report.rename(columns = {'revenue_y':'revenue'})"
   ]
  },
  {
   "cell_type": "code",
   "execution_count": 46,
   "metadata": {},
   "outputs": [],
   "source": [
    "report['age'] = (report['order_month'].astype('datetime64[M]')  - report['first_order_month'].astype('datetime64[M]') ) / np.timedelta64(1, 'M')\n",
    "report['age'] = report['age'].round().astype('int')\n",
    "report['ltv'] = report['revenue'] / report['n_customers']\n"
   ]
  },
  {
   "cell_type": "code",
   "execution_count": 47,
   "metadata": {
    "scrolled": true
   },
   "outputs": [
    {
     "data": {
      "text/html": [
       "<div>\n",
       "<style scoped>\n",
       "    .dataframe tbody tr th:only-of-type {\n",
       "        vertical-align: middle;\n",
       "    }\n",
       "\n",
       "    .dataframe tbody tr th {\n",
       "        vertical-align: top;\n",
       "    }\n",
       "\n",
       "    .dataframe thead th {\n",
       "        text-align: right;\n",
       "    }\n",
       "</style>\n",
       "<table border=\"1\" class=\"dataframe\">\n",
       "  <thead>\n",
       "    <tr style=\"text-align: right;\">\n",
       "      <th>age</th>\n",
       "      <th>0</th>\n",
       "      <th>1</th>\n",
       "      <th>2</th>\n",
       "      <th>3</th>\n",
       "      <th>4</th>\n",
       "      <th>5</th>\n",
       "      <th>6</th>\n",
       "      <th>7</th>\n",
       "      <th>8</th>\n",
       "      <th>9</th>\n",
       "      <th>10</th>\n",
       "      <th>11</th>\n",
       "    </tr>\n",
       "    <tr>\n",
       "      <th>first_order_month</th>\n",
       "      <th></th>\n",
       "      <th></th>\n",
       "      <th></th>\n",
       "      <th></th>\n",
       "      <th></th>\n",
       "      <th></th>\n",
       "      <th></th>\n",
       "      <th></th>\n",
       "      <th></th>\n",
       "      <th></th>\n",
       "      <th></th>\n",
       "      <th></th>\n",
       "    </tr>\n",
       "  </thead>\n",
       "  <tbody>\n",
       "    <tr>\n",
       "      <td>2017-06-01</td>\n",
       "      <td>4.72</td>\n",
       "      <td>5.21</td>\n",
       "      <td>5.65</td>\n",
       "      <td>6.6</td>\n",
       "      <td>7.62</td>\n",
       "      <td>8.36</td>\n",
       "      <td>9.31</td>\n",
       "      <td>9.89</td>\n",
       "      <td>10.45</td>\n",
       "      <td>11.05</td>\n",
       "      <td>11.62</td>\n",
       "      <td>11.88</td>\n",
       "    </tr>\n",
       "    <tr>\n",
       "      <td>2017-07-01</td>\n",
       "      <td>6.01</td>\n",
       "      <td>6.35</td>\n",
       "      <td>6.97</td>\n",
       "      <td>7.33</td>\n",
       "      <td>7.5</td>\n",
       "      <td>7.66</td>\n",
       "      <td>7.78</td>\n",
       "      <td>7.92</td>\n",
       "      <td>8.08</td>\n",
       "      <td>8.23</td>\n",
       "      <td>8.39</td>\n",
       "      <td></td>\n",
       "    </tr>\n",
       "    <tr>\n",
       "      <td>2017-08-01</td>\n",
       "      <td>5.28</td>\n",
       "      <td>5.75</td>\n",
       "      <td>6.21</td>\n",
       "      <td>6.6</td>\n",
       "      <td>7.09</td>\n",
       "      <td>7.38</td>\n",
       "      <td>7.59</td>\n",
       "      <td>7.99</td>\n",
       "      <td>8.28</td>\n",
       "      <td>8.47</td>\n",
       "      <td></td>\n",
       "      <td></td>\n",
       "    </tr>\n",
       "    <tr>\n",
       "      <td>2017-09-01</td>\n",
       "      <td>5.64</td>\n",
       "      <td>6.76</td>\n",
       "      <td>7.28</td>\n",
       "      <td>11.26</td>\n",
       "      <td>11.66</td>\n",
       "      <td>12.31</td>\n",
       "      <td>13.01</td>\n",
       "      <td>13.25</td>\n",
       "      <td>13.44</td>\n",
       "      <td></td>\n",
       "      <td></td>\n",
       "      <td></td>\n",
       "    </tr>\n",
       "    <tr>\n",
       "      <td>2017-10-01</td>\n",
       "      <td>5.00</td>\n",
       "      <td>5.54</td>\n",
       "      <td>5.73</td>\n",
       "      <td>5.89</td>\n",
       "      <td>6.04</td>\n",
       "      <td>6.16</td>\n",
       "      <td>6.24</td>\n",
       "      <td>6.36</td>\n",
       "      <td></td>\n",
       "      <td></td>\n",
       "      <td></td>\n",
       "      <td></td>\n",
       "    </tr>\n",
       "    <tr>\n",
       "      <td>2017-11-01</td>\n",
       "      <td>5.15</td>\n",
       "      <td>5.55</td>\n",
       "      <td>5.75</td>\n",
       "      <td>6.08</td>\n",
       "      <td>6.23</td>\n",
       "      <td>6.28</td>\n",
       "      <td>6.4</td>\n",
       "      <td></td>\n",
       "      <td></td>\n",
       "      <td></td>\n",
       "      <td></td>\n",
       "      <td></td>\n",
       "    </tr>\n",
       "    <tr>\n",
       "      <td>2017-12-01</td>\n",
       "      <td>4.74</td>\n",
       "      <td>5</td>\n",
       "      <td>5.92</td>\n",
       "      <td>6.99</td>\n",
       "      <td>7.3</td>\n",
       "      <td>7.64</td>\n",
       "      <td></td>\n",
       "      <td></td>\n",
       "      <td></td>\n",
       "      <td></td>\n",
       "      <td></td>\n",
       "      <td></td>\n",
       "    </tr>\n",
       "    <tr>\n",
       "      <td>2018-01-01</td>\n",
       "      <td>4.14</td>\n",
       "      <td>4.43</td>\n",
       "      <td>4.73</td>\n",
       "      <td>4.88</td>\n",
       "      <td>4.94</td>\n",
       "      <td></td>\n",
       "      <td></td>\n",
       "      <td></td>\n",
       "      <td></td>\n",
       "      <td></td>\n",
       "      <td></td>\n",
       "      <td></td>\n",
       "    </tr>\n",
       "    <tr>\n",
       "      <td>2018-02-01</td>\n",
       "      <td>4.16</td>\n",
       "      <td>4.44</td>\n",
       "      <td>4.51</td>\n",
       "      <td>4.59</td>\n",
       "      <td></td>\n",
       "      <td></td>\n",
       "      <td></td>\n",
       "      <td></td>\n",
       "      <td></td>\n",
       "      <td></td>\n",
       "      <td></td>\n",
       "      <td></td>\n",
       "    </tr>\n",
       "    <tr>\n",
       "      <td>2018-03-01</td>\n",
       "      <td>4.84</td>\n",
       "      <td>5.14</td>\n",
       "      <td>5.46</td>\n",
       "      <td></td>\n",
       "      <td></td>\n",
       "      <td></td>\n",
       "      <td></td>\n",
       "      <td></td>\n",
       "      <td></td>\n",
       "      <td></td>\n",
       "      <td></td>\n",
       "      <td></td>\n",
       "    </tr>\n",
       "    <tr>\n",
       "      <td>2018-04-01</td>\n",
       "      <td>4.66</td>\n",
       "      <td>5.19</td>\n",
       "      <td></td>\n",
       "      <td></td>\n",
       "      <td></td>\n",
       "      <td></td>\n",
       "      <td></td>\n",
       "      <td></td>\n",
       "      <td></td>\n",
       "      <td></td>\n",
       "      <td></td>\n",
       "      <td></td>\n",
       "    </tr>\n",
       "    <tr>\n",
       "      <td>2018-05-01</td>\n",
       "      <td>4.66</td>\n",
       "      <td></td>\n",
       "      <td></td>\n",
       "      <td></td>\n",
       "      <td></td>\n",
       "      <td></td>\n",
       "      <td></td>\n",
       "      <td></td>\n",
       "      <td></td>\n",
       "      <td></td>\n",
       "      <td></td>\n",
       "      <td></td>\n",
       "    </tr>\n",
       "    <tr>\n",
       "      <td>2018-06-01</td>\n",
       "      <td>3.42</td>\n",
       "      <td></td>\n",
       "      <td></td>\n",
       "      <td></td>\n",
       "      <td></td>\n",
       "      <td></td>\n",
       "      <td></td>\n",
       "      <td></td>\n",
       "      <td></td>\n",
       "      <td></td>\n",
       "      <td></td>\n",
       "      <td></td>\n",
       "    </tr>\n",
       "  </tbody>\n",
       "</table>\n",
       "</div>"
      ],
      "text/plain": [
       "age                  0     1     2      3      4      5      6      7      8   \\\n",
       "first_order_month                                                               \n",
       "2017-06-01         4.72  5.21  5.65    6.6   7.62   8.36   9.31   9.89  10.45   \n",
       "2017-07-01         6.01  6.35  6.97   7.33    7.5   7.66   7.78   7.92   8.08   \n",
       "2017-08-01         5.28  5.75  6.21    6.6   7.09   7.38   7.59   7.99   8.28   \n",
       "2017-09-01         5.64  6.76  7.28  11.26  11.66  12.31  13.01  13.25  13.44   \n",
       "2017-10-01         5.00  5.54  5.73   5.89   6.04   6.16   6.24   6.36          \n",
       "2017-11-01         5.15  5.55  5.75   6.08   6.23   6.28    6.4                 \n",
       "2017-12-01         4.74     5  5.92   6.99    7.3   7.64                        \n",
       "2018-01-01         4.14  4.43  4.73   4.88   4.94                               \n",
       "2018-02-01         4.16  4.44  4.51   4.59                                      \n",
       "2018-03-01         4.84  5.14  5.46                                             \n",
       "2018-04-01         4.66  5.19                                                   \n",
       "2018-05-01         4.66                                                         \n",
       "2018-06-01         3.42                                                         \n",
       "\n",
       "age                   9      10     11  \n",
       "first_order_month                       \n",
       "2017-06-01         11.05  11.62  11.88  \n",
       "2017-07-01          8.23   8.39         \n",
       "2017-08-01          8.47                \n",
       "2017-09-01                              \n",
       "2017-10-01                              \n",
       "2017-11-01                              \n",
       "2017-12-01                              \n",
       "2018-01-01                              \n",
       "2018-02-01                              \n",
       "2018-03-01                              \n",
       "2018-04-01                              \n",
       "2018-05-01                              \n",
       "2018-06-01                              "
      ]
     },
     "execution_count": 47,
     "metadata": {},
     "output_type": "execute_result"
    }
   ],
   "source": [
    "### Creating a pivot table for the first order month by age and lTV\n",
    "conversion_pivot = report.pivot_table(\n",
    "    index= 'first_order_month', \n",
    "    columns='age', \n",
    "    values='ltv', \n",
    "    aggfunc='mean')\n",
    "conversion_pivot = conversion_pivot.cumsum(axis=1).round(decimals=2)\n",
    "conversion_pivot.fillna('')"
   ]
  },
  {
   "cell_type": "code",
   "execution_count": 48,
   "metadata": {},
   "outputs": [
    {
     "data": {
      "text/plain": [
       "age\n",
       "0      4.801538\n",
       "1      5.396364\n",
       "2      5.821000\n",
       "3      6.691111\n",
       "4      7.297500\n",
       "5      7.970000\n",
       "6      8.388333\n",
       "7      9.082000\n",
       "8     10.062500\n",
       "9      9.250000\n",
       "10    10.005000\n",
       "11    11.880000\n",
       "dtype: float64"
      ]
     },
     "execution_count": 48,
     "metadata": {},
     "output_type": "execute_result"
    }
   ],
   "source": [
    "conversion_pivot.mean()"
   ]
  },
  {
   "cell_type": "markdown",
   "metadata": {},
   "source": [
    "<b>Conclusion Sales:<b><br>\n",
    "The cohort cost analysis shows which months did siginificanly better. September and December 2017 stood out maybe because of student going back to school and the holidays? December also had the highest number in cost but September had a lower cost than many months but still had better revenue than most\n"
   ]
  },
  {
   "cell_type": "markdown",
   "metadata": {},
   "source": [
    "## Marketing\n",
    "\n",
    "<ul>\n",
    "<li>How much money was spent? Overall/per source/over time</li>\n",
    "<li>How much did customer acquisition from each of the sources cost?</li>\n",
    "<li>How worthwhile where the investments? (ROI)</li>\n",
    "</ul>"
   ]
  },
  {
   "cell_type": "markdown",
   "metadata": {},
   "source": [
    "### How much money was spent? Overall/per source/over time"
   ]
  },
  {
   "cell_type": "code",
   "execution_count": 49,
   "metadata": {},
   "outputs": [
    {
     "name": "stdout",
     "output_type": "stream",
     "text": [
      "The overall money spent is: 329131.62\n"
     ]
    }
   ],
   "source": [
    "#How much money was spent\n",
    "print('The overall money spent is:',round(sum(costs['costs']),2))"
   ]
  },
  {
   "cell_type": "code",
   "execution_count": 50,
   "metadata": {},
   "outputs": [
    {
     "name": "stdout",
     "output_type": "stream",
     "text": [
      "The amount they bring is: 252057.2\n"
     ]
    }
   ],
   "source": [
    "#How much money Do the Bring\n",
    "total_money = sum(orders['revenue'])\n",
    "print(\"The amount they bring is:\", round(total_money,2))"
   ]
  },
  {
   "cell_type": "code",
   "execution_count": 51,
   "metadata": {},
   "outputs": [
    {
     "data": {
      "image/png": "[encoded data removed]",
      "text/plain": [
       "<Figure size 936x360 with 1 Axes>"
      ]
     },
     "metadata": {},
     "output_type": "display_data"
    }
   ],
   "source": [
    "#Money spent per Source\n",
    "costs.groupby('source_id')['costs'].sum().plot(kind = 'bar', figsize = (13,5))\n",
    "plt.title(\"Money Spent Per Source\")\n",
    "plt.show()"
   ]
  },
  {
   "cell_type": "markdown",
   "metadata": {},
   "source": [
    "The calculations above show that the company is obviously spending too much money, so with this bar chart, we can see where most of the spending is going, the management needs to figure out why source is costing to much and how they can cut spending. "
   ]
  },
  {
   "cell_type": "code",
   "execution_count": 52,
   "metadata": {},
   "outputs": [
    {
     "data": {
      "text/html": [
       "<div>\n",
       "<style scoped>\n",
       "    .dataframe tbody tr th:only-of-type {\n",
       "        vertical-align: middle;\n",
       "    }\n",
       "\n",
       "    .dataframe tbody tr th {\n",
       "        vertical-align: top;\n",
       "    }\n",
       "\n",
       "    .dataframe thead th {\n",
       "        text-align: right;\n",
       "    }\n",
       "</style>\n",
       "<table border=\"1\" class=\"dataframe\">\n",
       "  <thead>\n",
       "    <tr style=\"text-align: right;\">\n",
       "      <th></th>\n",
       "      <th>month</th>\n",
       "      <th>monthly_costs</th>\n",
       "    </tr>\n",
       "  </thead>\n",
       "  <tbody>\n",
       "    <tr>\n",
       "      <td>0</td>\n",
       "      <td>2017-06-01</td>\n",
       "      <td>18015.00</td>\n",
       "    </tr>\n",
       "    <tr>\n",
       "      <td>1</td>\n",
       "      <td>2017-07-01</td>\n",
       "      <td>18240.59</td>\n",
       "    </tr>\n",
       "    <tr>\n",
       "      <td>2</td>\n",
       "      <td>2017-08-01</td>\n",
       "      <td>14790.54</td>\n",
       "    </tr>\n",
       "    <tr>\n",
       "      <td>3</td>\n",
       "      <td>2017-09-01</td>\n",
       "      <td>24368.91</td>\n",
       "    </tr>\n",
       "    <tr>\n",
       "      <td>4</td>\n",
       "      <td>2017-10-01</td>\n",
       "      <td>36322.88</td>\n",
       "    </tr>\n",
       "    <tr>\n",
       "      <td>5</td>\n",
       "      <td>2017-11-01</td>\n",
       "      <td>37907.88</td>\n",
       "    </tr>\n",
       "    <tr>\n",
       "      <td>6</td>\n",
       "      <td>2017-12-01</td>\n",
       "      <td>38315.35</td>\n",
       "    </tr>\n",
       "    <tr>\n",
       "      <td>7</td>\n",
       "      <td>2018-01-01</td>\n",
       "      <td>33518.52</td>\n",
       "    </tr>\n",
       "    <tr>\n",
       "      <td>8</td>\n",
       "      <td>2018-02-01</td>\n",
       "      <td>32723.03</td>\n",
       "    </tr>\n",
       "    <tr>\n",
       "      <td>9</td>\n",
       "      <td>2018-03-01</td>\n",
       "      <td>30415.27</td>\n",
       "    </tr>\n",
       "    <tr>\n",
       "      <td>10</td>\n",
       "      <td>2018-04-01</td>\n",
       "      <td>22289.38</td>\n",
       "    </tr>\n",
       "    <tr>\n",
       "      <td>11</td>\n",
       "      <td>2018-05-01</td>\n",
       "      <td>22224.27</td>\n",
       "    </tr>\n",
       "  </tbody>\n",
       "</table>\n",
       "</div>"
      ],
      "text/plain": [
       "        month  monthly_costs\n",
       "0  2017-06-01       18015.00\n",
       "1  2017-07-01       18240.59\n",
       "2  2017-08-01       14790.54\n",
       "3  2017-09-01       24368.91\n",
       "4  2017-10-01       36322.88\n",
       "5  2017-11-01       37907.88\n",
       "6  2017-12-01       38315.35\n",
       "7  2018-01-01       33518.52\n",
       "8  2018-02-01       32723.03\n",
       "9  2018-03-01       30415.27\n",
       "10 2018-04-01       22289.38\n",
       "11 2018-05-01       22224.27"
      ]
     },
     "metadata": {},
     "output_type": "display_data"
    }
   ],
   "source": [
    "# Let's determine the montly cost\n",
    "\n",
    "costs['cost_month'] = costs.dt.astype('datetime64[M]')\n",
    "monthly_cost = costs.groupby('cost_month')['costs'].sum().reset_index()\n",
    "monthly_cost.columns = ['month', 'monthly_costs']\n",
    "display(monthly_cost)\n"
   ]
  },
  {
   "cell_type": "code",
   "execution_count": 53,
   "metadata": {},
   "outputs": [
    {
     "data": {
      "image/png": "[encoded data removed]",
      "text/plain": [
       "<Figure size 432x288 with 1 Axes>"
      ]
     },
     "metadata": {},
     "output_type": "display_data"
    }
   ],
   "source": [
    "# Let's visualize the montly cost.\n",
    "monthly_cost.plot(x='month', kind='bar')\n",
    "plt.title('Montly Cost of Marketing')\n",
    "plt.ylabel('Costs', fontsize=12)\n",
    "plt.xlabel('Month', fontsize=12)\n",
    "plt.show()"
   ]
  },
  {
   "cell_type": "markdown",
   "metadata": {},
   "source": [
    "This chart is in direct correlation with monthly_costs output. Looks like the management figured out a way to cut cost by in 2018 compare to what it was in 2017"
   ]
  },
  {
   "cell_type": "markdown",
   "metadata": {},
   "source": [
    "### How worthwhile were the investments? (ROI)"
   ]
  },
  {
   "cell_type": "code",
   "execution_count": 54,
   "metadata": {
    "scrolled": false
   },
   "outputs": [
    {
     "data": {
      "text/html": [
       "<div>\n",
       "<style scoped>\n",
       "    .dataframe tbody tr th:only-of-type {\n",
       "        vertical-align: middle;\n",
       "    }\n",
       "\n",
       "    .dataframe tbody tr th {\n",
       "        vertical-align: top;\n",
       "    }\n",
       "\n",
       "    .dataframe thead th {\n",
       "        text-align: right;\n",
       "    }\n",
       "</style>\n",
       "<table border=\"1\" class=\"dataframe\">\n",
       "  <thead>\n",
       "    <tr style=\"text-align: right;\">\n",
       "      <th></th>\n",
       "      <th>source_id</th>\n",
       "      <th>costs</th>\n",
       "    </tr>\n",
       "  </thead>\n",
       "  <tbody>\n",
       "    <tr>\n",
       "      <td>0</td>\n",
       "      <td>3</td>\n",
       "      <td>141321.63</td>\n",
       "    </tr>\n",
       "    <tr>\n",
       "      <td>1</td>\n",
       "      <td>4</td>\n",
       "      <td>61073.60</td>\n",
       "    </tr>\n",
       "    <tr>\n",
       "      <td>2</td>\n",
       "      <td>5</td>\n",
       "      <td>51757.10</td>\n",
       "    </tr>\n",
       "    <tr>\n",
       "      <td>3</td>\n",
       "      <td>2</td>\n",
       "      <td>42806.04</td>\n",
       "    </tr>\n",
       "    <tr>\n",
       "      <td>4</td>\n",
       "      <td>1</td>\n",
       "      <td>20833.27</td>\n",
       "    </tr>\n",
       "    <tr>\n",
       "      <td>5</td>\n",
       "      <td>10</td>\n",
       "      <td>5822.49</td>\n",
       "    </tr>\n",
       "    <tr>\n",
       "      <td>6</td>\n",
       "      <td>9</td>\n",
       "      <td>5517.49</td>\n",
       "    </tr>\n",
       "  </tbody>\n",
       "</table>\n",
       "</div>"
      ],
      "text/plain": [
       "   source_id      costs\n",
       "0          3  141321.63\n",
       "1          4   61073.60\n",
       "2          5   51757.10\n",
       "3          2   42806.04\n",
       "4          1   20833.27\n",
       "5         10    5822.49\n",
       "6          9    5517.49"
      ]
     },
     "metadata": {},
     "output_type": "display_data"
    },
    {
     "data": {
      "image/png": "[encoded data removed]",
      "text/plain": [
       "<Figure size 432x288 with 1 Axes>"
      ]
     },
     "metadata": {},
     "output_type": "display_data"
    }
   ],
   "source": [
    "# cost of marketing per source\n",
    "costs_source = costs.groupby('source_id')['costs'].sum()\n",
    "costs_source = costs_source.sort_values(ascending=False).reset_index()\n",
    "display(costs_source)\n",
    "\n",
    "costs_source.plot(x='source_id', kind='bar')\n",
    "plt.title('Costs for Marketing')\n",
    "plt.ylabel('Costs', fontsize=12)\n",
    "plt.xlabel('Source', fontsize=12)\n",
    "plt.show()"
   ]
  },
  {
   "cell_type": "markdown",
   "metadata": {},
   "source": [
    "Source 3 has the highest cost "
   ]
  },
  {
   "cell_type": "code",
   "execution_count": 55,
   "metadata": {},
   "outputs": [
    {
     "data": {
      "text/html": [
       "<div>\n",
       "<style scoped>\n",
       "    .dataframe tbody tr th:only-of-type {\n",
       "        vertical-align: middle;\n",
       "    }\n",
       "\n",
       "    .dataframe tbody tr th {\n",
       "        vertical-align: top;\n",
       "    }\n",
       "\n",
       "    .dataframe thead th {\n",
       "        text-align: right;\n",
       "    }\n",
       "</style>\n",
       "<table border=\"1\" class=\"dataframe\">\n",
       "  <thead>\n",
       "    <tr style=\"text-align: right;\">\n",
       "      <th></th>\n",
       "      <th>month</th>\n",
       "      <th>month_costs</th>\n",
       "    </tr>\n",
       "  </thead>\n",
       "  <tbody>\n",
       "    <tr>\n",
       "      <td>0</td>\n",
       "      <td>2017-06-01</td>\n",
       "      <td>18015.00</td>\n",
       "    </tr>\n",
       "    <tr>\n",
       "      <td>1</td>\n",
       "      <td>2017-07-01</td>\n",
       "      <td>18240.59</td>\n",
       "    </tr>\n",
       "    <tr>\n",
       "      <td>2</td>\n",
       "      <td>2017-08-01</td>\n",
       "      <td>14790.54</td>\n",
       "    </tr>\n",
       "    <tr>\n",
       "      <td>3</td>\n",
       "      <td>2017-09-01</td>\n",
       "      <td>24368.91</td>\n",
       "    </tr>\n",
       "    <tr>\n",
       "      <td>4</td>\n",
       "      <td>2017-10-01</td>\n",
       "      <td>36322.88</td>\n",
       "    </tr>\n",
       "    <tr>\n",
       "      <td>5</td>\n",
       "      <td>2017-11-01</td>\n",
       "      <td>37907.88</td>\n",
       "    </tr>\n",
       "    <tr>\n",
       "      <td>6</td>\n",
       "      <td>2017-12-01</td>\n",
       "      <td>38315.35</td>\n",
       "    </tr>\n",
       "    <tr>\n",
       "      <td>7</td>\n",
       "      <td>2018-01-01</td>\n",
       "      <td>33518.52</td>\n",
       "    </tr>\n",
       "    <tr>\n",
       "      <td>8</td>\n",
       "      <td>2018-02-01</td>\n",
       "      <td>32723.03</td>\n",
       "    </tr>\n",
       "    <tr>\n",
       "      <td>9</td>\n",
       "      <td>2018-03-01</td>\n",
       "      <td>30415.27</td>\n",
       "    </tr>\n",
       "    <tr>\n",
       "      <td>10</td>\n",
       "      <td>2018-04-01</td>\n",
       "      <td>22289.38</td>\n",
       "    </tr>\n",
       "    <tr>\n",
       "      <td>11</td>\n",
       "      <td>2018-05-01</td>\n",
       "      <td>22224.27</td>\n",
       "    </tr>\n",
       "  </tbody>\n",
       "</table>\n",
       "</div>"
      ],
      "text/plain": [
       "        month  month_costs\n",
       "0  2017-06-01     18015.00\n",
       "1  2017-07-01     18240.59\n",
       "2  2017-08-01     14790.54\n",
       "3  2017-09-01     24368.91\n",
       "4  2017-10-01     36322.88\n",
       "5  2017-11-01     37907.88\n",
       "6  2017-12-01     38315.35\n",
       "7  2018-01-01     33518.52\n",
       "8  2018-02-01     32723.03\n",
       "9  2018-03-01     30415.27\n",
       "10 2018-04-01     22289.38\n",
       "11 2018-05-01     22224.27"
      ]
     },
     "metadata": {},
     "output_type": "display_data"
    }
   ],
   "source": [
    "#let's determine the cost per month \n",
    "costs['cost_month'] = costs.dt.astype('datetime64[M]')\n",
    "costs_month = costs.groupby('cost_month')['costs'].sum().reset_index()\n",
    "costs_month.columns = ['month', 'month_costs']\n",
    "display(costs_month)\n",
    "\n"
   ]
  },
  {
   "cell_type": "markdown",
   "metadata": {},
   "source": [
    "Again source 3 cost the most"
   ]
  },
  {
   "cell_type": "code",
   "execution_count": 56,
   "metadata": {
    "scrolled": true
   },
   "outputs": [
    {
     "data": {
      "text/html": [
       "<div>\n",
       "<style scoped>\n",
       "    .dataframe tbody tr th:only-of-type {\n",
       "        vertical-align: middle;\n",
       "    }\n",
       "\n",
       "    .dataframe tbody tr th {\n",
       "        vertical-align: top;\n",
       "    }\n",
       "\n",
       "    .dataframe thead th {\n",
       "        text-align: right;\n",
       "    }\n",
       "</style>\n",
       "<table border=\"1\" class=\"dataframe\">\n",
       "  <thead>\n",
       "    <tr style=\"text-align: right;\">\n",
       "      <th></th>\n",
       "      <th>cost_month</th>\n",
       "      <th>source_id</th>\n",
       "      <th>costs</th>\n",
       "    </tr>\n",
       "  </thead>\n",
       "  <tbody>\n",
       "    <tr>\n",
       "      <td>0</td>\n",
       "      <td>2017-06-01</td>\n",
       "      <td>1</td>\n",
       "      <td>1126</td>\n",
       "    </tr>\n",
       "    <tr>\n",
       "      <td>1</td>\n",
       "      <td>2017-06-01</td>\n",
       "      <td>2</td>\n",
       "      <td>2427</td>\n",
       "    </tr>\n",
       "    <tr>\n",
       "      <td>2</td>\n",
       "      <td>2017-06-01</td>\n",
       "      <td>3</td>\n",
       "      <td>7732</td>\n",
       "    </tr>\n",
       "    <tr>\n",
       "      <td>3</td>\n",
       "      <td>2017-06-01</td>\n",
       "      <td>4</td>\n",
       "      <td>3515</td>\n",
       "    </tr>\n",
       "    <tr>\n",
       "      <td>4</td>\n",
       "      <td>2017-06-01</td>\n",
       "      <td>5</td>\n",
       "      <td>2616</td>\n",
       "    </tr>\n",
       "  </tbody>\n",
       "</table>\n",
       "</div>"
      ],
      "text/plain": [
       "  cost_month  source_id  costs\n",
       "0 2017-06-01          1   1126\n",
       "1 2017-06-01          2   2427\n",
       "2 2017-06-01          3   7732\n",
       "3 2017-06-01          4   3515\n",
       "4 2017-06-01          5   2616"
      ]
     },
     "metadata": {},
     "output_type": "display_data"
    }
   ],
   "source": [
    "costs_source_per_month = costs.groupby(['cost_month', 'source_id'])['costs'].sum().round().astype('int').reset_index()\n",
    "display(costs_source_per_month.head())"
   ]
  },
  {
   "cell_type": "code",
   "execution_count": 57,
   "metadata": {},
   "outputs": [],
   "source": [
    "costs_source['n_customers']=ltv['n_customers']\n",
    "costs_source['revenue']=ltv['revenue']\n"
   ]
  },
  {
   "cell_type": "code",
   "execution_count": 58,
   "metadata": {},
   "outputs": [],
   "source": [
    "visits.rename(columns = {'source id':'source_id'}, inplace = True)"
   ]
  },
  {
   "cell_type": "code",
   "execution_count": 59,
   "metadata": {},
   "outputs": [],
   "source": [
    "orders[\"source_id\"]=visits[\"source_id\"]"
   ]
  },
  {
   "cell_type": "code",
   "execution_count": 60,
   "metadata": {},
   "outputs": [
    {
     "data": {
      "text/html": [
       "<div>\n",
       "<style scoped>\n",
       "    .dataframe tbody tr th:only-of-type {\n",
       "        vertical-align: middle;\n",
       "    }\n",
       "\n",
       "    .dataframe tbody tr th {\n",
       "        vertical-align: top;\n",
       "    }\n",
       "\n",
       "    .dataframe thead th {\n",
       "        text-align: right;\n",
       "    }\n",
       "</style>\n",
       "<table border=\"1\" class=\"dataframe\">\n",
       "  <thead>\n",
       "    <tr style=\"text-align: right;\">\n",
       "      <th></th>\n",
       "      <th>buy ts</th>\n",
       "      <th>revenue</th>\n",
       "      <th>uid</th>\n",
       "      <th>Buy ts</th>\n",
       "      <th>order_date</th>\n",
       "      <th>order_month</th>\n",
       "      <th>source_id</th>\n",
       "    </tr>\n",
       "  </thead>\n",
       "  <tbody>\n",
       "    <tr>\n",
       "      <td>0</td>\n",
       "      <td>2017-06-01 00:10:00</td>\n",
       "      <td>17.00</td>\n",
       "      <td>10329302124590727494</td>\n",
       "      <td>2017-06-01 00:10:00</td>\n",
       "      <td>2017-06-01</td>\n",
       "      <td>2017-06-01</td>\n",
       "      <td>4.0</td>\n",
       "    </tr>\n",
       "    <tr>\n",
       "      <td>1</td>\n",
       "      <td>2017-06-01 00:25:00</td>\n",
       "      <td>0.55</td>\n",
       "      <td>11627257723692907447</td>\n",
       "      <td>2017-06-01 00:25:00</td>\n",
       "      <td>2017-06-01</td>\n",
       "      <td>2017-06-01</td>\n",
       "      <td>2.0</td>\n",
       "    </tr>\n",
       "    <tr>\n",
       "      <td>2</td>\n",
       "      <td>2017-06-01 00:27:00</td>\n",
       "      <td>0.37</td>\n",
       "      <td>17903680561304213844</td>\n",
       "      <td>2017-06-01 00:27:00</td>\n",
       "      <td>2017-06-01</td>\n",
       "      <td>2017-06-01</td>\n",
       "      <td>NaN</td>\n",
       "    </tr>\n",
       "  </tbody>\n",
       "</table>\n",
       "</div>"
      ],
      "text/plain": [
       "                buy ts  revenue                   uid              Buy ts  \\\n",
       "0  2017-06-01 00:10:00    17.00  10329302124590727494 2017-06-01 00:10:00   \n",
       "1  2017-06-01 00:25:00     0.55  11627257723692907447 2017-06-01 00:25:00   \n",
       "2  2017-06-01 00:27:00     0.37  17903680561304213844 2017-06-01 00:27:00   \n",
       "\n",
       "  order_date order_month  source_id  \n",
       "0 2017-06-01  2017-06-01        4.0  \n",
       "1 2017-06-01  2017-06-01        2.0  \n",
       "2 2017-06-01  2017-06-01        NaN  "
      ]
     },
     "execution_count": 60,
     "metadata": {},
     "output_type": "execute_result"
    }
   ],
   "source": [
    "orders.head(3)"
   ]
  },
  {
   "cell_type": "code",
   "execution_count": 61,
   "metadata": {},
   "outputs": [
    {
     "data": {
      "text/html": [
       "<div>\n",
       "<style scoped>\n",
       "    .dataframe tbody tr th:only-of-type {\n",
       "        vertical-align: middle;\n",
       "    }\n",
       "\n",
       "    .dataframe tbody tr th {\n",
       "        vertical-align: top;\n",
       "    }\n",
       "\n",
       "    .dataframe thead th {\n",
       "        text-align: right;\n",
       "    }\n",
       "</style>\n",
       "<table border=\"1\" class=\"dataframe\">\n",
       "  <thead>\n",
       "    <tr style=\"text-align: right;\">\n",
       "      <th></th>\n",
       "      <th>source_id</th>\n",
       "      <th>uid</th>\n",
       "      <th>costs</th>\n",
       "      <th>n_customers</th>\n",
       "      <th>revenue</th>\n",
       "      <th>cac</th>\n",
       "    </tr>\n",
       "  </thead>\n",
       "  <tbody>\n",
       "    <tr>\n",
       "      <td>2</td>\n",
       "      <td>3.0</td>\n",
       "      <td>9259</td>\n",
       "      <td>141321.63</td>\n",
       "      <td>2023</td>\n",
       "      <td>24031.69</td>\n",
       "      <td>69.857454</td>\n",
       "    </tr>\n",
       "    <tr>\n",
       "      <td>4</td>\n",
       "      <td>5.0</td>\n",
       "      <td>7224</td>\n",
       "      <td>51757.10</td>\n",
       "      <td>1370</td>\n",
       "      <td>11606.26</td>\n",
       "      <td>37.778905</td>\n",
       "    </tr>\n",
       "    <tr>\n",
       "      <td>3</td>\n",
       "      <td>4.0</td>\n",
       "      <td>10877</td>\n",
       "      <td>61073.60</td>\n",
       "      <td>1923</td>\n",
       "      <td>16127.92</td>\n",
       "      <td>31.759542</td>\n",
       "    </tr>\n",
       "    <tr>\n",
       "      <td>1</td>\n",
       "      <td>2.0</td>\n",
       "      <td>5456</td>\n",
       "      <td>42806.04</td>\n",
       "      <td>2581</td>\n",
       "      <td>34676.32</td>\n",
       "      <td>16.585060</td>\n",
       "    </tr>\n",
       "    <tr>\n",
       "      <td>0</td>\n",
       "      <td>1.0</td>\n",
       "      <td>4114</td>\n",
       "      <td>20833.27</td>\n",
       "      <td>4340</td>\n",
       "      <td>27603.45</td>\n",
       "      <td>4.800293</td>\n",
       "    </tr>\n",
       "    <tr>\n",
       "      <td>6</td>\n",
       "      <td>10.0</td>\n",
       "      <td>1184</td>\n",
       "      <td>5822.49</td>\n",
       "      <td>4081</td>\n",
       "      <td>26098.99</td>\n",
       "      <td>1.426731</td>\n",
       "    </tr>\n",
       "    <tr>\n",
       "      <td>5</td>\n",
       "      <td>9.0</td>\n",
       "      <td>1584</td>\n",
       "      <td>5517.49</td>\n",
       "      <td>4383</td>\n",
       "      <td>33485.74</td>\n",
       "      <td>1.258839</td>\n",
       "    </tr>\n",
       "  </tbody>\n",
       "</table>\n",
       "</div>"
      ],
      "text/plain": [
       "   source_id    uid      costs  n_customers   revenue        cac\n",
       "2        3.0   9259  141321.63         2023  24031.69  69.857454\n",
       "4        5.0   7224   51757.10         1370  11606.26  37.778905\n",
       "3        4.0  10877   61073.60         1923  16127.92  31.759542\n",
       "1        2.0   5456   42806.04         2581  34676.32  16.585060\n",
       "0        1.0   4114   20833.27         4340  27603.45   4.800293\n",
       "6       10.0   1184    5822.49         4081  26098.99   1.426731\n",
       "5        9.0   1584    5517.49         4383  33485.74   1.258839"
      ]
     },
     "execution_count": 61,
     "metadata": {},
     "output_type": "execute_result"
    }
   ],
   "source": [
    "#Let's determine cac per \"buyers\"\n",
    "\n",
    "orders_source = orders.groupby('source_id').agg({'uid':'nunique'}).round().reset_index()\n",
    "#orders_source = orders.sort_values('buy ts').groupby('uid')['source_id'].first()\n",
    "#orders_source['source_id'].reset_index(inplace=True)\n",
    "\n",
    "source_orders_per_cost = pd.merge(orders_source, costs_source,  on='source_id')\n",
    "\n",
    "source_orders_per_cost['cac'] = source_orders_per_cost['costs'] / source_orders_per_cost['n_customers']\n",
    "\n",
    "source_orders_per_cost.sort_values(by=['cac'], ascending=False)"
   ]
  },
  {
   "cell_type": "code",
   "execution_count": 65,
   "metadata": {},
   "outputs": [
    {
     "data": {
      "text/html": [
       "<div>\n",
       "<style scoped>\n",
       "    .dataframe tbody tr th:only-of-type {\n",
       "        vertical-align: middle;\n",
       "    }\n",
       "\n",
       "    .dataframe tbody tr th {\n",
       "        vertical-align: top;\n",
       "    }\n",
       "\n",
       "    .dataframe thead th {\n",
       "        text-align: right;\n",
       "    }\n",
       "</style>\n",
       "<table border=\"1\" class=\"dataframe\">\n",
       "  <thead>\n",
       "    <tr style=\"text-align: right;\">\n",
       "      <th></th>\n",
       "      <th>source_id</th>\n",
       "      <th>uid</th>\n",
       "      <th>costs</th>\n",
       "      <th>n_customers</th>\n",
       "      <th>revenue</th>\n",
       "      <th>cac</th>\n",
       "    </tr>\n",
       "  </thead>\n",
       "  <tbody>\n",
       "    <tr>\n",
       "      <td>0</td>\n",
       "      <td>1.0</td>\n",
       "      <td>4114</td>\n",
       "      <td>20833.27</td>\n",
       "      <td>4340</td>\n",
       "      <td>27603.45</td>\n",
       "      <td>5.063994</td>\n",
       "    </tr>\n",
       "    <tr>\n",
       "      <td>1</td>\n",
       "      <td>2.0</td>\n",
       "      <td>5456</td>\n",
       "      <td>42806.04</td>\n",
       "      <td>2581</td>\n",
       "      <td>34676.32</td>\n",
       "      <td>7.845682</td>\n",
       "    </tr>\n",
       "    <tr>\n",
       "      <td>2</td>\n",
       "      <td>3.0</td>\n",
       "      <td>9259</td>\n",
       "      <td>141321.63</td>\n",
       "      <td>2023</td>\n",
       "      <td>24031.69</td>\n",
       "      <td>15.263163</td>\n",
       "    </tr>\n",
       "    <tr>\n",
       "      <td>3</td>\n",
       "      <td>4.0</td>\n",
       "      <td>10877</td>\n",
       "      <td>61073.60</td>\n",
       "      <td>1923</td>\n",
       "      <td>16127.92</td>\n",
       "      <td>5.614931</td>\n",
       "    </tr>\n",
       "    <tr>\n",
       "      <td>4</td>\n",
       "      <td>5.0</td>\n",
       "      <td>7224</td>\n",
       "      <td>51757.10</td>\n",
       "      <td>1370</td>\n",
       "      <td>11606.26</td>\n",
       "      <td>7.164604</td>\n",
       "    </tr>\n",
       "    <tr>\n",
       "      <td>5</td>\n",
       "      <td>9.0</td>\n",
       "      <td>1584</td>\n",
       "      <td>5517.49</td>\n",
       "      <td>4383</td>\n",
       "      <td>33485.74</td>\n",
       "      <td>3.483264</td>\n",
       "    </tr>\n",
       "    <tr>\n",
       "      <td>6</td>\n",
       "      <td>10.0</td>\n",
       "      <td>1184</td>\n",
       "      <td>5822.49</td>\n",
       "      <td>4081</td>\n",
       "      <td>26098.99</td>\n",
       "      <td>4.917644</td>\n",
       "    </tr>\n",
       "  </tbody>\n",
       "</table>\n",
       "</div>"
      ],
      "text/plain": [
       "   source_id    uid      costs  n_customers   revenue        cac\n",
       "0        1.0   4114   20833.27         4340  27603.45   5.063994\n",
       "1        2.0   5456   42806.04         2581  34676.32   7.845682\n",
       "2        3.0   9259  141321.63         2023  24031.69  15.263163\n",
       "3        4.0  10877   61073.60         1923  16127.92   5.614931\n",
       "4        5.0   7224   51757.10         1370  11606.26   7.164604\n",
       "5        9.0   1584    5517.49         4383  33485.74   3.483264\n",
       "6       10.0   1184    5822.49         4081  26098.99   4.917644"
      ]
     },
     "execution_count": 65,
     "metadata": {},
     "output_type": "execute_result"
    }
   ],
   "source": [
    "# let's determine the CAC per source\n",
    "source_cac = pd.merge(orders_source, costs_source, on = 'source_id')\n",
    "source_cac['uid']=source_orders_per_cost['uid']\n",
    "source_cac['cac'] = source_cac['costs']/source_cac['uid']\n",
    "source_cac"
   ]
  },
  {
   "cell_type": "code",
   "execution_count": 66,
   "metadata": {},
   "outputs": [],
   "source": [
    "# converting the order \"month\" datatype\n",
    "\n",
    "orders['month'] = orders['order_month'].dt.strftime('%Y-%m')\n",
    "orders_month = orders.groupby('month').uid.nunique().reset_index()\n",
    "orders_month['month']=pd.to_datetime(orders_month['month'], infer_datetime_format=True)"
   ]
  },
  {
   "cell_type": "code",
   "execution_count": 67,
   "metadata": {
    "scrolled": true
   },
   "outputs": [
    {
     "data": {
      "text/html": [
       "<div>\n",
       "<style scoped>\n",
       "    .dataframe tbody tr th:only-of-type {\n",
       "        vertical-align: middle;\n",
       "    }\n",
       "\n",
       "    .dataframe tbody tr th {\n",
       "        vertical-align: top;\n",
       "    }\n",
       "\n",
       "    .dataframe thead th {\n",
       "        text-align: right;\n",
       "    }\n",
       "</style>\n",
       "<table border=\"1\" class=\"dataframe\">\n",
       "  <thead>\n",
       "    <tr style=\"text-align: right;\">\n",
       "      <th></th>\n",
       "      <th>month</th>\n",
       "      <th>uid</th>\n",
       "      <th>month_costs</th>\n",
       "      <th>cac</th>\n",
       "    </tr>\n",
       "  </thead>\n",
       "  <tbody>\n",
       "    <tr>\n",
       "      <td>0</td>\n",
       "      <td>2017-06-01</td>\n",
       "      <td>2023</td>\n",
       "      <td>18015.00</td>\n",
       "      <td>8.905091</td>\n",
       "    </tr>\n",
       "    <tr>\n",
       "      <td>1</td>\n",
       "      <td>2017-07-01</td>\n",
       "      <td>1984</td>\n",
       "      <td>18240.59</td>\n",
       "      <td>9.193846</td>\n",
       "    </tr>\n",
       "    <tr>\n",
       "      <td>2</td>\n",
       "      <td>2017-08-01</td>\n",
       "      <td>1472</td>\n",
       "      <td>14790.54</td>\n",
       "      <td>10.047921</td>\n",
       "    </tr>\n",
       "    <tr>\n",
       "      <td>3</td>\n",
       "      <td>2017-09-01</td>\n",
       "      <td>2750</td>\n",
       "      <td>24368.91</td>\n",
       "      <td>8.861422</td>\n",
       "    </tr>\n",
       "    <tr>\n",
       "      <td>4</td>\n",
       "      <td>2017-10-01</td>\n",
       "      <td>4675</td>\n",
       "      <td>36322.88</td>\n",
       "      <td>7.769600</td>\n",
       "    </tr>\n",
       "    <tr>\n",
       "      <td>5</td>\n",
       "      <td>2017-11-01</td>\n",
       "      <td>4547</td>\n",
       "      <td>37907.88</td>\n",
       "      <td>8.336899</td>\n",
       "    </tr>\n",
       "    <tr>\n",
       "      <td>6</td>\n",
       "      <td>2017-12-01</td>\n",
       "      <td>4942</td>\n",
       "      <td>38315.35</td>\n",
       "      <td>7.753005</td>\n",
       "    </tr>\n",
       "    <tr>\n",
       "      <td>7</td>\n",
       "      <td>2018-01-01</td>\n",
       "      <td>3898</td>\n",
       "      <td>33518.52</td>\n",
       "      <td>8.598902</td>\n",
       "    </tr>\n",
       "    <tr>\n",
       "      <td>8</td>\n",
       "      <td>2018-02-01</td>\n",
       "      <td>4258</td>\n",
       "      <td>32723.03</td>\n",
       "      <td>7.685070</td>\n",
       "    </tr>\n",
       "    <tr>\n",
       "      <td>9</td>\n",
       "      <td>2018-03-01</td>\n",
       "      <td>4181</td>\n",
       "      <td>30415.27</td>\n",
       "      <td>7.274640</td>\n",
       "    </tr>\n",
       "    <tr>\n",
       "      <td>10</td>\n",
       "      <td>2018-04-01</td>\n",
       "      <td>2744</td>\n",
       "      <td>22289.38</td>\n",
       "      <td>8.122952</td>\n",
       "    </tr>\n",
       "    <tr>\n",
       "      <td>11</td>\n",
       "      <td>2018-05-01</td>\n",
       "      <td>3544</td>\n",
       "      <td>22224.27</td>\n",
       "      <td>6.270957</td>\n",
       "    </tr>\n",
       "  </tbody>\n",
       "</table>\n",
       "</div>"
      ],
      "text/plain": [
       "        month   uid  month_costs        cac\n",
       "0  2017-06-01  2023     18015.00   8.905091\n",
       "1  2017-07-01  1984     18240.59   9.193846\n",
       "2  2017-08-01  1472     14790.54  10.047921\n",
       "3  2017-09-01  2750     24368.91   8.861422\n",
       "4  2017-10-01  4675     36322.88   7.769600\n",
       "5  2017-11-01  4547     37907.88   8.336899\n",
       "6  2017-12-01  4942     38315.35   7.753005\n",
       "7  2018-01-01  3898     33518.52   8.598902\n",
       "8  2018-02-01  4258     32723.03   7.685070\n",
       "9  2018-03-01  4181     30415.27   7.274640\n",
       "10 2018-04-01  2744     22289.38   8.122952\n",
       "11 2018-05-01  3544     22224.27   6.270957"
      ]
     },
     "metadata": {},
     "output_type": "display_data"
    }
   ],
   "source": [
    "month_cac = pd.merge(orders_month, costs_month, on = 'month')\n",
    "month_cac['cac'] = month_cac['month_costs']/month_cac['uid']\n",
    "report\n",
    "display(month_cac)"
   ]
  },
  {
   "cell_type": "code",
   "execution_count": 68,
   "metadata": {},
   "outputs": [
    {
     "name": "stdout",
     "output_type": "stream",
     "text": [
      "the average customer acquisition value by month is: 8.24\n"
     ]
    }
   ],
   "source": [
    "print(\"the average customer acquisition value by month is: {}\".format(round(month_cac.cac.mean(), 2)))"
   ]
  },
  {
   "cell_type": "markdown",
   "metadata": {},
   "source": [
    "### How much did customer acquisition from each of the sources cost?"
   ]
  },
  {
   "cell_type": "code",
   "execution_count": 69,
   "metadata": {},
   "outputs": [],
   "source": [
    "# finding the LTV ratio per renevue and number of customers \n",
    "\n",
    "report['ltv'] = report['revenue'] / report['n_customers']"
   ]
  },
  {
   "cell_type": "code",
   "execution_count": 70,
   "metadata": {},
   "outputs": [
    {
     "data": {
      "text/html": [
       "<div>\n",
       "<style scoped>\n",
       "    .dataframe tbody tr th:only-of-type {\n",
       "        vertical-align: middle;\n",
       "    }\n",
       "\n",
       "    .dataframe tbody tr th {\n",
       "        vertical-align: top;\n",
       "    }\n",
       "\n",
       "    .dataframe thead th {\n",
       "        text-align: right;\n",
       "    }\n",
       "</style>\n",
       "<table border=\"1\" class=\"dataframe\">\n",
       "  <thead>\n",
       "    <tr style=\"text-align: right;\">\n",
       "      <th></th>\n",
       "      <th>order_month</th>\n",
       "      <th>uid</th>\n",
       "      <th>month_costs</th>\n",
       "      <th>cac</th>\n",
       "    </tr>\n",
       "  </thead>\n",
       "  <tbody>\n",
       "    <tr>\n",
       "      <td>0</td>\n",
       "      <td>2017-06-01</td>\n",
       "      <td>2023</td>\n",
       "      <td>18015.00</td>\n",
       "      <td>8.905091</td>\n",
       "    </tr>\n",
       "    <tr>\n",
       "      <td>1</td>\n",
       "      <td>2017-07-01</td>\n",
       "      <td>1984</td>\n",
       "      <td>18240.59</td>\n",
       "      <td>9.193846</td>\n",
       "    </tr>\n",
       "    <tr>\n",
       "      <td>2</td>\n",
       "      <td>2017-08-01</td>\n",
       "      <td>1472</td>\n",
       "      <td>14790.54</td>\n",
       "      <td>10.047921</td>\n",
       "    </tr>\n",
       "    <tr>\n",
       "      <td>3</td>\n",
       "      <td>2017-09-01</td>\n",
       "      <td>2750</td>\n",
       "      <td>24368.91</td>\n",
       "      <td>8.861422</td>\n",
       "    </tr>\n",
       "    <tr>\n",
       "      <td>4</td>\n",
       "      <td>2017-10-01</td>\n",
       "      <td>4675</td>\n",
       "      <td>36322.88</td>\n",
       "      <td>7.769600</td>\n",
       "    </tr>\n",
       "    <tr>\n",
       "      <td>5</td>\n",
       "      <td>2017-11-01</td>\n",
       "      <td>4547</td>\n",
       "      <td>37907.88</td>\n",
       "      <td>8.336899</td>\n",
       "    </tr>\n",
       "    <tr>\n",
       "      <td>6</td>\n",
       "      <td>2017-12-01</td>\n",
       "      <td>4942</td>\n",
       "      <td>38315.35</td>\n",
       "      <td>7.753005</td>\n",
       "    </tr>\n",
       "    <tr>\n",
       "      <td>7</td>\n",
       "      <td>2018-01-01</td>\n",
       "      <td>3898</td>\n",
       "      <td>33518.52</td>\n",
       "      <td>8.598902</td>\n",
       "    </tr>\n",
       "    <tr>\n",
       "      <td>8</td>\n",
       "      <td>2018-02-01</td>\n",
       "      <td>4258</td>\n",
       "      <td>32723.03</td>\n",
       "      <td>7.685070</td>\n",
       "    </tr>\n",
       "    <tr>\n",
       "      <td>9</td>\n",
       "      <td>2018-03-01</td>\n",
       "      <td>4181</td>\n",
       "      <td>30415.27</td>\n",
       "      <td>7.274640</td>\n",
       "    </tr>\n",
       "    <tr>\n",
       "      <td>10</td>\n",
       "      <td>2018-04-01</td>\n",
       "      <td>2744</td>\n",
       "      <td>22289.38</td>\n",
       "      <td>8.122952</td>\n",
       "    </tr>\n",
       "    <tr>\n",
       "      <td>11</td>\n",
       "      <td>2018-05-01</td>\n",
       "      <td>3544</td>\n",
       "      <td>22224.27</td>\n",
       "      <td>6.270957</td>\n",
       "    </tr>\n",
       "  </tbody>\n",
       "</table>\n",
       "</div>"
      ],
      "text/plain": [
       "   order_month   uid  month_costs        cac\n",
       "0   2017-06-01  2023     18015.00   8.905091\n",
       "1   2017-07-01  1984     18240.59   9.193846\n",
       "2   2017-08-01  1472     14790.54  10.047921\n",
       "3   2017-09-01  2750     24368.91   8.861422\n",
       "4   2017-10-01  4675     36322.88   7.769600\n",
       "5   2017-11-01  4547     37907.88   8.336899\n",
       "6   2017-12-01  4942     38315.35   7.753005\n",
       "7   2018-01-01  3898     33518.52   8.598902\n",
       "8   2018-02-01  4258     32723.03   7.685070\n",
       "9   2018-03-01  4181     30415.27   7.274640\n",
       "10  2018-04-01  2744     22289.38   8.122952\n",
       "11  2018-05-01  3544     22224.27   6.270957"
      ]
     },
     "execution_count": 70,
     "metadata": {},
     "output_type": "execute_result"
    }
   ],
   "source": [
    "month_cac.rename(columns={'month':'order_month'}, inplace=True)\n",
    "month_cac['order_month'] = month_cac['order_month'].astype('datetime64[M]')\n",
    "report\n",
    "month_cac"
   ]
  },
  {
   "cell_type": "code",
   "execution_count": 71,
   "metadata": {},
   "outputs": [],
   "source": [
    "romi = pd.merge(report, month_cac, on='order_month')\n",
    "romi['romi'] = romi['ltv']/romi['cac']\n"
   ]
  },
  {
   "cell_type": "code",
   "execution_count": 72,
   "metadata": {},
   "outputs": [
    {
     "data": {
      "text/html": [
       "<div>\n",
       "<style scoped>\n",
       "    .dataframe tbody tr th:only-of-type {\n",
       "        vertical-align: middle;\n",
       "    }\n",
       "\n",
       "    .dataframe tbody tr th {\n",
       "        vertical-align: top;\n",
       "    }\n",
       "\n",
       "    .dataframe thead th {\n",
       "        text-align: right;\n",
       "    }\n",
       "</style>\n",
       "<table border=\"1\" class=\"dataframe\">\n",
       "  <thead>\n",
       "    <tr style=\"text-align: right;\">\n",
       "      <th></th>\n",
       "      <th>first_order_month</th>\n",
       "      <th>n_customers</th>\n",
       "      <th>ltv</th>\n",
       "      <th>order_month</th>\n",
       "      <th>revenue</th>\n",
       "      <th>age</th>\n",
       "      <th>uid</th>\n",
       "      <th>month_costs</th>\n",
       "      <th>cac</th>\n",
       "      <th>romi</th>\n",
       "    </tr>\n",
       "  </thead>\n",
       "  <tbody>\n",
       "    <tr>\n",
       "      <td>0</td>\n",
       "      <td>2017-06-01</td>\n",
       "      <td>2023</td>\n",
       "      <td>4.724414</td>\n",
       "      <td>2017-06-01</td>\n",
       "      <td>9557.49</td>\n",
       "      <td>0</td>\n",
       "      <td>2023</td>\n",
       "      <td>18015.00</td>\n",
       "      <td>8.905091</td>\n",
       "      <td>0.530530</td>\n",
       "    </tr>\n",
       "    <tr>\n",
       "      <td>1</td>\n",
       "      <td>2017-06-01</td>\n",
       "      <td>2023</td>\n",
       "      <td>0.485329</td>\n",
       "      <td>2017-07-01</td>\n",
       "      <td>981.82</td>\n",
       "      <td>1</td>\n",
       "      <td>1984</td>\n",
       "      <td>18240.59</td>\n",
       "      <td>9.193846</td>\n",
       "      <td>0.052788</td>\n",
       "    </tr>\n",
       "    <tr>\n",
       "      <td>2</td>\n",
       "      <td>2017-07-01</td>\n",
       "      <td>1923</td>\n",
       "      <td>6.010218</td>\n",
       "      <td>2017-07-01</td>\n",
       "      <td>11557.65</td>\n",
       "      <td>0</td>\n",
       "      <td>1984</td>\n",
       "      <td>18240.59</td>\n",
       "      <td>9.193846</td>\n",
       "      <td>0.653722</td>\n",
       "    </tr>\n",
       "  </tbody>\n",
       "</table>\n",
       "</div>"
      ],
      "text/plain": [
       "  first_order_month  n_customers       ltv order_month   revenue  age   uid  \\\n",
       "0        2017-06-01         2023  4.724414  2017-06-01   9557.49    0  2023   \n",
       "1        2017-06-01         2023  0.485329  2017-07-01    981.82    1  1984   \n",
       "2        2017-07-01         1923  6.010218  2017-07-01  11557.65    0  1984   \n",
       "\n",
       "   month_costs       cac      romi  \n",
       "0     18015.00  8.905091  0.530530  \n",
       "1     18240.59  9.193846  0.052788  \n",
       "2     18240.59  9.193846  0.653722  "
      ]
     },
     "execution_count": 72,
     "metadata": {},
     "output_type": "execute_result"
    }
   ],
   "source": [
    "romi.head(3)"
   ]
  },
  {
   "cell_type": "code",
   "execution_count": 73,
   "metadata": {},
   "outputs": [
    {
     "data": {
      "text/html": [
       "<div>\n",
       "<style scoped>\n",
       "    .dataframe tbody tr th:only-of-type {\n",
       "        vertical-align: middle;\n",
       "    }\n",
       "\n",
       "    .dataframe tbody tr th {\n",
       "        vertical-align: top;\n",
       "    }\n",
       "\n",
       "    .dataframe thead th {\n",
       "        text-align: right;\n",
       "    }\n",
       "</style>\n",
       "<table border=\"1\" class=\"dataframe\">\n",
       "  <thead>\n",
       "    <tr style=\"text-align: right;\">\n",
       "      <th>age</th>\n",
       "      <th>0</th>\n",
       "      <th>1</th>\n",
       "      <th>2</th>\n",
       "      <th>3</th>\n",
       "      <th>4</th>\n",
       "      <th>5</th>\n",
       "      <th>6</th>\n",
       "      <th>7</th>\n",
       "      <th>8</th>\n",
       "      <th>9</th>\n",
       "      <th>10</th>\n",
       "      <th>11</th>\n",
       "    </tr>\n",
       "    <tr>\n",
       "      <th>first_order_month</th>\n",
       "      <th></th>\n",
       "      <th></th>\n",
       "      <th></th>\n",
       "      <th></th>\n",
       "      <th></th>\n",
       "      <th></th>\n",
       "      <th></th>\n",
       "      <th></th>\n",
       "      <th></th>\n",
       "      <th></th>\n",
       "      <th></th>\n",
       "      <th></th>\n",
       "    </tr>\n",
       "  </thead>\n",
       "  <tbody>\n",
       "    <tr>\n",
       "      <td>2017-06-01</td>\n",
       "      <td>0.53</td>\n",
       "      <td>0.58</td>\n",
       "      <td>0.63</td>\n",
       "      <td>0.73</td>\n",
       "      <td>0.87</td>\n",
       "      <td>0.95</td>\n",
       "      <td>1.08</td>\n",
       "      <td>1.14</td>\n",
       "      <td>1.22</td>\n",
       "      <td>1.3</td>\n",
       "      <td>1.37</td>\n",
       "      <td>1.41</td>\n",
       "    </tr>\n",
       "    <tr>\n",
       "      <td>2017-07-01</td>\n",
       "      <td>0.65</td>\n",
       "      <td>0.69</td>\n",
       "      <td>0.76</td>\n",
       "      <td>0.8</td>\n",
       "      <td>0.82</td>\n",
       "      <td>0.84</td>\n",
       "      <td>0.86</td>\n",
       "      <td>0.88</td>\n",
       "      <td>0.9</td>\n",
       "      <td>0.92</td>\n",
       "      <td>0.94</td>\n",
       "      <td></td>\n",
       "    </tr>\n",
       "    <tr>\n",
       "      <td>2017-08-01</td>\n",
       "      <td>0.53</td>\n",
       "      <td>0.58</td>\n",
       "      <td>0.64</td>\n",
       "      <td>0.68</td>\n",
       "      <td>0.75</td>\n",
       "      <td>0.78</td>\n",
       "      <td>0.81</td>\n",
       "      <td>0.86</td>\n",
       "      <td>0.9</td>\n",
       "      <td>0.93</td>\n",
       "      <td></td>\n",
       "      <td></td>\n",
       "    </tr>\n",
       "    <tr>\n",
       "      <td>2017-09-01</td>\n",
       "      <td>0.64</td>\n",
       "      <td>0.78</td>\n",
       "      <td>0.84</td>\n",
       "      <td>1.36</td>\n",
       "      <td>1.4</td>\n",
       "      <td>1.49</td>\n",
       "      <td>1.58</td>\n",
       "      <td>1.61</td>\n",
       "      <td>1.64</td>\n",
       "      <td></td>\n",
       "      <td></td>\n",
       "      <td></td>\n",
       "    </tr>\n",
       "    <tr>\n",
       "      <td>2017-10-01</td>\n",
       "      <td>0.64</td>\n",
       "      <td>0.71</td>\n",
       "      <td>0.73</td>\n",
       "      <td>0.75</td>\n",
       "      <td>0.77</td>\n",
       "      <td>0.79</td>\n",
       "      <td>0.8</td>\n",
       "      <td>0.82</td>\n",
       "      <td></td>\n",
       "      <td></td>\n",
       "      <td></td>\n",
       "      <td></td>\n",
       "    </tr>\n",
       "    <tr>\n",
       "      <td>2017-11-01</td>\n",
       "      <td>0.62</td>\n",
       "      <td>0.67</td>\n",
       "      <td>0.69</td>\n",
       "      <td>0.74</td>\n",
       "      <td>0.76</td>\n",
       "      <td>0.76</td>\n",
       "      <td>0.78</td>\n",
       "      <td></td>\n",
       "      <td></td>\n",
       "      <td></td>\n",
       "      <td></td>\n",
       "      <td></td>\n",
       "    </tr>\n",
       "    <tr>\n",
       "      <td>2017-12-01</td>\n",
       "      <td>0.61</td>\n",
       "      <td>0.64</td>\n",
       "      <td>0.76</td>\n",
       "      <td>0.91</td>\n",
       "      <td>0.95</td>\n",
       "      <td>1</td>\n",
       "      <td></td>\n",
       "      <td></td>\n",
       "      <td></td>\n",
       "      <td></td>\n",
       "      <td></td>\n",
       "      <td></td>\n",
       "    </tr>\n",
       "    <tr>\n",
       "      <td>2018-01-01</td>\n",
       "      <td>0.48</td>\n",
       "      <td>0.52</td>\n",
       "      <td>0.56</td>\n",
       "      <td>0.58</td>\n",
       "      <td>0.59</td>\n",
       "      <td></td>\n",
       "      <td></td>\n",
       "      <td></td>\n",
       "      <td></td>\n",
       "      <td></td>\n",
       "      <td></td>\n",
       "      <td></td>\n",
       "    </tr>\n",
       "    <tr>\n",
       "      <td>2018-02-01</td>\n",
       "      <td>0.54</td>\n",
       "      <td>0.58</td>\n",
       "      <td>0.59</td>\n",
       "      <td>0.6</td>\n",
       "      <td></td>\n",
       "      <td></td>\n",
       "      <td></td>\n",
       "      <td></td>\n",
       "      <td></td>\n",
       "      <td></td>\n",
       "      <td></td>\n",
       "      <td></td>\n",
       "    </tr>\n",
       "    <tr>\n",
       "      <td>2018-03-01</td>\n",
       "      <td>0.67</td>\n",
       "      <td>0.7</td>\n",
       "      <td>0.75</td>\n",
       "      <td></td>\n",
       "      <td></td>\n",
       "      <td></td>\n",
       "      <td></td>\n",
       "      <td></td>\n",
       "      <td></td>\n",
       "      <td></td>\n",
       "      <td></td>\n",
       "      <td></td>\n",
       "    </tr>\n",
       "    <tr>\n",
       "      <td>2018-04-01</td>\n",
       "      <td>0.57</td>\n",
       "      <td>0.66</td>\n",
       "      <td></td>\n",
       "      <td></td>\n",
       "      <td></td>\n",
       "      <td></td>\n",
       "      <td></td>\n",
       "      <td></td>\n",
       "      <td></td>\n",
       "      <td></td>\n",
       "      <td></td>\n",
       "      <td></td>\n",
       "    </tr>\n",
       "    <tr>\n",
       "      <td>2018-05-01</td>\n",
       "      <td>0.74</td>\n",
       "      <td></td>\n",
       "      <td></td>\n",
       "      <td></td>\n",
       "      <td></td>\n",
       "      <td></td>\n",
       "      <td></td>\n",
       "      <td></td>\n",
       "      <td></td>\n",
       "      <td></td>\n",
       "      <td></td>\n",
       "      <td></td>\n",
       "    </tr>\n",
       "  </tbody>\n",
       "</table>\n",
       "</div>"
      ],
      "text/plain": [
       "age                  0     1     2     3     4     5     6     7     8     9   \\\n",
       "first_order_month                                                               \n",
       "2017-06-01         0.53  0.58  0.63  0.73  0.87  0.95  1.08  1.14  1.22   1.3   \n",
       "2017-07-01         0.65  0.69  0.76   0.8  0.82  0.84  0.86  0.88   0.9  0.92   \n",
       "2017-08-01         0.53  0.58  0.64  0.68  0.75  0.78  0.81  0.86   0.9  0.93   \n",
       "2017-09-01         0.64  0.78  0.84  1.36   1.4  1.49  1.58  1.61  1.64         \n",
       "2017-10-01         0.64  0.71  0.73  0.75  0.77  0.79   0.8  0.82               \n",
       "2017-11-01         0.62  0.67  0.69  0.74  0.76  0.76  0.78                     \n",
       "2017-12-01         0.61  0.64  0.76  0.91  0.95     1                           \n",
       "2018-01-01         0.48  0.52  0.56  0.58  0.59                                 \n",
       "2018-02-01         0.54  0.58  0.59   0.6                                       \n",
       "2018-03-01         0.67   0.7  0.75                                             \n",
       "2018-04-01         0.57  0.66                                                   \n",
       "2018-05-01         0.74                                                         \n",
       "\n",
       "age                  10    11  \n",
       "first_order_month              \n",
       "2017-06-01         1.37  1.41  \n",
       "2017-07-01         0.94        \n",
       "2017-08-01                     \n",
       "2017-09-01                     \n",
       "2017-10-01                     \n",
       "2017-11-01                     \n",
       "2017-12-01                     \n",
       "2018-01-01                     \n",
       "2018-02-01                     \n",
       "2018-03-01                     \n",
       "2018-04-01                     \n",
       "2018-05-01                     "
      ]
     },
     "execution_count": 73,
     "metadata": {},
     "output_type": "execute_result"
    }
   ],
   "source": [
    "output = romi.pivot_table(\n",
    "    index='first_order_month', \n",
    "    columns='age', \n",
    "    values='romi', \n",
    "    aggfunc='mean')\n",
    "\n",
    "output = output.cumsum(axis=1).round(decimals=2)\n",
    "output.fillna('')"
   ]
  },
  {
   "cell_type": "code",
   "execution_count": 74,
   "metadata": {},
   "outputs": [
    {
     "data": {
      "image/png": "[encoded data removed]",
      "text/plain": [
       "<Figure size 1152x792 with 2 Axes>"
      ]
     },
     "metadata": {},
     "output_type": "display_data"
    }
   ],
   "source": [
    "#creating heatmap for overall ROI\n",
    "sns.set(style='dark')\n",
    "plt.figure(figsize=(16, 11))\n",
    "plt.title('Overall Return Of Investment')\n",
    "sns.heatmap(output, annot=True, fmt='.1%', vmax = .3, linewidths=1, linecolor='gray'); "
   ]
  },
  {
   "cell_type": "markdown",
   "metadata": {},
   "source": [
    "Source ID 3 has the hight costs but not the highest revenue. On the other hand, source ID 1 has a significant lower cost but the highest revenue. Souce ID 4 has double the revenue of its marketing cost. So something is no right with the marketing strategy of Source ID 1 - this is maybe a bit too early to conclude - let's determine the ROMI"
   ]
  },
  {
   "cell_type": "markdown",
   "metadata": {},
   "source": [
    "# Conclusion"
   ]
  },
  {
   "cell_type": "markdown",
   "metadata": {},
   "source": [
    "Analysis Recap: The company gets 987 visit sessions per day with 1.08 average sessions per users. User clearly prefer Desktop over touch. Overall, visitors spend 10 minutes on the site in average. There are approximately 50-300 orders per day. Most productive month June, September, and December 2017\n",
    "\n",
    "Overall assement: the company tends to spend more than it generates revenue in certain areas. However, the business seems healtly as a whole.\n",
    "\n",
    "Suggestions: The company is getting a lot traffic but those visitors do not turn into customers at a higher rate. The company is also spending a lot of money to attract those customers or just in general a higer acquision cost. A comparision year to year cannot not be fully done as 2018 is still going on ( on this analysis) My advise for marketing experts at Yandex.Afisha would be to revise the marketing cost and strategy used on source_id 3 ( high cost and low return). Duplicating the strategy used for source_Ids 2 & 1 would probably be beneficial. "
   ]
  },
  {
   "cell_type": "code",
   "execution_count": null,
   "metadata": {},
   "outputs": [],
   "source": []
  }
 ],
 "metadata": {
  "ExecuteTimeLog": [
   {
    "duration": 526,
    "start_time": "2021-06-13T12:12:06.541Z"
   },
   {
    "duration": 2326,
    "start_time": "2021-06-13T12:12:14.364Z"
   },
   {
    "duration": 66,
    "start_time": "2021-06-13T12:12:16.693Z"
   },
   {
    "duration": 36,
    "start_time": "2021-06-13T12:12:16.763Z"
   },
   {
    "duration": 13,
    "start_time": "2021-06-13T12:12:16.802Z"
   },
   {
    "duration": 89,
    "start_time": "2021-06-13T12:12:16.819Z"
   },
   {
    "duration": 9,
    "start_time": "2021-06-13T12:12:16.912Z"
   },
   {
    "duration": 15,
    "start_time": "2021-06-13T12:12:16.924Z"
   },
   {
    "duration": 45,
    "start_time": "2021-06-13T12:12:16.944Z"
   },
   {
    "duration": 23,
    "start_time": "2021-06-13T12:12:16.992Z"
   },
   {
    "duration": 5,
    "start_time": "2021-06-13T12:12:17.018Z"
   },
   {
    "duration": 267,
    "start_time": "2021-06-13T12:12:17.026Z"
   },
   {
    "duration": 325,
    "start_time": "2021-06-13T12:12:17.295Z"
   },
   {
    "duration": 32,
    "start_time": "2021-06-13T12:12:17.624Z"
   },
   {
    "duration": 389,
    "start_time": "2021-06-13T12:12:18.035Z"
   },
   {
    "duration": 5,
    "start_time": "2021-06-13T12:12:18.427Z"
   },
   {
    "duration": 84,
    "start_time": "2021-06-13T12:12:18.841Z"
   },
   {
    "duration": 12,
    "start_time": "2021-06-13T12:12:19.054Z"
   },
   {
    "duration": 31,
    "start_time": "2021-06-13T12:12:19.254Z"
   },
   {
    "duration": 56,
    "start_time": "2021-06-13T12:12:19.460Z"
   },
   {
    "duration": 406,
    "start_time": "2021-06-13T12:12:20.450Z"
   },
   {
    "duration": 26,
    "start_time": "2021-06-13T12:12:20.859Z"
   },
   {
    "duration": 12,
    "start_time": "2021-06-13T12:12:20.889Z"
   },
   {
    "duration": 405,
    "start_time": "2021-06-13T12:12:21.430Z"
   },
   {
    "duration": 27,
    "start_time": "2021-06-13T12:12:21.837Z"
   },
   {
    "duration": 27,
    "start_time": "2021-06-13T12:12:22.755Z"
   },
   {
    "duration": 402,
    "start_time": "2021-06-13T12:13:34.695Z"
   },
   {
    "duration": 21,
    "start_time": "2021-06-13T12:14:10.861Z"
   },
   {
    "duration": 301,
    "start_time": "2021-06-13T12:14:12.481Z"
   },
   {
    "duration": 324,
    "start_time": "2021-06-13T12:14:27.756Z"
   },
   {
    "duration": 30,
    "start_time": "2021-06-13T14:47:34.754Z"
   },
   {
    "duration": 168,
    "start_time": "2021-06-13T14:47:35.467Z"
   },
   {
    "duration": 184,
    "start_time": "2021-06-13T14:47:35.713Z"
   },
   {
    "duration": 143,
    "start_time": "2021-06-13T14:47:36.012Z"
   },
   {
    "duration": 8,
    "start_time": "2021-06-13T14:47:36.337Z"
   },
   {
    "duration": 3,
    "start_time": "2021-06-13T14:47:36.978Z"
   },
   {
    "duration": 9,
    "start_time": "2021-06-13T14:47:37.233Z"
   },
   {
    "duration": 9,
    "start_time": "2021-06-13T14:47:37.513Z"
   },
   {
    "duration": 12,
    "start_time": "2021-06-13T14:47:37.799Z"
   },
   {
    "duration": 13,
    "start_time": "2021-06-13T14:47:38.744Z"
   },
   {
    "duration": 23,
    "start_time": "2021-06-13T14:47:39.017Z"
   },
   {
    "duration": 1241,
    "start_time": "2021-06-13T14:47:39.296Z"
   },
   {
    "duration": 118,
    "start_time": "2021-06-13T14:47:44.612Z"
   },
   {
    "duration": 27,
    "start_time": "2021-06-13T14:47:46.243Z"
   },
   {
    "duration": 13,
    "start_time": "2021-06-13T14:47:47.157Z"
   },
   {
    "duration": 16,
    "start_time": "2021-06-13T14:47:47.559Z"
   },
   {
    "duration": 5543,
    "start_time": "2021-06-13T14:47:49.956Z"
   },
   {
    "duration": 38,
    "start_time": "2021-06-13T14:47:58.818Z"
   },
   {
    "duration": 28,
    "start_time": "2021-06-13T14:47:59.367Z"
   },
   {
    "duration": 16,
    "start_time": "2021-06-13T14:48:05.623Z"
   },
   {
    "duration": 111,
    "start_time": "2021-06-13T14:54:57.056Z"
   },
   {
    "duration": 14,
    "start_time": "2021-06-13T14:58:47.814Z"
   },
   {
    "duration": 15,
    "start_time": "2021-06-13T15:00:55.568Z"
   },
   {
    "duration": 19,
    "start_time": "2021-06-13T15:02:45.083Z"
   },
   {
    "duration": 26,
    "start_time": "2021-06-13T15:02:47.414Z"
   },
   {
    "duration": 9,
    "start_time": "2021-06-13T15:02:47.849Z"
   },
   {
    "duration": 28,
    "start_time": "2021-06-13T15:02:48.324Z"
   },
   {
    "duration": 29,
    "start_time": "2021-06-13T15:02:48.774Z"
   },
   {
    "duration": 11,
    "start_time": "2021-06-13T15:28:20.641Z"
   },
   {
    "duration": 25,
    "start_time": "2021-06-13T15:28:21.695Z"
   },
   {
    "duration": 20,
    "start_time": "2021-06-13T15:28:23.086Z"
   },
   {
    "duration": 7,
    "start_time": "2021-06-13T15:28:41.001Z"
   },
   {
    "duration": 312,
    "start_time": "2021-06-13T15:43:50.200Z"
   },
   {
    "duration": 91,
    "start_time": "2021-06-13T15:43:57.801Z"
   },
   {
    "duration": 302,
    "start_time": "2021-06-13T15:45:13.006Z"
   },
   {
    "duration": 14,
    "start_time": "2021-06-13T15:45:22.745Z"
   },
   {
    "duration": 307,
    "start_time": "2021-06-13T16:26:50.469Z"
   },
   {
    "duration": 9,
    "start_time": "2021-06-13T16:27:10.935Z"
   },
   {
    "duration": 5,
    "start_time": "2021-06-13T16:27:13.085Z"
   },
   {
    "duration": 10,
    "start_time": "2021-06-13T16:27:13.815Z"
   },
   {
    "duration": 359,
    "start_time": "2021-06-13T16:27:14.429Z"
   },
   {
    "duration": 20,
    "start_time": "2021-06-13T16:27:15.445Z"
   },
   {
    "duration": 404,
    "start_time": "2021-06-13T16:27:15.951Z"
   },
   {
    "duration": 314,
    "start_time": "2021-06-13T16:27:18.661Z"
   },
   {
    "duration": 18,
    "start_time": "2021-06-13T16:27:22.612Z"
   },
   {
    "duration": 85,
    "start_time": "2021-06-13T16:27:28.929Z"
   },
   {
    "duration": 15,
    "start_time": "2021-06-13T16:27:32.175Z"
   },
   {
    "duration": 19,
    "start_time": "2021-06-13T16:27:33.660Z"
   },
   {
    "duration": 14,
    "start_time": "2021-06-13T16:27:41.933Z"
   },
   {
    "duration": 345,
    "start_time": "2021-06-13T16:27:50.564Z"
   },
   {
    "duration": 20,
    "start_time": "2021-06-13T16:27:53.561Z"
   },
   {
    "duration": 5,
    "start_time": "2021-06-13T16:27:59.146Z"
   },
   {
    "duration": 5,
    "start_time": "2021-06-13T16:28:01.137Z"
   },
   {
    "duration": 101,
    "start_time": "2021-06-13T16:28:01.837Z"
   },
   {
    "duration": 14,
    "start_time": "2021-06-13T16:28:14.859Z"
   },
   {
    "duration": 14,
    "start_time": "2021-06-13T16:32:55.861Z"
   },
   {
    "duration": 12,
    "start_time": "2021-06-13T16:32:56.472Z"
   },
   {
    "duration": 18,
    "start_time": "2021-06-13T16:32:56.960Z"
   },
   {
    "duration": 54,
    "start_time": "2021-06-13T16:32:57.561Z"
   },
   {
    "duration": 1446,
    "start_time": "2021-06-13T16:33:01.551Z"
   },
   {
    "duration": 4,
    "start_time": "2021-06-13T16:33:48.491Z"
   },
   {
    "duration": 16,
    "start_time": "2021-06-13T16:33:49.123Z"
   },
   {
    "duration": 13,
    "start_time": "2021-06-13T16:33:54.747Z"
   },
   {
    "duration": 55,
    "start_time": "2021-06-13T16:37:30.915Z"
   },
   {
    "duration": 1460,
    "start_time": "2021-06-13T16:37:41.215Z"
   },
   {
    "duration": 53,
    "start_time": "2021-06-13T16:39:18.468Z"
   },
   {
    "duration": 22,
    "start_time": "2021-06-13T16:39:24.810Z"
   },
   {
    "duration": 26,
    "start_time": "2021-06-13T16:39:47.493Z"
   },
   {
    "duration": 10,
    "start_time": "2021-06-13T16:39:48.325Z"
   },
   {
    "duration": 59,
    "start_time": "2021-06-13T16:39:49.895Z"
   },
   {
    "duration": 23,
    "start_time": "2021-06-13T16:39:55.041Z"
   },
   {
    "duration": 59,
    "start_time": "2021-06-13T16:40:59.540Z"
   },
   {
    "duration": 24,
    "start_time": "2021-06-13T16:41:02.074Z"
   },
   {
    "duration": 28,
    "start_time": "2021-06-13T16:41:53.190Z"
   },
   {
    "duration": 10,
    "start_time": "2021-06-13T16:41:53.955Z"
   },
   {
    "duration": 55,
    "start_time": "2021-06-13T16:41:54.636Z"
   },
   {
    "duration": 7,
    "start_time": "2021-06-13T16:42:00.228Z"
   },
   {
    "duration": 18,
    "start_time": "2021-06-13T16:48:04.046Z"
   },
   {
    "duration": 291,
    "start_time": "2021-06-13T16:57:49.621Z"
   },
   {
    "duration": 311,
    "start_time": "2021-06-13T16:58:22.685Z"
   },
   {
    "duration": 7332,
    "start_time": "2021-06-13T17:01:29.777Z"
   },
   {
    "duration": 315,
    "start_time": "2021-06-13T17:04:42.665Z"
   },
   {
    "duration": 12,
    "start_time": "2021-06-13T17:05:55.008Z"
   },
   {
    "duration": 7274,
    "start_time": "2021-06-13T17:06:16.650Z"
   },
   {
    "duration": 308,
    "start_time": "2021-06-13T17:18:59.741Z"
   },
   {
    "duration": 309,
    "start_time": "2021-06-13T17:19:14.391Z"
   },
   {
    "duration": 297,
    "start_time": "2021-06-13T17:19:48.081Z"
   },
   {
    "duration": 10054,
    "start_time": "2021-06-13T17:20:12.307Z"
   },
   {
    "duration": 7868,
    "start_time": "2021-06-13T17:21:00.431Z"
   },
   {
    "duration": 87,
    "start_time": "2021-06-13T17:21:29.491Z"
   },
   {
    "duration": 11394,
    "start_time": "2021-06-13T17:25:33.813Z"
   },
   {
    "duration": 7574,
    "start_time": "2021-06-13T17:25:57.865Z"
   },
   {
    "duration": 18,
    "start_time": "2021-06-13T17:27:29.373Z"
   },
   {
    "duration": 88,
    "start_time": "2021-06-13T17:28:48.456Z"
   },
   {
    "duration": 7749,
    "start_time": "2021-06-13T17:32:08.253Z"
   },
   {
    "duration": 299,
    "start_time": "2021-06-13T17:32:37.271Z"
   },
   {
    "duration": 9,
    "start_time": "2021-06-13T17:32:46.595Z"
   },
   {
    "duration": 7798,
    "start_time": "2021-06-13T17:34:02.933Z"
   },
   {
    "duration": 9,
    "start_time": "2021-06-13T17:34:54.202Z"
   },
   {
    "duration": 326,
    "start_time": "2021-06-13T21:22:28.341Z"
   },
   {
    "duration": 240,
    "start_time": "2021-06-13T21:22:34.938Z"
   },
   {
    "duration": 242,
    "start_time": "2021-06-13T21:22:40.386Z"
   },
   {
    "duration": 2252,
    "start_time": "2021-06-13T21:22:46.716Z"
   },
   {
    "duration": 65,
    "start_time": "2021-06-13T21:22:48.971Z"
   },
   {
    "duration": 19,
    "start_time": "2021-06-13T21:22:49.039Z"
   },
   {
    "duration": 11,
    "start_time": "2021-06-13T21:22:49.060Z"
   },
   {
    "duration": 82,
    "start_time": "2021-06-13T21:22:49.073Z"
   },
   {
    "duration": 6,
    "start_time": "2021-06-13T21:22:49.158Z"
   },
   {
    "duration": 19,
    "start_time": "2021-06-13T21:22:49.167Z"
   },
   {
    "duration": 10,
    "start_time": "2021-06-13T21:22:49.192Z"
   },
   {
    "duration": 10,
    "start_time": "2021-06-13T21:22:49.420Z"
   },
   {
    "duration": 6,
    "start_time": "2021-06-13T21:22:50.040Z"
   },
   {
    "duration": 245,
    "start_time": "2021-06-13T21:22:50.250Z"
   },
   {
    "duration": 333,
    "start_time": "2021-06-13T21:22:50.497Z"
   },
   {
    "duration": 35,
    "start_time": "2021-06-13T21:22:50.833Z"
   },
   {
    "duration": 371,
    "start_time": "2021-06-13T21:22:52.096Z"
   },
   {
    "duration": 5,
    "start_time": "2021-06-13T21:22:52.470Z"
   },
   {
    "duration": 47,
    "start_time": "2021-06-13T21:22:52.971Z"
   },
   {
    "duration": 11,
    "start_time": "2021-06-13T21:22:53.196Z"
   },
   {
    "duration": 35,
    "start_time": "2021-06-13T21:22:53.416Z"
   },
   {
    "duration": 57,
    "start_time": "2021-06-13T21:22:53.637Z"
   },
   {
    "duration": 412,
    "start_time": "2021-06-13T21:22:54.722Z"
   },
   {
    "duration": 19,
    "start_time": "2021-06-13T21:22:55.137Z"
   },
   {
    "duration": 11,
    "start_time": "2021-06-13T21:22:55.162Z"
   },
   {
    "duration": 441,
    "start_time": "2021-06-13T21:22:55.802Z"
   },
   {
    "duration": 35,
    "start_time": "2021-06-13T21:22:56.245Z"
   },
   {
    "duration": 28,
    "start_time": "2021-06-13T21:22:57.587Z"
   },
   {
    "duration": 169,
    "start_time": "2021-06-13T21:22:57.802Z"
   },
   {
    "duration": 190,
    "start_time": "2021-06-13T21:22:58.056Z"
   },
   {
    "duration": 143,
    "start_time": "2021-06-13T21:22:58.497Z"
   },
   {
    "duration": 9,
    "start_time": "2021-06-13T21:22:58.777Z"
   },
   {
    "duration": 4,
    "start_time": "2021-06-13T21:22:58.976Z"
   },
   {
    "duration": 9,
    "start_time": "2021-06-13T21:22:59.191Z"
   },
   {
    "duration": 10,
    "start_time": "2021-06-13T21:22:59.727Z"
   },
   {
    "duration": 13,
    "start_time": "2021-06-13T21:23:00.137Z"
   },
   {
    "duration": 13,
    "start_time": "2021-06-13T21:23:01.163Z"
   },
   {
    "duration": 27,
    "start_time": "2021-06-13T21:23:01.376Z"
   },
   {
    "duration": 1208,
    "start_time": "2021-06-13T21:23:02.182Z"
   },
   {
    "duration": 112,
    "start_time": "2021-06-13T21:23:06.693Z"
   },
   {
    "duration": 26,
    "start_time": "2021-06-13T21:23:07.787Z"
   },
   {
    "duration": 13,
    "start_time": "2021-06-13T21:23:08.495Z"
   },
   {
    "duration": 15,
    "start_time": "2021-06-13T21:23:09.247Z"
   },
   {
    "duration": 5439,
    "start_time": "2021-06-13T21:23:10.768Z"
   },
   {
    "duration": 52,
    "start_time": "2021-06-13T21:23:16.209Z"
   },
   {
    "duration": 26,
    "start_time": "2021-06-13T21:23:16.264Z"
   },
   {
    "duration": 15,
    "start_time": "2021-06-13T21:23:38.362Z"
   },
   {
    "duration": 26,
    "start_time": "2021-06-13T21:23:44.400Z"
   },
   {
    "duration": 11,
    "start_time": "2021-06-13T21:23:45.205Z"
   },
   {
    "duration": 54,
    "start_time": "2021-06-13T21:23:45.868Z"
   },
   {
    "duration": 7,
    "start_time": "2021-06-13T21:23:48.858Z"
   },
   {
    "duration": 6,
    "start_time": "2021-06-13T21:23:51.407Z"
   },
   {
    "duration": 10,
    "start_time": "2021-06-13T21:23:51.920Z"
   },
   {
    "duration": 467,
    "start_time": "2021-06-13T21:23:52.361Z"
   },
   {
    "duration": 21,
    "start_time": "2021-06-13T21:23:53.182Z"
   },
   {
    "duration": 409,
    "start_time": "2021-06-13T21:23:53.466Z"
   },
   {
    "duration": 316,
    "start_time": "2021-06-13T21:23:55.771Z"
   },
   {
    "duration": 18,
    "start_time": "2021-06-13T21:23:56.907Z"
   },
   {
    "duration": 25,
    "start_time": "2021-06-13T21:23:59.558Z"
   },
   {
    "duration": 339,
    "start_time": "2021-06-13T21:24:03.374Z"
   },
   {
    "duration": 10,
    "start_time": "2021-06-13T21:24:04.111Z"
   },
   {
    "duration": 15,
    "start_time": "2021-06-13T21:24:06.830Z"
   },
   {
    "duration": 6,
    "start_time": "2021-06-13T21:31:20.289Z"
   },
   {
    "duration": 261,
    "start_time": "2021-06-13T21:31:23.436Z"
   },
   {
    "duration": 257,
    "start_time": "2021-06-13T21:31:48.095Z"
   },
   {
    "duration": 12,
    "start_time": "2021-06-13T21:31:52.900Z"
   },
   {
    "duration": 255,
    "start_time": "2021-06-13T21:32:07.661Z"
   },
   {
    "duration": 96,
    "start_time": "2021-06-13T21:32:55.172Z"
   },
   {
    "duration": 257,
    "start_time": "2021-06-13T21:33:06.483Z"
   },
   {
    "duration": 288,
    "start_time": "2021-06-13T21:34:06.563Z"
   },
   {
    "duration": 240,
    "start_time": "2021-06-13T21:34:41.701Z"
   },
   {
    "duration": 253,
    "start_time": "2021-06-13T21:35:09.068Z"
   },
   {
    "duration": 254,
    "start_time": "2021-06-13T21:35:36.400Z"
   },
   {
    "duration": 85,
    "start_time": "2021-06-13T21:35:59.917Z"
   },
   {
    "duration": 314,
    "start_time": "2021-06-13T21:36:01.748Z"
   },
   {
    "duration": 254,
    "start_time": "2021-06-13T21:36:16.018Z"
   },
   {
    "duration": 45,
    "start_time": "2021-06-13T21:39:40.506Z"
   },
   {
    "duration": 11,
    "start_time": "2021-06-13T21:39:45.192Z"
   },
   {
    "duration": 5,
    "start_time": "2021-06-13T21:39:49.752Z"
   },
   {
    "duration": 79,
    "start_time": "2021-06-13T21:39:50.238Z"
   },
   {
    "duration": 274,
    "start_time": "2021-06-13T21:39:51.352Z"
   },
   {
    "duration": 474,
    "start_time": "2021-06-13T21:40:05.496Z"
   },
   {
    "duration": 257,
    "start_time": "2021-06-13T21:40:09.036Z"
   },
   {
    "duration": 270,
    "start_time": "2021-06-13T21:41:01.643Z"
   },
   {
    "duration": 11,
    "start_time": "2021-06-13T21:43:09.783Z"
   },
   {
    "duration": 4,
    "start_time": "2021-06-13T21:43:20.849Z"
   },
   {
    "duration": 270,
    "start_time": "2021-06-13T21:43:21.573Z"
   },
   {
    "duration": 5,
    "start_time": "2021-06-13T21:44:20.453Z"
   },
   {
    "duration": 268,
    "start_time": "2021-06-13T21:47:44.563Z"
   },
   {
    "duration": 10,
    "start_time": "2021-06-13T21:47:50.503Z"
   },
   {
    "duration": 270,
    "start_time": "2021-06-13T21:53:55.572Z"
   },
   {
    "duration": 17,
    "start_time": "2021-06-13T21:55:10.325Z"
   },
   {
    "duration": 49,
    "start_time": "2021-06-13T21:55:31.325Z"
   },
   {
    "duration": 11,
    "start_time": "2021-06-13T21:55:33.150Z"
   },
   {
    "duration": 5,
    "start_time": "2021-06-13T21:55:34.088Z"
   },
   {
    "duration": 12,
    "start_time": "2021-06-13T21:55:34.877Z"
   },
   {
    "duration": 17,
    "start_time": "2021-06-13T21:55:41.017Z"
   },
   {
    "duration": 6115,
    "start_time": "2021-06-13T21:55:54.939Z"
   },
   {
    "duration": 354,
    "start_time": "2021-06-13T21:56:11.016Z"
   },
   {
    "duration": 47,
    "start_time": "2021-06-13T22:02:39.873Z"
   },
   {
    "duration": 11,
    "start_time": "2021-06-13T22:02:44.915Z"
   },
   {
    "duration": 5,
    "start_time": "2021-06-13T22:02:45.670Z"
   },
   {
    "duration": 11,
    "start_time": "2021-06-13T22:02:46.096Z"
   },
   {
    "duration": 17,
    "start_time": "2021-06-13T22:02:46.795Z"
   },
   {
    "duration": 336,
    "start_time": "2021-06-13T22:02:47.531Z"
   },
   {
    "duration": 46,
    "start_time": "2021-06-13T22:03:10.025Z"
   },
   {
    "duration": 329,
    "start_time": "2021-06-13T22:03:11.023Z"
   },
   {
    "duration": 2194,
    "start_time": "2021-06-14T00:10:02.633Z"
   },
   {
    "duration": 62,
    "start_time": "2021-06-14T00:10:04.830Z"
   },
   {
    "duration": 11,
    "start_time": "2021-06-14T00:10:04.895Z"
   },
   {
    "duration": 8,
    "start_time": "2021-06-14T00:10:04.909Z"
   },
   {
    "duration": 96,
    "start_time": "2021-06-14T00:10:04.920Z"
   },
   {
    "duration": 7,
    "start_time": "2021-06-14T00:10:05.018Z"
   },
   {
    "duration": 12,
    "start_time": "2021-06-14T00:10:05.027Z"
   },
   {
    "duration": 43,
    "start_time": "2021-06-14T00:10:05.042Z"
   },
   {
    "duration": 14,
    "start_time": "2021-06-14T00:10:05.087Z"
   },
   {
    "duration": 6,
    "start_time": "2021-06-14T00:10:05.104Z"
   },
   {
    "duration": 245,
    "start_time": "2021-06-14T00:10:05.113Z"
   },
   {
    "duration": 315,
    "start_time": "2021-06-14T00:10:05.361Z"
   },
   {
    "duration": 31,
    "start_time": "2021-06-14T00:10:05.679Z"
   },
   {
    "duration": 346,
    "start_time": "2021-06-14T00:10:06.546Z"
   },
   {
    "duration": 5,
    "start_time": "2021-06-14T00:10:06.895Z"
   },
   {
    "duration": 47,
    "start_time": "2021-06-14T00:10:10.166Z"
   },
   {
    "duration": 12,
    "start_time": "2021-06-14T00:10:10.378Z"
   },
   {
    "duration": 34,
    "start_time": "2021-06-14T00:10:10.907Z"
   },
   {
    "duration": 51,
    "start_time": "2021-06-14T00:10:11.131Z"
   },
   {
    "duration": 388,
    "start_time": "2021-06-14T00:10:12.739Z"
   },
   {
    "duration": 12,
    "start_time": "2021-06-14T00:10:13.198Z"
   },
   {
    "duration": 12,
    "start_time": "2021-06-14T00:10:13.803Z"
   },
   {
    "duration": 397,
    "start_time": "2021-06-14T00:10:14.847Z"
   },
   {
    "duration": 36,
    "start_time": "2021-06-14T00:10:15.247Z"
   },
   {
    "duration": 26,
    "start_time": "2021-06-14T00:10:16.755Z"
   },
   {
    "duration": 157,
    "start_time": "2021-06-14T00:10:16.970Z"
   },
   {
    "duration": 170,
    "start_time": "2021-06-14T00:10:17.202Z"
   },
   {
    "duration": 133,
    "start_time": "2021-06-14T00:10:17.455Z"
   },
   {
    "duration": 8,
    "start_time": "2021-06-14T00:10:17.701Z"
   },
   {
    "duration": 4,
    "start_time": "2021-06-14T00:10:17.936Z"
   },
   {
    "duration": 9,
    "start_time": "2021-06-14T00:10:20.431Z"
   },
   {
    "duration": 9,
    "start_time": "2021-06-14T00:10:20.929Z"
   },
   {
    "duration": 11,
    "start_time": "2021-06-14T00:10:21.127Z"
   },
   {
    "duration": 12,
    "start_time": "2021-06-14T00:10:21.436Z"
   },
   {
    "duration": 23,
    "start_time": "2021-06-14T00:10:21.947Z"
   },
   {
    "duration": 1199,
    "start_time": "2021-06-14T00:10:22.646Z"
   },
   {
    "duration": 111,
    "start_time": "2021-06-14T00:10:27.076Z"
   },
   {
    "duration": 25,
    "start_time": "2021-06-14T00:10:30.055Z"
   },
   {
    "duration": 14,
    "start_time": "2021-06-14T00:10:31.434Z"
   },
   {
    "duration": 17,
    "start_time": "2021-06-14T00:10:31.951Z"
   },
   {
    "duration": 5195,
    "start_time": "2021-06-14T00:10:33.716Z"
   },
   {
    "duration": 37,
    "start_time": "2021-06-14T00:10:38.914Z"
   },
   {
    "duration": 45,
    "start_time": "2021-06-14T00:10:38.954Z"
   },
   {
    "duration": 17,
    "start_time": "2021-06-14T00:10:39.001Z"
   },
   {
    "duration": 25,
    "start_time": "2021-06-14T00:11:05.484Z"
   },
   {
    "duration": 10,
    "start_time": "2021-06-14T00:11:05.722Z"
   },
   {
    "duration": 58,
    "start_time": "2021-06-14T00:11:05.942Z"
   },
   {
    "duration": 7,
    "start_time": "2021-06-14T00:11:07.371Z"
   },
   {
    "duration": 5,
    "start_time": "2021-06-14T00:11:16.817Z"
   },
   {
    "duration": 10,
    "start_time": "2021-06-14T00:11:18.860Z"
   },
   {
    "duration": 353,
    "start_time": "2021-06-14T00:11:19.060Z"
   },
   {
    "duration": 19,
    "start_time": "2021-06-14T00:11:19.439Z"
   },
   {
    "duration": 405,
    "start_time": "2021-06-14T00:11:19.637Z"
   },
   {
    "duration": 317,
    "start_time": "2021-06-14T00:11:21.692Z"
   },
   {
    "duration": 19,
    "start_time": "2021-06-14T00:11:23.177Z"
   },
   {
    "duration": 19,
    "start_time": "2021-06-14T00:11:26.177Z"
   },
   {
    "duration": 43,
    "start_time": "2021-06-14T00:11:29.334Z"
   },
   {
    "duration": 9,
    "start_time": "2021-06-14T00:11:36.937Z"
   },
   {
    "duration": 5,
    "start_time": "2021-06-14T00:11:37.147Z"
   },
   {
    "duration": 12,
    "start_time": "2021-06-14T00:11:39.682Z"
   },
   {
    "duration": 126,
    "start_time": "2021-06-14T00:11:40.615Z"
   },
   {
    "duration": 456,
    "start_time": "2021-06-14T00:11:41.293Z"
   },
   {
    "duration": 267,
    "start_time": "2021-06-14T00:12:08.152Z"
   },
   {
    "duration": 23,
    "start_time": "2021-06-14T00:12:42.085Z"
   },
   {
    "duration": 10,
    "start_time": "2021-06-14T00:25:48.367Z"
   },
   {
    "duration": 15,
    "start_time": "2021-06-14T00:25:51.701Z"
   },
   {
    "duration": 100,
    "start_time": "2021-06-14T00:25:55.720Z"
   },
   {
    "duration": 259,
    "start_time": "2021-06-14T00:26:54.440Z"
   },
   {
    "duration": 91,
    "start_time": "2021-06-14T00:27:28.216Z"
   },
   {
    "duration": 17,
    "start_time": "2021-06-14T00:27:34.931Z"
   },
   {
    "duration": 15,
    "start_time": "2021-06-14T00:28:01.206Z"
   },
   {
    "duration": 343,
    "start_time": "2021-06-14T00:28:04.315Z"
   },
   {
    "duration": 18,
    "start_time": "2021-06-14T00:28:05.731Z"
   },
   {
    "duration": 6,
    "start_time": "2021-06-14T00:28:09.706Z"
   },
   {
    "duration": 5,
    "start_time": "2021-06-14T00:28:11.461Z"
   },
   {
    "duration": 16,
    "start_time": "2021-06-14T00:28:12.226Z"
   },
   {
    "duration": 13,
    "start_time": "2021-06-14T00:28:14.087Z"
   },
   {
    "duration": 12,
    "start_time": "2021-06-14T00:28:14.747Z"
   },
   {
    "duration": 18,
    "start_time": "2021-06-14T00:28:15.281Z"
   },
   {
    "duration": 53,
    "start_time": "2021-06-14T00:28:15.987Z"
   },
   {
    "duration": 1326,
    "start_time": "2021-06-14T00:28:16.577Z"
   },
   {
    "duration": 6,
    "start_time": "2021-06-14T00:33:35.107Z"
   },
   {
    "duration": 12,
    "start_time": "2021-06-14T00:33:36.608Z"
   },
   {
    "duration": 17,
    "start_time": "2021-06-14T00:33:46.867Z"
   },
   {
    "duration": 15,
    "start_time": "2021-06-14T00:33:46.886Z"
   },
   {
    "duration": 98,
    "start_time": "2021-06-14T00:33:47.036Z"
   },
   {
    "duration": 104,
    "start_time": "2021-06-14T00:40:04.300Z"
   },
   {
    "duration": 18,
    "start_time": "2021-06-14T00:40:28.738Z"
   },
   {
    "duration": 5,
    "start_time": "2021-06-14T00:42:42.740Z"
   },
   {
    "duration": 15,
    "start_time": "2021-06-14T00:42:43.174Z"
   },
   {
    "duration": 107,
    "start_time": "2021-06-14T00:42:43.856Z"
   },
   {
    "duration": 19,
    "start_time": "2021-06-14T00:42:55.232Z"
   },
   {
    "duration": 404,
    "start_time": "2021-06-14T00:43:04.662Z"
   },
   {
    "duration": 314,
    "start_time": "2021-06-14T00:43:05.378Z"
   },
   {
    "duration": 19,
    "start_time": "2021-06-14T00:43:05.930Z"
   },
   {
    "duration": 19,
    "start_time": "2021-06-14T00:43:06.476Z"
   },
   {
    "duration": 7,
    "start_time": "2021-06-14T00:43:06.713Z"
   },
   {
    "duration": 15,
    "start_time": "2021-06-14T00:43:06.937Z"
   },
   {
    "duration": 92,
    "start_time": "2021-06-14T00:43:07.596Z"
   },
   {
    "duration": 19,
    "start_time": "2021-06-14T00:43:09.112Z"
   },
   {
    "duration": 14,
    "start_time": "2021-06-14T00:43:09.322Z"
   },
   {
    "duration": 340,
    "start_time": "2021-06-14T00:43:09.552Z"
   },
   {
    "duration": 18,
    "start_time": "2021-06-14T00:43:09.894Z"
   },
   {
    "duration": 5,
    "start_time": "2021-06-14T00:43:09.971Z"
   },
   {
    "duration": 5,
    "start_time": "2021-06-14T00:43:10.578Z"
   },
   {
    "duration": 16,
    "start_time": "2021-06-14T00:43:10.776Z"
   },
   {
    "duration": 12,
    "start_time": "2021-06-14T00:43:11.381Z"
   },
   {
    "duration": 18,
    "start_time": "2021-06-14T00:43:11.582Z"
   },
   {
    "duration": 53,
    "start_time": "2021-06-14T00:43:11.776Z"
   },
   {
    "duration": 1461,
    "start_time": "2021-06-14T00:43:11.971Z"
   },
   {
    "duration": 19,
    "start_time": "2021-06-14T00:44:49.522Z"
   },
   {
    "duration": 14,
    "start_time": "2021-06-14T00:44:49.919Z"
   },
   {
    "duration": 341,
    "start_time": "2021-06-14T00:44:50.350Z"
   },
   {
    "duration": 18,
    "start_time": "2021-06-14T00:44:50.697Z"
   },
   {
    "duration": 6,
    "start_time": "2021-06-14T00:44:51.111Z"
   },
   {
    "duration": 5,
    "start_time": "2021-06-14T00:44:53.152Z"
   },
   {
    "duration": 16,
    "start_time": "2021-06-14T00:44:53.844Z"
   },
   {
    "duration": 12,
    "start_time": "2021-06-14T00:44:54.911Z"
   },
   {
    "duration": 18,
    "start_time": "2021-06-14T00:44:55.437Z"
   },
   {
    "duration": 53,
    "start_time": "2021-06-14T00:44:56.290Z"
   },
   {
    "duration": 1317,
    "start_time": "2021-06-14T00:44:56.512Z"
   },
   {
    "duration": 1760,
    "start_time": "2021-06-14T12:18:40.102Z"
   },
   {
    "duration": 68,
    "start_time": "2021-06-14T12:18:41.864Z"
   },
   {
    "duration": 11,
    "start_time": "2021-06-14T12:18:41.934Z"
   },
   {
    "duration": 11,
    "start_time": "2021-06-14T12:18:41.947Z"
   },
   {
    "duration": 82,
    "start_time": "2021-06-14T12:18:41.959Z"
   },
   {
    "duration": 5,
    "start_time": "2021-06-14T12:18:42.043Z"
   },
   {
    "duration": 11,
    "start_time": "2021-06-14T12:18:42.050Z"
   },
   {
    "duration": 9,
    "start_time": "2021-06-14T12:18:42.095Z"
   },
   {
    "duration": 9,
    "start_time": "2021-06-14T12:18:42.106Z"
   },
   {
    "duration": 7,
    "start_time": "2021-06-14T12:18:42.116Z"
   },
   {
    "duration": 193,
    "start_time": "2021-06-14T12:18:42.125Z"
   },
   {
    "duration": 242,
    "start_time": "2021-06-14T12:18:42.320Z"
   },
   {
    "duration": 35,
    "start_time": "2021-06-14T12:18:42.564Z"
   },
   {
    "duration": 303,
    "start_time": "2021-06-14T12:18:42.601Z"
   },
   {
    "duration": 4,
    "start_time": "2021-06-14T12:18:42.905Z"
   },
   {
    "duration": 41,
    "start_time": "2021-06-14T12:18:42.911Z"
   },
   {
    "duration": 7,
    "start_time": "2021-06-14T12:18:42.954Z"
   },
   {
    "duration": 59,
    "start_time": "2021-06-14T12:18:42.962Z"
   },
   {
    "duration": 38,
    "start_time": "2021-06-14T12:18:43.023Z"
   },
   {
    "duration": 311,
    "start_time": "2021-06-14T12:18:43.063Z"
   },
   {
    "duration": 21,
    "start_time": "2021-06-14T12:18:43.376Z"
   },
   {
    "duration": 9,
    "start_time": "2021-06-14T12:18:43.399Z"
   },
   {
    "duration": 303,
    "start_time": "2021-06-14T12:18:43.411Z"
   },
   {
    "duration": 18,
    "start_time": "2021-06-14T12:18:43.716Z"
   },
   {
    "duration": 16,
    "start_time": "2021-06-14T12:18:43.736Z"
   },
   {
    "duration": 143,
    "start_time": "2021-06-14T12:18:43.754Z"
   },
   {
    "duration": 143,
    "start_time": "2021-06-14T12:18:43.899Z"
   },
   {
    "duration": 101,
    "start_time": "2021-06-14T12:18:44.044Z"
   },
   {
    "duration": 5,
    "start_time": "2021-06-14T12:18:44.147Z"
   },
   {
    "duration": 5,
    "start_time": "2021-06-14T12:18:44.154Z"
   },
   {
    "duration": 7,
    "start_time": "2021-06-14T12:18:44.160Z"
   },
   {
    "duration": 21,
    "start_time": "2021-06-14T12:18:44.169Z"
   },
   {
    "duration": 17,
    "start_time": "2021-06-14T12:18:44.198Z"
   },
   {
    "duration": 10,
    "start_time": "2021-06-14T12:18:44.217Z"
   },
   {
    "duration": 17,
    "start_time": "2021-06-14T12:18:44.229Z"
   },
   {
    "duration": 954,
    "start_time": "2021-06-14T12:18:44.248Z"
   },
   {
    "duration": 89,
    "start_time": "2021-06-14T12:18:45.204Z"
   },
   {
    "duration": 96,
    "start_time": "2021-06-14T12:18:45.295Z"
   },
   {
    "duration": 10,
    "start_time": "2021-06-14T12:18:45.398Z"
   },
   {
    "duration": 8,
    "start_time": "2021-06-14T12:18:45.409Z"
   },
   {
    "duration": 3022,
    "start_time": "2021-06-14T12:18:45.419Z"
   },
   {
    "duration": 25,
    "start_time": "2021-06-14T12:18:48.443Z"
   },
   {
    "duration": 41,
    "start_time": "2021-06-14T12:18:48.470Z"
   },
   {
    "duration": 10,
    "start_time": "2021-06-14T12:18:48.513Z"
   },
   {
    "duration": 17,
    "start_time": "2021-06-14T12:18:48.525Z"
   },
   {
    "duration": 7,
    "start_time": "2021-06-14T12:18:48.544Z"
   },
   {
    "duration": 63,
    "start_time": "2021-06-14T12:18:48.552Z"
   },
   {
    "duration": 5,
    "start_time": "2021-06-14T12:18:48.617Z"
   },
   {
    "duration": 8,
    "start_time": "2021-06-14T12:18:48.623Z"
   },
   {
    "duration": 10,
    "start_time": "2021-06-14T12:18:48.632Z"
   },
   {
    "duration": 271,
    "start_time": "2021-06-14T12:18:48.643Z"
   },
   {
    "duration": 13,
    "start_time": "2021-06-14T12:18:48.915Z"
   },
   {
    "duration": 298,
    "start_time": "2021-06-14T12:18:48.930Z"
   },
   {
    "duration": 237,
    "start_time": "2021-06-14T12:18:49.230Z"
   },
   {
    "duration": 25,
    "start_time": "2021-06-14T12:18:49.469Z"
   },
   {
    "duration": 19,
    "start_time": "2021-06-14T12:18:49.496Z"
   },
   {
    "duration": 12,
    "start_time": "2021-06-14T12:18:49.517Z"
   },
   {
    "duration": 21,
    "start_time": "2021-06-14T12:18:49.531Z"
   },
   {
    "duration": 95,
    "start_time": "2021-06-14T12:18:49.554Z"
   },
   {
    "duration": 13,
    "start_time": "2021-06-14T12:18:49.651Z"
   },
   {
    "duration": 15,
    "start_time": "2021-06-14T12:18:49.666Z"
   },
   {
    "duration": 253,
    "start_time": "2021-06-14T12:18:49.683Z"
   },
   {
    "duration": 15,
    "start_time": "2021-06-14T12:18:49.938Z"
   },
   {
    "duration": 6,
    "start_time": "2021-06-14T12:18:49.955Z"
   },
   {
    "duration": 30,
    "start_time": "2021-06-14T12:18:49.963Z"
   },
   {
    "duration": 19,
    "start_time": "2021-06-14T12:18:49.995Z"
   },
   {
    "duration": 13,
    "start_time": "2021-06-14T12:18:50.016Z"
   },
   {
    "duration": 14,
    "start_time": "2021-06-14T12:18:50.033Z"
   },
   {
    "duration": 52,
    "start_time": "2021-06-14T12:18:50.049Z"
   },
   {
    "duration": 1005,
    "start_time": "2021-06-14T12:18:50.103Z"
   },
   {
    "duration": 16,
    "start_time": "2021-06-14T12:19:19.889Z"
   },
   {
    "duration": 449,
    "start_time": "2021-06-21T02:37:19.013Z"
   },
   {
    "duration": 316,
    "start_time": "2021-06-21T02:37:20.280Z"
   },
   {
    "duration": 3074,
    "start_time": "2021-06-21T02:37:29.398Z"
   },
   {
    "duration": 72,
    "start_time": "2021-06-21T02:37:32.475Z"
   },
   {
    "duration": 20,
    "start_time": "2021-06-21T02:37:32.550Z"
   },
   {
    "duration": 9,
    "start_time": "2021-06-21T02:37:32.572Z"
   },
   {
    "duration": 67,
    "start_time": "2021-06-21T02:37:33.403Z"
   },
   {
    "duration": 7,
    "start_time": "2021-06-21T02:37:33.602Z"
   },
   {
    "duration": 14,
    "start_time": "2021-06-21T02:37:34.073Z"
   },
   {
    "duration": 11,
    "start_time": "2021-06-21T02:37:34.299Z"
   },
   {
    "duration": 10,
    "start_time": "2021-06-21T02:37:34.543Z"
   },
   {
    "duration": 5,
    "start_time": "2021-06-21T02:37:35.193Z"
   },
   {
    "duration": 245,
    "start_time": "2021-06-21T02:37:35.393Z"
   },
   {
    "duration": 344,
    "start_time": "2021-06-21T02:37:35.640Z"
   },
   {
    "duration": 30,
    "start_time": "2021-06-21T02:37:35.987Z"
   },
   {
    "duration": 379,
    "start_time": "2021-06-21T02:37:36.854Z"
   },
   {
    "duration": 5,
    "start_time": "2021-06-21T02:37:37.236Z"
   },
   {
    "duration": 51,
    "start_time": "2021-06-21T02:37:37.678Z"
   },
   {
    "duration": 12,
    "start_time": "2021-06-21T02:37:37.898Z"
   },
   {
    "duration": 33,
    "start_time": "2021-06-21T02:37:38.110Z"
   },
   {
    "duration": 65,
    "start_time": "2021-06-21T02:37:38.327Z"
   },
   {
    "duration": 429,
    "start_time": "2021-06-21T02:37:39.365Z"
   },
   {
    "duration": 11,
    "start_time": "2021-06-21T02:37:39.797Z"
   },
   {
    "duration": 12,
    "start_time": "2021-06-21T02:37:39.811Z"
   },
   {
    "duration": 445,
    "start_time": "2021-06-21T02:37:40.449Z"
   },
   {
    "duration": 27,
    "start_time": "2021-06-21T02:37:40.897Z"
   },
   {
    "duration": 29,
    "start_time": "2021-06-21T02:37:42.468Z"
   },
   {
    "duration": 173,
    "start_time": "2021-06-21T02:37:42.719Z"
   },
   {
    "duration": 207,
    "start_time": "2021-06-21T02:37:42.913Z"
   },
   {
    "duration": 150,
    "start_time": "2021-06-21T02:37:43.190Z"
   },
   {
    "duration": 11,
    "start_time": "2021-06-21T02:37:43.351Z"
   },
   {
    "duration": 3,
    "start_time": "2021-06-21T02:37:43.640Z"
   },
   {
    "duration": 10,
    "start_time": "2021-06-21T02:37:43.938Z"
   },
   {
    "duration": 9,
    "start_time": "2021-06-21T02:37:44.323Z"
   },
   {
    "duration": 12,
    "start_time": "2021-06-21T02:37:44.606Z"
   },
   {
    "duration": 13,
    "start_time": "2021-06-21T02:37:47.357Z"
   },
   {
    "duration": 24,
    "start_time": "2021-06-21T02:37:47.700Z"
   },
   {
    "duration": 1272,
    "start_time": "2021-06-21T02:37:48.695Z"
   },
   {
    "duration": 128,
    "start_time": "2021-06-21T02:37:54.707Z"
   },
   {
    "duration": 27,
    "start_time": "2021-06-21T02:37:55.348Z"
   },
   {
    "duration": 13,
    "start_time": "2021-06-21T02:37:55.789Z"
   },
   {
    "duration": 16,
    "start_time": "2021-06-21T02:37:56.010Z"
   },
   {
    "duration": 5427,
    "start_time": "2021-06-21T02:37:56.834Z"
   },
   {
    "duration": 40,
    "start_time": "2021-06-21T02:38:02.264Z"
   },
   {
    "duration": 58,
    "start_time": "2021-06-21T02:38:02.308Z"
   },
   {
    "duration": 16,
    "start_time": "2021-06-21T02:38:02.369Z"
   },
   {
    "duration": 28,
    "start_time": "2021-06-21T02:38:02.388Z"
   },
   {
    "duration": 10,
    "start_time": "2021-06-21T02:38:02.418Z"
   },
   {
    "duration": 63,
    "start_time": "2021-06-21T02:38:02.462Z"
   },
   {
    "duration": 36,
    "start_time": "2021-06-21T02:38:02.528Z"
   },
   {
    "duration": 7,
    "start_time": "2021-06-21T02:38:02.566Z"
   },
   {
    "duration": 12,
    "start_time": "2021-06-21T02:38:02.575Z"
   },
   {
    "duration": 396,
    "start_time": "2021-06-21T02:38:02.610Z"
   },
   {
    "duration": 20,
    "start_time": "2021-06-21T02:38:03.064Z"
   },
   {
    "duration": 444,
    "start_time": "2021-06-21T02:38:03.277Z"
   },
   {
    "duration": 330,
    "start_time": "2021-06-21T02:38:04.190Z"
   },
   {
    "duration": 19,
    "start_time": "2021-06-21T02:38:04.683Z"
   },
   {
    "duration": 20,
    "start_time": "2021-06-21T02:38:05.366Z"
   },
   {
    "duration": 7,
    "start_time": "2021-06-21T02:38:05.603Z"
   },
   {
    "duration": 15,
    "start_time": "2021-06-21T02:38:07.370Z"
   },
   {
    "duration": 12,
    "start_time": "2021-06-21T02:38:57.008Z"
   },
   {
    "duration": 15,
    "start_time": "2021-06-21T02:59:55.728Z"
   },
   {
    "duration": 27,
    "start_time": "2021-06-21T03:00:06.242Z"
   },
   {
    "duration": 99,
    "start_time": "2021-06-21T03:00:09.440Z"
   },
   {
    "duration": 120,
    "start_time": "2021-06-21T03:07:26.405Z"
   },
   {
    "duration": 21,
    "start_time": "2021-06-21T03:07:33.400Z"
   },
   {
    "duration": 15,
    "start_time": "2021-06-21T03:09:59.809Z"
   },
   {
    "duration": 25,
    "start_time": "2021-06-21T03:10:00.678Z"
   },
   {
    "duration": 36,
    "start_time": "2021-06-21T03:10:04.842Z"
   },
   {
    "duration": 20,
    "start_time": "2021-06-21T03:10:08.011Z"
   },
   {
    "duration": 16,
    "start_time": "2021-06-21T03:10:08.837Z"
   },
   {
    "duration": 352,
    "start_time": "2021-06-21T03:10:09.459Z"
   },
   {
    "duration": 21,
    "start_time": "2021-06-21T03:10:10.080Z"
   },
   {
    "duration": 5,
    "start_time": "2021-06-21T03:10:10.645Z"
   },
   {
    "duration": 5,
    "start_time": "2021-06-21T03:10:12.487Z"
   },
   {
    "duration": 6,
    "start_time": "2021-06-21T03:11:07.745Z"
   },
   {
    "duration": 11,
    "start_time": "2021-06-21T03:11:08.361Z"
   },
   {
    "duration": 23,
    "start_time": "2021-06-21T03:11:09.127Z"
   },
   {
    "duration": 36,
    "start_time": "2021-06-21T03:11:09.905Z"
   },
   {
    "duration": 21,
    "start_time": "2021-06-21T03:11:18.947Z"
   },
   {
    "duration": 20,
    "start_time": "2021-06-21T03:13:20.171Z"
   },
   {
    "duration": 17,
    "start_time": "2021-06-21T03:13:21.427Z"
   },
   {
    "duration": 355,
    "start_time": "2021-06-21T03:13:23.834Z"
   },
   {
    "duration": 19,
    "start_time": "2021-06-21T03:13:26.301Z"
   },
   {
    "duration": 10,
    "start_time": "2021-06-21T03:14:07.910Z"
   },
   {
    "duration": 20,
    "start_time": "2021-06-21T03:14:34.077Z"
   },
   {
    "duration": 16,
    "start_time": "2021-06-21T03:14:35.311Z"
   },
   {
    "duration": 355,
    "start_time": "2021-06-21T03:14:36.049Z"
   },
   {
    "duration": 20,
    "start_time": "2021-06-21T03:14:36.726Z"
   },
   {
    "duration": 5,
    "start_time": "2021-06-21T03:14:37.741Z"
   },
   {
    "duration": 126,
    "start_time": "2021-06-21T03:23:21.622Z"
   },
   {
    "duration": 20,
    "start_time": "2021-06-21T03:24:59.620Z"
   },
   {
    "duration": 16,
    "start_time": "2021-06-21T03:25:00.802Z"
   },
   {
    "duration": 16,
    "start_time": "2021-06-21T03:25:35.835Z"
   },
   {
    "duration": 605,
    "start_time": "2021-06-21T03:26:04.615Z"
   },
   {
    "duration": 28,
    "start_time": "2021-06-21T03:26:05.466Z"
   },
   {
    "duration": 6,
    "start_time": "2021-06-21T03:26:06.158Z"
   },
   {
    "duration": 6,
    "start_time": "2021-06-21T03:26:07.430Z"
   },
   {
    "duration": 24,
    "start_time": "2021-06-21T03:26:07.751Z"
   },
   {
    "duration": 24,
    "start_time": "2021-06-21T03:27:12.323Z"
   },
   {
    "duration": 12,
    "start_time": "2021-06-21T03:27:14.009Z"
   },
   {
    "duration": 19,
    "start_time": "2021-06-21T03:27:14.269Z"
   },
   {
    "duration": 89,
    "start_time": "2021-06-21T03:27:15.054Z"
   },
   {
    "duration": 2321,
    "start_time": "2021-06-21T03:27:16.331Z"
   },
   {
    "duration": 1501,
    "start_time": "2021-06-21T03:27:50.538Z"
   },
   {
    "duration": 54,
    "start_time": "2021-06-21T03:29:34.520Z"
   },
   {
    "duration": 1536,
    "start_time": "2021-06-21T03:29:35.655Z"
   },
   {
    "duration": 2457,
    "start_time": "2021-06-21T14:23:22.761Z"
   },
   {
    "duration": 91,
    "start_time": "2021-06-21T14:23:25.220Z"
   },
   {
    "duration": 28,
    "start_time": "2021-06-21T14:23:25.314Z"
   },
   {
    "duration": 19,
    "start_time": "2021-06-21T14:23:25.345Z"
   },
   {
    "duration": 98,
    "start_time": "2021-06-21T14:23:25.367Z"
   },
   {
    "duration": 7,
    "start_time": "2021-06-21T14:23:25.468Z"
   },
   {
    "duration": 15,
    "start_time": "2021-06-21T14:23:25.477Z"
   },
   {
    "duration": 18,
    "start_time": "2021-06-21T14:23:25.525Z"
   },
   {
    "duration": 12,
    "start_time": "2021-06-21T14:23:25.547Z"
   },
   {
    "duration": 6,
    "start_time": "2021-06-21T14:23:25.562Z"
   },
   {
    "duration": 302,
    "start_time": "2021-06-21T14:23:25.571Z"
   },
   {
    "duration": 370,
    "start_time": "2021-06-21T14:23:25.875Z"
   },
   {
    "duration": 41,
    "start_time": "2021-06-21T14:23:26.248Z"
   },
   {
    "duration": 447,
    "start_time": "2021-06-21T14:23:26.291Z"
   },
   {
    "duration": 6,
    "start_time": "2021-06-21T14:23:26.740Z"
   },
   {
    "duration": 59,
    "start_time": "2021-06-21T14:23:26.748Z"
   },
   {
    "duration": 27,
    "start_time": "2021-06-21T14:23:26.810Z"
   },
   {
    "duration": 53,
    "start_time": "2021-06-21T14:23:26.839Z"
   },
   {
    "duration": 99,
    "start_time": "2021-06-21T14:23:26.895Z"
   },
   {
    "duration": 574,
    "start_time": "2021-06-21T14:23:26.997Z"
   },
   {
    "duration": 11,
    "start_time": "2021-06-21T14:23:27.574Z"
   },
   {
    "duration": 43,
    "start_time": "2021-06-21T14:23:27.587Z"
   },
   {
    "duration": 463,
    "start_time": "2021-06-21T14:23:27.639Z"
   },
   {
    "duration": 36,
    "start_time": "2021-06-21T14:23:28.105Z"
   },
   {
    "duration": 27,
    "start_time": "2021-06-21T14:23:28.143Z"
   },
   {
    "duration": 210,
    "start_time": "2021-06-21T14:23:28.173Z"
   },
   {
    "duration": 212,
    "start_time": "2021-06-21T14:23:28.385Z"
   },
   {
    "duration": 142,
    "start_time": "2021-06-21T14:23:28.600Z"
   },
   {
    "duration": 9,
    "start_time": "2021-06-21T14:23:28.745Z"
   },
   {
    "duration": 21,
    "start_time": "2021-06-21T14:23:28.757Z"
   },
   {
    "duration": 15,
    "start_time": "2021-06-21T14:23:28.780Z"
   },
   {
    "duration": 25,
    "start_time": "2021-06-21T14:23:28.798Z"
   },
   {
    "duration": 19,
    "start_time": "2021-06-21T14:23:28.834Z"
   },
   {
    "duration": 17,
    "start_time": "2021-06-21T14:23:28.856Z"
   },
   {
    "duration": 36,
    "start_time": "2021-06-21T14:23:28.876Z"
   },
   {
    "duration": 1325,
    "start_time": "2021-06-21T14:23:28.915Z"
   },
   {
    "duration": 148,
    "start_time": "2021-06-21T14:23:30.244Z"
   },
   {
    "duration": 121,
    "start_time": "2021-06-21T14:23:30.394Z"
   },
   {
    "duration": 14,
    "start_time": "2021-06-21T14:23:30.526Z"
   },
   {
    "duration": 16,
    "start_time": "2021-06-21T14:23:30.542Z"
   },
   {
    "duration": 5926,
    "start_time": "2021-06-21T14:23:30.560Z"
   },
   {
    "duration": 55,
    "start_time": "2021-06-21T14:23:36.489Z"
   },
   {
    "duration": 37,
    "start_time": "2021-06-21T14:23:36.550Z"
   },
   {
    "duration": 46,
    "start_time": "2021-06-21T14:23:36.589Z"
   },
   {
    "duration": 30,
    "start_time": "2021-06-21T14:23:36.642Z"
   },
   {
    "duration": 11,
    "start_time": "2021-06-21T14:23:36.674Z"
   },
   {
    "duration": 103,
    "start_time": "2021-06-21T14:23:36.688Z"
   },
   {
    "duration": 10,
    "start_time": "2021-06-21T14:23:36.793Z"
   },
   {
    "duration": 23,
    "start_time": "2021-06-21T14:23:36.806Z"
   },
   {
    "duration": 20,
    "start_time": "2021-06-21T14:23:36.832Z"
   },
   {
    "duration": 409,
    "start_time": "2021-06-21T14:23:36.854Z"
   },
   {
    "duration": 18,
    "start_time": "2021-06-21T14:23:37.265Z"
   },
   {
    "duration": 482,
    "start_time": "2021-06-21T14:23:37.286Z"
   },
   {
    "duration": 359,
    "start_time": "2021-06-21T14:23:37.771Z"
   },
   {
    "duration": 19,
    "start_time": "2021-06-21T14:23:38.133Z"
   },
   {
    "duration": 17,
    "start_time": "2021-06-21T14:23:38.154Z"
   },
   {
    "duration": 8,
    "start_time": "2021-06-21T14:23:38.173Z"
   },
   {
    "duration": 46,
    "start_time": "2021-06-21T14:23:38.184Z"
   },
   {
    "duration": 32,
    "start_time": "2021-06-21T14:23:38.233Z"
   },
   {
    "duration": 58,
    "start_time": "2021-06-21T14:23:38.267Z"
   },
   {
    "duration": 612,
    "start_time": "2021-06-21T14:23:38.330Z"
   },
   {
    "duration": 29,
    "start_time": "2021-06-21T14:23:58.947Z"
   },
   {
    "duration": 370,
    "start_time": "2021-06-21T14:24:28.617Z"
   },
   {
    "duration": 61,
    "start_time": "2021-06-21T14:24:36.036Z"
   },
   {
    "duration": 310,
    "start_time": "2021-06-22T00:49:38.177Z"
   },
   {
    "duration": 2314,
    "start_time": "2021-06-22T00:49:47.425Z"
   },
   {
    "duration": 66,
    "start_time": "2021-06-22T00:49:49.741Z"
   },
   {
    "duration": 11,
    "start_time": "2021-06-22T00:49:49.810Z"
   },
   {
    "duration": 32,
    "start_time": "2021-06-22T00:49:49.824Z"
   },
   {
    "duration": 66,
    "start_time": "2021-06-22T00:49:49.859Z"
   },
   {
    "duration": 29,
    "start_time": "2021-06-22T00:49:49.927Z"
   },
   {
    "duration": 13,
    "start_time": "2021-06-22T00:49:49.958Z"
   },
   {
    "duration": 10,
    "start_time": "2021-06-22T00:49:49.974Z"
   },
   {
    "duration": 10,
    "start_time": "2021-06-22T00:49:49.987Z"
   },
   {
    "duration": 6,
    "start_time": "2021-06-22T00:49:49.999Z"
   },
   {
    "duration": 289,
    "start_time": "2021-06-22T00:49:50.008Z"
   },
   {
    "duration": 319,
    "start_time": "2021-06-22T00:49:50.300Z"
   },
   {
    "duration": 37,
    "start_time": "2021-06-22T00:49:50.622Z"
   },
   {
    "duration": 359,
    "start_time": "2021-06-22T00:49:51.461Z"
   },
   {
    "duration": 5,
    "start_time": "2021-06-22T00:49:51.823Z"
   },
   {
    "duration": 44,
    "start_time": "2021-06-22T00:49:52.296Z"
   },
   {
    "duration": 11,
    "start_time": "2021-06-22T00:49:52.512Z"
   },
   {
    "duration": 31,
    "start_time": "2021-06-22T00:49:52.720Z"
   },
   {
    "duration": 50,
    "start_time": "2021-06-22T00:49:52.895Z"
   },
   {
    "duration": 382,
    "start_time": "2021-06-22T00:49:53.897Z"
   },
   {
    "duration": 9,
    "start_time": "2021-06-22T00:49:54.282Z"
   },
   {
    "duration": 11,
    "start_time": "2021-06-22T00:49:54.294Z"
   },
   {
    "duration": 390,
    "start_time": "2021-06-22T00:49:54.842Z"
   },
   {
    "duration": 38,
    "start_time": "2021-06-22T00:49:55.235Z"
   },
   {
    "duration": 25,
    "start_time": "2021-06-22T00:49:56.618Z"
   },
   {
    "duration": 152,
    "start_time": "2021-06-22T00:49:56.806Z"
   },
   {
    "duration": 185,
    "start_time": "2021-06-22T00:49:56.991Z"
   },
   {
    "duration": 144,
    "start_time": "2021-06-22T00:49:57.182Z"
   },
   {
    "duration": 9,
    "start_time": "2021-06-22T00:49:57.416Z"
   },
   {
    "duration": 4,
    "start_time": "2021-06-22T00:49:57.602Z"
   },
   {
    "duration": 9,
    "start_time": "2021-06-22T00:49:57.775Z"
   },
   {
    "duration": 9,
    "start_time": "2021-06-22T00:49:57.967Z"
   },
   {
    "duration": 11,
    "start_time": "2021-06-22T00:49:58.167Z"
   },
   {
    "duration": 13,
    "start_time": "2021-06-22T00:49:58.362Z"
   },
   {
    "duration": 25,
    "start_time": "2021-06-22T00:49:58.735Z"
   },
   {
    "duration": 1210,
    "start_time": "2021-06-22T00:49:58.835Z"
   },
   {
    "duration": 117,
    "start_time": "2021-06-22T00:50:00.587Z"
   },
   {
    "duration": 27,
    "start_time": "2021-06-22T00:50:01.182Z"
   },
   {
    "duration": 13,
    "start_time": "2021-06-22T00:50:01.586Z"
   },
   {
    "duration": 16,
    "start_time": "2021-06-22T00:50:01.811Z"
   },
   {
    "duration": 5320,
    "start_time": "2021-06-22T00:50:02.426Z"
   },
   {
    "duration": 37,
    "start_time": "2021-06-22T00:50:07.756Z"
   },
   {
    "duration": 25,
    "start_time": "2021-06-22T00:50:07.796Z"
   },
   {
    "duration": 38,
    "start_time": "2021-06-22T00:50:07.824Z"
   },
   {
    "duration": 26,
    "start_time": "2021-06-22T00:50:07.865Z"
   },
   {
    "duration": 8,
    "start_time": "2021-06-22T00:50:07.894Z"
   },
   {
    "duration": 76,
    "start_time": "2021-06-22T00:50:07.904Z"
   },
   {
    "duration": 5,
    "start_time": "2021-06-22T00:50:07.984Z"
   },
   {
    "duration": 9,
    "start_time": "2021-06-22T00:50:07.992Z"
   },
   {
    "duration": 15,
    "start_time": "2021-06-22T00:50:08.003Z"
   },
   {
    "duration": 371,
    "start_time": "2021-06-22T00:50:08.021Z"
   },
   {
    "duration": 21,
    "start_time": "2021-06-22T00:50:08.395Z"
   },
   {
    "duration": 444,
    "start_time": "2021-06-22T00:50:08.418Z"
   },
   {
    "duration": 325,
    "start_time": "2021-06-22T00:50:08.866Z"
   },
   {
    "duration": 17,
    "start_time": "2021-06-22T00:50:09.194Z"
   },
   {
    "duration": 18,
    "start_time": "2021-06-22T00:50:10.075Z"
   },
   {
    "duration": 7,
    "start_time": "2021-06-22T00:50:10.540Z"
   },
   {
    "duration": 11,
    "start_time": "2021-06-22T00:50:10.961Z"
   },
   {
    "duration": 23,
    "start_time": "2021-06-22T00:50:11.188Z"
   },
   {
    "duration": 14,
    "start_time": "2021-06-22T00:50:11.436Z"
   },
   {
    "duration": 78,
    "start_time": "2021-06-22T00:50:11.700Z"
   },
   {
    "duration": 329,
    "start_time": "2021-06-22T00:50:46.475Z"
   },
   {
    "duration": 14,
    "start_time": "2021-06-22T00:50:46.920Z"
   },
   {
    "duration": 412,
    "start_time": "2021-06-22T00:50:47.140Z"
   },
   {
    "duration": 5868,
    "start_time": "2021-06-22T00:51:14.225Z"
   },
   {
    "duration": -314,
    "start_time": "2021-06-22T00:51:20.410Z"
   },
   {
    "duration": 10,
    "start_time": "2021-06-22T00:52:57.853Z"
   },
   {
    "duration": 41,
    "start_time": "2021-06-22T00:54:15.237Z"
   },
   {
    "duration": 15,
    "start_time": "2021-06-22T00:54:46.029Z"
   },
   {
    "duration": 315,
    "start_time": "2021-06-22T00:54:46.548Z"
   },
   {
    "duration": 18,
    "start_time": "2021-06-22T00:54:48.888Z"
   },
   {
    "duration": 5,
    "start_time": "2021-06-22T00:54:50.917Z"
   },
   {
    "duration": 5,
    "start_time": "2021-06-22T00:54:51.972Z"
   },
   {
    "duration": 16,
    "start_time": "2021-06-22T00:54:52.228Z"
   },
   {
    "duration": 12,
    "start_time": "2021-06-22T00:54:53.215Z"
   },
   {
    "duration": 17,
    "start_time": "2021-06-22T00:54:53.437Z"
   },
   {
    "duration": 53,
    "start_time": "2021-06-22T00:54:53.670Z"
   },
   {
    "duration": 1330,
    "start_time": "2021-06-22T00:54:53.901Z"
   },
   {
    "duration": 37,
    "start_time": "2021-06-22T00:56:41.123Z"
   },
   {
    "duration": 11,
    "start_time": "2021-06-22T00:58:27.813Z"
   },
   {
    "duration": 21,
    "start_time": "2021-06-22T00:58:28.716Z"
   },
   {
    "duration": 15,
    "start_time": "2021-06-22T00:58:49.841Z"
   },
   {
    "duration": 320,
    "start_time": "2021-06-22T00:58:54.282Z"
   },
   {
    "duration": 20,
    "start_time": "2021-06-22T00:58:55.017Z"
   },
   {
    "duration": 5,
    "start_time": "2021-06-22T00:58:56.632Z"
   },
   {
    "duration": 94,
    "start_time": "2021-06-22T00:59:34.366Z"
   },
   {
    "duration": 6,
    "start_time": "2021-06-22T01:02:31.029Z"
   },
   {
    "duration": 82,
    "start_time": "2021-06-22T01:02:58.989Z"
   },
   {
    "duration": 295,
    "start_time": "2021-06-22T01:03:22.113Z"
   },
   {
    "duration": 82,
    "start_time": "2021-06-22T01:05:19.593Z"
   },
   {
    "duration": 319,
    "start_time": "2021-06-22T01:05:33.659Z"
   },
   {
    "duration": 81,
    "start_time": "2021-06-22T01:05:47.451Z"
   },
   {
    "duration": 2425,
    "start_time": "2021-06-24T22:47:00.793Z"
   },
   {
    "duration": 67,
    "start_time": "2021-06-24T22:47:03.221Z"
   },
   {
    "duration": 22,
    "start_time": "2021-06-24T22:47:03.292Z"
   },
   {
    "duration": 9,
    "start_time": "2021-06-24T22:47:03.316Z"
   },
   {
    "duration": 92,
    "start_time": "2021-06-24T22:47:03.328Z"
   },
   {
    "duration": 18,
    "start_time": "2021-06-24T22:47:03.423Z"
   },
   {
    "duration": 13,
    "start_time": "2021-06-24T22:47:03.444Z"
   },
   {
    "duration": 10,
    "start_time": "2021-06-24T22:47:03.461Z"
   },
   {
    "duration": 41,
    "start_time": "2021-06-24T22:47:03.473Z"
   },
   {
    "duration": 8,
    "start_time": "2021-06-24T22:47:03.517Z"
   },
   {
    "duration": 263,
    "start_time": "2021-06-24T22:47:03.528Z"
   },
   {
    "duration": 337,
    "start_time": "2021-06-24T22:47:03.793Z"
   },
   {
    "duration": 31,
    "start_time": "2021-06-24T22:47:04.133Z"
   },
   {
    "duration": 389,
    "start_time": "2021-06-24T22:47:04.228Z"
   },
   {
    "duration": 5,
    "start_time": "2021-06-24T22:47:04.620Z"
   },
   {
    "duration": 51,
    "start_time": "2021-06-24T22:47:05.004Z"
   },
   {
    "duration": 11,
    "start_time": "2021-06-24T22:47:05.183Z"
   },
   {
    "duration": 34,
    "start_time": "2021-06-24T22:47:05.383Z"
   },
   {
    "duration": 56,
    "start_time": "2021-06-24T22:47:05.573Z"
   },
   {
    "duration": 565,
    "start_time": "2021-06-24T22:47:06.548Z"
   },
   {
    "duration": 10,
    "start_time": "2021-06-24T22:47:07.115Z"
   },
   {
    "duration": 12,
    "start_time": "2021-06-24T22:47:07.128Z"
   },
   {
    "duration": 433,
    "start_time": "2021-06-24T22:47:07.490Z"
   },
   {
    "duration": 27,
    "start_time": "2021-06-24T22:47:07.926Z"
   },
   {
    "duration": 28,
    "start_time": "2021-06-24T22:47:09.055Z"
   },
   {
    "duration": 175,
    "start_time": "2021-06-24T22:47:09.253Z"
   },
   {
    "duration": 194,
    "start_time": "2021-06-24T22:47:09.448Z"
   },
   {
    "duration": 165,
    "start_time": "2021-06-24T22:47:09.645Z"
   },
   {
    "duration": 9,
    "start_time": "2021-06-24T22:47:09.813Z"
   },
   {
    "duration": 3,
    "start_time": "2021-06-24T22:47:09.985Z"
   },
   {
    "duration": 10,
    "start_time": "2021-06-24T22:47:10.171Z"
   },
   {
    "duration": 9,
    "start_time": "2021-06-24T22:47:10.343Z"
   },
   {
    "duration": 11,
    "start_time": "2021-06-24T22:47:10.549Z"
   },
   {
    "duration": 12,
    "start_time": "2021-06-24T22:47:10.731Z"
   },
   {
    "duration": 23,
    "start_time": "2021-06-24T22:47:10.918Z"
   },
   {
    "duration": 1354,
    "start_time": "2021-06-24T22:47:11.116Z"
   },
   {
    "duration": 120,
    "start_time": "2021-06-24T22:47:13.937Z"
   },
   {
    "duration": 27,
    "start_time": "2021-06-24T22:47:15.515Z"
   },
   {
    "duration": 14,
    "start_time": "2021-06-24T22:47:16.673Z"
   },
   {
    "duration": 17,
    "start_time": "2021-06-24T22:47:16.894Z"
   },
   {
    "duration": 5600,
    "start_time": "2021-06-24T22:47:19.038Z"
   },
   {
    "duration": 41,
    "start_time": "2021-06-24T22:47:24.640Z"
   },
   {
    "duration": 47,
    "start_time": "2021-06-24T22:47:24.684Z"
   },
   {
    "duration": 15,
    "start_time": "2021-06-24T22:47:24.733Z"
   },
   {
    "duration": 25,
    "start_time": "2021-06-24T22:47:24.751Z"
   },
   {
    "duration": 38,
    "start_time": "2021-06-24T22:47:24.779Z"
   },
   {
    "duration": 62,
    "start_time": "2021-06-24T22:47:24.819Z"
   },
   {
    "duration": 30,
    "start_time": "2021-06-24T22:47:24.885Z"
   },
   {
    "duration": 15,
    "start_time": "2021-06-24T22:47:24.917Z"
   },
   {
    "duration": 19,
    "start_time": "2021-06-24T22:47:24.935Z"
   },
   {
    "duration": 412,
    "start_time": "2021-06-24T22:47:24.957Z"
   },
   {
    "duration": 19,
    "start_time": "2021-06-24T22:48:42.674Z"
   },
   {
    "duration": 436,
    "start_time": "2021-06-24T22:48:42.872Z"
   },
   {
    "duration": 328,
    "start_time": "2021-06-24T22:48:43.444Z"
   },
   {
    "duration": 20,
    "start_time": "2021-06-24T22:48:43.793Z"
   },
   {
    "duration": 19,
    "start_time": "2021-06-24T22:48:44.178Z"
   },
   {
    "duration": 6,
    "start_time": "2021-06-24T22:48:44.369Z"
   },
   {
    "duration": 10,
    "start_time": "2021-06-24T22:48:44.541Z"
   },
   {
    "duration": 27,
    "start_time": "2021-06-24T22:48:44.766Z"
   },
   {
    "duration": 15,
    "start_time": "2021-06-24T22:48:45.064Z"
   },
   {
    "duration": 92,
    "start_time": "2021-06-24T22:48:45.280Z"
   },
   {
    "duration": 8925,
    "start_time": "2021-06-24T22:48:48.263Z"
   },
   {
    "duration": 90,
    "start_time": "2021-06-24T22:49:42.919Z"
   },
   {
    "duration": 15,
    "start_time": "2021-06-24T22:49:50.758Z"
   },
   {
    "duration": 91,
    "start_time": "2021-06-24T22:49:50.909Z"
   },
   {
    "duration": 433,
    "start_time": "2021-06-24T22:50:19.405Z"
   },
   {
    "duration": 61,
    "start_time": "2021-06-24T22:50:59.275Z"
   },
   {
    "duration": 338,
    "start_time": "2021-06-24T22:51:28.541Z"
   },
   {
    "duration": 19,
    "start_time": "2021-06-24T22:51:53.558Z"
   },
   {
    "duration": 44,
    "start_time": "2021-06-24T22:52:46.874Z"
   },
   {
    "duration": 21,
    "start_time": "2021-06-24T22:52:53.517Z"
   },
   {
    "duration": 102,
    "start_time": "2021-06-24T22:56:10.281Z"
   },
   {
    "duration": 89,
    "start_time": "2021-06-24T22:56:21.101Z"
   },
   {
    "duration": 2266,
    "start_time": "2021-06-25T17:50:01.478Z"
   },
   {
    "duration": 64,
    "start_time": "2021-06-25T17:50:03.746Z"
   },
   {
    "duration": 10,
    "start_time": "2021-06-25T17:50:03.813Z"
   },
   {
    "duration": 8,
    "start_time": "2021-06-25T17:50:03.826Z"
   },
   {
    "duration": 91,
    "start_time": "2021-06-25T17:50:03.836Z"
   },
   {
    "duration": 7,
    "start_time": "2021-06-25T17:50:03.929Z"
   },
   {
    "duration": 36,
    "start_time": "2021-06-25T17:50:03.937Z"
   },
   {
    "duration": 9,
    "start_time": "2021-06-25T17:50:03.975Z"
   },
   {
    "duration": 15,
    "start_time": "2021-06-25T17:50:03.986Z"
   },
   {
    "duration": 6,
    "start_time": "2021-06-25T17:50:04.003Z"
   },
   {
    "duration": 276,
    "start_time": "2021-06-25T17:50:04.011Z"
   },
   {
    "duration": 432,
    "start_time": "2021-06-25T17:50:04.289Z"
   },
   {
    "duration": 30,
    "start_time": "2021-06-25T17:50:04.723Z"
   },
   {
    "duration": 373,
    "start_time": "2021-06-25T17:50:05.052Z"
   },
   {
    "duration": 6,
    "start_time": "2021-06-25T17:50:05.428Z"
   },
   {
    "duration": 47,
    "start_time": "2021-06-25T17:50:05.776Z"
   },
   {
    "duration": 9,
    "start_time": "2021-06-25T17:50:05.982Z"
   },
   {
    "duration": 32,
    "start_time": "2021-06-25T17:50:06.164Z"
   },
   {
    "duration": 55,
    "start_time": "2021-06-25T17:50:06.349Z"
   },
   {
    "duration": 424,
    "start_time": "2021-06-25T17:50:07.302Z"
   },
   {
    "duration": 8,
    "start_time": "2021-06-25T17:50:07.729Z"
   },
   {
    "duration": 32,
    "start_time": "2021-06-25T17:50:07.740Z"
   },
   {
    "duration": 536,
    "start_time": "2021-06-25T17:50:08.257Z"
   },
   {
    "duration": 28,
    "start_time": "2021-06-25T17:50:08.795Z"
   },
   {
    "duration": 25,
    "start_time": "2021-06-25T17:50:09.792Z"
   },
   {
    "duration": 162,
    "start_time": "2021-06-25T17:50:09.977Z"
   },
   {
    "duration": 188,
    "start_time": "2021-06-25T17:50:10.173Z"
   },
   {
    "duration": 143,
    "start_time": "2021-06-25T17:50:10.378Z"
   },
   {
    "duration": 8,
    "start_time": "2021-06-25T17:50:10.567Z"
   },
   {
    "duration": 3,
    "start_time": "2021-06-25T17:50:10.773Z"
   },
   {
    "duration": 9,
    "start_time": "2021-06-25T17:50:10.958Z"
   },
   {
    "duration": 9,
    "start_time": "2021-06-25T17:50:11.148Z"
   },
   {
    "duration": 11,
    "start_time": "2021-06-25T17:50:11.348Z"
   },
   {
    "duration": 13,
    "start_time": "2021-06-25T17:50:11.549Z"
   },
   {
    "duration": 25,
    "start_time": "2021-06-25T17:50:11.725Z"
   },
   {
    "duration": 1448,
    "start_time": "2021-06-25T17:50:11.915Z"
   },
   {
    "duration": 117,
    "start_time": "2021-06-25T17:50:13.817Z"
   },
   {
    "duration": 25,
    "start_time": "2021-06-25T17:50:14.442Z"
   },
   {
    "duration": 13,
    "start_time": "2021-06-25T17:50:14.832Z"
   },
   {
    "duration": 15,
    "start_time": "2021-06-25T17:50:15.022Z"
   },
   {
    "duration": 5933,
    "start_time": "2021-06-25T17:50:15.597Z"
   },
   {
    "duration": 53,
    "start_time": "2021-06-25T17:50:21.533Z"
   },
   {
    "duration": 25,
    "start_time": "2021-06-25T17:50:21.589Z"
   },
   {
    "duration": 15,
    "start_time": "2021-06-25T17:50:21.616Z"
   },
   {
    "duration": 54,
    "start_time": "2021-06-25T17:50:21.633Z"
   },
   {
    "duration": 9,
    "start_time": "2021-06-25T17:50:21.689Z"
   },
   {
    "duration": 74,
    "start_time": "2021-06-25T17:50:21.700Z"
   },
   {
    "duration": 7,
    "start_time": "2021-06-25T17:50:21.777Z"
   },
   {
    "duration": 10,
    "start_time": "2021-06-25T17:50:21.787Z"
   },
   {
    "duration": 27,
    "start_time": "2021-06-25T17:50:21.799Z"
   },
   {
    "duration": 418,
    "start_time": "2021-06-25T17:50:21.828Z"
   },
   {
    "duration": 34,
    "start_time": "2021-06-25T17:50:22.248Z"
   },
   {
    "duration": 475,
    "start_time": "2021-06-25T17:50:22.285Z"
   },
   {
    "duration": 366,
    "start_time": "2021-06-25T17:50:22.762Z"
   },
   {
    "duration": 18,
    "start_time": "2021-06-25T17:50:23.131Z"
   },
   {
    "duration": 19,
    "start_time": "2021-06-25T17:50:23.167Z"
   },
   {
    "duration": 6,
    "start_time": "2021-06-25T17:50:23.189Z"
   },
   {
    "duration": 13,
    "start_time": "2021-06-25T17:50:23.197Z"
   },
   {
    "duration": 61,
    "start_time": "2021-06-25T17:50:23.212Z"
   },
   {
    "duration": 15,
    "start_time": "2021-06-25T17:50:23.275Z"
   },
   {
    "duration": 105,
    "start_time": "2021-06-25T17:50:23.293Z"
   },
   {
    "duration": 7582,
    "start_time": "2021-06-25T17:50:24.464Z"
   },
   {
    "duration": -852,
    "start_time": "2021-06-25T17:50:32.901Z"
   },
   {
    "duration": -857,
    "start_time": "2021-06-25T17:50:32.907Z"
   },
   {
    "duration": -861,
    "start_time": "2021-06-25T17:50:32.912Z"
   },
   {
    "duration": 109,
    "start_time": "2021-06-25T17:50:59.407Z"
   },
   {
    "duration": 21,
    "start_time": "2021-06-25T17:51:00.619Z"
   },
   {
    "duration": 373,
    "start_time": "2021-06-25T17:51:00.822Z"
   },
   {
    "duration": 18,
    "start_time": "2021-06-25T17:51:01.198Z"
   },
   {
    "duration": 6,
    "start_time": "2021-06-25T17:51:01.233Z"
   },
   {
    "duration": 35,
    "start_time": "2021-06-25T17:53:03.352Z"
   },
   {
    "duration": 20,
    "start_time": "2021-06-25T17:53:04.883Z"
   },
   {
    "duration": 375,
    "start_time": "2021-06-25T17:53:05.086Z"
   },
   {
    "duration": 20,
    "start_time": "2021-06-25T17:53:05.808Z"
   },
   {
    "duration": 6,
    "start_time": "2021-06-25T17:53:05.977Z"
   },
   {
    "duration": 36,
    "start_time": "2021-06-25T17:55:53.394Z"
   },
   {
    "duration": 20,
    "start_time": "2021-06-25T17:55:54.649Z"
   },
   {
    "duration": 366,
    "start_time": "2021-06-25T17:55:54.846Z"
   },
   {
    "duration": 18,
    "start_time": "2021-06-25T17:55:55.214Z"
   },
   {
    "duration": 5,
    "start_time": "2021-06-25T17:55:55.293Z"
   },
   {
    "duration": 5,
    "start_time": "2021-06-25T17:55:56.796Z"
   },
   {
    "duration": 17,
    "start_time": "2021-06-25T17:55:57.459Z"
   },
   {
    "duration": 86,
    "start_time": "2021-06-25T17:56:39.093Z"
   },
   {
    "duration": 16,
    "start_time": "2021-06-25T17:58:09.051Z"
   },
   {
    "duration": 82,
    "start_time": "2021-06-25T17:58:09.289Z"
   },
   {
    "duration": 7875,
    "start_time": "2021-06-25T17:58:10.483Z"
   },
   {
    "duration": -833,
    "start_time": "2021-06-25T17:58:19.194Z"
   },
   {
    "duration": -835,
    "start_time": "2021-06-25T17:58:19.197Z"
   },
   {
    "duration": -840,
    "start_time": "2021-06-25T17:58:19.204Z"
   },
   {
    "duration": -842,
    "start_time": "2021-06-25T17:58:19.207Z"
   },
   {
    "duration": -847,
    "start_time": "2021-06-25T17:58:19.214Z"
   },
   {
    "duration": 37,
    "start_time": "2021-06-25T18:06:10.989Z"
   },
   {
    "duration": 21,
    "start_time": "2021-06-25T18:06:16.268Z"
   },
   {
    "duration": 363,
    "start_time": "2021-06-25T18:06:16.748Z"
   },
   {
    "duration": 18,
    "start_time": "2021-06-25T18:06:17.319Z"
   },
   {
    "duration": 5,
    "start_time": "2021-06-25T18:06:17.795Z"
   },
   {
    "duration": 36,
    "start_time": "2021-06-25T18:07:55.194Z"
   },
   {
    "duration": 21,
    "start_time": "2021-06-25T18:07:57.062Z"
   },
   {
    "duration": 366,
    "start_time": "2021-06-25T18:07:57.309Z"
   },
   {
    "duration": 19,
    "start_time": "2021-06-25T18:07:57.859Z"
   },
   {
    "duration": 5,
    "start_time": "2021-06-25T18:07:59.134Z"
   },
   {
    "duration": 87,
    "start_time": "2021-06-25T18:08:20.477Z"
   },
   {
    "duration": 86,
    "start_time": "2021-06-25T18:09:21.858Z"
   },
   {
    "duration": 7900,
    "start_time": "2021-06-25T18:09:23.798Z"
   },
   {
    "duration": -827,
    "start_time": "2021-06-25T18:09:32.527Z"
   },
   {
    "duration": -829,
    "start_time": "2021-06-25T18:09:32.530Z"
   },
   {
    "duration": -830,
    "start_time": "2021-06-25T18:09:32.533Z"
   },
   {
    "duration": 2310,
    "start_time": "2021-06-29T16:21:04.722Z"
   },
   {
    "duration": 65,
    "start_time": "2021-06-29T16:21:07.035Z"
   },
   {
    "duration": 12,
    "start_time": "2021-06-29T16:21:07.103Z"
   },
   {
    "duration": 13,
    "start_time": "2021-06-29T16:21:07.118Z"
   },
   {
    "duration": 93,
    "start_time": "2021-06-29T16:21:07.133Z"
   },
   {
    "duration": 8,
    "start_time": "2021-06-29T16:21:07.228Z"
   },
   {
    "duration": 22,
    "start_time": "2021-06-29T16:21:07.238Z"
   },
   {
    "duration": 30,
    "start_time": "2021-06-29T16:21:07.264Z"
   },
   {
    "duration": 11,
    "start_time": "2021-06-29T16:21:07.297Z"
   },
   {
    "duration": 11,
    "start_time": "2021-06-29T16:21:07.310Z"
   },
   {
    "duration": 274,
    "start_time": "2021-06-29T16:21:07.324Z"
   },
   {
    "duration": 328,
    "start_time": "2021-06-29T16:21:07.601Z"
   },
   {
    "duration": 30,
    "start_time": "2021-06-29T16:21:07.932Z"
   },
   {
    "duration": 399,
    "start_time": "2021-06-29T16:21:08.286Z"
   },
   {
    "duration": 6,
    "start_time": "2021-06-29T16:21:08.688Z"
   },
   {
    "duration": 47,
    "start_time": "2021-06-29T16:21:09.027Z"
   },
   {
    "duration": 12,
    "start_time": "2021-06-29T16:21:09.205Z"
   },
   {
    "duration": 37,
    "start_time": "2021-06-29T16:21:09.400Z"
   },
   {
    "duration": 58,
    "start_time": "2021-06-29T16:21:09.586Z"
   },
   {
    "duration": 412,
    "start_time": "2021-06-29T16:21:10.527Z"
   },
   {
    "duration": 10,
    "start_time": "2021-06-29T16:21:10.943Z"
   },
   {
    "duration": 35,
    "start_time": "2021-06-29T16:21:10.957Z"
   },
   {
    "duration": 423,
    "start_time": "2021-06-29T16:21:11.489Z"
   },
   {
    "duration": 28,
    "start_time": "2021-06-29T16:21:11.916Z"
   },
   {
    "duration": 27,
    "start_time": "2021-06-29T16:21:12.997Z"
   },
   {
    "duration": 164,
    "start_time": "2021-06-29T16:21:13.195Z"
   },
   {
    "duration": 207,
    "start_time": "2021-06-29T16:21:13.386Z"
   },
   {
    "duration": 156,
    "start_time": "2021-06-29T16:21:13.596Z"
   },
   {
    "duration": 8,
    "start_time": "2021-06-29T16:21:13.772Z"
   },
   {
    "duration": 4,
    "start_time": "2021-06-29T16:21:13.959Z"
   },
   {
    "duration": 9,
    "start_time": "2021-06-29T16:21:14.149Z"
   },
   {
    "duration": 8,
    "start_time": "2021-06-29T16:21:14.342Z"
   },
   {
    "duration": 11,
    "start_time": "2021-06-29T16:21:14.550Z"
   },
   {
    "duration": 13,
    "start_time": "2021-06-29T16:21:14.740Z"
   },
   {
    "duration": 23,
    "start_time": "2021-06-29T16:21:14.937Z"
   },
   {
    "duration": 1291,
    "start_time": "2021-06-29T16:21:15.125Z"
   },
   {
    "duration": 129,
    "start_time": "2021-06-29T16:21:28.403Z"
   },
   {
    "duration": 28,
    "start_time": "2021-06-29T16:21:29.106Z"
   },
   {
    "duration": 13,
    "start_time": "2021-06-29T16:21:29.553Z"
   },
   {
    "duration": 15,
    "start_time": "2021-06-29T16:21:29.770Z"
   },
   {
    "duration": 5864,
    "start_time": "2021-06-29T16:21:30.422Z"
   },
   {
    "duration": 40,
    "start_time": "2021-06-29T16:21:36.289Z"
   },
   {
    "duration": 26,
    "start_time": "2021-06-29T16:21:36.332Z"
   },
   {
    "duration": 15,
    "start_time": "2021-06-29T16:21:36.385Z"
   },
   {
    "duration": 26,
    "start_time": "2021-06-29T16:21:36.403Z"
   },
   {
    "duration": 10,
    "start_time": "2021-06-29T16:21:36.431Z"
   },
   {
    "duration": 90,
    "start_time": "2021-06-29T16:21:36.443Z"
   },
   {
    "duration": 7,
    "start_time": "2021-06-29T16:21:36.537Z"
   },
   {
    "duration": 8,
    "start_time": "2021-06-29T16:21:36.547Z"
   },
   {
    "duration": 10,
    "start_time": "2021-06-29T16:21:36.586Z"
   },
   {
    "duration": 414,
    "start_time": "2021-06-29T16:21:36.599Z"
   },
   {
    "duration": 21,
    "start_time": "2021-06-29T16:21:37.015Z"
   },
   {
    "duration": 460,
    "start_time": "2021-06-29T16:21:37.038Z"
   },
   {
    "duration": 356,
    "start_time": "2021-06-29T16:21:37.500Z"
   },
   {
    "duration": 32,
    "start_time": "2021-06-29T16:21:37.858Z"
   },
   {
    "duration": 19,
    "start_time": "2021-06-29T16:21:37.893Z"
   },
   {
    "duration": 6,
    "start_time": "2021-06-29T16:21:37.915Z"
   },
   {
    "duration": 15,
    "start_time": "2021-06-29T16:21:37.923Z"
   },
   {
    "duration": 57,
    "start_time": "2021-06-29T16:21:37.941Z"
   },
   {
    "duration": 15,
    "start_time": "2021-06-29T16:21:38.001Z"
   },
   {
    "duration": 111,
    "start_time": "2021-06-29T16:21:38.019Z"
   },
   {
    "duration": 7826,
    "start_time": "2021-06-29T16:21:39.087Z"
   },
   {
    "duration": -217,
    "start_time": "2021-06-29T16:21:47.133Z"
   },
   {
    "duration": -220,
    "start_time": "2021-06-29T16:21:47.137Z"
   },
   {
    "duration": 131,
    "start_time": "2021-06-29T16:23:19.482Z"
   },
   {
    "duration": 21,
    "start_time": "2021-06-29T16:23:20.910Z"
   },
   {
    "duration": 340,
    "start_time": "2021-06-29T16:23:21.077Z"
   },
   {
    "duration": 89,
    "start_time": "2021-06-29T16:23:43.697Z"
   },
   {
    "duration": 9332,
    "start_time": "2021-06-29T16:23:55.296Z"
   },
   {
    "duration": -854,
    "start_time": "2021-06-29T16:24:05.484Z"
   },
   {
    "duration": -855,
    "start_time": "2021-06-29T16:24:05.487Z"
   },
   {
    "duration": -858,
    "start_time": "2021-06-29T16:24:05.491Z"
   },
   {
    "duration": -860,
    "start_time": "2021-06-29T16:24:05.495Z"
   },
   {
    "duration": -868,
    "start_time": "2021-06-29T16:24:05.504Z"
   },
   {
    "duration": -870,
    "start_time": "2021-06-29T16:24:05.507Z"
   },
   {
    "duration": 320,
    "start_time": "2021-06-29T16:24:07.302Z"
   },
   {
    "duration": -68,
    "start_time": "2021-06-29T16:24:07.693Z"
   },
   {
    "duration": 2429,
    "start_time": "2021-06-30T16:13:10.100Z"
   },
   {
    "duration": 67,
    "start_time": "2021-06-30T16:13:12.531Z"
   },
   {
    "duration": 11,
    "start_time": "2021-06-30T16:13:12.600Z"
   },
   {
    "duration": 12,
    "start_time": "2021-06-30T16:13:12.614Z"
   },
   {
    "duration": 85,
    "start_time": "2021-06-30T16:13:12.629Z"
   },
   {
    "duration": 8,
    "start_time": "2021-06-30T16:13:12.716Z"
   },
   {
    "duration": 14,
    "start_time": "2021-06-30T16:13:12.727Z"
   },
   {
    "duration": 11,
    "start_time": "2021-06-30T16:13:12.744Z"
   },
   {
    "duration": 52,
    "start_time": "2021-06-30T16:13:12.757Z"
   },
   {
    "duration": 5,
    "start_time": "2021-06-30T16:13:12.812Z"
   },
   {
    "duration": 261,
    "start_time": "2021-06-30T16:13:12.820Z"
   },
   {
    "duration": 337,
    "start_time": "2021-06-30T16:13:13.084Z"
   },
   {
    "duration": 30,
    "start_time": "2021-06-30T16:13:13.424Z"
   },
   {
    "duration": 404,
    "start_time": "2021-06-30T16:13:13.457Z"
   },
   {
    "duration": 6,
    "start_time": "2021-06-30T16:13:13.864Z"
   },
   {
    "duration": 48,
    "start_time": "2021-06-30T16:13:13.960Z"
   },
   {
    "duration": 12,
    "start_time": "2021-06-30T16:13:14.130Z"
   },
   {
    "duration": 34,
    "start_time": "2021-06-30T16:13:14.322Z"
   },
   {
    "duration": 55,
    "start_time": "2021-06-30T16:13:14.481Z"
   },
   {
    "duration": 419,
    "start_time": "2021-06-30T16:13:15.385Z"
   },
   {
    "duration": 10,
    "start_time": "2021-06-30T16:13:15.809Z"
   },
   {
    "duration": 12,
    "start_time": "2021-06-30T16:13:15.822Z"
   },
   {
    "duration": 518,
    "start_time": "2021-06-30T16:13:16.302Z"
   },
   {
    "duration": 28,
    "start_time": "2021-06-30T16:13:16.824Z"
   },
   {
    "duration": 28,
    "start_time": "2021-06-30T16:13:17.823Z"
   },
   {
    "duration": 173,
    "start_time": "2021-06-30T16:13:18.009Z"
   },
   {
    "duration": 192,
    "start_time": "2021-06-30T16:13:18.194Z"
   },
   {
    "duration": 149,
    "start_time": "2021-06-30T16:13:18.395Z"
   },
   {
    "duration": 9,
    "start_time": "2021-06-30T16:13:18.585Z"
   },
   {
    "duration": 4,
    "start_time": "2021-06-30T16:13:18.746Z"
   },
   {
    "duration": 8,
    "start_time": "2021-06-30T16:13:18.909Z"
   },
   {
    "duration": 9,
    "start_time": "2021-06-30T16:13:19.113Z"
   },
   {
    "duration": 11,
    "start_time": "2021-06-30T16:13:19.310Z"
   },
   {
    "duration": 14,
    "start_time": "2021-06-30T16:13:19.498Z"
   },
   {
    "duration": 26,
    "start_time": "2021-06-30T16:13:19.686Z"
   },
   {
    "duration": 1310,
    "start_time": "2021-06-30T16:13:19.859Z"
   },
   {
    "duration": 165,
    "start_time": "2021-06-30T16:13:21.464Z"
   },
   {
    "duration": 26,
    "start_time": "2021-06-30T16:13:22.020Z"
   },
   {
    "duration": 13,
    "start_time": "2021-06-30T16:13:22.389Z"
   },
   {
    "duration": 17,
    "start_time": "2021-06-30T16:13:22.584Z"
   },
   {
    "duration": 5882,
    "start_time": "2021-06-30T16:13:23.134Z"
   },
   {
    "duration": 40,
    "start_time": "2021-06-30T16:13:29.018Z"
   },
   {
    "duration": 25,
    "start_time": "2021-06-30T16:13:29.061Z"
   },
   {
    "duration": 15,
    "start_time": "2021-06-30T16:13:29.110Z"
   },
   {
    "duration": 26,
    "start_time": "2021-06-30T16:13:29.127Z"
   },
   {
    "duration": 8,
    "start_time": "2021-06-30T16:13:29.156Z"
   },
   {
    "duration": 90,
    "start_time": "2021-06-30T16:13:29.167Z"
   },
   {
    "duration": 7,
    "start_time": "2021-06-30T16:13:29.261Z"
   },
   {
    "duration": 13,
    "start_time": "2021-06-30T16:13:29.271Z"
   },
   {
    "duration": 31,
    "start_time": "2021-06-30T16:13:29.286Z"
   },
   {
    "duration": 403,
    "start_time": "2021-06-30T16:13:29.320Z"
   },
   {
    "duration": 19,
    "start_time": "2021-06-30T16:13:29.726Z"
   },
   {
    "duration": 469,
    "start_time": "2021-06-30T16:13:29.747Z"
   },
   {
    "duration": 359,
    "start_time": "2021-06-30T16:13:30.218Z"
   },
   {
    "duration": 31,
    "start_time": "2021-06-30T16:13:30.579Z"
   },
   {
    "duration": 20,
    "start_time": "2021-06-30T16:13:30.612Z"
   },
   {
    "duration": 7,
    "start_time": "2021-06-30T16:13:30.635Z"
   },
   {
    "duration": 26,
    "start_time": "2021-06-30T16:13:30.644Z"
   },
   {
    "duration": 50,
    "start_time": "2021-06-30T16:13:30.672Z"
   },
   {
    "duration": 17,
    "start_time": "2021-06-30T16:13:30.724Z"
   },
   {
    "duration": 109,
    "start_time": "2021-06-30T16:13:30.744Z"
   },
   {
    "duration": 179,
    "start_time": "2021-06-30T16:13:46.155Z"
   },
   {
    "duration": 645,
    "start_time": "2021-06-30T19:09:00.558Z"
   },
   {
    "duration": -731,
    "start_time": "2021-06-30T19:10:55.291Z"
   },
   {
    "duration": 2258,
    "start_time": "2021-07-07T22:51:25.105Z"
   },
   {
    "duration": 70,
    "start_time": "2021-07-07T22:51:27.366Z"
   },
   {
    "duration": 12,
    "start_time": "2021-07-07T22:51:27.440Z"
   },
   {
    "duration": 7,
    "start_time": "2021-07-07T22:51:27.456Z"
   },
   {
    "duration": 94,
    "start_time": "2021-07-07T22:51:27.465Z"
   },
   {
    "duration": 9,
    "start_time": "2021-07-07T22:51:27.562Z"
   },
   {
    "duration": 35,
    "start_time": "2021-07-07T22:51:27.574Z"
   },
   {
    "duration": 11,
    "start_time": "2021-07-07T22:51:27.614Z"
   },
   {
    "duration": 14,
    "start_time": "2021-07-07T22:51:27.627Z"
   },
   {
    "duration": 12,
    "start_time": "2021-07-07T22:51:27.644Z"
   },
   {
    "duration": 267,
    "start_time": "2021-07-07T22:51:27.658Z"
   },
   {
    "duration": 320,
    "start_time": "2021-07-07T22:51:27.927Z"
   },
   {
    "duration": 30,
    "start_time": "2021-07-07T22:51:28.249Z"
   },
   {
    "duration": 361,
    "start_time": "2021-07-07T22:51:28.420Z"
   },
   {
    "duration": 5,
    "start_time": "2021-07-07T22:51:28.784Z"
   },
   {
    "duration": 51,
    "start_time": "2021-07-07T22:51:29.165Z"
   },
   {
    "duration": 12,
    "start_time": "2021-07-07T22:51:29.371Z"
   },
   {
    "duration": 32,
    "start_time": "2021-07-07T22:51:29.536Z"
   },
   {
    "duration": 55,
    "start_time": "2021-07-07T22:51:29.718Z"
   },
   {
    "duration": 406,
    "start_time": "2021-07-07T22:51:30.656Z"
   },
   {
    "duration": 10,
    "start_time": "2021-07-07T22:51:31.065Z"
   },
   {
    "duration": 32,
    "start_time": "2021-07-07T22:51:31.078Z"
   },
   {
    "duration": 417,
    "start_time": "2021-07-07T22:51:31.570Z"
   },
   {
    "duration": 36,
    "start_time": "2021-07-07T22:51:31.989Z"
   },
   {
    "duration": 27,
    "start_time": "2021-07-07T22:51:33.109Z"
   },
   {
    "duration": 158,
    "start_time": "2021-07-07T22:51:33.366Z"
   },
   {
    "duration": 188,
    "start_time": "2021-07-07T22:51:33.527Z"
   },
   {
    "duration": 138,
    "start_time": "2021-07-07T22:51:33.769Z"
   },
   {
    "duration": 8,
    "start_time": "2021-07-07T22:51:34.357Z"
   },
   {
    "duration": 3,
    "start_time": "2021-07-07T22:51:34.561Z"
   },
   {
    "duration": 10,
    "start_time": "2021-07-07T22:51:35.111Z"
   },
   {
    "duration": 9,
    "start_time": "2021-07-07T22:51:35.324Z"
   },
   {
    "duration": 11,
    "start_time": "2021-07-07T22:51:35.541Z"
   },
   {
    "duration": 14,
    "start_time": "2021-07-07T22:51:35.768Z"
   },
   {
    "duration": 26,
    "start_time": "2021-07-07T22:51:35.944Z"
   },
   {
    "duration": 1212,
    "start_time": "2021-07-07T22:51:36.185Z"
   },
   {
    "duration": 110,
    "start_time": "2021-07-07T22:51:38.426Z"
   },
   {
    "duration": 26,
    "start_time": "2021-07-07T22:51:39.770Z"
   },
   {
    "duration": 15,
    "start_time": "2021-07-07T22:51:41.129Z"
   },
   {
    "duration": 18,
    "start_time": "2021-07-07T22:51:42.220Z"
   },
   {
    "duration": 5836,
    "start_time": "2021-07-07T22:51:44.975Z"
   },
   {
    "duration": 41,
    "start_time": "2021-07-07T22:51:50.814Z"
   },
   {
    "duration": 54,
    "start_time": "2021-07-07T22:51:50.859Z"
   },
   {
    "duration": 14,
    "start_time": "2021-07-07T22:51:50.916Z"
   },
   {
    "duration": 27,
    "start_time": "2021-07-07T22:51:50.932Z"
   },
   {
    "duration": 9,
    "start_time": "2021-07-07T22:51:50.961Z"
   },
   {
    "duration": 59,
    "start_time": "2021-07-07T22:51:51.001Z"
   },
   {
    "duration": 7,
    "start_time": "2021-07-07T22:51:51.063Z"
   },
   {
    "duration": 31,
    "start_time": "2021-07-07T22:51:51.073Z"
   },
   {
    "duration": 12,
    "start_time": "2021-07-07T22:51:51.106Z"
   },
   {
    "duration": 464,
    "start_time": "2021-07-07T22:51:51.121Z"
   },
   {
    "duration": 27,
    "start_time": "2021-07-07T22:51:51.588Z"
   },
   {
    "duration": 438,
    "start_time": "2021-07-07T22:51:51.618Z"
   },
   {
    "duration": 336,
    "start_time": "2021-07-07T22:51:52.058Z"
   },
   {
    "duration": 17,
    "start_time": "2021-07-07T22:51:52.400Z"
   },
   {
    "duration": 17,
    "start_time": "2021-07-07T22:51:52.420Z"
   },
   {
    "duration": 6,
    "start_time": "2021-07-07T22:51:52.440Z"
   },
   {
    "duration": 12,
    "start_time": "2021-07-07T22:51:52.448Z"
   },
   {
    "duration": 23,
    "start_time": "2021-07-07T22:51:52.740Z"
   },
   {
    "duration": 15,
    "start_time": "2021-07-07T22:51:54.099Z"
   },
   {
    "duration": 3874,
    "start_time": "2021-07-07T22:51:54.311Z"
   },
   {
    "duration": 2312,
    "start_time": "2021-07-20T23:55:12.704Z"
   },
   {
    "duration": 53,
    "start_time": "2021-07-20T23:55:15.018Z"
   },
   {
    "duration": 10,
    "start_time": "2021-07-20T23:55:15.073Z"
   },
   {
    "duration": 6,
    "start_time": "2021-07-20T23:55:15.085Z"
   },
   {
    "duration": 56,
    "start_time": "2021-07-20T23:55:15.093Z"
   },
   {
    "duration": 9,
    "start_time": "2021-07-20T23:55:15.151Z"
   },
   {
    "duration": 25,
    "start_time": "2021-07-20T23:55:15.162Z"
   },
   {
    "duration": 7,
    "start_time": "2021-07-20T23:55:15.189Z"
   },
   {
    "duration": 8,
    "start_time": "2021-07-20T23:55:15.197Z"
   },
   {
    "duration": 5,
    "start_time": "2021-07-20T23:55:15.206Z"
   },
   {
    "duration": 193,
    "start_time": "2021-07-20T23:55:15.213Z"
   },
   {
    "duration": 233,
    "start_time": "2021-07-20T23:55:15.408Z"
   },
   {
    "duration": 20,
    "start_time": "2021-07-20T23:55:15.643Z"
   },
   {
    "duration": 289,
    "start_time": "2021-07-20T23:55:16.131Z"
   },
   {
    "duration": 3,
    "start_time": "2021-07-20T23:55:16.422Z"
   },
   {
    "duration": 31,
    "start_time": "2021-07-20T23:55:16.904Z"
   },
   {
    "duration": 5,
    "start_time": "2021-07-20T23:55:17.095Z"
   },
   {
    "duration": 23,
    "start_time": "2021-07-20T23:55:17.272Z"
   },
   {
    "duration": 37,
    "start_time": "2021-07-20T23:55:17.444Z"
   },
   {
    "duration": 263,
    "start_time": "2021-07-20T23:55:18.407Z"
   },
   {
    "duration": 13,
    "start_time": "2021-07-20T23:55:18.672Z"
   },
   {
    "duration": 9,
    "start_time": "2021-07-20T23:55:18.794Z"
   },
   {
    "duration": 283,
    "start_time": "2021-07-20T23:55:19.369Z"
   },
   {
    "duration": 18,
    "start_time": "2021-07-20T23:55:19.654Z"
   },
   {
    "duration": 18,
    "start_time": "2021-07-20T23:55:20.946Z"
   },
   {
    "duration": 110,
    "start_time": "2021-07-20T23:55:21.139Z"
   },
   {
    "duration": 125,
    "start_time": "2021-07-20T23:55:21.340Z"
   },
   {
    "duration": 112,
    "start_time": "2021-07-20T23:55:21.554Z"
   },
   {
    "duration": 6,
    "start_time": "2021-07-20T23:55:21.744Z"
   },
   {
    "duration": 2,
    "start_time": "2021-07-20T23:55:21.968Z"
   },
   {
    "duration": 6,
    "start_time": "2021-07-20T23:55:23.060Z"
   },
   {
    "duration": 16,
    "start_time": "2021-07-20T23:55:23.068Z"
   },
   {
    "duration": 21,
    "start_time": "2021-07-20T23:55:23.086Z"
   },
   {
    "duration": 23,
    "start_time": "2021-07-20T23:55:23.109Z"
   },
   {
    "duration": 24,
    "start_time": "2021-07-20T23:55:23.134Z"
   },
   {
    "duration": 873,
    "start_time": "2021-07-20T23:55:23.160Z"
   },
   {
    "duration": 66,
    "start_time": "2021-07-20T23:55:24.990Z"
   },
   {
    "duration": 18,
    "start_time": "2021-07-20T23:55:25.639Z"
   },
   {
    "duration": 10,
    "start_time": "2021-07-20T23:55:26.051Z"
   },
   {
    "duration": 10,
    "start_time": "2021-07-20T23:55:26.600Z"
   },
   {
    "duration": 2542,
    "start_time": "2021-07-20T23:55:27.271Z"
   },
   {
    "duration": 23,
    "start_time": "2021-07-20T23:55:29.816Z"
   },
   {
    "duration": 16,
    "start_time": "2021-07-20T23:55:29.841Z"
   },
   {
    "duration": 28,
    "start_time": "2021-07-20T23:55:29.859Z"
   },
   {
    "duration": 17,
    "start_time": "2021-07-20T23:55:30.290Z"
   },
   {
    "duration": 7,
    "start_time": "2021-07-20T23:55:30.489Z"
   },
   {
    "duration": 35,
    "start_time": "2021-07-20T23:55:30.685Z"
   },
   {
    "duration": 6,
    "start_time": "2021-07-20T23:55:31.480Z"
   },
   {
    "duration": 4,
    "start_time": "2021-07-20T23:55:33.375Z"
   },
   {
    "duration": 7,
    "start_time": "2021-07-20T23:55:33.586Z"
   },
   {
    "duration": 227,
    "start_time": "2021-07-20T23:55:33.783Z"
   },
   {
    "duration": 14,
    "start_time": "2021-07-20T23:55:34.166Z"
   },
   {
    "duration": 270,
    "start_time": "2021-07-20T23:55:34.376Z"
   },
   {
    "duration": 203,
    "start_time": "2021-07-20T23:55:36.461Z"
   },
   {
    "duration": 13,
    "start_time": "2021-07-20T23:55:37.139Z"
   },
   {
    "duration": 13,
    "start_time": "2021-07-20T23:55:38.508Z"
   },
   {
    "duration": 4,
    "start_time": "2021-07-20T23:55:38.714Z"
   },
   {
    "duration": 10,
    "start_time": "2021-07-20T23:55:39.170Z"
   },
   {
    "duration": 12,
    "start_time": "2021-07-20T23:55:39.393Z"
   },
   {
    "duration": 11,
    "start_time": "2021-07-20T23:55:39.860Z"
   },
   {
    "duration": 2463,
    "start_time": "2021-07-20T23:55:40.070Z"
   },
   {
    "duration": 103,
    "start_time": "2021-07-20T23:56:34.391Z"
   },
   {
    "duration": 24,
    "start_time": "2021-07-20T23:56:45.710Z"
   },
   {
    "duration": 24,
    "start_time": "2021-07-20T23:57:43.495Z"
   },
   {
    "duration": 14,
    "start_time": "2021-07-20T23:57:44.708Z"
   },
   {
    "duration": 216,
    "start_time": "2021-07-20T23:57:44.901Z"
   },
   {
    "duration": 13,
    "start_time": "2021-07-20T23:57:45.119Z"
   },
   {
    "duration": 4,
    "start_time": "2021-07-20T23:57:45.293Z"
   },
   {
    "duration": 3,
    "start_time": "2021-07-20T23:57:45.894Z"
   },
   {
    "duration": 15,
    "start_time": "2021-07-20T23:57:46.086Z"
   },
   {
    "duration": 9,
    "start_time": "2021-07-20T23:57:46.870Z"
   },
   {
    "duration": 17,
    "start_time": "2021-07-20T23:57:47.051Z"
   },
   {
    "duration": 39,
    "start_time": "2021-07-20T23:57:47.260Z"
   },
   {
    "duration": 917,
    "start_time": "2021-07-20T23:57:47.440Z"
   },
   {
    "duration": 1692,
    "start_time": "2021-07-21T13:08:41.555Z"
   },
   {
    "duration": 48,
    "start_time": "2021-07-21T13:08:43.249Z"
   },
   {
    "duration": 7,
    "start_time": "2021-07-21T13:08:43.299Z"
   },
   {
    "duration": 6,
    "start_time": "2021-07-21T13:08:43.308Z"
   },
   {
    "duration": 65,
    "start_time": "2021-07-21T13:08:43.316Z"
   },
   {
    "duration": 5,
    "start_time": "2021-07-21T13:08:43.383Z"
   },
   {
    "duration": 9,
    "start_time": "2021-07-21T13:08:43.390Z"
   },
   {
    "duration": 14,
    "start_time": "2021-07-21T13:08:43.402Z"
   },
   {
    "duration": 8,
    "start_time": "2021-07-21T13:08:43.418Z"
   },
   {
    "duration": 4,
    "start_time": "2021-07-21T13:08:43.441Z"
   },
   {
    "duration": 181,
    "start_time": "2021-07-21T13:08:43.446Z"
   },
   {
    "duration": 225,
    "start_time": "2021-07-21T13:08:43.628Z"
   },
   {
    "duration": 27,
    "start_time": "2021-07-21T13:08:43.856Z"
   },
   {
    "duration": 320,
    "start_time": "2021-07-21T13:08:43.885Z"
   },
   {
    "duration": 4,
    "start_time": "2021-07-21T13:08:44.207Z"
   },
   {
    "duration": 39,
    "start_time": "2021-07-21T13:08:44.212Z"
   },
   {
    "duration": 8,
    "start_time": "2021-07-21T13:08:44.253Z"
   },
   {
    "duration": 22,
    "start_time": "2021-07-21T13:08:44.262Z"
   },
   {
    "duration": 35,
    "start_time": "2021-07-21T13:08:44.286Z"
   },
   {
    "duration": 269,
    "start_time": "2021-07-21T13:08:44.323Z"
   },
   {
    "duration": 6,
    "start_time": "2021-07-21T13:08:44.594Z"
   },
   {
    "duration": 9,
    "start_time": "2021-07-21T13:08:44.602Z"
   },
   {
    "duration": 270,
    "start_time": "2021-07-21T13:08:44.615Z"
   },
   {
    "duration": 18,
    "start_time": "2021-07-21T13:08:44.887Z"
   },
   {
    "duration": 16,
    "start_time": "2021-07-21T13:08:44.906Z"
   },
   {
    "duration": 124,
    "start_time": "2021-07-21T13:08:44.924Z"
   },
   {
    "duration": 124,
    "start_time": "2021-07-21T13:08:45.049Z"
   },
   {
    "duration": 108,
    "start_time": "2021-07-21T13:08:45.175Z"
   },
   {
    "duration": 5,
    "start_time": "2021-07-21T13:08:45.284Z"
   },
   {
    "duration": 7,
    "start_time": "2021-07-21T13:08:45.291Z"
   },
   {
    "duration": 9,
    "start_time": "2021-07-21T13:08:45.300Z"
   },
   {
    "duration": 8,
    "start_time": "2021-07-21T13:08:45.310Z"
   },
   {
    "duration": 8,
    "start_time": "2021-07-21T13:08:45.319Z"
   },
   {
    "duration": 11,
    "start_time": "2021-07-21T13:08:45.341Z"
   },
   {
    "duration": 20,
    "start_time": "2021-07-21T13:08:45.354Z"
   },
   {
    "duration": 751,
    "start_time": "2021-07-21T13:08:45.376Z"
   },
   {
    "duration": 71,
    "start_time": "2021-07-21T13:08:46.129Z"
   },
   {
    "duration": 16,
    "start_time": "2021-07-21T13:08:46.201Z"
   },
   {
    "duration": 23,
    "start_time": "2021-07-21T13:08:46.219Z"
   },
   {
    "duration": 10,
    "start_time": "2021-07-21T13:08:46.243Z"
   },
   {
    "duration": 2540,
    "start_time": "2021-07-21T13:08:46.255Z"
   },
   {
    "duration": 24,
    "start_time": "2021-07-21T13:08:48.796Z"
   },
   {
    "duration": 29,
    "start_time": "2021-07-21T13:08:48.821Z"
   },
   {
    "duration": 9,
    "start_time": "2021-07-21T13:08:48.852Z"
   },
   {
    "duration": 18,
    "start_time": "2021-07-21T13:08:48.863Z"
   },
   {
    "duration": 6,
    "start_time": "2021-07-21T13:08:48.882Z"
   },
   {
    "duration": 54,
    "start_time": "2021-07-21T13:08:48.890Z"
   },
   {
    "duration": 5,
    "start_time": "2021-07-21T13:08:48.945Z"
   },
   {
    "duration": 7,
    "start_time": "2021-07-21T13:08:48.951Z"
   },
   {
    "duration": 9,
    "start_time": "2021-07-21T13:08:48.959Z"
   },
   {
    "duration": 228,
    "start_time": "2021-07-21T13:08:48.969Z"
   },
   {
    "duration": 13,
    "start_time": "2021-07-21T13:08:49.199Z"
   },
   {
    "duration": 253,
    "start_time": "2021-07-21T13:08:49.214Z"
   },
   {
    "duration": 198,
    "start_time": "2021-07-21T13:08:49.469Z"
   },
   {
    "duration": 13,
    "start_time": "2021-07-21T13:08:49.669Z"
   },
   {
    "duration": 11,
    "start_time": "2021-07-21T13:08:49.684Z"
   },
   {
    "duration": 4,
    "start_time": "2021-07-21T13:08:49.697Z"
   },
   {
    "duration": 38,
    "start_time": "2021-07-21T13:08:49.703Z"
   },
   {
    "duration": 11,
    "start_time": "2021-07-21T13:08:49.743Z"
   },
   {
    "duration": 10,
    "start_time": "2021-07-21T13:08:49.756Z"
   },
   {
    "duration": 113,
    "start_time": "2021-07-21T13:08:49.767Z"
   },
   {
    "duration": 36,
    "start_time": "2021-07-21T13:08:49.882Z"
   }
  ],
  "kernelspec": {
   "display_name": "Python 3",
   "language": "python",
   "name": "python3"
  },
  "language_info": {
   "codemirror_mode": {
    "name": "ipython",
    "version": 3
   },
   "file_extension": ".py",
   "mimetype": "text/x-python",
   "name": "python",
   "nbconvert_exporter": "python",
   "pygments_lexer": "ipython3",
   "version": "3.8.8"
  },
  "toc": {
   "base_numbering": 1,
   "nav_menu": {},
   "number_sections": false,
   "sideBar": true,
   "skip_h1_title": true,
   "title_cell": "Table of Contents",
   "title_sidebar": "Contents",
   "toc_cell": false,
   "toc_position": {},
   "toc_section_display": true,
   "toc_window_display": false
  }
 },
 "nbformat": 4,
 "nbformat_minor": 2
}
