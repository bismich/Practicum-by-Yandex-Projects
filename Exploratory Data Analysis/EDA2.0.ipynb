{
 "cells": [
  {
   "cell_type": "markdown",
   "metadata": {},
   "source": [
    "<div style=\"border:solid black 2px; padding: 20px\">\n",
    "<b>Hello Michael!</b>\n",
    "    \n",
    "My name is Polina Berezhnaia, and I'm gonna review your project on Exploratory Data Analysis.\n",
    "\n",
    "\n"
   ]
  },
  {
   "cell_type": "markdown",
   "metadata": {},
   "source": [
    "<div style=\"border:solid black 2px; padding: 20px\">\n",
    "<b>Hello!</b>\n",
    "    \n",
    "You fixed all the issues and did a great job! I appreciate you put a lot of effort into this project! You are a very promising student, thank you for trying to do your best :)\n",
    "    \n",
    "I wish you good luck, and hope you will become a professional analyst very soon!"
   ]
  },
  {
   "cell_type": "markdown",
   "metadata": {},
   "source": [
    "# Research on car sales ads\n",
    "\n",
    "You're an analyst at Crankshaft List. Hundreds of free advertisements for vehicles are published on your site every day.\n",
    "\n",
    "You need to study data collected over the last few years and determine which factors influence the price of a vehicle. "
   ]
  },
  {
   "cell_type": "markdown",
   "metadata": {},
   "source": [
    "### Step 1. Open the data file and study the general information. "
   ]
  },
  {
   "cell_type": "code",
   "execution_count": 1,
   "metadata": {
    "scrolled": false
   },
   "outputs": [
    {
     "data": {
      "text/html": [
       "<div>\n",
       "<style scoped>\n",
       "    .dataframe tbody tr th:only-of-type {\n",
       "        vertical-align: middle;\n",
       "    }\n",
       "\n",
       "    .dataframe tbody tr th {\n",
       "        vertical-align: top;\n",
       "    }\n",
       "\n",
       "    .dataframe thead th {\n",
       "        text-align: right;\n",
       "    }\n",
       "</style>\n",
       "<table border=\"1\" class=\"dataframe\">\n",
       "  <thead>\n",
       "    <tr style=\"text-align: right;\">\n",
       "      <th></th>\n",
       "      <th>price</th>\n",
       "      <th>model_year</th>\n",
       "      <th>model</th>\n",
       "      <th>condition</th>\n",
       "      <th>cylinders</th>\n",
       "      <th>fuel</th>\n",
       "      <th>odometer</th>\n",
       "      <th>transmission</th>\n",
       "      <th>type</th>\n",
       "      <th>paint_color</th>\n",
       "      <th>is_4wd</th>\n",
       "      <th>date_posted</th>\n",
       "      <th>days_listed</th>\n",
       "    </tr>\n",
       "  </thead>\n",
       "  <tbody>\n",
       "    <tr>\n",
       "      <td>0</td>\n",
       "      <td>9400</td>\n",
       "      <td>2011.0</td>\n",
       "      <td>bmw x5</td>\n",
       "      <td>good</td>\n",
       "      <td>6.0</td>\n",
       "      <td>gas</td>\n",
       "      <td>145000.0</td>\n",
       "      <td>automatic</td>\n",
       "      <td>SUV</td>\n",
       "      <td>NaN</td>\n",
       "      <td>1.0</td>\n",
       "      <td>2018-06-23</td>\n",
       "      <td>19</td>\n",
       "    </tr>\n",
       "    <tr>\n",
       "      <td>1</td>\n",
       "      <td>25500</td>\n",
       "      <td>NaN</td>\n",
       "      <td>ford f-150</td>\n",
       "      <td>good</td>\n",
       "      <td>6.0</td>\n",
       "      <td>gas</td>\n",
       "      <td>88705.0</td>\n",
       "      <td>automatic</td>\n",
       "      <td>pickup</td>\n",
       "      <td>white</td>\n",
       "      <td>1.0</td>\n",
       "      <td>2018-10-19</td>\n",
       "      <td>50</td>\n",
       "    </tr>\n",
       "    <tr>\n",
       "      <td>2</td>\n",
       "      <td>5500</td>\n",
       "      <td>2013.0</td>\n",
       "      <td>hyundai sonata</td>\n",
       "      <td>like new</td>\n",
       "      <td>4.0</td>\n",
       "      <td>gas</td>\n",
       "      <td>110000.0</td>\n",
       "      <td>automatic</td>\n",
       "      <td>sedan</td>\n",
       "      <td>red</td>\n",
       "      <td>NaN</td>\n",
       "      <td>2019-02-07</td>\n",
       "      <td>79</td>\n",
       "    </tr>\n",
       "    <tr>\n",
       "      <td>3</td>\n",
       "      <td>1500</td>\n",
       "      <td>2003.0</td>\n",
       "      <td>ford f-150</td>\n",
       "      <td>fair</td>\n",
       "      <td>8.0</td>\n",
       "      <td>gas</td>\n",
       "      <td>NaN</td>\n",
       "      <td>automatic</td>\n",
       "      <td>pickup</td>\n",
       "      <td>NaN</td>\n",
       "      <td>NaN</td>\n",
       "      <td>2019-03-22</td>\n",
       "      <td>9</td>\n",
       "    </tr>\n",
       "    <tr>\n",
       "      <td>4</td>\n",
       "      <td>14900</td>\n",
       "      <td>2017.0</td>\n",
       "      <td>chrysler 200</td>\n",
       "      <td>excellent</td>\n",
       "      <td>4.0</td>\n",
       "      <td>gas</td>\n",
       "      <td>80903.0</td>\n",
       "      <td>automatic</td>\n",
       "      <td>sedan</td>\n",
       "      <td>black</td>\n",
       "      <td>NaN</td>\n",
       "      <td>2019-04-02</td>\n",
       "      <td>28</td>\n",
       "    </tr>\n",
       "  </tbody>\n",
       "</table>\n",
       "</div>"
      ],
      "text/plain": [
       "   price  model_year           model  condition  cylinders fuel  odometer  \\\n",
       "0   9400      2011.0          bmw x5       good        6.0  gas  145000.0   \n",
       "1  25500         NaN      ford f-150       good        6.0  gas   88705.0   \n",
       "2   5500      2013.0  hyundai sonata   like new        4.0  gas  110000.0   \n",
       "3   1500      2003.0      ford f-150       fair        8.0  gas       NaN   \n",
       "4  14900      2017.0    chrysler 200  excellent        4.0  gas   80903.0   \n",
       "\n",
       "  transmission    type paint_color  is_4wd date_posted  days_listed  \n",
       "0    automatic     SUV         NaN     1.0  2018-06-23           19  \n",
       "1    automatic  pickup       white     1.0  2018-10-19           50  \n",
       "2    automatic   sedan         red     NaN  2019-02-07           79  \n",
       "3    automatic  pickup         NaN     NaN  2019-03-22            9  \n",
       "4    automatic   sedan       black     NaN  2019-04-02           28  "
      ]
     },
     "execution_count": 1,
     "metadata": {},
     "output_type": "execute_result"
    }
   ],
   "source": [
    "import pandas as pd\n",
    "import numpy as np\n",
    "import matplotlib.pyplot as plt\n",
    "\n",
    "vehicles = pd.read_csv('/datasets/vehicles_us.csv')\n",
    "vehicles.head()"
   ]
  },
  {
   "cell_type": "markdown",
   "metadata": {},
   "source": [
    "We need to know how many rows and columns we are going to be dealing with in this study"
   ]
  },
  {
   "cell_type": "code",
   "execution_count": 2,
   "metadata": {},
   "outputs": [
    {
     "data": {
      "text/plain": [
       "(51525, 13)"
      ]
     },
     "execution_count": 2,
     "metadata": {},
     "output_type": "execute_result"
    }
   ],
   "source": [
    "vehicles.shape"
   ]
  },
  {
   "cell_type": "markdown",
   "metadata": {},
   "source": [
    " we need to find out what type of date types we have and what we need to concert to the appropriate type needed for our study"
   ]
  },
  {
   "cell_type": "code",
   "execution_count": 3,
   "metadata": {},
   "outputs": [
    {
     "data": {
      "text/plain": [
       "price             int64\n",
       "model_year      float64\n",
       "model            object\n",
       "condition        object\n",
       "cylinders       float64\n",
       "fuel             object\n",
       "odometer        float64\n",
       "transmission     object\n",
       "type             object\n",
       "paint_color      object\n",
       "is_4wd          float64\n",
       "date_posted      object\n",
       "days_listed       int64\n",
       "dtype: object"
      ]
     },
     "execution_count": 3,
     "metadata": {},
     "output_type": "execute_result"
    }
   ],
   "source": [
    "vehicles.dtypes"
   ]
  },
  {
   "cell_type": "markdown",
   "metadata": {},
   "source": [
    "So we have a table with 51525 rows and 13 columns mixed with string data type and integers which we will need to convert later"
   ]
  },
  {
   "cell_type": "markdown",
   "metadata": {},
   "source": [
    "### Step 2. Data preprocessing"
   ]
  },
  {
   "cell_type": "markdown",
   "metadata": {},
   "source": [
    "Let's see how many null values we have and where we have them. "
   ]
  },
  {
   "cell_type": "code",
   "execution_count": 2,
   "metadata": {},
   "outputs": [
    {
     "data": {
      "text/plain": [
       "price               0\n",
       "model_year       3619\n",
       "model               0\n",
       "condition           0\n",
       "cylinders        5260\n",
       "fuel                0\n",
       "odometer         7892\n",
       "transmission        0\n",
       "type                0\n",
       "paint_color      9267\n",
       "is_4wd          25953\n",
       "date_posted         0\n",
       "days_listed         0\n",
       "dtype: int64"
      ]
     },
     "execution_count": 2,
     "metadata": {},
     "output_type": "execute_result"
    }
   ],
   "source": [
    "vehicles.isnull().sum()"
   ]
  },
  {
   "cell_type": "code",
   "execution_count": 3,
   "metadata": {},
   "outputs": [
    {
     "data": {
      "text/plain": [
       "0"
      ]
     },
     "execution_count": 3,
     "metadata": {},
     "output_type": "execute_result"
    }
   ],
   "source": [
    "vehicles.duplicated().sum()"
   ]
  },
  {
   "cell_type": "markdown",
   "metadata": {},
   "source": [
    "the 'is_4wd' column only has a boolean value of 1 which also means \"Yes\" - we can safely assumne that the value missing is 0 or \"No\".\n",
    "Let's replace the missing value by 0 or \"No\" "
   ]
  },
  {
   "cell_type": "code",
   "execution_count": 4,
   "metadata": {},
   "outputs": [],
   "source": [
    "vehicles['is_4wd'].fillna(0, inplace=True)"
   ]
  },
  {
   "cell_type": "code",
   "execution_count": 5,
   "metadata": {},
   "outputs": [],
   "source": [
    "'''\n",
    "let's use a traditional approach on replacing the missing values:\n",
    "- the 'odometer' missing values will be replaced by the median value of the total odometer readings\n",
    "- the 'cylinders' missing values will be replaced by number 0  \n",
    "- the 'model_year' missing values will be replaced by number 0 - \n",
    "- the 'paint_color' missing values will be replaced by 'unknown' - can't model a replacement\n",
    "'''\n",
    "\n",
    "\n",
    "vehicles['odometer'].fillna(value = vehicles['odometer'].median(), inplace = True)\n",
    "vehicles['cylinders'].fillna(value = 0, inplace=True)\n",
    "vehicles['model_year'].fillna(value = 0, inplace = True)\n",
    "vehicles['paint_color'].fillna(value='Unknown', inplace=True)"
   ]
  },
  {
   "cell_type": "markdown",
   "metadata": {},
   "source": [
    "Let's make sure that the missing values have been replaced."
   ]
  },
  {
   "cell_type": "code",
   "execution_count": 8,
   "metadata": {
    "scrolled": true
   },
   "outputs": [
    {
     "name": "stdout",
     "output_type": "stream",
     "text": [
      "   price  model_year           model  condition  cylinders fuel  odometer  \\\n",
      "0   9400      2011.0          bmw x5       good        6.0  gas  145000.0   \n",
      "1  25500         0.0      ford f-150       good        6.0  gas   88705.0   \n",
      "2   5500      2013.0  hyundai sonata   like new        4.0  gas  110000.0   \n",
      "3   1500      2003.0      ford f-150       fair        8.0  gas  113000.0   \n",
      "4  14900      2017.0    chrysler 200  excellent        4.0  gas   80903.0   \n",
      "5  14990      2014.0    chrysler 300  excellent        6.0  gas   57954.0   \n",
      "6  12990      2015.0    toyota camry  excellent        4.0  gas   79212.0   \n",
      "7  15990      2013.0     honda pilot  excellent        6.0  gas  109473.0   \n",
      "8  11500      2012.0     kia sorento  excellent        4.0  gas  104174.0   \n",
      "9   9200      2008.0     honda pilot  excellent        0.0  gas  147191.0   \n",
      "\n",
      "  transmission    type paint_color  is_4wd date_posted  days_listed  \n",
      "0    automatic     SUV     Unknown     1.0  2018-06-23           19  \n",
      "1    automatic  pickup       white     1.0  2018-10-19           50  \n",
      "2    automatic   sedan         red     0.0  2019-02-07           79  \n",
      "3    automatic  pickup     Unknown     0.0  2019-03-22            9  \n",
      "4    automatic   sedan       black     0.0  2019-04-02           28  \n",
      "5    automatic   sedan       black     1.0  2018-06-20           15  \n",
      "6    automatic   sedan       white     0.0  2018-12-27           73  \n",
      "7    automatic     SUV       black     1.0  2019-01-07           68  \n",
      "8    automatic     SUV     Unknown     1.0  2018-07-16           19  \n",
      "9    automatic     SUV        blue     1.0  2019-02-15           17  \n"
     ]
    }
   ],
   "source": [
    "print(vehicles.head(10))"
   ]
  },
  {
   "cell_type": "code",
   "execution_count": 9,
   "metadata": {},
   "outputs": [
    {
     "data": {
      "text/plain": [
       "price           0\n",
       "model_year      0\n",
       "model           0\n",
       "condition       0\n",
       "cylinders       0\n",
       "fuel            0\n",
       "odometer        0\n",
       "transmission    0\n",
       "type            0\n",
       "paint_color     0\n",
       "is_4wd          0\n",
       "date_posted     0\n",
       "days_listed     0\n",
       "dtype: int64"
      ]
     },
     "execution_count": 9,
     "metadata": {},
     "output_type": "execute_result"
    }
   ],
   "source": [
    "vehicles.isnull().sum()"
   ]
  },
  {
   "cell_type": "markdown",
   "metadata": {},
   "source": [
    "There is no logical explanation as of why the data is missing in this case,this information should be default for ALL cars.\n",
    "We need to know how the csv file was generated. Was it through scraping/parsing? because clearly someting did not work right in the code If a boolean value is missing\n",
    "\n"
   ]
  },
  {
   "cell_type": "markdown",
   "metadata": {},
   "source": [
    "We need to convert 'model_year', 'cylinders', ' odometer', 'is_4wd','date_posted' from object to integers for calculations"
   ]
  },
  {
   "cell_type": "code",
   "execution_count": 6,
   "metadata": {},
   "outputs": [],
   "source": [
    "for col in ['model_year', 'cylinders', 'odometer', 'is_4wd' ]:\n",
    "    vehicles[col]= vehicles[col].astype(int)"
   ]
  },
  {
   "cell_type": "markdown",
   "metadata": {},
   "source": [
    "<blockquote> After looking closely at the data, I can see that the data is NOT completely missing at random. The value \"other\" from the 'Transmission' column carries the most missing value across the other columns. \n",
    "    \n",
    "\n",
    "The data missing on the \"cylinders\" column could be due to the fact that float was not set correctly, but some cars do have 4.2, 4.5...cylinders.\n",
    "    \n",
    "On Paint_color: it could be that a space was not allowed and perhaps they were entries for colors like : \"light blue\" or \"Dark grey\"\n",
    "    \n",
    "On Model Year: the entry format probably didn't match - could have been \"yy\" or else.\n",
    "    \n",
    "On Odometer: Excellent cars with missing values could just be that the meter is a 0000000 and somehow was not accepted. \n",
    "</blockquote>"
   ]
  },
  {
   "cell_type": "markdown",
   "metadata": {},
   "source": [
    "we need to convert 'date_posted' to pandas to_datetime for calculations\n",
    "Extract 'day', 'week' and 'year' from datetime using datetime accessor for further calculations"
   ]
  },
  {
   "cell_type": "code",
   "execution_count": 7,
   "metadata": {},
   "outputs": [],
   "source": [
    "vehicles['date_posted']=pd.to_datetime(vehicles['date_posted'])\n",
    "\n",
    "vehicles['day']=vehicles['date_posted'].dt.dayofweek\n",
    "vehicles['week']=vehicles['date_posted'].dt.week\n",
    "vehicles['year']=vehicles['date_posted'].dt.year"
   ]
  },
  {
   "cell_type": "markdown",
   "metadata": {},
   "source": [
    "We will create 3 new columns here for Year, week  and day after extracting it from the date_posted column"
   ]
  },
  {
   "cell_type": "code",
   "execution_count": 9,
   "metadata": {
    "scrolled": true
   },
   "outputs": [
    {
     "name": "stdout",
     "output_type": "stream",
     "text": [
      "       day  week  year\n",
      "0        5    25  2018\n",
      "1        4    42  2018\n",
      "2        3     6  2019\n",
      "3        4    12  2019\n",
      "4        1    14  2019\n",
      "...    ...   ...   ...\n",
      "51520    2    40  2018\n",
      "51521    2    46  2018\n",
      "51522    3    46  2018\n",
      "51523    0    27  2018\n",
      "51524    1    23  2018\n",
      "\n",
      "[51525 rows x 3 columns]\n"
     ]
    }
   ],
   "source": [
    "print(vehicles[['day','week','year']])"
   ]
  },
  {
   "cell_type": "markdown",
   "metadata": {},
   "source": [
    "### Step 3. Make calculations and add them to the table"
   ]
  },
  {
   "cell_type": "markdown",
   "metadata": {},
   "source": [
    " We are now ready to perform required calculations\n"
   ]
  },
  {
   "cell_type": "code",
   "execution_count": 10,
   "metadata": {
    "scrolled": true
   },
   "outputs": [],
   "source": [
    "vehicles['age_years']=vehicles['year'] - vehicles['model_year']\n",
    "vehicles['avg_miles_year']=vehicles['odometer']/vehicles['age_years']\n",
    "vehicles.replace([np.inf, -np.inf], np.nan, inplace=True)"
   ]
  },
  {
   "cell_type": "code",
   "execution_count": 10,
   "metadata": {
    "scrolled": false
   },
   "outputs": [],
   "source": [
    "vehicles.fillna(0, inplace=True)"
   ]
  },
  {
   "cell_type": "code",
   "execution_count": 15,
   "metadata": {},
   "outputs": [
    {
     "name": "stdout",
     "output_type": "stream",
     "text": [
      "    price  model_year                              model  condition  \\\n",
      "0    9400        2011                             bmw x5       good   \n",
      "1   25500           0                         ford f-150       good   \n",
      "2    5500        2013                     hyundai sonata   like new   \n",
      "3    1500        2003                         ford f-150       fair   \n",
      "4   14900        2017                       chrysler 200  excellent   \n",
      "5   14990        2014                       chrysler 300  excellent   \n",
      "6   12990        2015                       toyota camry  excellent   \n",
      "7   15990        2013                        honda pilot  excellent   \n",
      "8   11500        2012                        kia sorento  excellent   \n",
      "9    9200        2008                        honda pilot  excellent   \n",
      "10  19500        2011           chevrolet silverado 1500  excellent   \n",
      "11   8990        2012                       honda accord  excellent   \n",
      "12  18990        2012                           ram 1500  excellent   \n",
      "13  16500        2018                     hyundai sonata  excellent   \n",
      "14  12990        2009                          gmc yukon  excellent   \n",
      "15  17990        2013                           ram 1500  excellent   \n",
      "16  14990        2010                           ram 1500  excellent   \n",
      "17  13990        2014                      jeep cherokee  excellent   \n",
      "18  12500        2013                 chevrolet traverse  excellent   \n",
      "19  13990        2018                    hyundai elantra  excellent   \n",
      "20   6990           0                    chevrolet tahoe  excellent   \n",
      "21   5250        2007                        toyota rav4       good   \n",
      "22   7500        2004                chevrolet silverado   like new   \n",
      "23   7500        2004                      jeep wrangler       good   \n",
      "24   3950        2009                       chrysler 200  excellent   \n",
      "25  11499        2017                   chevrolet malibu   like new   \n",
      "26   8499        2014                     ford fusion se   like new   \n",
      "27  12999        2015                   chevrolet impala   like new   \n",
      "28  29800        2012                 chevrolet corvette  excellent   \n",
      "29   5495        2010                   chevrolet impala  excellent   \n",
      "30   5000        2009                       jeep liberty       good   \n",
      "31  11999        2017                    toyota camry le  excellent   \n",
      "32   9499        2015                      nissan altima   like new   \n",
      "33   3890        2011                     subaru outback  excellent   \n",
      "34   9500        2008                  toyota highlander       good   \n",
      "35  14999        2015                      dodge charger       good   \n",
      "36  10499        2013                       chrysler 300       good   \n",
      "37   7500        2005                      toyota tacoma       good   \n",
      "38   7999        2015                       chrysler 200       good   \n",
      "39   8000        2009                         ford f-150       good   \n",
      "40  11499        2017                  chevrolet equinox   like new   \n",
      "41  11995        2017                       nissan rogue   like new   \n",
      "42  34900        2013  mercedes-benz benze sprinter 2500  excellent   \n",
      "43   5100        2008                         honda cr-v  excellent   \n",
      "44   4500        2004                jeep grand cherokee       good   \n",
      "45   2400        2001                       toyota camry       good   \n",
      "46  11200        2015                      dodge charger  excellent   \n",
      "47  12500        2008                     toyota 4runner       good   \n",
      "48   9500        2014                         ford focus  excellent   \n",
      "49   3200        2006                        honda civic  excellent   \n",
      "\n",
      "    cylinders    fuel  odometer transmission    type paint_color  is_4wd  \\\n",
      "0           6     gas    145000    automatic     SUV     Unknown       1   \n",
      "1           6     gas     88705    automatic  pickup       white       1   \n",
      "2           4     gas    110000    automatic   sedan         red       0   \n",
      "3           8     gas    113000    automatic  pickup     Unknown       0   \n",
      "4           4     gas     80903    automatic   sedan       black       0   \n",
      "5           6     gas     57954    automatic   sedan       black       1   \n",
      "6           4     gas     79212    automatic   sedan       white       0   \n",
      "7           6     gas    109473    automatic     SUV       black       1   \n",
      "8           4     gas    104174    automatic     SUV     Unknown       1   \n",
      "9           0     gas    147191    automatic     SUV        blue       1   \n",
      "10          8     gas    128413    automatic  pickup       black       1   \n",
      "11          4     gas    111142    automatic   sedan        grey       0   \n",
      "12          8     gas    140742    automatic  pickup     Unknown       1   \n",
      "13          4     gas     22104    automatic   sedan      silver       0   \n",
      "14          8     gas    132285    automatic     SUV       black       1   \n",
      "15          8     gas    113000    automatic  pickup         red       1   \n",
      "16          8     gas    130725    automatic  pickup         red       1   \n",
      "17          6     gas    100669    automatic     SUV         red       1   \n",
      "18          6     gas    128325    automatic     SUV       white       1   \n",
      "19          4     gas     31932    automatic   sedan         red       0   \n",
      "20          8     gas    147485    automatic     SUV      silver       1   \n",
      "21          6     gas    154000    automatic     SUV     Unknown       0   \n",
      "22          8     gas    180000    automatic   truck         red       1   \n",
      "23          6     gas    113000    automatic     SUV         red       1   \n",
      "24          4     gas    113000    automatic   sedan         red       0   \n",
      "25          4     gas    113000    automatic   sedan     Unknown       0   \n",
      "26          4     gas     79523    automatic   sedan         red       0   \n",
      "27          6     gas     39368    automatic   sedan      custom       0   \n",
      "28          8     gas     57413    automatic   coupe      orange       0   \n",
      "29          6     gas    113000    automatic   sedan       white       0   \n",
      "30          6     gas    137273    automatic     SUV       white       1   \n",
      "31          4     gas     35721    automatic   sedan     Unknown       0   \n",
      "32          4     gas     51848    automatic   sedan        grey       0   \n",
      "33          4     gas    300000    automatic     SUV       white       1   \n",
      "34          6     gas    149799    automatic     SUV     Unknown       0   \n",
      "35          6     gas     63037    automatic   sedan     Unknown       0   \n",
      "36          0     gas     88042    automatic   sedan     Unknown       0   \n",
      "37          0     gas    160000    automatic  pickup     Unknown       0   \n",
      "38          4     gas    113000    automatic   sedan     Unknown       0   \n",
      "39          8     gas    234000    automatic   truck       black       1   \n",
      "40          4     gas     54772    automatic     SUV        grey       1   \n",
      "41          4     gas    113000    automatic     SUV      silver       1   \n",
      "42          6  diesel    113000    automatic     van       black       0   \n",
      "43          4     gas    188000    automatic     SUV         red       1   \n",
      "44          6     gas    168821    automatic     SUV     Unknown       1   \n",
      "45          4     gas    277564    automatic   coupe      yellow       0   \n",
      "46          6     gas     90302    automatic   sedan       black       1   \n",
      "47          6     gas    141098    automatic     SUV        grey       0   \n",
      "48          4  diesel     46000    automatic   sedan     Unknown       0   \n",
      "49          4     gas    255390    automatic   sedan        blue       0   \n",
      "\n",
      "   date_posted  days_listed  day  week  year  age_years  avg_miles_year  \n",
      "0   2018-06-23           19    5    25  2018          7    20714.285714  \n",
      "1   2018-10-19           50    4    42  2018       2018       43.956888  \n",
      "2   2019-02-07           79    3     6  2019          6    18333.333333  \n",
      "3   2019-03-22            9    4    12  2019         16     7062.500000  \n",
      "4   2019-04-02           28    1    14  2019          2    40451.500000  \n",
      "5   2018-06-20           15    2    25  2018          4    14488.500000  \n",
      "6   2018-12-27           73    3    52  2018          3    26404.000000  \n",
      "7   2019-01-07           68    0     2  2019          6    18245.500000  \n",
      "8   2018-07-16           19    0    29  2018          6    17362.333333  \n",
      "9   2019-02-15           17    4     7  2019         11    13381.000000  \n",
      "10  2018-09-17           38    0    38  2018          7    18344.714286  \n",
      "11  2019-03-28           29    3    13  2019          7    15877.428571  \n",
      "12  2019-04-02           37    1    14  2019          7    20106.000000  \n",
      "13  2019-01-14           29    0     3  2019          1    22104.000000  \n",
      "14  2019-01-31           24    3     5  2019         10    13228.500000  \n",
      "15  2018-05-15          111    1    20  2018          5    22600.000000  \n",
      "16  2018-12-30           13    6    52  2018          8    16340.625000  \n",
      "17  2018-08-16           25    3    33  2018          4    25167.250000  \n",
      "18  2019-04-09           13    1    15  2019          6    21387.500000  \n",
      "19  2018-08-25           27    5    34  2018          0        0.000000  \n",
      "20  2018-08-05           28    6    31  2018       2018       73.084737  \n",
      "21  2018-08-22            8    2    34  2018         11    14000.000000  \n",
      "22  2019-01-05           64    5     1  2019         15    12000.000000  \n",
      "23  2018-05-17           39    3    20  2018         14     8071.428571  \n",
      "24  2018-06-11           40    0    24  2018          9    12555.555556  \n",
      "25  2018-07-26           43    3    30  2018          1   113000.000000  \n",
      "26  2018-10-25           23    3    43  2018          4    19880.750000  \n",
      "27  2018-05-19           42    5    20  2018          3    13122.666667  \n",
      "28  2018-10-22          101    0    43  2018          6     9568.833333  \n",
      "29  2019-02-18           20    0     8  2019          9    12555.555556  \n",
      "30  2019-02-19           14    1     8  2019         10    13727.300000  \n",
      "31  2018-09-13           25    3    37  2018          1    35721.000000  \n",
      "32  2018-11-12            7    0    46  2018          3    17282.666667  \n",
      "33  2018-12-25           31    1    52  2018          7    42857.142857  \n",
      "34  2018-06-04          121    0    23  2018         10    14979.900000  \n",
      "35  2018-05-11           37    4    19  2018          3    21012.333333  \n",
      "36  2018-05-05           22    5    18  2018          5    17608.400000  \n",
      "37  2018-07-22           44    6    29  2018         13    12307.692308  \n",
      "38  2019-03-08           29    4    10  2019          4    28250.000000  \n",
      "39  2019-03-31            1    6    13  2019         10    23400.000000  \n",
      "40  2019-01-12           36    5     2  2019          2    27386.000000  \n",
      "41  2018-09-20           21    3    38  2018          1   113000.000000  \n",
      "42  2019-01-15           16    1     3  2019          6    18833.333333  \n",
      "43  2018-11-18           10    6    46  2018         10    18800.000000  \n",
      "44  2019-01-31           60    3     5  2019         15    11254.733333  \n",
      "45  2018-05-27           51    6    21  2018         17    16327.294118  \n",
      "46  2018-07-19           73    3    29  2018          3    30100.666667  \n",
      "47  2019-03-10           35    6    10  2019         11    12827.090909  \n",
      "48  2018-10-09           24    1    41  2018          4    11500.000000  \n",
      "49  2018-10-18           23    3    42  2018         12    21282.500000  \n"
     ]
    }
   ],
   "source": [
    "print(vehicles.head(50))"
   ]
  },
  {
   "cell_type": "markdown",
   "metadata": {},
   "source": [
    "Since we will need to perform calculations with the 'condition' columns, - we need to replace its values with integers"
   ]
  },
  {
   "cell_type": "code",
   "execution_count": 11,
   "metadata": {},
   "outputs": [],
   "source": [
    "condition_dic= {'excellent':0,'new':1,'like new':2,'good':3,'fair':4,'salvage':5}\n",
    "\n",
    "vehicles['condition'].replace(condition_dic, inplace=True)"
   ]
  },
  {
   "cell_type": "code",
   "execution_count": 12,
   "metadata": {},
   "outputs": [
    {
     "data": {
      "text/plain": [
       "{'excellent': 0, 'new': 1, 'like new': 2, 'good': 3, 'fair': 4, 'salvage': 5}"
      ]
     },
     "execution_count": 12,
     "metadata": {},
     "output_type": "execute_result"
    }
   ],
   "source": [
    "condition_dic"
   ]
  },
  {
   "cell_type": "markdown",
   "metadata": {},
   "source": [
    "### Step 4. Carry out exploratory data analysis"
   ]
  },
  {
   "cell_type": "markdown",
   "metadata": {},
   "source": [
    "### Let's Visualize the Data at the inital state"
   ]
  },
  {
   "cell_type": "code",
   "execution_count": 12,
   "metadata": {},
   "outputs": [
    {
     "data": {
      "image/png": "[encoded data removed]",
      "text/plain": [
       "<Figure size 432x288 with 1 Axes>"
      ]
     },
     "metadata": {
      "needs_background": "light"
     },
     "output_type": "display_data"
    }
   ],
   "source": [
    "vehicles.hist('price', bins=100, range=(0,10000))\n",
    "plt.title('Cost Visualization')\n",
    "plt.xlabel('price')\n",
    "plt.ylabel('values')\n",
    "\n",
    "plt.show( )"
   ]
  },
  {
   "cell_type": "code",
   "execution_count": 19,
   "metadata": {},
   "outputs": [
    {
     "data": {
      "image/png": "[encoded data removed]",
      "text/plain": [
       "<Figure size 432x288 with 1 Axes>"
      ]
     },
     "metadata": {
      "needs_background": "light"
     },
     "output_type": "display_data"
    }
   ],
   "source": [
    "vehicles.hist('odometer', bins=100 , range=(0,10000))\n",
    "plt.title('Mileage Visualization')\n",
    "plt.xlabel('odometer')\n",
    "plt.ylabel('values')\n",
    "\n",
    "plt.show( )"
   ]
  },
  {
   "cell_type": "code",
   "execution_count": 20,
   "metadata": {
    "scrolled": true
   },
   "outputs": [
    {
     "data": {
      "image/png": "[encoded data removed]",
      "text/plain": [
       "<Figure size 432x288 with 1 Axes>"
      ]
     },
     "metadata": {
      "needs_background": "light"
     },
     "output_type": "display_data"
    }
   ],
   "source": [
    "vehicles.hist('cylinders', bins=20)\n",
    "plt.title('Engine Type Visualization')\n",
    "plt.xlabel('cylinders')\n",
    "plt.ylabel('values')\n",
    "\n",
    "plt.show( )"
   ]
  },
  {
   "cell_type": "code",
   "execution_count": 21,
   "metadata": {},
   "outputs": [
    {
     "data": {
      "image/png": "[encoded data removed]",
      "text/plain": [
       "<Figure size 432x288 with 1 Axes>"
      ]
     },
     "metadata": {
      "needs_background": "light"
     },
     "output_type": "display_data"
    }
   ],
   "source": [
    "vehicles['condition'].value_counts()\n",
    "vehicles.hist('condition', bins=10)\n",
    "plt.title('Condition Visualization')\n",
    "plt.xlabel('condition')\n",
    "plt.ylabel('values')\n",
    "\n",
    "plt.show( )"
   ]
  },
  {
   "cell_type": "markdown",
   "metadata": {},
   "source": [
    "### Let's deal with outliers"
   ]
  },
  {
   "cell_type": "markdown",
   "metadata": {},
   "source": [
    "we noticed that the price and odometer columns have a lot of outliers - we will remove them with the dotplot and interquantile"
   ]
  },
  {
   "cell_type": "code",
   "execution_count": 22,
   "metadata": {
    "scrolled": true
   },
   "outputs": [
    {
     "data": {
      "text/plain": [
       "1         798\n",
       "6995      719\n",
       "5995      655\n",
       "4995      624\n",
       "3500      620\n",
       "         ... \n",
       "49988       1\n",
       "36600       1\n",
       "300000      1\n",
       "39873       1\n",
       "11762       1\n",
       "Name: price, Length: 3443, dtype: int64"
      ]
     },
     "execution_count": 22,
     "metadata": {},
     "output_type": "execute_result"
    }
   ],
   "source": [
    "vehicles['price'].value_counts()"
   ]
  },
  {
   "cell_type": "code",
   "execution_count": 23,
   "metadata": {},
   "outputs": [
    {
     "data": {
      "image/png": "[encoded data removed]",
      "text/plain": [
       "<Figure size 1080x720 with 1 Axes>"
      ]
     },
     "metadata": {
      "needs_background": "light"
     },
     "output_type": "display_data"
    }
   ],
   "source": [
    "vehicles.boxplot(column='price', figsize=(15,10))\n",
    "plt.show( )"
   ]
  },
  {
   "cell_type": "markdown",
   "metadata": {},
   "source": [
    " Based on this boxplot alone I can see that the valuable data is between 3000 and 100000"
   ]
  },
  {
   "cell_type": "code",
   "execution_count": 13,
   "metadata": {},
   "outputs": [],
   "source": [
    "filtered_data_price= vehicles.query('3000<price<100000')"
   ]
  },
  {
   "cell_type": "markdown",
   "metadata": {},
   "source": [
    "let's visualize the boxplot for that query"
   ]
  },
  {
   "cell_type": "code",
   "execution_count": 25,
   "metadata": {
    "scrolled": true
   },
   "outputs": [
    {
     "data": {
      "image/png": "[encoded data removed]",
      "text/plain": [
       "<Figure size 1080x720 with 1 Axes>"
      ]
     },
     "metadata": {
      "needs_background": "light"
     },
     "output_type": "display_data"
    }
   ],
   "source": [
    "filtered_data_price.boxplot(column='price', figsize=(15,10))\n",
    "plt.show( )"
   ]
  },
  {
   "cell_type": "markdown",
   "metadata": {},
   "source": [
    "The 'odometer' column also has outliers - let's visualize that"
   ]
  },
  {
   "cell_type": "code",
   "execution_count": 26,
   "metadata": {
    "scrolled": true
   },
   "outputs": [
    {
     "data": {
      "image/png": "[encoded data removed]",
      "text/plain": [
       "<Figure size 1080x720 with 1 Axes>"
      ]
     },
     "metadata": {
      "needs_background": "light"
     },
     "output_type": "display_data"
    }
   ],
   "source": [
    "vehicles.boxplot(column='odometer', figsize=(15,10))\n",
    "plt.show( )"
   ]
  },
  {
   "cell_type": "markdown",
   "metadata": {},
   "source": [
    "we can eliminate the outliers with this query as a new table"
   ]
  },
  {
   "cell_type": "code",
   "execution_count": 14,
   "metadata": {},
   "outputs": [],
   "source": [
    "filtered_data=vehicles.query('(3000<price<100000) and (0<odometer<600000)')"
   ]
  },
  {
   "cell_type": "code",
   "execution_count": 15,
   "metadata": {},
   "outputs": [
    {
     "data": {
      "image/png": "[encoded data removed]",
      "text/plain": [
       "<Figure size 432x288 with 1 Axes>"
      ]
     },
     "metadata": {
      "needs_background": "light"
     },
     "output_type": "display_data"
    }
   ],
   "source": [
    "price_quantiles =[]\n",
    "quantile_values =np.arange(0.9,1.0,0.001)\n",
    "\n",
    "for q in quantile_values:\n",
    "    price_quantiles.append(vehicles['price'].quantile(q))\n",
    "    \n",
    "plt.plot(quantile_values, price_quantiles)\n",
    "plt.show( )"
   ]
  },
  {
   "cell_type": "markdown",
   "metadata": {},
   "source": [
    " Another method that could be used to determine which values are outliers is to determinate the Outliers values\n",
    " Instead of just looking at the values we can use the .quantile() method to find them"
   ]
  },
  {
   "cell_type": "markdown",
   "metadata": {},
   "source": [
    "<div class=\"alert alert-success\">\n",
    "<h3>Reviewer's comment v2</h3>\n",
    "    \n",
    "👍🏻"
   ]
  },
  {
   "cell_type": "code",
   "execution_count": 29,
   "metadata": {},
   "outputs": [
    {
     "name": "stdout",
     "output_type": "stream",
     "text": [
      "Inter-Qaurtile Range: 11839.0\n",
      "Lower bound: -12758.5\n",
      "upper bound: 34597.5\n"
     ]
    }
   ],
   "source": [
    "vehicles[['price','odometer']].quantile(0.98)\n",
    "iqr =vehicles['price'].quantile(.75) - vehicles['price'].quantile(.25)\n",
    "low = vehicles['price'].quantile(.25) - iqr*1.5\n",
    "up = vehicles['price'].quantile(.75) + iqr*1.5\n",
    "\n",
    "print('Inter-Qaurtile Range: {}'.format(iqr))\n",
    "print('Lower bound: {}'.format(low))\n",
    "print('upper bound: {}'.format(up))"
   ]
  },
  {
   "cell_type": "markdown",
   "metadata": {},
   "source": [
    " To better compare the data without printing individual graphs, let's print the scatter matrix with the outliers "
   ]
  },
  {
   "cell_type": "code",
   "execution_count": 30,
   "metadata": {},
   "outputs": [
    {
     "data": {
      "image/png": "[encoded data removed]",
      "text/plain": [
       "<Figure size 864x864 with 16 Axes>"
      ]
     },
     "metadata": {
      "needs_background": "light"
     },
     "output_type": "display_data"
    }
   ],
   "source": [
    "vehicles_main= vehicles.pivot_table(index='model' , values=['price', 'odometer', 'cylinders', 'condition'])\n",
    "\n",
    "pd.plotting.scatter_matrix(vehicles_main, figsize=(12, 12))\n",
    "plt.show( )"
   ]
  },
  {
   "cell_type": "markdown",
   "metadata": {},
   "source": [
    " Now, let's print the scatter matrix without the outliers "
   ]
  },
  {
   "cell_type": "code",
   "execution_count": 31,
   "metadata": {
    "scrolled": true
   },
   "outputs": [
    {
     "data": {
      "image/png": "[encoded data removed]",
      "text/plain": [
       "<Figure size 864x864 with 16 Axes>"
      ]
     },
     "metadata": {
      "needs_background": "light"
     },
     "output_type": "display_data"
    }
   ],
   "source": [
    "vehicles_filtered= filtered_data.pivot_table(index='model' , values=['price', 'odometer', 'cylinders', 'condition'])\n",
    "\n",
    "pd.plotting.scatter_matrix(vehicles_filtered, figsize=(12, 12))\n",
    "plt.show( )"
   ]
  },
  {
   "cell_type": "markdown",
   "metadata": {},
   "source": [
    " We can clearly see the difference with and without outliers (with the same output parameters).\n",
    "The data on the last scatter matrix show the data points more clearly centered in each box for a fair analysis"
   ]
  },
  {
   "cell_type": "markdown",
   "metadata": {},
   "source": [
    "<blockquote> After removing the outliers, we can see that there is not a huge difference between the graphs or the mean/median ( printed below).This is still a right skewed histogram .However, there is a difference on the price/price box - on the 'vehicles_main' graph the price/price box - has a significant gap between values - and on the 'vehicles_filtered' there is no gap.  </blockquote>"
   ]
  },
  {
   "cell_type": "code",
   "execution_count": 32,
   "metadata": {},
   "outputs": [
    {
     "data": {
      "text/html": [
       "<div>\n",
       "<style scoped>\n",
       "    .dataframe tbody tr th:only-of-type {\n",
       "        vertical-align: middle;\n",
       "    }\n",
       "\n",
       "    .dataframe tbody tr th {\n",
       "        vertical-align: top;\n",
       "    }\n",
       "\n",
       "    .dataframe thead th {\n",
       "        text-align: right;\n",
       "    }\n",
       "</style>\n",
       "<table border=\"1\" class=\"dataframe\">\n",
       "  <thead>\n",
       "    <tr style=\"text-align: right;\">\n",
       "      <th></th>\n",
       "      <th>condition</th>\n",
       "      <th>cylinders</th>\n",
       "      <th>odometer</th>\n",
       "      <th>price</th>\n",
       "    </tr>\n",
       "  </thead>\n",
       "  <tbody>\n",
       "    <tr>\n",
       "      <td>count</td>\n",
       "      <td>100.000000</td>\n",
       "      <td>100.000000</td>\n",
       "      <td>100.000000</td>\n",
       "      <td>100.000000</td>\n",
       "    </tr>\n",
       "    <tr>\n",
       "      <td>mean</td>\n",
       "      <td>1.530841</td>\n",
       "      <td>5.406485</td>\n",
       "      <td>113924.574046</td>\n",
       "      <td>12074.780669</td>\n",
       "    </tr>\n",
       "    <tr>\n",
       "      <td>std</td>\n",
       "      <td>0.456678</td>\n",
       "      <td>1.344572</td>\n",
       "      <td>22587.629932</td>\n",
       "      <td>6123.507760</td>\n",
       "    </tr>\n",
       "    <tr>\n",
       "      <td>min</td>\n",
       "      <td>0.000000</td>\n",
       "      <td>3.456000</td>\n",
       "      <td>40435.426087</td>\n",
       "      <td>4143.698039</td>\n",
       "    </tr>\n",
       "    <tr>\n",
       "      <td>25%</td>\n",
       "      <td>1.293885</td>\n",
       "      <td>3.957160</td>\n",
       "      <td>103257.546267</td>\n",
       "      <td>7454.811060</td>\n",
       "    </tr>\n",
       "    <tr>\n",
       "      <td>50%</td>\n",
       "      <td>1.452189</td>\n",
       "      <td>5.396566</td>\n",
       "      <td>116596.335774</td>\n",
       "      <td>9842.173539</td>\n",
       "    </tr>\n",
       "    <tr>\n",
       "      <td>75%</td>\n",
       "      <td>1.594953</td>\n",
       "      <td>6.910319</td>\n",
       "      <td>127660.973650</td>\n",
       "      <td>14950.961941</td>\n",
       "    </tr>\n",
       "    <tr>\n",
       "      <td>max</td>\n",
       "      <td>3.000000</td>\n",
       "      <td>7.635135</td>\n",
       "      <td>162135.821138</td>\n",
       "      <td>34900.000000</td>\n",
       "    </tr>\n",
       "  </tbody>\n",
       "</table>\n",
       "</div>"
      ],
      "text/plain": [
       "        condition   cylinders       odometer         price\n",
       "count  100.000000  100.000000     100.000000    100.000000\n",
       "mean     1.530841    5.406485  113924.574046  12074.780669\n",
       "std      0.456678    1.344572   22587.629932   6123.507760\n",
       "min      0.000000    3.456000   40435.426087   4143.698039\n",
       "25%      1.293885    3.957160  103257.546267   7454.811060\n",
       "50%      1.452189    5.396566  116596.335774   9842.173539\n",
       "75%      1.594953    6.910319  127660.973650  14950.961941\n",
       "max      3.000000    7.635135  162135.821138  34900.000000"
      ]
     },
     "execution_count": 32,
     "metadata": {},
     "output_type": "execute_result"
    }
   ],
   "source": [
    "vehicles_main.describe()"
   ]
  },
  {
   "cell_type": "code",
   "execution_count": 33,
   "metadata": {},
   "outputs": [
    {
     "data": {
      "text/html": [
       "<div>\n",
       "<style scoped>\n",
       "    .dataframe tbody tr th:only-of-type {\n",
       "        vertical-align: middle;\n",
       "    }\n",
       "\n",
       "    .dataframe tbody tr th {\n",
       "        vertical-align: top;\n",
       "    }\n",
       "\n",
       "    .dataframe thead th {\n",
       "        text-align: right;\n",
       "    }\n",
       "</style>\n",
       "<table border=\"1\" class=\"dataframe\">\n",
       "  <thead>\n",
       "    <tr style=\"text-align: right;\">\n",
       "      <th></th>\n",
       "      <th>condition</th>\n",
       "      <th>cylinders</th>\n",
       "      <th>odometer</th>\n",
       "      <th>price</th>\n",
       "    </tr>\n",
       "  </thead>\n",
       "  <tbody>\n",
       "    <tr>\n",
       "      <td>count</td>\n",
       "      <td>100.000000</td>\n",
       "      <td>100.000000</td>\n",
       "      <td>100.000000</td>\n",
       "      <td>100.000000</td>\n",
       "    </tr>\n",
       "    <tr>\n",
       "      <td>mean</td>\n",
       "      <td>1.438224</td>\n",
       "      <td>5.385050</td>\n",
       "      <td>110833.452391</td>\n",
       "      <td>12976.511848</td>\n",
       "    </tr>\n",
       "    <tr>\n",
       "      <td>std</td>\n",
       "      <td>0.465982</td>\n",
       "      <td>1.348692</td>\n",
       "      <td>22160.550463</td>\n",
       "      <td>5959.763540</td>\n",
       "    </tr>\n",
       "    <tr>\n",
       "      <td>min</td>\n",
       "      <td>0.000000</td>\n",
       "      <td>3.424779</td>\n",
       "      <td>40435.426087</td>\n",
       "      <td>4744.094737</td>\n",
       "    </tr>\n",
       "    <tr>\n",
       "      <td>25%</td>\n",
       "      <td>1.209660</td>\n",
       "      <td>3.957562</td>\n",
       "      <td>99368.359145</td>\n",
       "      <td>8235.035737</td>\n",
       "    </tr>\n",
       "    <tr>\n",
       "      <td>50%</td>\n",
       "      <td>1.331753</td>\n",
       "      <td>5.373290</td>\n",
       "      <td>112996.255769</td>\n",
       "      <td>10961.983319</td>\n",
       "    </tr>\n",
       "    <tr>\n",
       "      <td>75%</td>\n",
       "      <td>1.494115</td>\n",
       "      <td>6.901645</td>\n",
       "      <td>124895.168537</td>\n",
       "      <td>16022.413706</td>\n",
       "    </tr>\n",
       "    <tr>\n",
       "      <td>max</td>\n",
       "      <td>3.000000</td>\n",
       "      <td>7.670103</td>\n",
       "      <td>162744.433333</td>\n",
       "      <td>34900.000000</td>\n",
       "    </tr>\n",
       "  </tbody>\n",
       "</table>\n",
       "</div>"
      ],
      "text/plain": [
       "        condition   cylinders       odometer         price\n",
       "count  100.000000  100.000000     100.000000    100.000000\n",
       "mean     1.438224    5.385050  110833.452391  12976.511848\n",
       "std      0.465982    1.348692   22160.550463   5959.763540\n",
       "min      0.000000    3.424779   40435.426087   4744.094737\n",
       "25%      1.209660    3.957562   99368.359145   8235.035737\n",
       "50%      1.331753    5.373290  112996.255769  10961.983319\n",
       "75%      1.494115    6.901645  124895.168537  16022.413706\n",
       "max      3.000000    7.670103  162744.433333  34900.000000"
      ]
     },
     "execution_count": 33,
     "metadata": {},
     "output_type": "execute_result"
    }
   ],
   "source": [
    "vehicles_filtered.describe()"
   ]
  },
  {
   "cell_type": "code",
   "execution_count": 34,
   "metadata": {
    "scrolled": true
   },
   "outputs": [
    {
     "data": {
      "text/plain": [
       "count     51525.000000\n",
       "mean      12132.464920\n",
       "std       10040.803015\n",
       "min           1.000000\n",
       "25%        5000.000000\n",
       "50%        9000.000000\n",
       "75%       16839.000000\n",
       "max      375000.000000\n",
       "Name: price, dtype: float64"
      ]
     },
     "execution_count": 34,
     "metadata": {},
     "output_type": "execute_result"
    }
   ],
   "source": [
    "vehicles['price'].describe()"
   ]
  },
  {
   "cell_type": "code",
   "execution_count": 35,
   "metadata": {},
   "outputs": [
    {
     "data": {
      "text/html": [
       "<div>\n",
       "<style scoped>\n",
       "    .dataframe tbody tr th:only-of-type {\n",
       "        vertical-align: middle;\n",
       "    }\n",
       "\n",
       "    .dataframe tbody tr th {\n",
       "        vertical-align: top;\n",
       "    }\n",
       "\n",
       "    .dataframe thead th {\n",
       "        text-align: right;\n",
       "    }\n",
       "</style>\n",
       "<table border=\"1\" class=\"dataframe\">\n",
       "  <thead>\n",
       "    <tr style=\"text-align: right;\">\n",
       "      <th></th>\n",
       "      <th>condition</th>\n",
       "      <th>cylinders</th>\n",
       "      <th>odometer</th>\n",
       "      <th>price</th>\n",
       "    </tr>\n",
       "  </thead>\n",
       "  <tbody>\n",
       "    <tr>\n",
       "      <td>count</td>\n",
       "      <td>100.000000</td>\n",
       "      <td>100.000000</td>\n",
       "      <td>100.000000</td>\n",
       "      <td>100.000000</td>\n",
       "    </tr>\n",
       "    <tr>\n",
       "      <td>mean</td>\n",
       "      <td>1.438224</td>\n",
       "      <td>5.385050</td>\n",
       "      <td>110833.452391</td>\n",
       "      <td>12976.511848</td>\n",
       "    </tr>\n",
       "    <tr>\n",
       "      <td>std</td>\n",
       "      <td>0.465982</td>\n",
       "      <td>1.348692</td>\n",
       "      <td>22160.550463</td>\n",
       "      <td>5959.763540</td>\n",
       "    </tr>\n",
       "    <tr>\n",
       "      <td>min</td>\n",
       "      <td>0.000000</td>\n",
       "      <td>3.424779</td>\n",
       "      <td>40435.426087</td>\n",
       "      <td>4744.094737</td>\n",
       "    </tr>\n",
       "    <tr>\n",
       "      <td>25%</td>\n",
       "      <td>1.209660</td>\n",
       "      <td>3.957562</td>\n",
       "      <td>99368.359145</td>\n",
       "      <td>8235.035737</td>\n",
       "    </tr>\n",
       "    <tr>\n",
       "      <td>50%</td>\n",
       "      <td>1.331753</td>\n",
       "      <td>5.373290</td>\n",
       "      <td>112996.255769</td>\n",
       "      <td>10961.983319</td>\n",
       "    </tr>\n",
       "    <tr>\n",
       "      <td>75%</td>\n",
       "      <td>1.494115</td>\n",
       "      <td>6.901645</td>\n",
       "      <td>124895.168537</td>\n",
       "      <td>16022.413706</td>\n",
       "    </tr>\n",
       "    <tr>\n",
       "      <td>max</td>\n",
       "      <td>3.000000</td>\n",
       "      <td>7.670103</td>\n",
       "      <td>162744.433333</td>\n",
       "      <td>34900.000000</td>\n",
       "    </tr>\n",
       "  </tbody>\n",
       "</table>\n",
       "</div>"
      ],
      "text/plain": [
       "        condition   cylinders       odometer         price\n",
       "count  100.000000  100.000000     100.000000    100.000000\n",
       "mean     1.438224    5.385050  110833.452391  12976.511848\n",
       "std      0.465982    1.348692   22160.550463   5959.763540\n",
       "min      0.000000    3.424779   40435.426087   4744.094737\n",
       "25%      1.209660    3.957562   99368.359145   8235.035737\n",
       "50%      1.331753    5.373290  112996.255769  10961.983319\n",
       "75%      1.494115    6.901645  124895.168537  16022.413706\n",
       "max      3.000000    7.670103  162744.433333  34900.000000"
      ]
     },
     "execution_count": 35,
     "metadata": {},
     "output_type": "execute_result"
    }
   ],
   "source": [
    "vehicles_filtered.describe()"
   ]
  },
  {
   "cell_type": "code",
   "execution_count": 89,
   "metadata": {
    "scrolled": true
   },
   "outputs": [
    {
     "data": {
      "text/html": [
       "<div>\n",
       "<style scoped>\n",
       "    .dataframe tbody tr th:only-of-type {\n",
       "        vertical-align: middle;\n",
       "    }\n",
       "\n",
       "    .dataframe tbody tr th {\n",
       "        vertical-align: top;\n",
       "    }\n",
       "\n",
       "    .dataframe thead tr th {\n",
       "        text-align: left;\n",
       "    }\n",
       "\n",
       "    .dataframe thead tr:last-of-type th {\n",
       "        text-align: right;\n",
       "    }\n",
       "</style>\n",
       "<table border=\"1\" class=\"dataframe\">\n",
       "  <thead>\n",
       "    <tr>\n",
       "      <th></th>\n",
       "      <th>count</th>\n",
       "      <th>mean</th>\n",
       "      <th>median</th>\n",
       "    </tr>\n",
       "    <tr>\n",
       "      <th></th>\n",
       "      <th>price</th>\n",
       "      <th>price</th>\n",
       "      <th>price</th>\n",
       "    </tr>\n",
       "    <tr>\n",
       "      <th>model</th>\n",
       "      <th></th>\n",
       "      <th></th>\n",
       "      <th></th>\n",
       "    </tr>\n",
       "  </thead>\n",
       "  <tbody>\n",
       "    <tr>\n",
       "      <td>acura tl</td>\n",
       "      <td>206</td>\n",
       "      <td>7099.043689</td>\n",
       "      <td>6050.0</td>\n",
       "    </tr>\n",
       "    <tr>\n",
       "      <td>bmw x5</td>\n",
       "      <td>260</td>\n",
       "      <td>10928.665385</td>\n",
       "      <td>9900.0</td>\n",
       "    </tr>\n",
       "    <tr>\n",
       "      <td>buick enclave</td>\n",
       "      <td>253</td>\n",
       "      <td>12095.304348</td>\n",
       "      <td>10900.0</td>\n",
       "    </tr>\n",
       "    <tr>\n",
       "      <td>cadillac escalade</td>\n",
       "      <td>310</td>\n",
       "      <td>17602.174194</td>\n",
       "      <td>14495.0</td>\n",
       "    </tr>\n",
       "    <tr>\n",
       "      <td>chevrolet camaro</td>\n",
       "      <td>335</td>\n",
       "      <td>15971.143284</td>\n",
       "      <td>14750.0</td>\n",
       "    </tr>\n",
       "    <tr>\n",
       "      <td>...</td>\n",
       "      <td>...</td>\n",
       "      <td>...</td>\n",
       "      <td>...</td>\n",
       "    </tr>\n",
       "    <tr>\n",
       "      <td>toyota sienna</td>\n",
       "      <td>276</td>\n",
       "      <td>10395.670290</td>\n",
       "      <td>6995.0</td>\n",
       "    </tr>\n",
       "    <tr>\n",
       "      <td>toyota tacoma</td>\n",
       "      <td>812</td>\n",
       "      <td>15698.700739</td>\n",
       "      <td>13995.0</td>\n",
       "    </tr>\n",
       "    <tr>\n",
       "      <td>toyota tundra</td>\n",
       "      <td>543</td>\n",
       "      <td>16021.659300</td>\n",
       "      <td>13990.0</td>\n",
       "    </tr>\n",
       "    <tr>\n",
       "      <td>volkswagen jetta</td>\n",
       "      <td>431</td>\n",
       "      <td>7326.995360</td>\n",
       "      <td>6695.0</td>\n",
       "    </tr>\n",
       "    <tr>\n",
       "      <td>volkswagen passat</td>\n",
       "      <td>303</td>\n",
       "      <td>9461.834983</td>\n",
       "      <td>8999.0</td>\n",
       "    </tr>\n",
       "  </tbody>\n",
       "</table>\n",
       "<p>100 rows × 3 columns</p>\n",
       "</div>"
      ],
      "text/plain": [
       "                  count          mean   median\n",
       "                  price         price    price\n",
       "model                                         \n",
       "acura tl            206   7099.043689   6050.0\n",
       "bmw x5              260  10928.665385   9900.0\n",
       "buick enclave       253  12095.304348  10900.0\n",
       "cadillac escalade   310  17602.174194  14495.0\n",
       "chevrolet camaro    335  15971.143284  14750.0\n",
       "...                 ...           ...      ...\n",
       "toyota sienna       276  10395.670290   6995.0\n",
       "toyota tacoma       812  15698.700739  13995.0\n",
       "toyota tundra       543  16021.659300  13990.0\n",
       "volkswagen jetta    431   7326.995360   6695.0\n",
       "volkswagen passat   303   9461.834983   8999.0\n",
       "\n",
       "[100 rows x 3 columns]"
      ]
     },
     "execution_count": 89,
     "metadata": {},
     "output_type": "execute_result"
    }
   ],
   "source": [
    "filtered_data.pivot_table(index='model', values='price', aggfunc=['count','mean','median'])"
   ]
  },
  {
   "cell_type": "markdown",
   "metadata": {},
   "source": [
    "Let's find the cars with fewer days on the site"
   ]
  },
  {
   "cell_type": "code",
   "execution_count": 41,
   "metadata": {},
   "outputs": [
    {
     "name": "stdout",
     "output_type": "stream",
     "text": [
      "model\n",
      "mercedes-benz benze sprinter 2500     41\n",
      "ford taurus                          148\n",
      "dodge dakota                         167\n",
      "chevrolet trailblazer                190\n",
      "acura tl                             206\n",
      "jeep grand cherokee laredo           211\n",
      "nissan maxima                        216\n",
      "honda civic lx                       217\n",
      "nissan murano                        223\n",
      "hyundai santa fe                     225\n",
      "Name: days_listed, dtype: int64\n"
     ]
    }
   ],
   "source": [
    "selling=filtered_data.groupby('model')['days_listed'].count().sort_values()\n",
    "print(selling.head(10))"
   ]
  },
  {
   "cell_type": "markdown",
   "metadata": {},
   "source": [
    "Now - Let's find the cars that have been on the site the longest - Not selling fast"
   ]
  },
  {
   "cell_type": "code",
   "execution_count": 18,
   "metadata": {},
   "outputs": [
    {
     "name": "stdout",
     "output_type": "stream",
     "text": [
      "model\n",
      "toyota camry                   803\n",
      "toyota tacoma                  812\n",
      "gmc sierra 1500                841\n",
      "chevrolet silverado 2500hd     897\n",
      "jeep wrangler                 1038\n",
      "ram 2500                      1058\n",
      "chevrolet silverado           1179\n",
      "ram 1500                      1591\n",
      "chevrolet silverado 1500      2058\n",
      "ford f-150                    2511\n",
      "Name: days_listed, dtype: int64\n"
     ]
    }
   ],
   "source": [
    "print(selling.tail(10))"
   ]
  },
  {
   "cell_type": "markdown",
   "metadata": {},
   "source": [
    "No surprised The trucks are NOT selling fast they are also the most expensive type of cars "
   ]
  },
  {
   "cell_type": "code",
   "execution_count": 40,
   "metadata": {},
   "outputs": [
    {
     "data": {
      "image/png": "[encoded data removed]",
      "text/plain": [
       "<Figure size 432x288 with 1 Axes>"
      ]
     },
     "metadata": {
      "needs_background": "light"
     },
     "output_type": "display_data"
    }
   ],
   "source": [
    "filtered_data.hist('days_listed', bins=25)\n",
    "plt.title('days of displayed advertisements')\n",
    "plt.xlabel('days_listed')\n",
    "plt.ylabel('values')\n",
    "plt.show()"
   ]
  },
  {
   "cell_type": "markdown",
   "metadata": {},
   "source": [
    "The ads listed less than 50 days are the more common "
   ]
  },
  {
   "cell_type": "markdown",
   "metadata": {},
   "source": [
    "<blockquote> Adding 'ads lifetime' analysis ( for the next 4 rows) </blockquote> </br>"
   ]
  },
  {
   "cell_type": "code",
   "execution_count": 51,
   "metadata": {},
   "outputs": [
    {
     "name": "stdout",
     "output_type": "stream",
     "text": [
      "0    14\n",
      "1    46\n",
      "2    76\n",
      "3     5\n",
      "4    27\n",
      "5    13\n",
      "6    70\n",
      "7    68\n",
      "8    19\n",
      "9    13\n",
      "dtype: int64\n"
     ]
    }
   ],
   "source": [
    "vehicles['ads_lifetime']= vehicles.days_listed- vehicles.day\n",
    "print(ads_lifetime.head(10))"
   ]
  },
  {
   "cell_type": "code",
   "execution_count": 57,
   "metadata": {},
   "outputs": [
    {
     "data": {
      "image/png": "[encoded data removed]",
      "text/plain": [
       "<Figure size 432x288 with 1 Axes>"
      ]
     },
     "metadata": {
      "needs_background": "light"
     },
     "output_type": "display_data"
    }
   ],
   "source": [
    "vehicles.groupby('type')['ads_lifetime'].count().sort_values().plot(kind='bar')\n",
    "plt.show( )"
   ]
  },
  {
   "cell_type": "markdown",
   "metadata": {},
   "source": [
    "SUV and Trucks have the most ads on the site. This is normal because they are the dominant types."
   ]
  },
  {
   "cell_type": "markdown",
   "metadata": {},
   "source": [
    "Now let's deternime which ads have the shortest lifetime ( less than 25 days)  based on models"
   ]
  },
  {
   "cell_type": "code",
   "execution_count": 82,
   "metadata": {},
   "outputs": [
    {
     "data": {
      "text/html": [
       "<div>\n",
       "<style scoped>\n",
       "    .dataframe tbody tr th:only-of-type {\n",
       "        vertical-align: middle;\n",
       "    }\n",
       "\n",
       "    .dataframe tbody tr th {\n",
       "        vertical-align: top;\n",
       "    }\n",
       "\n",
       "    .dataframe thead th {\n",
       "        text-align: right;\n",
       "    }\n",
       "</style>\n",
       "<table border=\"1\" class=\"dataframe\">\n",
       "  <thead>\n",
       "    <tr style=\"text-align: right;\">\n",
       "      <th></th>\n",
       "      <th>ads_lifetime</th>\n",
       "    </tr>\n",
       "    <tr>\n",
       "      <th>model</th>\n",
       "      <th></th>\n",
       "    </tr>\n",
       "  </thead>\n",
       "  <tbody>\n",
       "    <tr>\n",
       "      <td>mercedes-benz benze sprinter 2500</td>\n",
       "      <td>15</td>\n",
       "    </tr>\n",
       "    <tr>\n",
       "      <td>kia sorento</td>\n",
       "      <td>87</td>\n",
       "    </tr>\n",
       "    <tr>\n",
       "      <td>ford f-250 super duty</td>\n",
       "      <td>100</td>\n",
       "    </tr>\n",
       "    <tr>\n",
       "      <td>nissan murano</td>\n",
       "      <td>101</td>\n",
       "    </tr>\n",
       "    <tr>\n",
       "      <td>jeep grand cherokee laredo</td>\n",
       "      <td>102</td>\n",
       "    </tr>\n",
       "    <tr>\n",
       "      <td>...</td>\n",
       "      <td>...</td>\n",
       "    </tr>\n",
       "    <tr>\n",
       "      <td>jeep wrangler</td>\n",
       "      <td>485</td>\n",
       "    </tr>\n",
       "    <tr>\n",
       "      <td>chevrolet silverado</td>\n",
       "      <td>518</td>\n",
       "    </tr>\n",
       "    <tr>\n",
       "      <td>ram 1500</td>\n",
       "      <td>739</td>\n",
       "    </tr>\n",
       "    <tr>\n",
       "      <td>chevrolet silverado 1500</td>\n",
       "      <td>905</td>\n",
       "    </tr>\n",
       "    <tr>\n",
       "      <td>ford f-150</td>\n",
       "      <td>1216</td>\n",
       "    </tr>\n",
       "  </tbody>\n",
       "</table>\n",
       "<p>100 rows × 1 columns</p>\n",
       "</div>"
      ],
      "text/plain": [
       "                                   ads_lifetime\n",
       "model                                          \n",
       "mercedes-benz benze sprinter 2500            15\n",
       "kia sorento                                  87\n",
       "ford f-250 super duty                       100\n",
       "nissan murano                               101\n",
       "jeep grand cherokee laredo                  102\n",
       "...                                         ...\n",
       "jeep wrangler                               485\n",
       "chevrolet silverado                         518\n",
       "ram 1500                                    739\n",
       "chevrolet silverado 1500                    905\n",
       "ford f-150                                 1216\n",
       "\n",
       "[100 rows x 1 columns]"
      ]
     },
     "execution_count": 82,
     "metadata": {},
     "output_type": "execute_result"
    }
   ],
   "source": [
    "vehicles.query('ads_lifetime <= 25').pivot_table(index='model',values = ['ads_lifetime'], aggfunc='count').sort_values(by=['ads_lifetime'])"
   ]
  },
  {
   "cell_type": "markdown",
   "metadata": {},
   "source": [
    "We can also deternime  which ads stay the longest on the site ( for more than 100 days) based on models"
   ]
  },
  {
   "cell_type": "code",
   "execution_count": 81,
   "metadata": {},
   "outputs": [
    {
     "data": {
      "text/html": [
       "<div>\n",
       "<style scoped>\n",
       "    .dataframe tbody tr th:only-of-type {\n",
       "        vertical-align: middle;\n",
       "    }\n",
       "\n",
       "    .dataframe tbody tr th {\n",
       "        vertical-align: top;\n",
       "    }\n",
       "\n",
       "    .dataframe thead th {\n",
       "        text-align: right;\n",
       "    }\n",
       "</style>\n",
       "<table border=\"1\" class=\"dataframe\">\n",
       "  <thead>\n",
       "    <tr style=\"text-align: right;\">\n",
       "      <th></th>\n",
       "      <th>ads_lifetime</th>\n",
       "    </tr>\n",
       "    <tr>\n",
       "      <th>model</th>\n",
       "      <th></th>\n",
       "    </tr>\n",
       "  </thead>\n",
       "  <tbody>\n",
       "    <tr>\n",
       "      <td>dodge dakota</td>\n",
       "      <td>2</td>\n",
       "    </tr>\n",
       "    <tr>\n",
       "      <td>hyundai santa fe</td>\n",
       "      <td>4</td>\n",
       "    </tr>\n",
       "    <tr>\n",
       "      <td>jeep grand cherokee laredo</td>\n",
       "      <td>4</td>\n",
       "    </tr>\n",
       "    <tr>\n",
       "      <td>nissan maxima</td>\n",
       "      <td>5</td>\n",
       "    </tr>\n",
       "    <tr>\n",
       "      <td>toyota camry le</td>\n",
       "      <td>6</td>\n",
       "    </tr>\n",
       "    <tr>\n",
       "      <td>...</td>\n",
       "      <td>...</td>\n",
       "    </tr>\n",
       "    <tr>\n",
       "      <td>jeep wrangler</td>\n",
       "      <td>43</td>\n",
       "    </tr>\n",
       "    <tr>\n",
       "      <td>chevrolet silverado</td>\n",
       "      <td>52</td>\n",
       "    </tr>\n",
       "    <tr>\n",
       "      <td>ram 1500</td>\n",
       "      <td>65</td>\n",
       "    </tr>\n",
       "    <tr>\n",
       "      <td>ford f-150</td>\n",
       "      <td>76</td>\n",
       "    </tr>\n",
       "    <tr>\n",
       "      <td>chevrolet silverado 1500</td>\n",
       "      <td>77</td>\n",
       "    </tr>\n",
       "  </tbody>\n",
       "</table>\n",
       "<p>99 rows × 1 columns</p>\n",
       "</div>"
      ],
      "text/plain": [
       "                            ads_lifetime\n",
       "model                                   \n",
       "dodge dakota                           2\n",
       "hyundai santa fe                       4\n",
       "jeep grand cherokee laredo             4\n",
       "nissan maxima                          5\n",
       "toyota camry le                        6\n",
       "...                                  ...\n",
       "jeep wrangler                         43\n",
       "chevrolet silverado                   52\n",
       "ram 1500                              65\n",
       "ford f-150                            76\n",
       "chevrolet silverado 1500              77\n",
       "\n",
       "[99 rows x 1 columns]"
      ]
     },
     "execution_count": 81,
     "metadata": {},
     "output_type": "execute_result"
    }
   ],
   "source": [
    "vehicles.query('ads_lifetime >= 100').pivot_table(index='model',values = ['ads_lifetime'], aggfunc='count').sort_values(by=['ads_lifetime'])"
   ]
  },
  {
   "cell_type": "markdown",
   "metadata": {},
   "source": [
    "### More Data Study  - Without The Outliers"
   ]
  },
  {
   "cell_type": "code",
   "execution_count": 40,
   "metadata": {
    "scrolled": true
   },
   "outputs": [
    {
     "data": {
      "image/png": "[encoded data removed]",
      "text/plain": [
       "<Figure size 432x288 with 1 Axes>"
      ]
     },
     "metadata": {
      "needs_background": "light"
     },
     "output_type": "display_data"
    }
   ],
   "source": [
    "filtered_data.groupby('type')['price'].mean().sort_values().plot(kind='bar')\n",
    "plt.show( )\n"
   ]
  },
  {
   "cell_type": "markdown",
   "metadata": {},
   "source": [
    " we can see from the graph that the Trucks and Vans are the most expensive."
   ]
  },
  {
   "cell_type": "markdown",
   "metadata": {},
   "source": [
    " Counting the number ads for each vehicle type "
   ]
  },
  {
   "cell_type": "code",
   "execution_count": 42,
   "metadata": {},
   "outputs": [
    {
     "data": {
      "image/png": "[encoded data removed]",
      "text/plain": [
       "<Figure size 432x288 with 1 Axes>"
      ]
     },
     "metadata": {
      "needs_background": "light"
     },
     "output_type": "display_data"
    }
   ],
   "source": [
    "vehicles['type'].value_counts().plot( kind='bar')\n",
    "plt.show( )"
   ]
  },
  {
   "cell_type": "markdown",
   "metadata": {},
   "source": [
    "Trucks ,SUVs, and Sedans have the most numbers of ads"
   ]
  },
  {
   "cell_type": "markdown",
   "metadata": {},
   "source": [
    "<blockquote> Explaining why SUV and Trucks are the two most popular type of vehicles (3 possible explanation)\n",
    "        </blockquote> </br>\n",
    "\n",
    "Also\n",
    "\n",
    "<blockquote>  scatterplots axes switch\n",
    "        </blockquote> </br>"
   ]
  },
  {
   "cell_type": "markdown",
   "metadata": {},
   "source": [
    "One explanation might just be that they are the most expansive types."
   ]
  },
  {
   "cell_type": "code",
   "execution_count": 39,
   "metadata": {},
   "outputs": [
    {
     "data": {
      "text/plain": [
       "type\n",
       "bus               24\n",
       "offroad          199\n",
       "other            232\n",
       "convertible      404\n",
       "van              543\n",
       "hatchback        912\n",
       "mini-van         979\n",
       "wagon           1367\n",
       "coupe           1963\n",
       "pickup          6457\n",
       "sedan          10046\n",
       "SUV            11014\n",
       "truck          11483\n",
       "Name: price, dtype: int64"
      ]
     },
     "execution_count": 39,
     "metadata": {},
     "output_type": "execute_result"
    }
   ],
   "source": [
    "filtered_data.groupby('type')['price'].count().sort_values()"
   ]
  },
  {
   "cell_type": "markdown",
   "metadata": {},
   "source": [
    "The other explanation could be that SUVs and Trucks are the vehicles with the most excellent condition and have been on the site for less than 30 days"
   ]
  },
  {
   "cell_type": "code",
   "execution_count": 87,
   "metadata": {},
   "outputs": [
    {
     "data": {
      "text/html": [
       "<div>\n",
       "<style scoped>\n",
       "    .dataframe tbody tr th:only-of-type {\n",
       "        vertical-align: middle;\n",
       "    }\n",
       "\n",
       "    .dataframe tbody tr th {\n",
       "        vertical-align: top;\n",
       "    }\n",
       "\n",
       "    .dataframe thead th {\n",
       "        text-align: right;\n",
       "    }\n",
       "</style>\n",
       "<table border=\"1\" class=\"dataframe\">\n",
       "  <thead>\n",
       "    <tr style=\"text-align: right;\">\n",
       "      <th></th>\n",
       "      <th>price</th>\n",
       "    </tr>\n",
       "    <tr>\n",
       "      <th>type</th>\n",
       "      <th></th>\n",
       "    </tr>\n",
       "  </thead>\n",
       "  <tbody>\n",
       "    <tr>\n",
       "      <td>bus</td>\n",
       "      <td>1</td>\n",
       "    </tr>\n",
       "    <tr>\n",
       "      <td>other</td>\n",
       "      <td>39</td>\n",
       "    </tr>\n",
       "    <tr>\n",
       "      <td>offroad</td>\n",
       "      <td>53</td>\n",
       "    </tr>\n",
       "    <tr>\n",
       "      <td>van</td>\n",
       "      <td>79</td>\n",
       "    </tr>\n",
       "    <tr>\n",
       "      <td>convertible</td>\n",
       "      <td>104</td>\n",
       "    </tr>\n",
       "    <tr>\n",
       "      <td>hatchback</td>\n",
       "      <td>209</td>\n",
       "    </tr>\n",
       "    <tr>\n",
       "      <td>mini-van</td>\n",
       "      <td>248</td>\n",
       "    </tr>\n",
       "    <tr>\n",
       "      <td>wagon</td>\n",
       "      <td>293</td>\n",
       "    </tr>\n",
       "    <tr>\n",
       "      <td>coupe</td>\n",
       "      <td>312</td>\n",
       "    </tr>\n",
       "    <tr>\n",
       "      <td>pickup</td>\n",
       "      <td>1332</td>\n",
       "    </tr>\n",
       "    <tr>\n",
       "      <td>truck</td>\n",
       "      <td>2243</td>\n",
       "    </tr>\n",
       "    <tr>\n",
       "      <td>sedan</td>\n",
       "      <td>2360</td>\n",
       "    </tr>\n",
       "    <tr>\n",
       "      <td>SUV</td>\n",
       "      <td>2660</td>\n",
       "    </tr>\n",
       "  </tbody>\n",
       "</table>\n",
       "</div>"
      ],
      "text/plain": [
       "             price\n",
       "type              \n",
       "bus              1\n",
       "other           39\n",
       "offroad         53\n",
       "van             79\n",
       "convertible    104\n",
       "hatchback      209\n",
       "mini-van       248\n",
       "wagon          293\n",
       "coupe          312\n",
       "pickup        1332\n",
       "truck         2243\n",
       "sedan         2360\n",
       "SUV           2660"
      ]
     },
     "execution_count": 87,
     "metadata": {},
     "output_type": "execute_result"
    }
   ],
   "source": [
    "filtered_data.query('(condition==0) and (0<days_listed<30)').pivot_table(index='type', values='price', aggfunc='count').sort_values(by=['price'])"
   ]
  },
  {
   "cell_type": "markdown",
   "metadata": {},
   "source": [
    "Or Perhaps the people in this particular town just prefer Trucs and SUVs and the dealership makes sure they are always in stock.\n"
   ]
  },
  {
   "cell_type": "markdown",
   "metadata": {},
   "source": [
    " Let's study how the price is affected by different variables"
   ]
  },
  {
   "cell_type": "code",
   "execution_count": 20,
   "metadata": {},
   "outputs": [
    {
     "data": {
      "image/png": "[encoded data removed]",
      "text/plain": [
       "<Figure size 576x432 with 1 Axes>"
      ]
     },
     "metadata": {
      "needs_background": "light"
     },
     "output_type": "display_data"
    }
   ],
   "source": [
    "filtered_data.plot(x='odometer', y='price', kind='scatter',  figsize=(8, 6), grid=False)\n",
    "plt.show()"
   ]
  },
  {
   "cell_type": "markdown",
   "metadata": {},
   "source": [
    "It obvious that cars with low milage are the most expensive.But the data also shows the majority of cars fall into this category\n",
    "cars between 0- 250000 miles cost less than $20000"
   ]
  },
  {
   "cell_type": "code",
   "execution_count": 21,
   "metadata": {
    "scrolled": true
   },
   "outputs": [
    {
     "data": {
      "image/png": "[encoded data removed]",
      "text/plain": [
       "<Figure size 432x288 with 1 Axes>"
      ]
     },
     "metadata": {
      "needs_background": "light"
     },
     "output_type": "display_data"
    }
   ],
   "source": [
    "filtered_data.plot( x='model_year', y='price', kind='scatter',grid=True)\n",
    "plt.show()"
   ]
  },
  {
   "cell_type": "markdown",
   "metadata": {},
   "source": [
    "It is also very clear that most recent cars at the most expensive. \n",
    "However, there is a huge block of data showing cars aged 2000-2020 costing less than $20000 - there are clearly other factors affecting the price in this case."
   ]
  },
  {
   "cell_type": "code",
   "execution_count": 45,
   "metadata": {
    "scrolled": true
   },
   "outputs": [
    {
     "name": "stderr",
     "output_type": "stream",
     "text": [
      "/opt/conda/lib/python3.7/site-packages/numpy/core/_asarray.py:83: VisibleDeprecationWarning: Creating an ndarray from ragged nested sequences (which is a list-or-tuple of lists-or-tuples-or ndarrays with different lengths or shapes) is deprecated. If you meant to do this, you must specify 'dtype=object' when creating the ndarray\n",
      "  return array(a, dtype, copy=False, order=order)\n"
     ]
    },
    {
     "data": {
      "image/png": "[encoded data removed]",
      "text/plain": [
       "<Figure size 720x504 with 1 Axes>"
      ]
     },
     "metadata": {
      "needs_background": "light"
     },
     "output_type": "display_data"
    }
   ],
   "source": [
    "filtered_data.boxplot(by='transmission', column='price', figsize =(10,7))\n",
    "plt.show( )"
   ]
  },
  {
   "cell_type": "markdown",
   "metadata": {},
   "source": [
    "Manual transmission tend to be less expensive than the automatic counterpart"
   ]
  },
  {
   "cell_type": "markdown",
   "metadata": {},
   "source": [
    "How about the relationship between Paint Color and the price ?"
   ]
  },
  {
   "cell_type": "code",
   "execution_count": 47,
   "metadata": {},
   "outputs": [
    {
     "name": "stderr",
     "output_type": "stream",
     "text": [
      "/opt/conda/lib/python3.7/site-packages/numpy/core/_asarray.py:83: VisibleDeprecationWarning: Creating an ndarray from ragged nested sequences (which is a list-or-tuple of lists-or-tuples-or ndarrays with different lengths or shapes) is deprecated. If you meant to do this, you must specify 'dtype=object' when creating the ndarray\n",
      "  return array(a, dtype, copy=False, order=order)\n"
     ]
    },
    {
     "data": {
      "image/png": "[encoded data removed]",
      "text/plain": [
       "<Figure size 720x504 with 1 Axes>"
      ]
     },
     "metadata": {
      "needs_background": "light"
     },
     "output_type": "display_data"
    }
   ],
   "source": [
    "filtered_data.boxplot(by='paint_color', column='price', figsize =(10,7))\n",
    "plt.show( )"
   ]
  },
  {
   "cell_type": "markdown",
   "metadata": {},
   "source": [
    "White,Black, Gray, and Silver are the most expensive"
   ]
  },
  {
   "cell_type": "markdown",
   "metadata": {},
   "source": [
    " Step 5. Overall conclusion"
   ]
  },
  {
   "cell_type": "markdown",
   "metadata": {
    "scrolled": true
   },
   "source": [
    "\n",
    "The research on sales car Ads is full of options, but in order to really come up with different scenarios on how to manipulate \n",
    "that data rest of the fact that outliers have to be elimanated.It is just too much of a gap to ignore. \n",
    "\n",
    "I was able to see which cars cost the most, which cars sell the least based on the number of days since they were up for sale\n",
    "I also able to see what category of cars people are incline to purchase. \n",
    "The cars on this dataset were up for sale for 1 year (2018-2019)so I didn't use the breakdown of the date_posted a lot just days_listed\n",
    "\n",
    "I know there is still more I could do with this data set with the power of pivot table and the variety of Grpah we can come up with.\n"
   ]
  },
  {
   "cell_type": "markdown",
   "metadata": {},
   "source": [
    "<blockquote>Expanding final conclusion</blockquote>\n",
    "\n",
    "The missing values in the data are not completely random, most of them are attached to value \"other\" in the \"transmission\" column. That value was not dropped all together because transmission is not a significant variable but the values attached to it are still important.\n",
    "\n",
    "The job was to study the data collected over the last few years and determine which factors influence the price of a vehicle.\n",
    "\n",
    "This is what I found: \n",
    "    \n",
    "<ul>\n",
    "<li>Trucks have been on the site the longest ( not selling fast) -makes sense since they are also very expensive</li>\n",
    "<li>trucks, buses ,and pickups are overall the most expensive vehicle types</li>\n",
    "<li>The ads listed less than 50 days are the more common</li>\n",
    "<li>Trucks ,SUVs, and Sedans have the most numbers of ads</li>\n",
    "<li>The data shows the majority of cars fall into the category between 0- 250000 miles that cost less than 20000</li>\n",
    "<li>There is a huge block of data showing cars aged 2000-2020 costing less than 20000</li>\n",
    "<li>Manual transmission tend to be less expensive</li>\n",
    "<li>White,Black, Gray, and Silver are the most expensive</li>\n",
    "</ul>"
   ]
  },
  {
   "cell_type": "markdown",
   "metadata": {},
   "source": [
    "### Project completion checklist\n",
    "\n",
    "Mark the completed tasks with 'x'. Then press Shift+Enter."
   ]
  },
  {
   "cell_type": "markdown",
   "metadata": {},
   "source": [
    "- [x]  file opened\n",
    "- [x]  files explored (first rows printed, info() method)\n",
    "- [x]  missing values determined\n",
    "- [x]  missing values filled in\n",
    "- [x]  clarification of the discovered missing values provided\n",
    "- [x]  data types converted\n",
    "- [x]  explanation of which columns had the data types changed and why\n",
    "- [x]  calculated and added to the table: day of the week, month, and year the ad was placed\n",
    "- [x]  calculated and added to the table: the vehicle's age (in years) when the ad was placed\n",
    "- [x]  calculated and added to the table: the vehicle's average mileage per year\n",
    "- [x]  the following parameters investigated: price, vehicle's age when the ad was placed, mileage, number of cylinders, and condition\n",
    "- [x]  histograms for each parameter created\n",
    "- [x]  task completed: \"Determine the upper limits of outliers, remove the outliers and store them in a separate DataFrame, and continue your work with the filtered data.\"\n",
    "- [x]  task completed: \"Use the filtered data to plot new histograms. Compare them with the earlier histograms (the ones that included outliers). Draw conclusions for each histogram.\"\n",
    "- [x]  task completed: \"Study how many days advertisements were displayed (days_listed). Plot a histogram. Calculate the mean and median. Describe the typical lifetime of an ad. Determine when ads were removed quickly, and when they were listed for an abnormally long time.  \"\n",
    "- [x]  task completed: \"Analyze the number of ads and the average price for each type of vehicle. Plot a graph showing the dependence of the number of ads on the vehicle type. Select the two types with the greatest number of ads. \"\n",
    "- [x]  task completed: \"What factors impact the price most? Take each of the popular types you detected at the previous stage and study whether the price depends on age, mileage, condition, transmission type, and color. For categorical variables (transmission type and color), plot box-and-whisker charts, and create scatterplots for the rest. When analyzing categorical variables, note that the categories must have at least 50 ads; otherwise, their parameters won't be valid for analysis.  \"\n",
    "- [x]  each stage has a conclusion\n",
    "- [x]  overall conclusion drawn"
   ]
  },
  {
   "cell_type": "code",
   "execution_count": null,
   "metadata": {},
   "outputs": [],
   "source": []
  }
 ],
 "metadata": {
  "kernelspec": {
   "display_name": "Python 3",
   "language": "python",
   "name": "python3"
  },
  "language_info": {
   "codemirror_mode": {
    "name": "ipython",
    "version": 3
   },
   "file_extension": ".py",
   "mimetype": "text/x-python",
   "name": "python",
   "nbconvert_exporter": "python",
   "pygments_lexer": "ipython3",
   "version": "3.8.8"
  },
  "toc": {
   "base_numbering": 1,
   "nav_menu": {},
   "number_sections": true,
   "sideBar": true,
   "skip_h1_title": false,
   "title_cell": "Table of Contents",
   "title_sidebar": "Contents",
   "toc_cell": false,
   "toc_position": {},
   "toc_section_display": true,
   "toc_window_display": false
  }
 },
 "nbformat": 4,
 "nbformat_minor": 2
}
