{
 "cells": [
  {
   "attachments": {},
   "cell_type": "markdown",
   "metadata": {},
   "source": [
    "<b>Project description</b>\n",
    "\n",
    "You work as an analyst for the telecom operator Megaline. The company offers its clients two prepaid plans, Surf and Ultimate. The commercial department wants to know which of the plans brings in more revenue in order to adjust the advertising budget.\n",
    "You are going to carry out a preliminary analysis of the plans based on a relatively small client selection. You'll have the data on 500 Megaline clients: who the clients are, where they're from, which plan they use, and the number of calls they made and text messages they sent in 2018. Your job is to analyze clients' behavior and determine which prepaid plan brings in more revenue.\n",
    "\n"
   ]
  },
  {
   "cell_type": "code",
   "execution_count": 1,
   "metadata": {},
   "outputs": [],
   "source": [
    "import warnings\n",
    "warnings.filterwarnings('ignore')\n",
    "import pandas as pd\n",
    "import numpy as np\n",
    "from scipy import stats as st\n",
    "from IPython.display import display\n",
    "import matplotlib.pyplot as plt\n",
    "\n",
    "users = pd.read_csv('/datasets/megaline_users.csv')\n",
    "plans= pd.read_csv('/datasets/megaline_plans.csv')\n",
    "calls= pd.read_csv('/datasets/megaline_calls.csv')\n",
    "internet= pd.read_csv('/datasets/megaline_internet.csv')\n",
    "messages=pd.read_csv('/datasets/megaline_messages.csv')"
   ]
  },
  {
   "cell_type": "markdown",
   "metadata": {},
   "source": [
    "## Preparing The Data"
   ]
  },
  {
   "cell_type": "markdown",
   "metadata": {},
   "source": [
    "<ul>\n",
    "<li>Converting the data to the necessary types</li>\n",
    "<li>Finding and eliminating errors in the data</li>\n",
    "<li>Explaining what errors you found and how to removed them.</li>\n",
    "<li>For each user, finding:<br>\n",
    "-The number of calls made and minutes used per month<br>\n",
    "-The number of text messages sent per month<br>\n",
    "-The volume of data per month<br>\n",
    "-The monthly revenue from each user.</li>\n",
    "</ul>\n",
    "\n"
   ]
  },
  {
   "cell_type": "code",
   "execution_count": 2,
   "metadata": {},
   "outputs": [
    {
     "data": {
      "text/plain": [
       "user_id         0\n",
       "first_name      0\n",
       "last_name       0\n",
       "age             0\n",
       "city            0\n",
       "reg_date        0\n",
       "plan            0\n",
       "churn_date    466\n",
       "dtype: int64"
      ]
     },
     "execution_count": 2,
     "metadata": {},
     "output_type": "execute_result"
    }
   ],
   "source": [
    "#Checking for null values in  dataframes \n",
    "users.isnull().sum()\n",
    "#plans.isnull().sum()\n",
    "#calls.isnull().sum()\n",
    "#internet.isnull().sum()\n",
    "#messages.isnull().sum()"
   ]
  },
  {
   "cell_type": "markdown",
   "metadata": {},
   "source": [
    "Null values are present in churn_date. However, this column doesn't play a huge role in our analysis. We will not worry about it for now"
   ]
  },
  {
   "cell_type": "code",
   "execution_count": 3,
   "metadata": {},
   "outputs": [],
   "source": [
    "#converting the datatype of date column from string to `datetime` in  each dataset\n",
    "users['reg_date']=pd.to_datetime(users['reg_date'])\n",
    "calls['call_date']=pd.to_datetime(calls['call_date'])\n",
    "internet['session_date'] = pd.to_datetime(internet['session_date'])\n",
    "messages['message_date'] = pd.to_datetime(messages['message_date'])"
   ]
  },
  {
   "cell_type": "code",
   "execution_count": 4,
   "metadata": {},
   "outputs": [],
   "source": [
    "#converting the datetime columns in calls, messages and internet to monthly periods\n",
    "\n",
    "calls['month_year']=calls['call_date'].dt.to_period('M')\n",
    "messages['month_year']=messages['message_date'].dt.to_period('M')\n",
    "internet['month_year']=internet['session_date'].dt.to_period('M')"
   ]
  },
  {
   "cell_type": "code",
   "execution_count": 5,
   "metadata": {},
   "outputs": [
    {
     "data": {
      "text/html": [
       "<div>\n",
       "<style scoped>\n",
       "    .dataframe tbody tr th:only-of-type {\n",
       "        vertical-align: middle;\n",
       "    }\n",
       "\n",
       "    .dataframe tbody tr th {\n",
       "        vertical-align: top;\n",
       "    }\n",
       "\n",
       "    .dataframe thead th {\n",
       "        text-align: right;\n",
       "    }\n",
       "</style>\n",
       "<table border=\"1\" class=\"dataframe\">\n",
       "  <thead>\n",
       "    <tr style=\"text-align: right;\">\n",
       "      <th></th>\n",
       "      <th>id</th>\n",
       "      <th>user_id</th>\n",
       "      <th>call_date</th>\n",
       "      <th>month_year</th>\n",
       "      <th>duration_call</th>\n",
       "    </tr>\n",
       "  </thead>\n",
       "  <tbody>\n",
       "    <tr>\n",
       "      <th>0</th>\n",
       "      <td>1000_93</td>\n",
       "      <td>1000</td>\n",
       "      <td>2018-12-27</td>\n",
       "      <td>2018-12</td>\n",
       "      <td>9</td>\n",
       "    </tr>\n",
       "    <tr>\n",
       "      <th>1</th>\n",
       "      <td>1000_145</td>\n",
       "      <td>1000</td>\n",
       "      <td>2018-12-27</td>\n",
       "      <td>2018-12</td>\n",
       "      <td>14</td>\n",
       "    </tr>\n",
       "    <tr>\n",
       "      <th>2</th>\n",
       "      <td>1000_247</td>\n",
       "      <td>1000</td>\n",
       "      <td>2018-12-27</td>\n",
       "      <td>2018-12</td>\n",
       "      <td>15</td>\n",
       "    </tr>\n",
       "    <tr>\n",
       "      <th>3</th>\n",
       "      <td>1000_309</td>\n",
       "      <td>1000</td>\n",
       "      <td>2018-12-28</td>\n",
       "      <td>2018-12</td>\n",
       "      <td>6</td>\n",
       "    </tr>\n",
       "    <tr>\n",
       "      <th>4</th>\n",
       "      <td>1000_380</td>\n",
       "      <td>1000</td>\n",
       "      <td>2018-12-30</td>\n",
       "      <td>2018-12</td>\n",
       "      <td>5</td>\n",
       "    </tr>\n",
       "  </tbody>\n",
       "</table>\n",
       "</div>"
      ],
      "text/plain": [
       "         id  user_id  call_date month_year  duration_call\n",
       "0   1000_93     1000 2018-12-27    2018-12              9\n",
       "1  1000_145     1000 2018-12-27    2018-12             14\n",
       "2  1000_247     1000 2018-12-27    2018-12             15\n",
       "3  1000_309     1000 2018-12-28    2018-12              6\n",
       "4  1000_380     1000 2018-12-30    2018-12              5"
      ]
     },
     "execution_count": 5,
     "metadata": {},
     "output_type": "execute_result"
    }
   ],
   "source": [
    "#rounding the call duration value to the maximum nearest integer values\n",
    "\n",
    "calls['duration_call'] = np.ceil(calls['duration']).astype(int)\n",
    "\n",
    "#dropping the orignial duration column\n",
    "\n",
    "calls.drop('duration', axis= 1, inplace=True)\n",
    "calls.head()"
   ]
  },
  {
   "cell_type": "code",
   "execution_count": 6,
   "metadata": {},
   "outputs": [
    {
     "data": {
      "text/html": [
       "<div>\n",
       "<style scoped>\n",
       "    .dataframe tbody tr th:only-of-type {\n",
       "        vertical-align: middle;\n",
       "    }\n",
       "\n",
       "    .dataframe tbody tr th {\n",
       "        vertical-align: top;\n",
       "    }\n",
       "\n",
       "    .dataframe thead th {\n",
       "        text-align: right;\n",
       "    }\n",
       "</style>\n",
       "<table border=\"1\" class=\"dataframe\">\n",
       "  <thead>\n",
       "    <tr style=\"text-align: right;\">\n",
       "      <th></th>\n",
       "      <th></th>\n",
       "      <th>id</th>\n",
       "    </tr>\n",
       "    <tr>\n",
       "      <th>user_id</th>\n",
       "      <th>month_year</th>\n",
       "      <th></th>\n",
       "    </tr>\n",
       "  </thead>\n",
       "  <tbody>\n",
       "    <tr>\n",
       "      <th>1000</th>\n",
       "      <th>2018-12</th>\n",
       "      <td>16</td>\n",
       "    </tr>\n",
       "    <tr>\n",
       "      <th rowspan=\"4\" valign=\"top\">1001</th>\n",
       "      <th>2018-08</th>\n",
       "      <td>27</td>\n",
       "    </tr>\n",
       "    <tr>\n",
       "      <th>2018-09</th>\n",
       "      <td>49</td>\n",
       "    </tr>\n",
       "    <tr>\n",
       "      <th>2018-10</th>\n",
       "      <td>65</td>\n",
       "    </tr>\n",
       "    <tr>\n",
       "      <th>2018-11</th>\n",
       "      <td>64</td>\n",
       "    </tr>\n",
       "  </tbody>\n",
       "</table>\n",
       "</div>"
      ],
      "text/plain": [
       "                    id\n",
       "user_id month_year    \n",
       "1000    2018-12     16\n",
       "1001    2018-08     27\n",
       "        2018-09     49\n",
       "        2018-10     65\n",
       "        2018-11     64"
      ]
     },
     "execution_count": 6,
     "metadata": {},
     "output_type": "execute_result"
    }
   ],
   "source": [
    "#calculating the total calls for each user by month\n",
    "\n",
    "total_calls_per_month = calls.pivot_table(index=['user_id','month_year'], values='id', aggfunc='count')\n",
    "total_calls_per_month.head()"
   ]
  },
  {
   "cell_type": "code",
   "execution_count": 7,
   "metadata": {},
   "outputs": [
    {
     "data": {
      "text/html": [
       "<div>\n",
       "<style scoped>\n",
       "    .dataframe tbody tr th:only-of-type {\n",
       "        vertical-align: middle;\n",
       "    }\n",
       "\n",
       "    .dataframe tbody tr th {\n",
       "        vertical-align: top;\n",
       "    }\n",
       "\n",
       "    .dataframe thead th {\n",
       "        text-align: right;\n",
       "    }\n",
       "</style>\n",
       "<table border=\"1\" class=\"dataframe\">\n",
       "  <thead>\n",
       "    <tr style=\"text-align: right;\">\n",
       "      <th></th>\n",
       "      <th></th>\n",
       "      <th>duration_call</th>\n",
       "    </tr>\n",
       "    <tr>\n",
       "      <th>user_id</th>\n",
       "      <th>month_year</th>\n",
       "      <th></th>\n",
       "    </tr>\n",
       "  </thead>\n",
       "  <tbody>\n",
       "    <tr>\n",
       "      <th>1000</th>\n",
       "      <th>2018-12</th>\n",
       "      <td>124</td>\n",
       "    </tr>\n",
       "    <tr>\n",
       "      <th rowspan=\"4\" valign=\"top\">1001</th>\n",
       "      <th>2018-08</th>\n",
       "      <td>182</td>\n",
       "    </tr>\n",
       "    <tr>\n",
       "      <th>2018-09</th>\n",
       "      <td>315</td>\n",
       "    </tr>\n",
       "    <tr>\n",
       "      <th>2018-10</th>\n",
       "      <td>393</td>\n",
       "    </tr>\n",
       "    <tr>\n",
       "      <th>2018-11</th>\n",
       "      <td>426</td>\n",
       "    </tr>\n",
       "  </tbody>\n",
       "</table>\n",
       "</div>"
      ],
      "text/plain": [
       "                    duration_call\n",
       "user_id month_year               \n",
       "1000    2018-12               124\n",
       "1001    2018-08               182\n",
       "        2018-09               315\n",
       "        2018-10               393\n",
       "        2018-11               426"
      ]
     },
     "execution_count": 7,
     "metadata": {},
     "output_type": "execute_result"
    }
   ],
   "source": [
    "#calculating the total minutesfor each user  by month\n",
    "\n",
    "total_mins_per_month = calls.pivot_table(index=['user_id','month_year'], values='duration_call', aggfunc='sum')\n",
    "total_mins_per_month.head()"
   ]
  },
  {
   "cell_type": "markdown",
   "metadata": {},
   "source": []
  },
  {
   "cell_type": "code",
   "execution_count": 8,
   "metadata": {
    "scrolled": true
   },
   "outputs": [
    {
     "data": {
      "text/html": [
       "<div>\n",
       "<style scoped>\n",
       "    .dataframe tbody tr th:only-of-type {\n",
       "        vertical-align: middle;\n",
       "    }\n",
       "\n",
       "    .dataframe tbody tr th {\n",
       "        vertical-align: top;\n",
       "    }\n",
       "\n",
       "    .dataframe thead th {\n",
       "        text-align: right;\n",
       "    }\n",
       "</style>\n",
       "<table border=\"1\" class=\"dataframe\">\n",
       "  <thead>\n",
       "    <tr style=\"text-align: right;\">\n",
       "      <th></th>\n",
       "      <th></th>\n",
       "      <th>message_date</th>\n",
       "    </tr>\n",
       "    <tr>\n",
       "      <th>user_id</th>\n",
       "      <th>month_year</th>\n",
       "      <th></th>\n",
       "    </tr>\n",
       "  </thead>\n",
       "  <tbody>\n",
       "    <tr>\n",
       "      <th>1000</th>\n",
       "      <th>2018-12</th>\n",
       "      <td>11</td>\n",
       "    </tr>\n",
       "    <tr>\n",
       "      <th rowspan=\"4\" valign=\"top\">1001</th>\n",
       "      <th>2018-08</th>\n",
       "      <td>30</td>\n",
       "    </tr>\n",
       "    <tr>\n",
       "      <th>2018-09</th>\n",
       "      <td>44</td>\n",
       "    </tr>\n",
       "    <tr>\n",
       "      <th>2018-10</th>\n",
       "      <td>53</td>\n",
       "    </tr>\n",
       "    <tr>\n",
       "      <th>2018-11</th>\n",
       "      <td>36</td>\n",
       "    </tr>\n",
       "  </tbody>\n",
       "</table>\n",
       "</div>"
      ],
      "text/plain": [
       "                    message_date\n",
       "user_id month_year              \n",
       "1000    2018-12               11\n",
       "1001    2018-08               30\n",
       "        2018-09               44\n",
       "        2018-10               53\n",
       "        2018-11               36"
      ]
     },
     "execution_count": 8,
     "metadata": {},
     "output_type": "execute_result"
    }
   ],
   "source": [
    "#calculating the total messages for each user by month\n",
    "\n",
    "total_messages_per_month = messages.pivot_table(index=['user_id','month_year'], values='message_date', aggfunc='count')\n",
    "total_messages_per_month.head()"
   ]
  },
  {
   "cell_type": "code",
   "execution_count": 9,
   "metadata": {
    "scrolled": true
   },
   "outputs": [
    {
     "data": {
      "text/html": [
       "<div>\n",
       "<style scoped>\n",
       "    .dataframe tbody tr th:only-of-type {\n",
       "        vertical-align: middle;\n",
       "    }\n",
       "\n",
       "    .dataframe tbody tr th {\n",
       "        vertical-align: top;\n",
       "    }\n",
       "\n",
       "    .dataframe thead th {\n",
       "        text-align: right;\n",
       "    }\n",
       "</style>\n",
       "<table border=\"1\" class=\"dataframe\">\n",
       "  <thead>\n",
       "    <tr style=\"text-align: right;\">\n",
       "      <th></th>\n",
       "      <th></th>\n",
       "      <th>GB_used</th>\n",
       "    </tr>\n",
       "    <tr>\n",
       "      <th>user_id</th>\n",
       "      <th>month_year</th>\n",
       "      <th></th>\n",
       "    </tr>\n",
       "  </thead>\n",
       "  <tbody>\n",
       "    <tr>\n",
       "      <th>1000</th>\n",
       "      <th>2018-12</th>\n",
       "      <td>4.0</td>\n",
       "    </tr>\n",
       "    <tr>\n",
       "      <th rowspan=\"4\" valign=\"top\">1001</th>\n",
       "      <th>2018-08</th>\n",
       "      <td>21.0</td>\n",
       "    </tr>\n",
       "    <tr>\n",
       "      <th>2018-09</th>\n",
       "      <td>41.0</td>\n",
       "    </tr>\n",
       "    <tr>\n",
       "      <th>2018-10</th>\n",
       "      <td>50.0</td>\n",
       "    </tr>\n",
       "    <tr>\n",
       "      <th>2018-11</th>\n",
       "      <td>49.0</td>\n",
       "    </tr>\n",
       "  </tbody>\n",
       "</table>\n",
       "</div>"
      ],
      "text/plain": [
       "                    GB_used\n",
       "user_id month_year         \n",
       "1000    2018-12         4.0\n",
       "1001    2018-08        21.0\n",
       "        2018-09        41.0\n",
       "        2018-10        50.0\n",
       "        2018-11        49.0"
      ]
     },
     "execution_count": 9,
     "metadata": {},
     "output_type": "execute_result"
    }
   ],
   "source": [
    "#calculating the total GB's for each user by month \n",
    "\n",
    "internet['GB_conversion'] = internet['mb_used']/1024\n",
    "internet['GB_used']= np.ceil(internet['GB_conversion'])\n",
    "total_internet_per_month = internet.pivot_table(index=['user_id','month_year'], values='GB_used', aggfunc='sum')\n",
    "total_internet_per_month.head()\n"
   ]
  },
  {
   "cell_type": "code",
   "execution_count": 10,
   "metadata": {},
   "outputs": [
    {
     "data": {
      "image/png": "[encoded data removed]",
      "text/plain": [
       "<Figure size 432x288 with 1 Axes>"
      ]
     },
     "metadata": {
      "needs_background": "light"
     },
     "output_type": "display_data"
    }
   ],
   "source": [
    "total_internet_per_month.hist('GB_used', bins=25)\n",
    "plt.title('GB Used - by ALL users ')\n",
    "plt.xlabel('Gb Used')\n",
    "plt.ylabel('users')\n",
    "plt.show()"
   ]
  },
  {
   "cell_type": "markdown",
   "metadata": {},
   "source": [
    "This data is somewhat shaped like a normal distribution curve. Mean, standard deviations, plans comparison will be analyzed in Section 2. But we can already see that most users exceeded their data plan montly limits. "
   ]
  },
  {
   "cell_type": "markdown",
   "metadata": {},
   "source": [
    "Concatenating all above four dataframes into single dataframe total"
   ]
  },
  {
   "cell_type": "code",
   "execution_count": 11,
   "metadata": {},
   "outputs": [
    {
     "data": {
      "text/html": [
       "<div>\n",
       "<style scoped>\n",
       "    .dataframe tbody tr th:only-of-type {\n",
       "        vertical-align: middle;\n",
       "    }\n",
       "\n",
       "    .dataframe tbody tr th {\n",
       "        vertical-align: top;\n",
       "    }\n",
       "\n",
       "    .dataframe thead th {\n",
       "        text-align: right;\n",
       "    }\n",
       "</style>\n",
       "<table border=\"1\" class=\"dataframe\">\n",
       "  <thead>\n",
       "    <tr style=\"text-align: right;\">\n",
       "      <th></th>\n",
       "      <th>user_id</th>\n",
       "      <th>month_year</th>\n",
       "      <th>tot_calls</th>\n",
       "      <th>tot_duration</th>\n",
       "      <th>tot_mess</th>\n",
       "      <th>Tot_GB</th>\n",
       "      <th>first_name</th>\n",
       "      <th>last_name</th>\n",
       "      <th>age</th>\n",
       "      <th>city</th>\n",
       "      <th>reg_date</th>\n",
       "      <th>plan</th>\n",
       "      <th>churn_date</th>\n",
       "    </tr>\n",
       "  </thead>\n",
       "  <tbody>\n",
       "    <tr>\n",
       "      <th>0</th>\n",
       "      <td>1000</td>\n",
       "      <td>2018-12</td>\n",
       "      <td>16.0</td>\n",
       "      <td>124.0</td>\n",
       "      <td>11.0</td>\n",
       "      <td>4.0</td>\n",
       "      <td>Anamaria</td>\n",
       "      <td>Bauer</td>\n",
       "      <td>45</td>\n",
       "      <td>Atlanta-Sandy Springs-Roswell, GA MSA</td>\n",
       "      <td>2018-12-24</td>\n",
       "      <td>ultimate</td>\n",
       "      <td>NaN</td>\n",
       "    </tr>\n",
       "    <tr>\n",
       "      <th>1</th>\n",
       "      <td>1001</td>\n",
       "      <td>2018-08</td>\n",
       "      <td>27.0</td>\n",
       "      <td>182.0</td>\n",
       "      <td>30.0</td>\n",
       "      <td>21.0</td>\n",
       "      <td>Mickey</td>\n",
       "      <td>Wilkerson</td>\n",
       "      <td>28</td>\n",
       "      <td>Seattle-Tacoma-Bellevue, WA MSA</td>\n",
       "      <td>2018-08-13</td>\n",
       "      <td>surf</td>\n",
       "      <td>NaN</td>\n",
       "    </tr>\n",
       "    <tr>\n",
       "      <th>2</th>\n",
       "      <td>1001</td>\n",
       "      <td>2018-09</td>\n",
       "      <td>49.0</td>\n",
       "      <td>315.0</td>\n",
       "      <td>44.0</td>\n",
       "      <td>41.0</td>\n",
       "      <td>Mickey</td>\n",
       "      <td>Wilkerson</td>\n",
       "      <td>28</td>\n",
       "      <td>Seattle-Tacoma-Bellevue, WA MSA</td>\n",
       "      <td>2018-08-13</td>\n",
       "      <td>surf</td>\n",
       "      <td>NaN</td>\n",
       "    </tr>\n",
       "    <tr>\n",
       "      <th>3</th>\n",
       "      <td>1001</td>\n",
       "      <td>2018-10</td>\n",
       "      <td>65.0</td>\n",
       "      <td>393.0</td>\n",
       "      <td>53.0</td>\n",
       "      <td>50.0</td>\n",
       "      <td>Mickey</td>\n",
       "      <td>Wilkerson</td>\n",
       "      <td>28</td>\n",
       "      <td>Seattle-Tacoma-Bellevue, WA MSA</td>\n",
       "      <td>2018-08-13</td>\n",
       "      <td>surf</td>\n",
       "      <td>NaN</td>\n",
       "    </tr>\n",
       "    <tr>\n",
       "      <th>4</th>\n",
       "      <td>1001</td>\n",
       "      <td>2018-11</td>\n",
       "      <td>64.0</td>\n",
       "      <td>426.0</td>\n",
       "      <td>36.0</td>\n",
       "      <td>49.0</td>\n",
       "      <td>Mickey</td>\n",
       "      <td>Wilkerson</td>\n",
       "      <td>28</td>\n",
       "      <td>Seattle-Tacoma-Bellevue, WA MSA</td>\n",
       "      <td>2018-08-13</td>\n",
       "      <td>surf</td>\n",
       "      <td>NaN</td>\n",
       "    </tr>\n",
       "  </tbody>\n",
       "</table>\n",
       "</div>"
      ],
      "text/plain": [
       "   user_id month_year  tot_calls  tot_duration  tot_mess  Tot_GB first_name  \\\n",
       "0     1000    2018-12       16.0         124.0      11.0     4.0   Anamaria   \n",
       "1     1001    2018-08       27.0         182.0      30.0    21.0     Mickey   \n",
       "2     1001    2018-09       49.0         315.0      44.0    41.0     Mickey   \n",
       "3     1001    2018-10       65.0         393.0      53.0    50.0     Mickey   \n",
       "4     1001    2018-11       64.0         426.0      36.0    49.0     Mickey   \n",
       "\n",
       "   last_name  age                                   city   reg_date      plan  \\\n",
       "0      Bauer   45  Atlanta-Sandy Springs-Roswell, GA MSA 2018-12-24  ultimate   \n",
       "1  Wilkerson   28        Seattle-Tacoma-Bellevue, WA MSA 2018-08-13      surf   \n",
       "2  Wilkerson   28        Seattle-Tacoma-Bellevue, WA MSA 2018-08-13      surf   \n",
       "3  Wilkerson   28        Seattle-Tacoma-Bellevue, WA MSA 2018-08-13      surf   \n",
       "4  Wilkerson   28        Seattle-Tacoma-Bellevue, WA MSA 2018-08-13      surf   \n",
       "\n",
       "  churn_date  \n",
       "0        NaN  \n",
       "1        NaN  \n",
       "2        NaN  \n",
       "3        NaN  \n",
       "4        NaN  "
      ]
     },
     "execution_count": 11,
     "metadata": {},
     "output_type": "execute_result"
    }
   ],
   "source": [
    "total= pd.concat([total_calls_per_month,total_mins_per_month,total_messages_per_month, total_internet_per_month],1).reset_index().fillna(0)\n",
    "\n",
    "#creating names of column for total dataframes\n",
    "\n",
    "total.columns = ['user_id', 'month_year', 'tot_calls', 'tot_duration', 'tot_mess', 'Tot_GB']\n",
    "\n",
    "#merging dataframes total and users on user_id\n",
    "total= total.merge(users, on='user_id')\n",
    "total.head()\n"
   ]
  },
  {
   "cell_type": "code",
   "execution_count": 12,
   "metadata": {},
   "outputs": [],
   "source": [
    "# Adding columns function for adding column based on plan\n",
    "\n",
    "def add_columns(col):\n",
    "    total[col] = 0\n",
    "    for i in range(0,len(total)):\n",
    "        if total.plan[i] == 'surf':\n",
    "            total[col].loc[i] = plans.loc[0][col]\n",
    "        elif total.plan[i] == 'ultimate':\n",
    "            total[col].loc[i] = plans.loc[1][col]"
   ]
  },
  {
   "cell_type": "code",
   "execution_count": 13,
   "metadata": {
    "scrolled": true
   },
   "outputs": [],
   "source": [
    "#function call to add usd_per_message column\n",
    "add_columns('usd_per_message')\n",
    "#function call to add usd_per_gb column\n",
    "add_columns('usd_per_gb')\n",
    "#function call to add usd_per_minute column\n",
    "add_columns('usd_per_minute')\n",
    "#function call to add mb_per_month_included column\n",
    "add_columns('mb_per_month_included')\n",
    "#function call to add minutes_included column\n",
    "add_columns('minutes_included')\n",
    "#function call to add messages_included column\n",
    "add_columns('messages_included')\n",
    "#function call to add usd_monthly_pay column\n",
    "add_columns('usd_monthly_pay')"
   ]
  },
  {
   "cell_type": "code",
   "execution_count": 14,
   "metadata": {},
   "outputs": [
    {
     "data": {
      "text/html": [
       "<div>\n",
       "<style scoped>\n",
       "    .dataframe tbody tr th:only-of-type {\n",
       "        vertical-align: middle;\n",
       "    }\n",
       "\n",
       "    .dataframe tbody tr th {\n",
       "        vertical-align: top;\n",
       "    }\n",
       "\n",
       "    .dataframe thead th {\n",
       "        text-align: right;\n",
       "    }\n",
       "</style>\n",
       "<table border=\"1\" class=\"dataframe\">\n",
       "  <thead>\n",
       "    <tr style=\"text-align: right;\">\n",
       "      <th></th>\n",
       "      <th>user_id</th>\n",
       "      <th>month_year</th>\n",
       "      <th>tot_calls</th>\n",
       "      <th>tot_duration</th>\n",
       "      <th>tot_mess</th>\n",
       "      <th>Tot_GB</th>\n",
       "      <th>first_name</th>\n",
       "      <th>last_name</th>\n",
       "      <th>age</th>\n",
       "      <th>city</th>\n",
       "      <th>reg_date</th>\n",
       "      <th>plan</th>\n",
       "      <th>churn_date</th>\n",
       "      <th>usd_per_message</th>\n",
       "      <th>usd_per_gb</th>\n",
       "      <th>usd_per_minute</th>\n",
       "      <th>minutes_included</th>\n",
       "      <th>messages_included</th>\n",
       "      <th>usd_monthly_pay</th>\n",
       "      <th>gb_per_month_included</th>\n",
       "    </tr>\n",
       "  </thead>\n",
       "  <tbody>\n",
       "    <tr>\n",
       "      <th>0</th>\n",
       "      <td>1000</td>\n",
       "      <td>2018-12</td>\n",
       "      <td>16.0</td>\n",
       "      <td>124.0</td>\n",
       "      <td>11.0</td>\n",
       "      <td>4.0</td>\n",
       "      <td>Anamaria</td>\n",
       "      <td>Bauer</td>\n",
       "      <td>45</td>\n",
       "      <td>Atlanta-Sandy Springs-Roswell, GA MSA</td>\n",
       "      <td>2018-12-24</td>\n",
       "      <td>ultimate</td>\n",
       "      <td>NaN</td>\n",
       "      <td>0.01</td>\n",
       "      <td>7</td>\n",
       "      <td>0.01</td>\n",
       "      <td>3000</td>\n",
       "      <td>1000</td>\n",
       "      <td>70</td>\n",
       "      <td>30.0</td>\n",
       "    </tr>\n",
       "    <tr>\n",
       "      <th>1</th>\n",
       "      <td>1001</td>\n",
       "      <td>2018-08</td>\n",
       "      <td>27.0</td>\n",
       "      <td>182.0</td>\n",
       "      <td>30.0</td>\n",
       "      <td>21.0</td>\n",
       "      <td>Mickey</td>\n",
       "      <td>Wilkerson</td>\n",
       "      <td>28</td>\n",
       "      <td>Seattle-Tacoma-Bellevue, WA MSA</td>\n",
       "      <td>2018-08-13</td>\n",
       "      <td>surf</td>\n",
       "      <td>NaN</td>\n",
       "      <td>0.03</td>\n",
       "      <td>10</td>\n",
       "      <td>0.03</td>\n",
       "      <td>500</td>\n",
       "      <td>50</td>\n",
       "      <td>20</td>\n",
       "      <td>15.0</td>\n",
       "    </tr>\n",
       "    <tr>\n",
       "      <th>2</th>\n",
       "      <td>1001</td>\n",
       "      <td>2018-09</td>\n",
       "      <td>49.0</td>\n",
       "      <td>315.0</td>\n",
       "      <td>44.0</td>\n",
       "      <td>41.0</td>\n",
       "      <td>Mickey</td>\n",
       "      <td>Wilkerson</td>\n",
       "      <td>28</td>\n",
       "      <td>Seattle-Tacoma-Bellevue, WA MSA</td>\n",
       "      <td>2018-08-13</td>\n",
       "      <td>surf</td>\n",
       "      <td>NaN</td>\n",
       "      <td>0.03</td>\n",
       "      <td>10</td>\n",
       "      <td>0.03</td>\n",
       "      <td>500</td>\n",
       "      <td>50</td>\n",
       "      <td>20</td>\n",
       "      <td>15.0</td>\n",
       "    </tr>\n",
       "  </tbody>\n",
       "</table>\n",
       "</div>"
      ],
      "text/plain": [
       "   user_id month_year  tot_calls  tot_duration  tot_mess  Tot_GB first_name  \\\n",
       "0     1000    2018-12       16.0         124.0      11.0     4.0   Anamaria   \n",
       "1     1001    2018-08       27.0         182.0      30.0    21.0     Mickey   \n",
       "2     1001    2018-09       49.0         315.0      44.0    41.0     Mickey   \n",
       "\n",
       "   last_name  age                                   city   reg_date      plan  \\\n",
       "0      Bauer   45  Atlanta-Sandy Springs-Roswell, GA MSA 2018-12-24  ultimate   \n",
       "1  Wilkerson   28        Seattle-Tacoma-Bellevue, WA MSA 2018-08-13      surf   \n",
       "2  Wilkerson   28        Seattle-Tacoma-Bellevue, WA MSA 2018-08-13      surf   \n",
       "\n",
       "  churn_date  usd_per_message  usd_per_gb  usd_per_minute  minutes_included  \\\n",
       "0        NaN             0.01           7            0.01              3000   \n",
       "1        NaN             0.03          10            0.03               500   \n",
       "2        NaN             0.03          10            0.03               500   \n",
       "\n",
       "   messages_included  usd_monthly_pay  gb_per_month_included  \n",
       "0               1000               70                   30.0  \n",
       "1                 50               20                   15.0  \n",
       "2                 50               20                   15.0  "
      ]
     },
     "execution_count": 14,
     "metadata": {},
     "output_type": "execute_result"
    }
   ],
   "source": [
    "#adding gb_per_month_included column from mb_per_month_included column\n",
    "\n",
    "total['gb_per_month_included'] = np.ceil(total['mb_per_month_included'] / 1024)\n",
    "\n",
    "#dropping mb_per_month_included column\n",
    "total.drop('mb_per_month_included',axis=1, inplace=True)\n",
    "total.head(3)"
   ]
  },
  {
   "cell_type": "code",
   "execution_count": 15,
   "metadata": {},
   "outputs": [],
   "source": [
    "#adding message_cost column\n",
    "total['message_cost'] = 0\n",
    "for i in range(0,len(total)):\n",
    "    total['message_cost'].loc[i] = max(0, total['tot_mess'].loc[i] - total['messages_included'].loc[i])*total['usd_per_message'].loc[i]"
   ]
  },
  {
   "cell_type": "code",
   "execution_count": 16,
   "metadata": {},
   "outputs": [],
   "source": [
    "#adding call_cost column\n",
    "total['call_cost'] = 0\n",
    "for i in range(0,len(total)):\n",
    "    total['call_cost'].loc[i] = max(0, total['tot_duration'].loc[i] - total['minutes_included'].loc[i])*total['usd_per_minute'].loc[i]"
   ]
  },
  {
   "cell_type": "code",
   "execution_count": 17,
   "metadata": {
    "scrolled": true
   },
   "outputs": [],
   "source": [
    "#adding gb_cost column\n",
    "total['gb_cost'] = 0\n",
    "for i in range(0,len(total)):\n",
    "    total['gb_cost'].loc[i] = max(0, total['Tot_GB'].loc[i] - total['gb_per_month_included'].loc[i])*total['usd_per_gb'].loc[i]"
   ]
  },
  {
   "cell_type": "code",
   "execution_count": 18,
   "metadata": {},
   "outputs": [],
   "source": [
    "#adding total_cost column\n",
    "total['total_cost'] = total['message_cost'] + total['call_cost'] + total['gb_cost'] + total['usd_monthly_pay']"
   ]
  },
  {
   "cell_type": "code",
   "execution_count": 19,
   "metadata": {
    "scrolled": true
   },
   "outputs": [
    {
     "data": {
      "text/html": [
       "<div>\n",
       "<style scoped>\n",
       "    .dataframe tbody tr th:only-of-type {\n",
       "        vertical-align: middle;\n",
       "    }\n",
       "\n",
       "    .dataframe tbody tr th {\n",
       "        vertical-align: top;\n",
       "    }\n",
       "\n",
       "    .dataframe thead th {\n",
       "        text-align: right;\n",
       "    }\n",
       "</style>\n",
       "<table border=\"1\" class=\"dataframe\">\n",
       "  <thead>\n",
       "    <tr style=\"text-align: right;\">\n",
       "      <th></th>\n",
       "      <th>user_id</th>\n",
       "      <th>month_year</th>\n",
       "      <th>tot_calls</th>\n",
       "      <th>tot_duration</th>\n",
       "      <th>tot_mess</th>\n",
       "      <th>Tot_GB</th>\n",
       "      <th>first_name</th>\n",
       "      <th>last_name</th>\n",
       "      <th>age</th>\n",
       "      <th>city</th>\n",
       "      <th>...</th>\n",
       "      <th>usd_per_gb</th>\n",
       "      <th>usd_per_minute</th>\n",
       "      <th>minutes_included</th>\n",
       "      <th>messages_included</th>\n",
       "      <th>usd_monthly_pay</th>\n",
       "      <th>gb_per_month_included</th>\n",
       "      <th>message_cost</th>\n",
       "      <th>call_cost</th>\n",
       "      <th>gb_cost</th>\n",
       "      <th>total_cost</th>\n",
       "    </tr>\n",
       "  </thead>\n",
       "  <tbody>\n",
       "    <tr>\n",
       "      <th>0</th>\n",
       "      <td>1000</td>\n",
       "      <td>2018-12</td>\n",
       "      <td>16.0</td>\n",
       "      <td>124.0</td>\n",
       "      <td>11.0</td>\n",
       "      <td>4.0</td>\n",
       "      <td>Anamaria</td>\n",
       "      <td>Bauer</td>\n",
       "      <td>45</td>\n",
       "      <td>Atlanta-Sandy Springs-Roswell, GA MSA</td>\n",
       "      <td>...</td>\n",
       "      <td>7</td>\n",
       "      <td>0.01</td>\n",
       "      <td>3000</td>\n",
       "      <td>1000</td>\n",
       "      <td>70</td>\n",
       "      <td>30.0</td>\n",
       "      <td>0.0</td>\n",
       "      <td>0.0</td>\n",
       "      <td>0.0</td>\n",
       "      <td>70.0</td>\n",
       "    </tr>\n",
       "    <tr>\n",
       "      <th>1</th>\n",
       "      <td>1001</td>\n",
       "      <td>2018-08</td>\n",
       "      <td>27.0</td>\n",
       "      <td>182.0</td>\n",
       "      <td>30.0</td>\n",
       "      <td>21.0</td>\n",
       "      <td>Mickey</td>\n",
       "      <td>Wilkerson</td>\n",
       "      <td>28</td>\n",
       "      <td>Seattle-Tacoma-Bellevue, WA MSA</td>\n",
       "      <td>...</td>\n",
       "      <td>10</td>\n",
       "      <td>0.03</td>\n",
       "      <td>500</td>\n",
       "      <td>50</td>\n",
       "      <td>20</td>\n",
       "      <td>15.0</td>\n",
       "      <td>0.0</td>\n",
       "      <td>0.0</td>\n",
       "      <td>60.0</td>\n",
       "      <td>80.0</td>\n",
       "    </tr>\n",
       "    <tr>\n",
       "      <th>2</th>\n",
       "      <td>1001</td>\n",
       "      <td>2018-09</td>\n",
       "      <td>49.0</td>\n",
       "      <td>315.0</td>\n",
       "      <td>44.0</td>\n",
       "      <td>41.0</td>\n",
       "      <td>Mickey</td>\n",
       "      <td>Wilkerson</td>\n",
       "      <td>28</td>\n",
       "      <td>Seattle-Tacoma-Bellevue, WA MSA</td>\n",
       "      <td>...</td>\n",
       "      <td>10</td>\n",
       "      <td>0.03</td>\n",
       "      <td>500</td>\n",
       "      <td>50</td>\n",
       "      <td>20</td>\n",
       "      <td>15.0</td>\n",
       "      <td>0.0</td>\n",
       "      <td>0.0</td>\n",
       "      <td>260.0</td>\n",
       "      <td>280.0</td>\n",
       "    </tr>\n",
       "  </tbody>\n",
       "</table>\n",
       "<p>3 rows × 24 columns</p>\n",
       "</div>"
      ],
      "text/plain": [
       "   user_id month_year  tot_calls  tot_duration  tot_mess  Tot_GB first_name  \\\n",
       "0     1000    2018-12       16.0         124.0      11.0     4.0   Anamaria   \n",
       "1     1001    2018-08       27.0         182.0      30.0    21.0     Mickey   \n",
       "2     1001    2018-09       49.0         315.0      44.0    41.0     Mickey   \n",
       "\n",
       "   last_name  age                                   city  ... usd_per_gb  \\\n",
       "0      Bauer   45  Atlanta-Sandy Springs-Roswell, GA MSA  ...          7   \n",
       "1  Wilkerson   28        Seattle-Tacoma-Bellevue, WA MSA  ...         10   \n",
       "2  Wilkerson   28        Seattle-Tacoma-Bellevue, WA MSA  ...         10   \n",
       "\n",
       "  usd_per_minute minutes_included  messages_included  usd_monthly_pay  \\\n",
       "0           0.01             3000               1000               70   \n",
       "1           0.03              500                 50               20   \n",
       "2           0.03              500                 50               20   \n",
       "\n",
       "   gb_per_month_included  message_cost  call_cost  gb_cost  total_cost  \n",
       "0                   30.0           0.0        0.0      0.0        70.0  \n",
       "1                   15.0           0.0        0.0     60.0        80.0  \n",
       "2                   15.0           0.0        0.0    260.0       280.0  \n",
       "\n",
       "[3 rows x 24 columns]"
      ]
     },
     "execution_count": 19,
     "metadata": {},
     "output_type": "execute_result"
    }
   ],
   "source": [
    "#printing first 3 rows of total dataframe\n",
    "total.head(3)"
   ]
  },
  {
   "cell_type": "code",
   "execution_count": 20,
   "metadata": {},
   "outputs": [],
   "source": [
    "total['monthly_profit'] = 0\n",
    "def monthly_profit():\n",
    "    mess_profit = (total['messages_included'] - total['tot_mess'])*total['usd_per_minute']\n",
    "    min_profit = (total['minutes_included'] - total['tot_duration'])*total['usd_per_minute']\n",
    "    gb_profit = (total['minutes_included'] - total['tot_duration'])*total['usd_per_minute']\n",
    "    "
   ]
  },
  {
   "cell_type": "code",
   "execution_count": 21,
   "metadata": {
    "scrolled": true
   },
   "outputs": [
    {
     "data": {
      "text/plain": [
       "0       28.76\n",
       "1        9.54\n",
       "2        5.55\n",
       "3        3.21\n",
       "4        2.22\n",
       "        ...  \n",
       "2288     4.83\n",
       "2289     4.62\n",
       "2290     3.45\n",
       "2291     5.76\n",
       "2292     0.12\n",
       "Length: 2293, dtype: float64"
      ]
     },
     "execution_count": 21,
     "metadata": {},
     "output_type": "execute_result"
    }
   ],
   "source": [
    "(total['minutes_included'] - total['tot_duration'])*total['usd_per_minute']"
   ]
  },
  {
   "cell_type": "code",
   "execution_count": 22,
   "metadata": {
    "scrolled": true
   },
   "outputs": [],
   "source": [
    "def monthly(col):\n",
    "    total[col] = 0\n",
    "    for i in range(0,len(total)):\n",
    "        if total.plan[i] == 'surf':\n",
    "            mess_profit = ( total.loc[i]['tot_mess'] - plans.loc[0]['messages_included'])*plans.loc[0]['usd_per_minute']\n",
    "            min_profit = ( total.loc[i]['tot_duration'] - plans.loc[0]['minutes_included'])*plans.loc[0]['usd_per_minute']\n",
    "            gb_profit = (total.loc[i]['Tot_GB'] - total.loc[i]['gb_per_month_included'])*plans.loc[0]['usd_per_gb']\n",
    "            total[col].loc[i] = mess_profit + min_profit + gb_profit\n",
    "        elif total.plan[i] == 'ultimate':\n",
    "            mess_profit = (total.loc[i]['tot_mess'] - plans.loc[1]['messages_included'])*plans.loc[1]['usd_per_minute']\n",
    "            min_profit = (total.loc[i]['tot_duration'] - plans.loc[1]['minutes_included'])*plans.loc[1]['usd_per_minute']\n",
    "            gb_profit = (total.loc[i]['Tot_GB'] - total.loc[i]['gb_per_month_included'])*plans.loc[1]['usd_per_gb']\n",
    "            total[col].loc[i] = mess_profit + min_profit + gb_profit\n",
    "            \n",
    "#monthly('monthly_profit') "
   ]
  },
  {
   "cell_type": "code",
   "execution_count": 23,
   "metadata": {},
   "outputs": [
    {
     "data": {
      "text/html": [
       "<div>\n",
       "<style scoped>\n",
       "    .dataframe tbody tr th:only-of-type {\n",
       "        vertical-align: middle;\n",
       "    }\n",
       "\n",
       "    .dataframe tbody tr th {\n",
       "        vertical-align: top;\n",
       "    }\n",
       "\n",
       "    .dataframe thead th {\n",
       "        text-align: right;\n",
       "    }\n",
       "</style>\n",
       "<table border=\"1\" class=\"dataframe\">\n",
       "  <thead>\n",
       "    <tr style=\"text-align: right;\">\n",
       "      <th></th>\n",
       "      <th>user_id</th>\n",
       "      <th>month_year</th>\n",
       "      <th>tot_calls</th>\n",
       "      <th>tot_duration</th>\n",
       "      <th>tot_mess</th>\n",
       "      <th>Tot_GB</th>\n",
       "      <th>first_name</th>\n",
       "      <th>last_name</th>\n",
       "      <th>age</th>\n",
       "      <th>city</th>\n",
       "      <th>...</th>\n",
       "      <th>usd_per_minute</th>\n",
       "      <th>minutes_included</th>\n",
       "      <th>messages_included</th>\n",
       "      <th>usd_monthly_pay</th>\n",
       "      <th>gb_per_month_included</th>\n",
       "      <th>message_cost</th>\n",
       "      <th>call_cost</th>\n",
       "      <th>gb_cost</th>\n",
       "      <th>total_cost</th>\n",
       "      <th>monthly_profit</th>\n",
       "    </tr>\n",
       "  </thead>\n",
       "  <tbody>\n",
       "    <tr>\n",
       "      <th>2287</th>\n",
       "      <td>1498</td>\n",
       "      <td>2018-11</td>\n",
       "      <td>41.0</td>\n",
       "      <td>223.0</td>\n",
       "      <td>0.0</td>\n",
       "      <td>47.0</td>\n",
       "      <td>Scot</td>\n",
       "      <td>Williamson</td>\n",
       "      <td>51</td>\n",
       "      <td>New York-Newark-Jersey City, NY-NJ-PA MSA</td>\n",
       "      <td>...</td>\n",
       "      <td>0.03</td>\n",
       "      <td>500</td>\n",
       "      <td>50</td>\n",
       "      <td>20</td>\n",
       "      <td>15.0</td>\n",
       "      <td>0.0</td>\n",
       "      <td>0.0</td>\n",
       "      <td>320.0</td>\n",
       "      <td>340.0</td>\n",
       "      <td>0</td>\n",
       "    </tr>\n",
       "    <tr>\n",
       "      <th>2288</th>\n",
       "      <td>1498</td>\n",
       "      <td>2018-12</td>\n",
       "      <td>39.0</td>\n",
       "      <td>339.0</td>\n",
       "      <td>0.0</td>\n",
       "      <td>56.0</td>\n",
       "      <td>Scot</td>\n",
       "      <td>Williamson</td>\n",
       "      <td>51</td>\n",
       "      <td>New York-Newark-Jersey City, NY-NJ-PA MSA</td>\n",
       "      <td>...</td>\n",
       "      <td>0.03</td>\n",
       "      <td>500</td>\n",
       "      <td>50</td>\n",
       "      <td>20</td>\n",
       "      <td>15.0</td>\n",
       "      <td>0.0</td>\n",
       "      <td>0.0</td>\n",
       "      <td>410.0</td>\n",
       "      <td>430.0</td>\n",
       "      <td>0</td>\n",
       "    </tr>\n",
       "    <tr>\n",
       "      <th>2289</th>\n",
       "      <td>1499</td>\n",
       "      <td>2018-09</td>\n",
       "      <td>41.0</td>\n",
       "      <td>346.0</td>\n",
       "      <td>0.0</td>\n",
       "      <td>37.0</td>\n",
       "      <td>Shena</td>\n",
       "      <td>Dickson</td>\n",
       "      <td>37</td>\n",
       "      <td>Orlando-Kissimmee-Sanford, FL MSA</td>\n",
       "      <td>...</td>\n",
       "      <td>0.03</td>\n",
       "      <td>500</td>\n",
       "      <td>50</td>\n",
       "      <td>20</td>\n",
       "      <td>15.0</td>\n",
       "      <td>0.0</td>\n",
       "      <td>0.0</td>\n",
       "      <td>220.0</td>\n",
       "      <td>240.0</td>\n",
       "      <td>0</td>\n",
       "    </tr>\n",
       "    <tr>\n",
       "      <th>2290</th>\n",
       "      <td>1499</td>\n",
       "      <td>2018-10</td>\n",
       "      <td>53.0</td>\n",
       "      <td>385.0</td>\n",
       "      <td>0.0</td>\n",
       "      <td>52.0</td>\n",
       "      <td>Shena</td>\n",
       "      <td>Dickson</td>\n",
       "      <td>37</td>\n",
       "      <td>Orlando-Kissimmee-Sanford, FL MSA</td>\n",
       "      <td>...</td>\n",
       "      <td>0.03</td>\n",
       "      <td>500</td>\n",
       "      <td>50</td>\n",
       "      <td>20</td>\n",
       "      <td>15.0</td>\n",
       "      <td>0.0</td>\n",
       "      <td>0.0</td>\n",
       "      <td>370.0</td>\n",
       "      <td>390.0</td>\n",
       "      <td>0</td>\n",
       "    </tr>\n",
       "    <tr>\n",
       "      <th>2291</th>\n",
       "      <td>1499</td>\n",
       "      <td>2018-11</td>\n",
       "      <td>45.0</td>\n",
       "      <td>308.0</td>\n",
       "      <td>0.0</td>\n",
       "      <td>43.0</td>\n",
       "      <td>Shena</td>\n",
       "      <td>Dickson</td>\n",
       "      <td>37</td>\n",
       "      <td>Orlando-Kissimmee-Sanford, FL MSA</td>\n",
       "      <td>...</td>\n",
       "      <td>0.03</td>\n",
       "      <td>500</td>\n",
       "      <td>50</td>\n",
       "      <td>20</td>\n",
       "      <td>15.0</td>\n",
       "      <td>0.0</td>\n",
       "      <td>0.0</td>\n",
       "      <td>280.0</td>\n",
       "      <td>300.0</td>\n",
       "      <td>0</td>\n",
       "    </tr>\n",
       "    <tr>\n",
       "      <th>2292</th>\n",
       "      <td>1499</td>\n",
       "      <td>2018-12</td>\n",
       "      <td>65.0</td>\n",
       "      <td>496.0</td>\n",
       "      <td>0.0</td>\n",
       "      <td>58.0</td>\n",
       "      <td>Shena</td>\n",
       "      <td>Dickson</td>\n",
       "      <td>37</td>\n",
       "      <td>Orlando-Kissimmee-Sanford, FL MSA</td>\n",
       "      <td>...</td>\n",
       "      <td>0.03</td>\n",
       "      <td>500</td>\n",
       "      <td>50</td>\n",
       "      <td>20</td>\n",
       "      <td>15.0</td>\n",
       "      <td>0.0</td>\n",
       "      <td>0.0</td>\n",
       "      <td>430.0</td>\n",
       "      <td>450.0</td>\n",
       "      <td>0</td>\n",
       "    </tr>\n",
       "  </tbody>\n",
       "</table>\n",
       "<p>6 rows × 25 columns</p>\n",
       "</div>"
      ],
      "text/plain": [
       "      user_id month_year  tot_calls  tot_duration  tot_mess  Tot_GB  \\\n",
       "2287     1498    2018-11       41.0         223.0       0.0    47.0   \n",
       "2288     1498    2018-12       39.0         339.0       0.0    56.0   \n",
       "2289     1499    2018-09       41.0         346.0       0.0    37.0   \n",
       "2290     1499    2018-10       53.0         385.0       0.0    52.0   \n",
       "2291     1499    2018-11       45.0         308.0       0.0    43.0   \n",
       "2292     1499    2018-12       65.0         496.0       0.0    58.0   \n",
       "\n",
       "     first_name   last_name  age                                       city  \\\n",
       "2287       Scot  Williamson   51  New York-Newark-Jersey City, NY-NJ-PA MSA   \n",
       "2288       Scot  Williamson   51  New York-Newark-Jersey City, NY-NJ-PA MSA   \n",
       "2289      Shena     Dickson   37          Orlando-Kissimmee-Sanford, FL MSA   \n",
       "2290      Shena     Dickson   37          Orlando-Kissimmee-Sanford, FL MSA   \n",
       "2291      Shena     Dickson   37          Orlando-Kissimmee-Sanford, FL MSA   \n",
       "2292      Shena     Dickson   37          Orlando-Kissimmee-Sanford, FL MSA   \n",
       "\n",
       "      ... usd_per_minute minutes_included messages_included  usd_monthly_pay  \\\n",
       "2287  ...           0.03              500                50               20   \n",
       "2288  ...           0.03              500                50               20   \n",
       "2289  ...           0.03              500                50               20   \n",
       "2290  ...           0.03              500                50               20   \n",
       "2291  ...           0.03              500                50               20   \n",
       "2292  ...           0.03              500                50               20   \n",
       "\n",
       "      gb_per_month_included  message_cost  call_cost  gb_cost  total_cost  \\\n",
       "2287                   15.0           0.0        0.0    320.0       340.0   \n",
       "2288                   15.0           0.0        0.0    410.0       430.0   \n",
       "2289                   15.0           0.0        0.0    220.0       240.0   \n",
       "2290                   15.0           0.0        0.0    370.0       390.0   \n",
       "2291                   15.0           0.0        0.0    280.0       300.0   \n",
       "2292                   15.0           0.0        0.0    430.0       450.0   \n",
       "\n",
       "      monthly_profit  \n",
       "2287               0  \n",
       "2288               0  \n",
       "2289               0  \n",
       "2290               0  \n",
       "2291               0  \n",
       "2292               0  \n",
       "\n",
       "[6 rows x 25 columns]"
      ]
     },
     "execution_count": 23,
     "metadata": {},
     "output_type": "execute_result"
    }
   ],
   "source": [
    "total.tail(6)"
   ]
  },
  {
   "cell_type": "markdown",
   "metadata": {},
   "source": [
    "## Analyzing The Data 2"
   ]
  },
  {
   "cell_type": "code",
   "execution_count": 24,
   "metadata": {},
   "outputs": [],
   "source": [
    "# creating seperate dataframes for each plan for plotting data\n",
    "surf = total.loc[total['plan'] == 'surf']\n",
    "ultimate = total.loc[total['plan'] == 'ultimate']"
   ]
  },
  {
   "cell_type": "code",
   "execution_count": 25,
   "metadata": {},
   "outputs": [
    {
     "data": {
      "text/html": [
       "<div>\n",
       "<style scoped>\n",
       "    .dataframe tbody tr th:only-of-type {\n",
       "        vertical-align: middle;\n",
       "    }\n",
       "\n",
       "    .dataframe tbody tr th {\n",
       "        vertical-align: top;\n",
       "    }\n",
       "\n",
       "    .dataframe thead th {\n",
       "        text-align: right;\n",
       "    }\n",
       "</style>\n",
       "<table border=\"1\" class=\"dataframe\">\n",
       "  <thead>\n",
       "    <tr style=\"text-align: right;\">\n",
       "      <th></th>\n",
       "      <th>count</th>\n",
       "      <th>mean</th>\n",
       "      <th>std</th>\n",
       "      <th>min</th>\n",
       "      <th>25%</th>\n",
       "      <th>50%</th>\n",
       "      <th>75%</th>\n",
       "      <th>max</th>\n",
       "    </tr>\n",
       "    <tr>\n",
       "      <th>plan</th>\n",
       "      <th></th>\n",
       "      <th></th>\n",
       "      <th></th>\n",
       "      <th></th>\n",
       "      <th></th>\n",
       "      <th></th>\n",
       "      <th></th>\n",
       "      <th></th>\n",
       "    </tr>\n",
       "  </thead>\n",
       "  <tbody>\n",
       "    <tr>\n",
       "      <th>surf</th>\n",
       "      <td>1573.0</td>\n",
       "      <td>428.749523</td>\n",
       "      <td>234.453150</td>\n",
       "      <td>0.0</td>\n",
       "      <td>272.0</td>\n",
       "      <td>425.0</td>\n",
       "      <td>576.00</td>\n",
       "      <td>1510.0</td>\n",
       "    </tr>\n",
       "    <tr>\n",
       "      <th>ultimate</th>\n",
       "      <td>720.0</td>\n",
       "      <td>430.450000</td>\n",
       "      <td>240.508762</td>\n",
       "      <td>0.0</td>\n",
       "      <td>260.0</td>\n",
       "      <td>424.0</td>\n",
       "      <td>565.25</td>\n",
       "      <td>1369.0</td>\n",
       "    </tr>\n",
       "  </tbody>\n",
       "</table>\n",
       "</div>"
      ],
      "text/plain": [
       "           count        mean         std  min    25%    50%     75%     max\n",
       "plan                                                                       \n",
       "surf      1573.0  428.749523  234.453150  0.0  272.0  425.0  576.00  1510.0\n",
       "ultimate   720.0  430.450000  240.508762  0.0  260.0  424.0  565.25  1369.0"
      ]
     },
     "execution_count": 25,
     "metadata": {},
     "output_type": "execute_result"
    }
   ],
   "source": [
    "#Mean, dispersion and standard deviation for Number of Minutes Required by Each Plan User\n",
    "total.groupby(['plan'])['tot_duration'].describe()"
   ]
  },
  {
   "cell_type": "markdown",
   "metadata": {},
   "source": [
    "Based on the Mean, dispersion, and standard deviation of the ALL the scenarios above, in addition to the Graphs displayed, we can conclude that although the 'Surf plan' has double the subcribers of the 'Ultimate plan', Their means are almost the same."
   ]
  },
  {
   "cell_type": "markdown",
   "metadata": {},
   "source": [
    "<blockquote> added comment above v.2 </blockquote>"
   ]
  },
  {
   "cell_type": "code",
   "execution_count": 26,
   "metadata": {},
   "outputs": [
    {
     "data": {
      "image/png": "[encoded data removed]",
      "text/plain": [
       "<Figure size 936x504 with 1 Axes>"
      ]
     },
     "metadata": {},
     "output_type": "display_data"
    }
   ],
   "source": [
    "#Plotting the Number of Minutes Required by Each Plan User\n",
    "import matplotlib.pyplot as plt\n",
    "plt.style.use('fivethirtyeight')\n",
    "plt.figure(figsize = (13,7))\n",
    "plt.hist(surf['tot_duration'], bins = 30)\n",
    "plt.hist(ultimate['tot_duration'], bins = 30)\n",
    "plt.legend(['surf','ultimate'])\n",
    "plt.title('Number of Minutes used by each Plan user per month ')\n",
    "plt.xlabel('tot_duration')\n",
    "plt.ylabel('users')\n",
    "plt.show()"
   ]
  },
  {
   "cell_type": "markdown",
   "metadata": {},
   "source": [
    "The data shows that most users are staying within the plan limit. No \"ultimate\" plan user has exceeded the 3000 minutes allowed by the plan. A portion of  \"surf\" users have exceed the 500minutes allowed by the plan"
   ]
  },
  {
   "cell_type": "code",
   "execution_count": 27,
   "metadata": {},
   "outputs": [
    {
     "data": {
      "text/html": [
       "<div>\n",
       "<style scoped>\n",
       "    .dataframe tbody tr th:only-of-type {\n",
       "        vertical-align: middle;\n",
       "    }\n",
       "\n",
       "    .dataframe tbody tr th {\n",
       "        vertical-align: top;\n",
       "    }\n",
       "\n",
       "    .dataframe thead th {\n",
       "        text-align: right;\n",
       "    }\n",
       "</style>\n",
       "<table border=\"1\" class=\"dataframe\">\n",
       "  <thead>\n",
       "    <tr style=\"text-align: right;\">\n",
       "      <th></th>\n",
       "      <th>count</th>\n",
       "      <th>mean</th>\n",
       "      <th>std</th>\n",
       "      <th>min</th>\n",
       "      <th>25%</th>\n",
       "      <th>50%</th>\n",
       "      <th>75%</th>\n",
       "      <th>max</th>\n",
       "    </tr>\n",
       "    <tr>\n",
       "      <th>plan</th>\n",
       "      <th></th>\n",
       "      <th></th>\n",
       "      <th></th>\n",
       "      <th></th>\n",
       "      <th></th>\n",
       "      <th></th>\n",
       "      <th></th>\n",
       "      <th></th>\n",
       "    </tr>\n",
       "  </thead>\n",
       "  <tbody>\n",
       "    <tr>\n",
       "      <th>surf</th>\n",
       "      <td>1573.0</td>\n",
       "      <td>31.159568</td>\n",
       "      <td>33.566717</td>\n",
       "      <td>0.0</td>\n",
       "      <td>3.0</td>\n",
       "      <td>24.0</td>\n",
       "      <td>47.0</td>\n",
       "      <td>266.0</td>\n",
       "    </tr>\n",
       "    <tr>\n",
       "      <th>ultimate</th>\n",
       "      <td>720.0</td>\n",
       "      <td>37.551389</td>\n",
       "      <td>34.767179</td>\n",
       "      <td>0.0</td>\n",
       "      <td>7.0</td>\n",
       "      <td>30.0</td>\n",
       "      <td>61.0</td>\n",
       "      <td>166.0</td>\n",
       "    </tr>\n",
       "  </tbody>\n",
       "</table>\n",
       "</div>"
      ],
      "text/plain": [
       "           count       mean        std  min  25%   50%   75%    max\n",
       "plan                                                               \n",
       "surf      1573.0  31.159568  33.566717  0.0  3.0  24.0  47.0  266.0\n",
       "ultimate   720.0  37.551389  34.767179  0.0  7.0  30.0  61.0  166.0"
      ]
     },
     "execution_count": 27,
     "metadata": {},
     "output_type": "execute_result"
    }
   ],
   "source": [
    "#Mean, dispersion and standard deviation for Number of Messages Required by Each Plan User\n",
    "total.groupby(['plan'])['tot_mess'].describe()"
   ]
  },
  {
   "cell_type": "code",
   "execution_count": 28,
   "metadata": {
    "scrolled": true
   },
   "outputs": [
    {
     "data": {
      "image/png": "[encoded data removed]",
      "text/plain": [
       "<Figure size 936x504 with 1 Axes>"
      ]
     },
     "metadata": {},
     "output_type": "display_data"
    }
   ],
   "source": [
    "#Plotting the Number of Messeges Required by Each Plan User\n",
    "plt.figure(figsize = (13,7))\n",
    "plt.hist(surf['tot_mess'], bins = 30)\n",
    "plt.hist(ultimate['tot_mess'], bins = 30)\n",
    "plt.legend(['surf','ultimate'])\n",
    "plt.title('Number of Messages used by Users per month ')\n",
    "plt.xlabel('tot_mess')\n",
    "plt.ylabel('users')\n",
    "plt.show()"
   ]
  },
  {
   "cell_type": "markdown",
   "metadata": {},
   "source": [
    "This graph shows that most users don't use the SMS feature. No \"ultimate\" user has exceed the 1000 messages included with the plan. A few users from the surf plan have exceed their 50 messages monthly quotas. This can be explained by the fact that users have data plans and are most likely using apps like \"Messenger\" - 'Whatsapp' - \" Signal\"...and more to communicate. "
   ]
  },
  {
   "cell_type": "code",
   "execution_count": 29,
   "metadata": {
    "scrolled": true
   },
   "outputs": [
    {
     "data": {
      "text/html": [
       "<div>\n",
       "<style scoped>\n",
       "    .dataframe tbody tr th:only-of-type {\n",
       "        vertical-align: middle;\n",
       "    }\n",
       "\n",
       "    .dataframe tbody tr th {\n",
       "        vertical-align: top;\n",
       "    }\n",
       "\n",
       "    .dataframe thead th {\n",
       "        text-align: right;\n",
       "    }\n",
       "</style>\n",
       "<table border=\"1\" class=\"dataframe\">\n",
       "  <thead>\n",
       "    <tr style=\"text-align: right;\">\n",
       "      <th></th>\n",
       "      <th>count</th>\n",
       "      <th>mean</th>\n",
       "      <th>std</th>\n",
       "      <th>min</th>\n",
       "      <th>25%</th>\n",
       "      <th>50%</th>\n",
       "      <th>75%</th>\n",
       "      <th>max</th>\n",
       "    </tr>\n",
       "    <tr>\n",
       "      <th>plan</th>\n",
       "      <th></th>\n",
       "      <th></th>\n",
       "      <th></th>\n",
       "      <th></th>\n",
       "      <th></th>\n",
       "      <th></th>\n",
       "      <th></th>\n",
       "      <th></th>\n",
       "    </tr>\n",
       "  </thead>\n",
       "  <tbody>\n",
       "    <tr>\n",
       "      <th>surf</th>\n",
       "      <td>1573.0</td>\n",
       "      <td>40.140496</td>\n",
       "      <td>17.841862</td>\n",
       "      <td>0.0</td>\n",
       "      <td>30.0</td>\n",
       "      <td>42.0</td>\n",
       "      <td>52.0</td>\n",
       "      <td>132.0</td>\n",
       "    </tr>\n",
       "    <tr>\n",
       "      <th>ultimate</th>\n",
       "      <td>720.0</td>\n",
       "      <td>41.080556</td>\n",
       "      <td>16.528701</td>\n",
       "      <td>0.0</td>\n",
       "      <td>32.0</td>\n",
       "      <td>42.0</td>\n",
       "      <td>51.0</td>\n",
       "      <td>96.0</td>\n",
       "    </tr>\n",
       "  </tbody>\n",
       "</table>\n",
       "</div>"
      ],
      "text/plain": [
       "           count       mean        std  min   25%   50%   75%    max\n",
       "plan                                                                \n",
       "surf      1573.0  40.140496  17.841862  0.0  30.0  42.0  52.0  132.0\n",
       "ultimate   720.0  41.080556  16.528701  0.0  32.0  42.0  51.0   96.0"
      ]
     },
     "execution_count": 29,
     "metadata": {},
     "output_type": "execute_result"
    }
   ],
   "source": [
    "#Mean, dispersion and standard deviation for Number of Gb's Required by Each Plan User\n",
    "total.groupby(['plan'])['Tot_GB'].describe()"
   ]
  },
  {
   "cell_type": "code",
   "execution_count": 30,
   "metadata": {},
   "outputs": [
    {
     "data": {
      "image/png": "[encoded data removed]",
      "text/plain": [
       "<Figure size 936x504 with 1 Axes>"
      ]
     },
     "metadata": {},
     "output_type": "display_data"
    }
   ],
   "source": [
    "#Plotting the Number of Gb's Required by Each Plan User\n",
    "plt.figure(figsize = (13,7))\n",
    "plt.hist(surf['Tot_GB'], bins = 30)\n",
    "plt.hist(ultimate['Tot_GB'], bins = 30)\n",
    "plt.legend(['surf','ultimate'])\n",
    "plt.title('Total Gb used per user each month ')\n",
    "plt.xlabel('Tot_GB')\n",
    "plt.ylabel('users')\n",
    "plt.show()"
   ]
  },
  {
   "cell_type": "markdown",
   "metadata": {},
   "source": [
    "The grapth shows that users of the surf plan are using significantly more data that the users from the ultimate plan. The data also shows that approximately 75% of the surf users exceeded their montly quotas. Most users ( from both plans) use between 20-70 GB of data per month. "
   ]
  },
  {
   "cell_type": "markdown",
   "metadata": {},
   "source": [
    "### Analysis based on the above data\n",
    "\n",
    "Based on the Mean, dispersion, and standard deviation of the ALL the scenarios above, in addition to the Graphs displayed, we can conclude that although the 'Surf plan' has double the subcribers of the 'Ultimate plan', Their means are almost the same. The charts also clearly demonstrate that users of the Ultimate plan almost never exceed their monthly quotas, the surf plan subscribers on the other hand, tend to exceed their monthly quotas everytime specially on the Data usage in GB. \n",
    "\n",
    "Let's take a look at the first 2-3 users on the list to support our case here: \n",
    "\n",
    "Ana-Maria Bauer (user_id: 1000) has the ultimate plan she did not exceed her monthly limits on calls ,texts and Data so total monthly should be 70 Dollars\n",
    "\n",
    "Carlee HOffman ( user_id: 1002) has the surf plan she did not exceed her montly limits on calls, texts but did use 40 GB of data  so 40 GB- 15GB = \n",
    "\n"
   ]
  },
  {
   "cell_type": "markdown",
   "metadata": {},
   "source": [
    "Based on the analysis so far, the most important source of revenue is the Data comsumption per GB. So that is what I will use to determine my outliers."
   ]
  },
  {
   "cell_type": "code",
   "execution_count": 31,
   "metadata": {},
   "outputs": [
    {
     "data": {
      "image/png": "[encoded data removed]",
      "text/plain": [
       "<Figure size 1080x720 with 1 Axes>"
      ]
     },
     "metadata": {},
     "output_type": "display_data"
    }
   ],
   "source": [
    "total.boxplot(column='Tot_GB', figsize=(15,10))\n",
    "plt.show( )"
   ]
  },
  {
   "cell_type": "code",
   "execution_count": 32,
   "metadata": {
    "scrolled": true
   },
   "outputs": [],
   "source": [
    "# removing the outliers.\n",
    "\n",
    "total[total['Tot_GB'] > 100].index\n",
    "total.drop(total[total['Tot_GB'] > 100].index , inplace=True)\n"
   ]
  },
  {
   "cell_type": "markdown",
   "metadata": {},
   "source": [
    "The Box plot clearly shows the average user consumes on average 42 GB of data. Customers using 80+GB of data /month start being questionable some of them maybe running a small business on these plans. However, cases of 100+ GB /months are isolated and must be removed to preserve the accuracy of the data analysis. "
   ]
  },
  {
   "cell_type": "markdown",
   "metadata": {},
   "source": [
    "<blockquote> added comment above v.2</blockquote>"
   ]
  },
  {
   "cell_type": "markdown",
   "metadata": {},
   "source": [
    "## Hypothesis Testing 1\n",
    "### Null hypothesis :  Average revenue of the Ultimate and Surf Calling Plans differs"
   ]
  },
  {
   "cell_type": "markdown",
   "metadata": {},
   "source": [
    "<ul>\n",
    "<li>Ho: Average revenue of the Ultimate and Surf Calling Plans don't differs</li>\n",
    "<li>H11 ( alternative hypothesis):Average revenue of the Ultimate and Surf Calling are different</li>\n",
    "<li>typical alpha = 0.05</li>\n",
    "</ul>"
   ]
  },
  {
   "cell_type": "code",
   "execution_count": 33,
   "metadata": {},
   "outputs": [
    {
     "name": "stdout",
     "output_type": "stream",
     "text": [
      "Ttest_indResult(statistic=17.849353175598566, pvalue=7.954135633536331e-67)\n",
      "P-value is 7.954135633536331e-67\n",
      "Reject the Null hypothesis (Average revenue of the Ultimate and Surf Calling are different) \n"
     ]
    }
   ],
   "source": [
    "# Testing the hypothesis that Average revenue of the Ultimate and Surf Calling Plans differs\n",
    "from scipy.stats import ttest_ind\n",
    "from scipy import stats\n",
    "\n",
    "print(stats.ttest_ind(surf['total_cost'],ultimate['total_cost'], equal_var = True))\n",
    "\n",
    "ttest, pval = ttest_ind(surf['total_cost'],ultimate['total_cost'])\n",
    "print(\"P-value is\",pval)\n",
    "if(pval < 0.05):\n",
    "    print(\"Reject the Null hypothesis (Average revenue of the Ultimate and Surf Calling are different) \")\n",
    "else:\n",
    "    print(\"Accept the Null hypothesis (Average revenue of the Ultimate and Surf Calling Plans don't differs)\")\n"
   ]
  },
  {
   "cell_type": "markdown",
   "metadata": {},
   "source": [
    "#### Brief Analysis:\n",
    "Based on the fact that both plans have the same mean and the same Variance, it is tempting to assume that Average revenue of the Ultimate and Surf Calling are the same well in fact they are different. Accoring to the total cost or monthly revenue per user, it is clear that surf plan users use more data therefore are more profitable. "
   ]
  },
  {
   "cell_type": "markdown",
   "metadata": {},
   "source": [
    "## Hypothesis Testing 2\n",
    "### Null hypothesis :  Average revenue from users in NY-NJ areas differ from other areas"
   ]
  },
  {
   "cell_type": "markdown",
   "metadata": {},
   "source": [
    "<div class=\"alert alert-danger\" role=\"alert\">\n",
    "Reviewer's comment v. 2:\n",
    "    \n",
    "Please check the null hypothesis formulation and add alternative hypothesis.\n",
    "</div>"
   ]
  },
  {
   "cell_type": "code",
   "execution_count": 34,
   "metadata": {},
   "outputs": [
    {
     "data": {
      "text/plain": [
       "(377, 25)"
      ]
     },
     "execution_count": 34,
     "metadata": {},
     "output_type": "execute_result"
    }
   ],
   "source": [
    "#creating the dataframe from users in NY-NJ areas\n",
    "nj_ny = total[total['city'].str.contains('NY-NJ')]\n",
    "nj_ny.shape"
   ]
  },
  {
   "cell_type": "code",
   "execution_count": 35,
   "metadata": {},
   "outputs": [],
   "source": [
    "#creating the dataframe from users in other areas\n",
    "others = total[total['city'].str.contains('NY-NJ') == False]"
   ]
  },
  {
   "cell_type": "markdown",
   "metadata": {},
   "source": [
    "<ul>\n",
    "<li>Ho: Average revenue from users in NY-Nj areas does not differ from other areas</li>\n",
    "<li>H11 ( alternative hypothesis):hypothesis that Average revenue from users in NY-Nj areas differ from other areas</li>\n",
    "<li>typical alpha = 0.05</li>\n",
    "</ul>"
   ]
  },
  {
   "cell_type": "code",
   "execution_count": 36,
   "metadata": {},
   "outputs": [
    {
     "name": "stdout",
     "output_type": "stream",
     "text": [
      "Ttest_indResult(statistic=3.120387713772901, pvalue=0.0018286876820398687)\n",
      "Reject the Null hypothesis (hypothesis that Average revenue from users in NY-Nj areas differ from other ares) \n"
     ]
    }
   ],
   "source": [
    "# Testing the hypothesis that Average revenue from users in NY-Nj areas differ from other ares\n",
    "\n",
    "print(stats.ttest_ind(nj_ny['total_cost'],others['total_cost'], equal_var = True))\n",
    "\n",
    "#ttest,pval = ttest_ind(nj_ny['total_cost'],others['total_cost'])\n",
    "#print(\"P-value is\", pval)\n",
    "if(pval < 0.05):\n",
    "    print(\"Reject the Null hypothesis (hypothesis that Average revenue from users in NY-Nj areas differ from other ares) \")\n",
    "else:\n",
    "    print(\"Accept the Null hypothesis (Average revenue from users in NY-Nj areas does not differ from other areas)\")"
   ]
  },
  {
   "cell_type": "markdown",
   "metadata": {},
   "source": [
    "#### Brief Analysis:\n",
    "Users from New York and New Jersey are using more data than people over other cities. Looking at the data, some high data consumption came from these cities. Perhaps  some subscribers are using it for small businessess or work from home internet. "
   ]
  },
  {
   "cell_type": "markdown",
   "metadata": {},
   "source": [
    "## Conclusion 2"
   ]
  },
  {
   "cell_type": "markdown",
   "metadata": {},
   "source": [
    "<i>The commercial department wants to know which of the plans brings in more revenue in order to adjust the advertising budget. </i>\n",
    "\n",
    "The data presented to be studied was clean enough. No duplicates , some Null values are present in 'churn_date' column. However, this column doesn't play a huge role in our analysis, the column was left untouched. The data does not have many outliers ( a few records over 100 GB for a personal plan seems a bit excesive though) - Those values were removed.  \n",
    "\n",
    "Based on the analyzed data, surf plan subscribers always exceed their monthly quota limits which leads to additional fees that adds up to a huge montly cost higher than most Ultimate plan users. The advertising budget should focus on promoting the Surf plan. Everyone needs data these days - Advertising a plan that sells 10 dollars /GB vs a plan that sells it for 7 dollars /GB is the right way to go considering that some users go up to 80GB /Month. \n",
    "\n",
    "Now if the company decides to eliminate the charges after exceeding the package limits and move on into A simple flat fee monthly program with set quotas, then the Ultimate plan will become the most profitable one ( but this is not the most profitable approch) \n",
    "\n",
    "The current charge/plan sturcture makes sense. Keep offering users a low montly plan on non essential services and keep the most valuable feature on a smart tariffs, whith the rise of smarphones, data comsumption will keep going up, calls and texts will certainely be made from third party applications running on a GB plan - Apps like WhatsApp, Signal, Messenger....\n",
    "\n"
   ]
  },
  {
   "cell_type": "code",
   "execution_count": null,
   "metadata": {},
   "outputs": [],
   "source": []
  }
 ],
 "metadata": {
  "kernelspec": {
   "display_name": "Python 3",
   "language": "python",
   "name": "python3"
  },
  "language_info": {
   "codemirror_mode": {
    "name": "ipython",
    "version": 3
   },
   "file_extension": ".py",
   "mimetype": "text/x-python",
   "name": "python",
   "nbconvert_exporter": "python",
   "pygments_lexer": "ipython3",
   "version": "3.8.8"
  },
  "toc": {
   "base_numbering": 1,
   "nav_menu": {},
   "number_sections": true,
   "sideBar": true,
   "skip_h1_title": false,
   "title_cell": "Table of Contents",
   "title_sidebar": "Contents",
   "toc_cell": false,
   "toc_position": {},
   "toc_section_display": true,
   "toc_window_display": false
  }
 },
 "nbformat": 4,
 "nbformat_minor": 2
}
